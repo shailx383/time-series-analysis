{
 "cells": [
  {
   "attachments": {},
   "cell_type": "markdown",
   "metadata": {},
   "source": [
    "# Dataset: [Daily Delhi Climate](https://www.kaggle.com/datasets/sumanthvrao/daily-climate-time-series-data)"
   ]
  },
  {
   "cell_type": "code",
   "execution_count": 1,
   "metadata": {},
   "outputs": [],
   "source": [
    "import pandas as pd"
   ]
  },
  {
   "cell_type": "code",
   "execution_count": 2,
   "metadata": {},
   "outputs": [],
   "source": [
    "df = pd.read_csv('../../datasets/5/AMZN_ts.csv')"
   ]
  },
  {
   "cell_type": "code",
   "execution_count": 3,
   "metadata": {},
   "outputs": [
    {
     "data": {
      "text/html": [
       "<div>\n",
       "<style scoped>\n",
       "    .dataframe tbody tr th:only-of-type {\n",
       "        vertical-align: middle;\n",
       "    }\n",
       "\n",
       "    .dataframe tbody tr th {\n",
       "        vertical-align: top;\n",
       "    }\n",
       "\n",
       "    .dataframe thead th {\n",
       "        text-align: right;\n",
       "    }\n",
       "</style>\n",
       "<table border=\"1\" class=\"dataframe\">\n",
       "  <thead>\n",
       "    <tr style=\"text-align: right;\">\n",
       "      <th></th>\n",
       "      <th>Date</th>\n",
       "      <th>Open</th>\n",
       "      <th>High</th>\n",
       "      <th>Low</th>\n",
       "      <th>Close</th>\n",
       "      <th>Adj Close</th>\n",
       "      <th>Volume</th>\n",
       "    </tr>\n",
       "  </thead>\n",
       "  <tbody>\n",
       "    <tr>\n",
       "      <th>0</th>\n",
       "      <td>2018-05-01</td>\n",
       "      <td>1563.219971</td>\n",
       "      <td>1585.000000</td>\n",
       "      <td>1552.180054</td>\n",
       "      <td>1582.260010</td>\n",
       "      <td>1582.260010</td>\n",
       "      <td>4572100</td>\n",
       "    </tr>\n",
       "    <tr>\n",
       "      <th>1</th>\n",
       "      <td>2018-05-02</td>\n",
       "      <td>1580.979980</td>\n",
       "      <td>1588.500000</td>\n",
       "      <td>1566.359985</td>\n",
       "      <td>1569.680054</td>\n",
       "      <td>1569.680054</td>\n",
       "      <td>4360300</td>\n",
       "    </tr>\n",
       "    <tr>\n",
       "      <th>2</th>\n",
       "      <td>2018-05-03</td>\n",
       "      <td>1560.010010</td>\n",
       "      <td>1574.800049</td>\n",
       "      <td>1546.020020</td>\n",
       "      <td>1572.079956</td>\n",
       "      <td>1572.079956</td>\n",
       "      <td>4251900</td>\n",
       "    </tr>\n",
       "    <tr>\n",
       "      <th>3</th>\n",
       "      <td>2018-05-04</td>\n",
       "      <td>1562.449951</td>\n",
       "      <td>1584.900024</td>\n",
       "      <td>1562.189941</td>\n",
       "      <td>1580.949951</td>\n",
       "      <td>1580.949951</td>\n",
       "      <td>3443600</td>\n",
       "    </tr>\n",
       "    <tr>\n",
       "      <th>4</th>\n",
       "      <td>2018-05-07</td>\n",
       "      <td>1589.339966</td>\n",
       "      <td>1606.949951</td>\n",
       "      <td>1587.829956</td>\n",
       "      <td>1600.140015</td>\n",
       "      <td>1600.140015</td>\n",
       "      <td>3801900</td>\n",
       "    </tr>\n",
       "    <tr>\n",
       "      <th>...</th>\n",
       "      <td>...</td>\n",
       "      <td>...</td>\n",
       "      <td>...</td>\n",
       "      <td>...</td>\n",
       "      <td>...</td>\n",
       "      <td>...</td>\n",
       "      <td>...</td>\n",
       "    </tr>\n",
       "    <tr>\n",
       "      <th>247</th>\n",
       "      <td>2019-04-25</td>\n",
       "      <td>1917.000000</td>\n",
       "      <td>1922.449951</td>\n",
       "      <td>1900.310059</td>\n",
       "      <td>1902.250000</td>\n",
       "      <td>1902.250000</td>\n",
       "      <td>6099100</td>\n",
       "    </tr>\n",
       "    <tr>\n",
       "      <th>248</th>\n",
       "      <td>2019-04-26</td>\n",
       "      <td>1929.000000</td>\n",
       "      <td>1951.000000</td>\n",
       "      <td>1898.000000</td>\n",
       "      <td>1950.630005</td>\n",
       "      <td>1950.630005</td>\n",
       "      <td>8432600</td>\n",
       "    </tr>\n",
       "    <tr>\n",
       "      <th>249</th>\n",
       "      <td>2019-04-29</td>\n",
       "      <td>1949.000000</td>\n",
       "      <td>1956.339966</td>\n",
       "      <td>1934.089966</td>\n",
       "      <td>1938.430054</td>\n",
       "      <td>1938.430054</td>\n",
       "      <td>4021300</td>\n",
       "    </tr>\n",
       "    <tr>\n",
       "      <th>250</th>\n",
       "      <td>2019-04-30</td>\n",
       "      <td>1930.099976</td>\n",
       "      <td>1935.709961</td>\n",
       "      <td>1906.949951</td>\n",
       "      <td>1926.520020</td>\n",
       "      <td>1926.520020</td>\n",
       "      <td>3506000</td>\n",
       "    </tr>\n",
       "    <tr>\n",
       "      <th>251</th>\n",
       "      <td>2019-05-01</td>\n",
       "      <td>1933.089966</td>\n",
       "      <td>1943.640015</td>\n",
       "      <td>1910.550049</td>\n",
       "      <td>1911.520020</td>\n",
       "      <td>1911.520020</td>\n",
       "      <td>3117000</td>\n",
       "    </tr>\n",
       "  </tbody>\n",
       "</table>\n",
       "<p>252 rows × 7 columns</p>\n",
       "</div>"
      ],
      "text/plain": [
       "           Date         Open         High          Low        Close  \\\n",
       "0    2018-05-01  1563.219971  1585.000000  1552.180054  1582.260010   \n",
       "1    2018-05-02  1580.979980  1588.500000  1566.359985  1569.680054   \n",
       "2    2018-05-03  1560.010010  1574.800049  1546.020020  1572.079956   \n",
       "3    2018-05-04  1562.449951  1584.900024  1562.189941  1580.949951   \n",
       "4    2018-05-07  1589.339966  1606.949951  1587.829956  1600.140015   \n",
       "..          ...          ...          ...          ...          ...   \n",
       "247  2019-04-25  1917.000000  1922.449951  1900.310059  1902.250000   \n",
       "248  2019-04-26  1929.000000  1951.000000  1898.000000  1950.630005   \n",
       "249  2019-04-29  1949.000000  1956.339966  1934.089966  1938.430054   \n",
       "250  2019-04-30  1930.099976  1935.709961  1906.949951  1926.520020   \n",
       "251  2019-05-01  1933.089966  1943.640015  1910.550049  1911.520020   \n",
       "\n",
       "       Adj Close   Volume  \n",
       "0    1582.260010  4572100  \n",
       "1    1569.680054  4360300  \n",
       "2    1572.079956  4251900  \n",
       "3    1580.949951  3443600  \n",
       "4    1600.140015  3801900  \n",
       "..           ...      ...  \n",
       "247  1902.250000  6099100  \n",
       "248  1950.630005  8432600  \n",
       "249  1938.430054  4021300  \n",
       "250  1926.520020  3506000  \n",
       "251  1911.520020  3117000  \n",
       "\n",
       "[252 rows x 7 columns]"
      ]
     },
     "execution_count": 3,
     "metadata": {},
     "output_type": "execute_result"
    }
   ],
   "source": [
    "df"
   ]
  },
  {
   "cell_type": "code",
   "execution_count": 4,
   "metadata": {},
   "outputs": [
    {
     "data": {
      "text/plain": [
       "Date         0\n",
       "Open         0\n",
       "High         0\n",
       "Low          0\n",
       "Close        0\n",
       "Adj Close    0\n",
       "Volume       0\n",
       "dtype: int64"
      ]
     },
     "execution_count": 4,
     "metadata": {},
     "output_type": "execute_result"
    }
   ],
   "source": [
    "df.isna().sum()"
   ]
  },
  {
   "cell_type": "code",
   "execution_count": 5,
   "metadata": {},
   "outputs": [],
   "source": [
    "import sys\n",
    "sys.path.insert(0, '/home/shail/bits/PS1/time_series_analysis')\n",
    "\n",
    "original_stdout = sys.stdout \n",
    "\t\n",
    "def outfile(x):\n",
    "    with open('output.txt', 'w') as f:\n",
    "        sys.stdout = f\n",
    "        print(x)\n",
    "        sys.stdout = original_stdout "
   ]
  },
  {
   "cell_type": "code",
   "execution_count": 6,
   "metadata": {},
   "outputs": [],
   "source": [
    "from tsa.dateconverter import DateConverter"
   ]
  },
  {
   "attachments": {},
   "cell_type": "markdown",
   "metadata": {},
   "source": [
    "### Filtering"
   ]
  },
  {
   "attachments": {},
   "cell_type": "markdown",
   "metadata": {},
   "source": [
    "# Date Conversion"
   ]
  },
  {
   "cell_type": "code",
   "execution_count": 7,
   "metadata": {},
   "outputs": [
    {
     "data": {
      "text/html": [
       "<div>\n",
       "<style scoped>\n",
       "    .dataframe tbody tr th:only-of-type {\n",
       "        vertical-align: middle;\n",
       "    }\n",
       "\n",
       "    .dataframe tbody tr th {\n",
       "        vertical-align: top;\n",
       "    }\n",
       "\n",
       "    .dataframe thead th {\n",
       "        text-align: right;\n",
       "    }\n",
       "</style>\n",
       "<table border=\"1\" class=\"dataframe\">\n",
       "  <thead>\n",
       "    <tr style=\"text-align: right;\">\n",
       "      <th></th>\n",
       "      <th>Date</th>\n",
       "      <th>Open</th>\n",
       "      <th>High</th>\n",
       "      <th>Low</th>\n",
       "      <th>Close</th>\n",
       "      <th>Adj Close</th>\n",
       "      <th>Volume</th>\n",
       "    </tr>\n",
       "  </thead>\n",
       "  <tbody>\n",
       "    <tr>\n",
       "      <th>0</th>\n",
       "      <td>2018-05-01</td>\n",
       "      <td>1563.219971</td>\n",
       "      <td>1585.000000</td>\n",
       "      <td>1552.180054</td>\n",
       "      <td>1582.260010</td>\n",
       "      <td>1582.260010</td>\n",
       "      <td>4572100</td>\n",
       "    </tr>\n",
       "    <tr>\n",
       "      <th>1</th>\n",
       "      <td>2018-05-02</td>\n",
       "      <td>1580.979980</td>\n",
       "      <td>1588.500000</td>\n",
       "      <td>1566.359985</td>\n",
       "      <td>1569.680054</td>\n",
       "      <td>1569.680054</td>\n",
       "      <td>4360300</td>\n",
       "    </tr>\n",
       "    <tr>\n",
       "      <th>2</th>\n",
       "      <td>2018-05-03</td>\n",
       "      <td>1560.010010</td>\n",
       "      <td>1574.800049</td>\n",
       "      <td>1546.020020</td>\n",
       "      <td>1572.079956</td>\n",
       "      <td>1572.079956</td>\n",
       "      <td>4251900</td>\n",
       "    </tr>\n",
       "    <tr>\n",
       "      <th>3</th>\n",
       "      <td>2018-05-04</td>\n",
       "      <td>1562.449951</td>\n",
       "      <td>1584.900024</td>\n",
       "      <td>1562.189941</td>\n",
       "      <td>1580.949951</td>\n",
       "      <td>1580.949951</td>\n",
       "      <td>3443600</td>\n",
       "    </tr>\n",
       "    <tr>\n",
       "      <th>4</th>\n",
       "      <td>2018-05-07</td>\n",
       "      <td>1589.339966</td>\n",
       "      <td>1606.949951</td>\n",
       "      <td>1587.829956</td>\n",
       "      <td>1600.140015</td>\n",
       "      <td>1600.140015</td>\n",
       "      <td>3801900</td>\n",
       "    </tr>\n",
       "    <tr>\n",
       "      <th>...</th>\n",
       "      <td>...</td>\n",
       "      <td>...</td>\n",
       "      <td>...</td>\n",
       "      <td>...</td>\n",
       "      <td>...</td>\n",
       "      <td>...</td>\n",
       "      <td>...</td>\n",
       "    </tr>\n",
       "    <tr>\n",
       "      <th>247</th>\n",
       "      <td>2019-04-25</td>\n",
       "      <td>1917.000000</td>\n",
       "      <td>1922.449951</td>\n",
       "      <td>1900.310059</td>\n",
       "      <td>1902.250000</td>\n",
       "      <td>1902.250000</td>\n",
       "      <td>6099100</td>\n",
       "    </tr>\n",
       "    <tr>\n",
       "      <th>248</th>\n",
       "      <td>2019-04-26</td>\n",
       "      <td>1929.000000</td>\n",
       "      <td>1951.000000</td>\n",
       "      <td>1898.000000</td>\n",
       "      <td>1950.630005</td>\n",
       "      <td>1950.630005</td>\n",
       "      <td>8432600</td>\n",
       "    </tr>\n",
       "    <tr>\n",
       "      <th>249</th>\n",
       "      <td>2019-04-29</td>\n",
       "      <td>1949.000000</td>\n",
       "      <td>1956.339966</td>\n",
       "      <td>1934.089966</td>\n",
       "      <td>1938.430054</td>\n",
       "      <td>1938.430054</td>\n",
       "      <td>4021300</td>\n",
       "    </tr>\n",
       "    <tr>\n",
       "      <th>250</th>\n",
       "      <td>2019-04-30</td>\n",
       "      <td>1930.099976</td>\n",
       "      <td>1935.709961</td>\n",
       "      <td>1906.949951</td>\n",
       "      <td>1926.520020</td>\n",
       "      <td>1926.520020</td>\n",
       "      <td>3506000</td>\n",
       "    </tr>\n",
       "    <tr>\n",
       "      <th>251</th>\n",
       "      <td>2019-05-01</td>\n",
       "      <td>1933.089966</td>\n",
       "      <td>1943.640015</td>\n",
       "      <td>1910.550049</td>\n",
       "      <td>1911.520020</td>\n",
       "      <td>1911.520020</td>\n",
       "      <td>3117000</td>\n",
       "    </tr>\n",
       "  </tbody>\n",
       "</table>\n",
       "<p>252 rows × 7 columns</p>\n",
       "</div>"
      ],
      "text/plain": [
       "          Date         Open         High          Low        Close  \\\n",
       "0   2018-05-01  1563.219971  1585.000000  1552.180054  1582.260010   \n",
       "1   2018-05-02  1580.979980  1588.500000  1566.359985  1569.680054   \n",
       "2   2018-05-03  1560.010010  1574.800049  1546.020020  1572.079956   \n",
       "3   2018-05-04  1562.449951  1584.900024  1562.189941  1580.949951   \n",
       "4   2018-05-07  1589.339966  1606.949951  1587.829956  1600.140015   \n",
       "..         ...          ...          ...          ...          ...   \n",
       "247 2019-04-25  1917.000000  1922.449951  1900.310059  1902.250000   \n",
       "248 2019-04-26  1929.000000  1951.000000  1898.000000  1950.630005   \n",
       "249 2019-04-29  1949.000000  1956.339966  1934.089966  1938.430054   \n",
       "250 2019-04-30  1930.099976  1935.709961  1906.949951  1926.520020   \n",
       "251 2019-05-01  1933.089966  1943.640015  1910.550049  1911.520020   \n",
       "\n",
       "       Adj Close   Volume  \n",
       "0    1582.260010  4572100  \n",
       "1    1569.680054  4360300  \n",
       "2    1572.079956  4251900  \n",
       "3    1580.949951  3443600  \n",
       "4    1600.140015  3801900  \n",
       "..           ...      ...  \n",
       "247  1902.250000  6099100  \n",
       "248  1950.630005  8432600  \n",
       "249  1938.430054  4021300  \n",
       "250  1926.520020  3506000  \n",
       "251  1911.520020  3117000  \n",
       "\n",
       "[252 rows x 7 columns]"
      ]
     },
     "execution_count": 7,
     "metadata": {},
     "output_type": "execute_result"
    }
   ],
   "source": [
    "converter = DateConverter()\n",
    "df['Date'] = df['Date'].apply(lambda x: converter.convert_date(x, infer_format=True))\n",
    "df"
   ]
  },
  {
   "attachments": {},
   "cell_type": "markdown",
   "metadata": {},
   "source": [
    "## Interpolation"
   ]
  },
  {
   "cell_type": "code",
   "execution_count": 8,
   "metadata": {},
   "outputs": [],
   "source": [
    "from tsa.interpolation import interpolate_dates as interpolate"
   ]
  },
  {
   "cell_type": "code",
   "execution_count": 9,
   "metadata": {},
   "outputs": [
    {
     "data": {
      "text/html": [
       "<div>\n",
       "<style scoped>\n",
       "    .dataframe tbody tr th:only-of-type {\n",
       "        vertical-align: middle;\n",
       "    }\n",
       "\n",
       "    .dataframe tbody tr th {\n",
       "        vertical-align: top;\n",
       "    }\n",
       "\n",
       "    .dataframe thead th {\n",
       "        text-align: right;\n",
       "    }\n",
       "</style>\n",
       "<table border=\"1\" class=\"dataframe\">\n",
       "  <thead>\n",
       "    <tr style=\"text-align: right;\">\n",
       "      <th></th>\n",
       "      <th>Open</th>\n",
       "      <th>High</th>\n",
       "      <th>Low</th>\n",
       "      <th>Close</th>\n",
       "      <th>Adj Close</th>\n",
       "      <th>Volume</th>\n",
       "      <th>Date</th>\n",
       "    </tr>\n",
       "  </thead>\n",
       "  <tbody>\n",
       "    <tr>\n",
       "      <th>0</th>\n",
       "      <td>1563.219971</td>\n",
       "      <td>1585.000000</td>\n",
       "      <td>1552.180054</td>\n",
       "      <td>1582.260010</td>\n",
       "      <td>1582.260010</td>\n",
       "      <td>4.572100e+06</td>\n",
       "      <td>2018-05-01</td>\n",
       "    </tr>\n",
       "    <tr>\n",
       "      <th>1</th>\n",
       "      <td>1580.979980</td>\n",
       "      <td>1588.500000</td>\n",
       "      <td>1566.359985</td>\n",
       "      <td>1569.680054</td>\n",
       "      <td>1569.680054</td>\n",
       "      <td>4.360300e+06</td>\n",
       "      <td>2018-05-02</td>\n",
       "    </tr>\n",
       "    <tr>\n",
       "      <th>2</th>\n",
       "      <td>1560.010010</td>\n",
       "      <td>1574.800049</td>\n",
       "      <td>1546.020020</td>\n",
       "      <td>1572.079956</td>\n",
       "      <td>1572.079956</td>\n",
       "      <td>4.251900e+06</td>\n",
       "      <td>2018-05-03</td>\n",
       "    </tr>\n",
       "    <tr>\n",
       "      <th>3</th>\n",
       "      <td>1562.449951</td>\n",
       "      <td>1584.900024</td>\n",
       "      <td>1562.189941</td>\n",
       "      <td>1580.949951</td>\n",
       "      <td>1580.949951</td>\n",
       "      <td>3.443600e+06</td>\n",
       "      <td>2018-05-04</td>\n",
       "    </tr>\n",
       "    <tr>\n",
       "      <th>4</th>\n",
       "      <td>1571.413289</td>\n",
       "      <td>1592.250000</td>\n",
       "      <td>1570.736613</td>\n",
       "      <td>1587.346639</td>\n",
       "      <td>1587.346639</td>\n",
       "      <td>3.563033e+06</td>\n",
       "      <td>2018-05-05</td>\n",
       "    </tr>\n",
       "    <tr>\n",
       "      <th>...</th>\n",
       "      <td>...</td>\n",
       "      <td>...</td>\n",
       "      <td>...</td>\n",
       "      <td>...</td>\n",
       "      <td>...</td>\n",
       "      <td>...</td>\n",
       "      <td>...</td>\n",
       "    </tr>\n",
       "    <tr>\n",
       "      <th>361</th>\n",
       "      <td>1935.666667</td>\n",
       "      <td>1952.779989</td>\n",
       "      <td>1910.029989</td>\n",
       "      <td>1946.563355</td>\n",
       "      <td>1946.563355</td>\n",
       "      <td>6.962167e+06</td>\n",
       "      <td>2019-04-27</td>\n",
       "    </tr>\n",
       "    <tr>\n",
       "      <th>362</th>\n",
       "      <td>1942.333333</td>\n",
       "      <td>1954.559977</td>\n",
       "      <td>1922.059977</td>\n",
       "      <td>1942.496704</td>\n",
       "      <td>1942.496704</td>\n",
       "      <td>5.491733e+06</td>\n",
       "      <td>2019-04-28</td>\n",
       "    </tr>\n",
       "    <tr>\n",
       "      <th>363</th>\n",
       "      <td>1949.000000</td>\n",
       "      <td>1956.339966</td>\n",
       "      <td>1934.089966</td>\n",
       "      <td>1938.430054</td>\n",
       "      <td>1938.430054</td>\n",
       "      <td>4.021300e+06</td>\n",
       "      <td>2019-04-29</td>\n",
       "    </tr>\n",
       "    <tr>\n",
       "      <th>364</th>\n",
       "      <td>1930.099976</td>\n",
       "      <td>1935.709961</td>\n",
       "      <td>1906.949951</td>\n",
       "      <td>1926.520020</td>\n",
       "      <td>1926.520020</td>\n",
       "      <td>3.506000e+06</td>\n",
       "      <td>2019-04-30</td>\n",
       "    </tr>\n",
       "    <tr>\n",
       "      <th>365</th>\n",
       "      <td>1933.089966</td>\n",
       "      <td>1943.640015</td>\n",
       "      <td>1910.550049</td>\n",
       "      <td>1911.520020</td>\n",
       "      <td>1911.520020</td>\n",
       "      <td>3.117000e+06</td>\n",
       "      <td>2019-05-01</td>\n",
       "    </tr>\n",
       "  </tbody>\n",
       "</table>\n",
       "<p>366 rows × 7 columns</p>\n",
       "</div>"
      ],
      "text/plain": [
       "            Open         High          Low        Close    Adj Close  \\\n",
       "0    1563.219971  1585.000000  1552.180054  1582.260010  1582.260010   \n",
       "1    1580.979980  1588.500000  1566.359985  1569.680054  1569.680054   \n",
       "2    1560.010010  1574.800049  1546.020020  1572.079956  1572.079956   \n",
       "3    1562.449951  1584.900024  1562.189941  1580.949951  1580.949951   \n",
       "4    1571.413289  1592.250000  1570.736613  1587.346639  1587.346639   \n",
       "..           ...          ...          ...          ...          ...   \n",
       "361  1935.666667  1952.779989  1910.029989  1946.563355  1946.563355   \n",
       "362  1942.333333  1954.559977  1922.059977  1942.496704  1942.496704   \n",
       "363  1949.000000  1956.339966  1934.089966  1938.430054  1938.430054   \n",
       "364  1930.099976  1935.709961  1906.949951  1926.520020  1926.520020   \n",
       "365  1933.089966  1943.640015  1910.550049  1911.520020  1911.520020   \n",
       "\n",
       "           Volume       Date  \n",
       "0    4.572100e+06 2018-05-01  \n",
       "1    4.360300e+06 2018-05-02  \n",
       "2    4.251900e+06 2018-05-03  \n",
       "3    3.443600e+06 2018-05-04  \n",
       "4    3.563033e+06 2018-05-05  \n",
       "..            ...        ...  \n",
       "361  6.962167e+06 2019-04-27  \n",
       "362  5.491733e+06 2019-04-28  \n",
       "363  4.021300e+06 2019-04-29  \n",
       "364  3.506000e+06 2019-04-30  \n",
       "365  3.117000e+06 2019-05-01  \n",
       "\n",
       "[366 rows x 7 columns]"
      ]
     },
     "execution_count": 9,
     "metadata": {},
     "output_type": "execute_result"
    }
   ],
   "source": [
    "df = interpolate(df, 'Date', ['Open', 'High', 'Low', 'Close', 'Adj Close', 'Volume'])\n",
    "df"
   ]
  },
  {
   "attachments": {},
   "cell_type": "markdown",
   "metadata": {},
   "source": [
    "# Visualizations"
   ]
  },
  {
   "cell_type": "code",
   "execution_count": 10,
   "metadata": {},
   "outputs": [],
   "source": [
    "from tsa.visualization import *"
   ]
  },
  {
   "cell_type": "code",
   "execution_count": 11,
   "metadata": {},
   "outputs": [
    {
     "data": {
      "text/html": [
       "<div>\n",
       "<style scoped>\n",
       "    .dataframe tbody tr th:only-of-type {\n",
       "        vertical-align: middle;\n",
       "    }\n",
       "\n",
       "    .dataframe tbody tr th {\n",
       "        vertical-align: top;\n",
       "    }\n",
       "\n",
       "    .dataframe thead th {\n",
       "        text-align: right;\n",
       "    }\n",
       "</style>\n",
       "<table border=\"1\" class=\"dataframe\">\n",
       "  <thead>\n",
       "    <tr style=\"text-align: right;\">\n",
       "      <th></th>\n",
       "      <th>Open</th>\n",
       "      <th>High</th>\n",
       "      <th>Low</th>\n",
       "      <th>Close</th>\n",
       "      <th>Adj Close</th>\n",
       "      <th>Volume</th>\n",
       "      <th>Date</th>\n",
       "    </tr>\n",
       "  </thead>\n",
       "  <tbody>\n",
       "    <tr>\n",
       "      <th>0</th>\n",
       "      <td>1563.219971</td>\n",
       "      <td>1585.000000</td>\n",
       "      <td>1552.180054</td>\n",
       "      <td>1582.260010</td>\n",
       "      <td>1582.260010</td>\n",
       "      <td>4.572100e+06</td>\n",
       "      <td>2018-05-01</td>\n",
       "    </tr>\n",
       "    <tr>\n",
       "      <th>1</th>\n",
       "      <td>1580.979980</td>\n",
       "      <td>1588.500000</td>\n",
       "      <td>1566.359985</td>\n",
       "      <td>1569.680054</td>\n",
       "      <td>1569.680054</td>\n",
       "      <td>4.360300e+06</td>\n",
       "      <td>2018-05-02</td>\n",
       "    </tr>\n",
       "    <tr>\n",
       "      <th>2</th>\n",
       "      <td>1560.010010</td>\n",
       "      <td>1574.800049</td>\n",
       "      <td>1546.020020</td>\n",
       "      <td>1572.079956</td>\n",
       "      <td>1572.079956</td>\n",
       "      <td>4.251900e+06</td>\n",
       "      <td>2018-05-03</td>\n",
       "    </tr>\n",
       "    <tr>\n",
       "      <th>3</th>\n",
       "      <td>1562.449951</td>\n",
       "      <td>1584.900024</td>\n",
       "      <td>1562.189941</td>\n",
       "      <td>1580.949951</td>\n",
       "      <td>1580.949951</td>\n",
       "      <td>3.443600e+06</td>\n",
       "      <td>2018-05-04</td>\n",
       "    </tr>\n",
       "    <tr>\n",
       "      <th>4</th>\n",
       "      <td>1571.413289</td>\n",
       "      <td>1592.250000</td>\n",
       "      <td>1570.736613</td>\n",
       "      <td>1587.346639</td>\n",
       "      <td>1587.346639</td>\n",
       "      <td>3.563033e+06</td>\n",
       "      <td>2018-05-05</td>\n",
       "    </tr>\n",
       "    <tr>\n",
       "      <th>5</th>\n",
       "      <td>1580.376628</td>\n",
       "      <td>1599.599975</td>\n",
       "      <td>1579.283284</td>\n",
       "      <td>1593.743327</td>\n",
       "      <td>1593.743327</td>\n",
       "      <td>3.682467e+06</td>\n",
       "      <td>2018-05-06</td>\n",
       "    </tr>\n",
       "    <tr>\n",
       "      <th>6</th>\n",
       "      <td>1589.339966</td>\n",
       "      <td>1606.949951</td>\n",
       "      <td>1587.829956</td>\n",
       "      <td>1600.140015</td>\n",
       "      <td>1600.140015</td>\n",
       "      <td>3.801900e+06</td>\n",
       "      <td>2018-05-07</td>\n",
       "    </tr>\n",
       "    <tr>\n",
       "      <th>7</th>\n",
       "      <td>1595.000000</td>\n",
       "      <td>1596.880005</td>\n",
       "      <td>1582.510010</td>\n",
       "      <td>1592.390015</td>\n",
       "      <td>1592.390015</td>\n",
       "      <td>3.067900e+06</td>\n",
       "      <td>2018-05-08</td>\n",
       "    </tr>\n",
       "    <tr>\n",
       "      <th>8</th>\n",
       "      <td>1600.000000</td>\n",
       "      <td>1608.000000</td>\n",
       "      <td>1592.000000</td>\n",
       "      <td>1608.000000</td>\n",
       "      <td>1608.000000</td>\n",
       "      <td>3.637300e+06</td>\n",
       "      <td>2018-05-09</td>\n",
       "    </tr>\n",
       "    <tr>\n",
       "      <th>9</th>\n",
       "      <td>1608.479980</td>\n",
       "      <td>1615.599976</td>\n",
       "      <td>1603.439941</td>\n",
       "      <td>1609.079956</td>\n",
       "      <td>1609.079956</td>\n",
       "      <td>2.817500e+06</td>\n",
       "      <td>2018-05-10</td>\n",
       "    </tr>\n",
       "    <tr>\n",
       "      <th>10</th>\n",
       "      <td>1610.989990</td>\n",
       "      <td>1611.099976</td>\n",
       "      <td>1597.890015</td>\n",
       "      <td>1602.910034</td>\n",
       "      <td>1602.910034</td>\n",
       "      <td>2.263900e+06</td>\n",
       "      <td>2018-05-11</td>\n",
       "    </tr>\n",
       "    <tr>\n",
       "      <th>11</th>\n",
       "      <td>1608.659993</td>\n",
       "      <td>1611.126669</td>\n",
       "      <td>1598.610026</td>\n",
       "      <td>1602.453369</td>\n",
       "      <td>1602.453369</td>\n",
       "      <td>2.345767e+06</td>\n",
       "      <td>2018-05-12</td>\n",
       "    </tr>\n",
       "    <tr>\n",
       "      <th>12</th>\n",
       "      <td>1606.329997</td>\n",
       "      <td>1611.153361</td>\n",
       "      <td>1599.330038</td>\n",
       "      <td>1601.996704</td>\n",
       "      <td>1601.996704</td>\n",
       "      <td>2.427633e+06</td>\n",
       "      <td>2018-05-13</td>\n",
       "    </tr>\n",
       "    <tr>\n",
       "      <th>13</th>\n",
       "      <td>1604.000000</td>\n",
       "      <td>1611.180054</td>\n",
       "      <td>1600.050049</td>\n",
       "      <td>1601.540039</td>\n",
       "      <td>1601.540039</td>\n",
       "      <td>2.509500e+06</td>\n",
       "      <td>2018-05-14</td>\n",
       "    </tr>\n",
       "    <tr>\n",
       "      <th>14</th>\n",
       "      <td>1587.800049</td>\n",
       "      <td>1587.800049</td>\n",
       "      <td>1565.219971</td>\n",
       "      <td>1576.119995</td>\n",
       "      <td>1576.119995</td>\n",
       "      <td>5.077500e+06</td>\n",
       "      <td>2018-05-15</td>\n",
       "    </tr>\n",
       "  </tbody>\n",
       "</table>\n",
       "</div>"
      ],
      "text/plain": [
       "           Open         High          Low        Close    Adj Close  \\\n",
       "0   1563.219971  1585.000000  1552.180054  1582.260010  1582.260010   \n",
       "1   1580.979980  1588.500000  1566.359985  1569.680054  1569.680054   \n",
       "2   1560.010010  1574.800049  1546.020020  1572.079956  1572.079956   \n",
       "3   1562.449951  1584.900024  1562.189941  1580.949951  1580.949951   \n",
       "4   1571.413289  1592.250000  1570.736613  1587.346639  1587.346639   \n",
       "5   1580.376628  1599.599975  1579.283284  1593.743327  1593.743327   \n",
       "6   1589.339966  1606.949951  1587.829956  1600.140015  1600.140015   \n",
       "7   1595.000000  1596.880005  1582.510010  1592.390015  1592.390015   \n",
       "8   1600.000000  1608.000000  1592.000000  1608.000000  1608.000000   \n",
       "9   1608.479980  1615.599976  1603.439941  1609.079956  1609.079956   \n",
       "10  1610.989990  1611.099976  1597.890015  1602.910034  1602.910034   \n",
       "11  1608.659993  1611.126669  1598.610026  1602.453369  1602.453369   \n",
       "12  1606.329997  1611.153361  1599.330038  1601.996704  1601.996704   \n",
       "13  1604.000000  1611.180054  1600.050049  1601.540039  1601.540039   \n",
       "14  1587.800049  1587.800049  1565.219971  1576.119995  1576.119995   \n",
       "\n",
       "          Volume       Date  \n",
       "0   4.572100e+06 2018-05-01  \n",
       "1   4.360300e+06 2018-05-02  \n",
       "2   4.251900e+06 2018-05-03  \n",
       "3   3.443600e+06 2018-05-04  \n",
       "4   3.563033e+06 2018-05-05  \n",
       "5   3.682467e+06 2018-05-06  \n",
       "6   3.801900e+06 2018-05-07  \n",
       "7   3.067900e+06 2018-05-08  \n",
       "8   3.637300e+06 2018-05-09  \n",
       "9   2.817500e+06 2018-05-10  \n",
       "10  2.263900e+06 2018-05-11  \n",
       "11  2.345767e+06 2018-05-12  \n",
       "12  2.427633e+06 2018-05-13  \n",
       "13  2.509500e+06 2018-05-14  \n",
       "14  5.077500e+06 2018-05-15  "
      ]
     },
     "execution_count": 11,
     "metadata": {},
     "output_type": "execute_result"
    }
   ],
   "source": [
    "small_df = pd.DataFrame(df[:15])\n",
    "small_df"
   ]
  },
  {
   "cell_type": "markdown",
   "metadata": {},
   "source": [
    "## Waterfall Plot"
   ]
  },
  {
   "cell_type": "code",
   "execution_count": 12,
   "metadata": {},
   "outputs": [],
   "source": [
    "plot_params = waterfall_plot(small_df, 'Date', 'Open', 'Waterfall plot of Stock', remove_time=True)"
   ]
  },
  {
   "cell_type": "code",
   "execution_count": 13,
   "metadata": {},
   "outputs": [],
   "source": [
    "outfile(plot_params['d'])"
   ]
  },
  {
   "attachments": {},
   "cell_type": "markdown",
   "metadata": {},
   "source": [
    "## Lag Plot"
   ]
  },
  {
   "cell_type": "code",
   "execution_count": 14,
   "metadata": {},
   "outputs": [
    {
     "name": "stderr",
     "output_type": "stream",
     "text": [
      "/home/shail/bits/PS1/time_series_analysis/env/lib/python3.10/site-packages/sklearn/cluster/_kmeans.py:870: FutureWarning: The default value of `n_init` will change from 10 to 'auto' in 1.4. Set the value of `n_init` explicitly to suppress the warning\n",
      "  warnings.warn(\n"
     ]
    }
   ],
   "source": [
    "data = lag_plot(df['Adj Close'], 30, 'Lag plot of stock', 1)"
   ]
  },
  {
   "cell_type": "code",
   "execution_count": 15,
   "metadata": {},
   "outputs": [],
   "source": [
    "outfile(data['data'])"
   ]
  },
  {
   "attachments": {},
   "cell_type": "markdown",
   "metadata": {},
   "source": [
    "## Stacked Area Chart"
   ]
  },
  {
   "cell_type": "code",
   "execution_count": 16,
   "metadata": {},
   "outputs": [],
   "source": [
    "x = stacked_area_plot(df, ['Open', 'Close', 'Low'], 'Date', 'stacked_area_plot', remove_time=True)"
   ]
  },
  {
   "cell_type": "code",
   "execution_count": 17,
   "metadata": {},
   "outputs": [
    {
     "data": {
      "text/plain": [
       "dict_keys(['title', 'names', 'vals', 'x'])"
      ]
     },
     "execution_count": 17,
     "metadata": {},
     "output_type": "execute_result"
    }
   ],
   "source": [
    "x.keys()"
   ]
  },
  {
   "cell_type": "code",
   "execution_count": 18,
   "metadata": {},
   "outputs": [],
   "source": [
    "outfile(x['x'])\n"
   ]
  },
  {
   "attachments": {},
   "cell_type": "markdown",
   "metadata": {},
   "source": [
    "# Properties"
   ]
  },
  {
   "cell_type": "code",
   "execution_count": 19,
   "metadata": {},
   "outputs": [],
   "source": [
    "from tsa.properties import *"
   ]
  },
  {
   "cell_type": "code",
   "execution_count": 20,
   "metadata": {},
   "outputs": [],
   "source": [
    "trend = Trend(df, 'Close', 'Date')"
   ]
  },
  {
   "cell_type": "code",
   "execution_count": 21,
   "metadata": {},
   "outputs": [],
   "source": [
    "params = trend.plot(remove_time = True)"
   ]
  },
  {
   "cell_type": "code",
   "execution_count": 22,
   "metadata": {},
   "outputs": [
    {
     "data": {
      "text/plain": [
       "dict_keys(['title', 'data', 'x'])"
      ]
     },
     "execution_count": 22,
     "metadata": {},
     "output_type": "execute_result"
    }
   ],
   "source": [
    "params.keys()"
   ]
  },
  {
   "cell_type": "code",
   "execution_count": 23,
   "metadata": {},
   "outputs": [],
   "source": [
    "outfile(params['data'])"
   ]
  },
  {
   "cell_type": "code",
   "execution_count": 24,
   "metadata": {},
   "outputs": [
    {
     "data": {
      "text/html": [
       "<div>\n",
       "<style scoped>\n",
       "    .dataframe tbody tr th:only-of-type {\n",
       "        vertical-align: middle;\n",
       "    }\n",
       "\n",
       "    .dataframe tbody tr th {\n",
       "        vertical-align: top;\n",
       "    }\n",
       "\n",
       "    .dataframe thead th {\n",
       "        text-align: right;\n",
       "    }\n",
       "</style>\n",
       "<table border=\"1\" class=\"dataframe\">\n",
       "  <thead>\n",
       "    <tr style=\"text-align: right;\">\n",
       "      <th></th>\n",
       "      <th>Original</th>\n",
       "      <th>Detrend</th>\n",
       "    </tr>\n",
       "    <tr>\n",
       "      <th>Date</th>\n",
       "      <th></th>\n",
       "      <th></th>\n",
       "    </tr>\n",
       "  </thead>\n",
       "  <tbody>\n",
       "    <tr>\n",
       "      <th>2018-05-01</th>\n",
       "      <td>1582.260010</td>\n",
       "      <td>1582.260010</td>\n",
       "    </tr>\n",
       "    <tr>\n",
       "      <th>2018-05-02</th>\n",
       "      <td>1569.680054</td>\n",
       "      <td>1562.598866</td>\n",
       "    </tr>\n",
       "    <tr>\n",
       "      <th>2018-05-03</th>\n",
       "      <td>1572.079956</td>\n",
       "      <td>1557.917580</td>\n",
       "    </tr>\n",
       "    <tr>\n",
       "      <th>2018-05-04</th>\n",
       "      <td>1580.949951</td>\n",
       "      <td>1559.706387</td>\n",
       "    </tr>\n",
       "    <tr>\n",
       "      <th>2018-05-05</th>\n",
       "      <td>1587.346639</td>\n",
       "      <td>1559.021887</td>\n",
       "    </tr>\n",
       "    <tr>\n",
       "      <th>...</th>\n",
       "      <td>...</td>\n",
       "      <td>...</td>\n",
       "    </tr>\n",
       "    <tr>\n",
       "      <th>2019-04-27</th>\n",
       "      <td>1946.563355</td>\n",
       "      <td>-609.745490</td>\n",
       "    </tr>\n",
       "    <tr>\n",
       "      <th>2019-04-28</th>\n",
       "      <td>1942.496704</td>\n",
       "      <td>-620.893328</td>\n",
       "    </tr>\n",
       "    <tr>\n",
       "      <th>2019-04-29</th>\n",
       "      <td>1938.430054</td>\n",
       "      <td>-632.041166</td>\n",
       "    </tr>\n",
       "    <tr>\n",
       "      <th>2019-04-30</th>\n",
       "      <td>1926.520020</td>\n",
       "      <td>-651.032388</td>\n",
       "    </tr>\n",
       "    <tr>\n",
       "      <th>2019-05-01</th>\n",
       "      <td>1911.520020</td>\n",
       "      <td>-673.113576</td>\n",
       "    </tr>\n",
       "  </tbody>\n",
       "</table>\n",
       "<p>366 rows × 2 columns</p>\n",
       "</div>"
      ],
      "text/plain": [
       "               Original      Detrend\n",
       "Date                                \n",
       "2018-05-01  1582.260010  1582.260010\n",
       "2018-05-02  1569.680054  1562.598866\n",
       "2018-05-03  1572.079956  1557.917580\n",
       "2018-05-04  1580.949951  1559.706387\n",
       "2018-05-05  1587.346639  1559.021887\n",
       "...                 ...          ...\n",
       "2019-04-27  1946.563355  -609.745490\n",
       "2019-04-28  1942.496704  -620.893328\n",
       "2019-04-29  1938.430054  -632.041166\n",
       "2019-04-30  1926.520020  -651.032388\n",
       "2019-05-01  1911.520020  -673.113576\n",
       "\n",
       "[366 rows x 2 columns]"
      ]
     },
     "execution_count": 24,
     "metadata": {},
     "output_type": "execute_result"
    }
   ],
   "source": [
    "trend.detrend()"
   ]
  },
  {
   "cell_type": "code",
   "execution_count": 25,
   "metadata": {},
   "outputs": [],
   "source": [
    "p = trend.plot_detrend(remove_time = True)"
   ]
  },
  {
   "cell_type": "code",
   "execution_count": 26,
   "metadata": {},
   "outputs": [
    {
     "data": {
      "text/plain": [
       "dict_keys(['title', 'data', 'data_detrend', 'x'])"
      ]
     },
     "execution_count": 26,
     "metadata": {},
     "output_type": "execute_result"
    }
   ],
   "source": [
    "p.keys()"
   ]
  },
  {
   "cell_type": "code",
   "execution_count": 27,
   "metadata": {},
   "outputs": [],
   "source": [
    "outfile(p['x'])"
   ]
  },
  {
   "attachments": {},
   "cell_type": "markdown",
   "metadata": {},
   "source": [
    "## Seasonality"
   ]
  },
  {
   "cell_type": "code",
   "execution_count": 28,
   "metadata": {},
   "outputs": [],
   "source": [
    "seasonality = Seasonality(df, 'Close', 'Date')"
   ]
  },
  {
   "cell_type": "code",
   "execution_count": 29,
   "metadata": {},
   "outputs": [
    {
     "data": {
      "text/plain": [
       "Date\n",
       "2018-05-01    1.000731\n",
       "2018-05-02    1.004222\n",
       "2018-05-03    1.004179\n",
       "2018-05-04    0.998911\n",
       "2018-05-05    0.998172\n",
       "                ...   \n",
       "2019-04-27    0.998172\n",
       "2019-04-28    0.997358\n",
       "2019-04-29    0.996428\n",
       "2019-04-30    1.000731\n",
       "2019-05-01    1.004222\n",
       "Name: seasonal, Length: 366, dtype: float64"
      ]
     },
     "execution_count": 29,
     "metadata": {},
     "output_type": "execute_result"
    }
   ],
   "source": [
    "seasonality.seasonal()"
   ]
  },
  {
   "cell_type": "code",
   "execution_count": 30,
   "metadata": {},
   "outputs": [
    {
     "data": {
      "text/html": [
       "<div>\n",
       "<style scoped>\n",
       "    .dataframe tbody tr th:only-of-type {\n",
       "        vertical-align: middle;\n",
       "    }\n",
       "\n",
       "    .dataframe tbody tr th {\n",
       "        vertical-align: top;\n",
       "    }\n",
       "\n",
       "    .dataframe thead th {\n",
       "        text-align: right;\n",
       "    }\n",
       "</style>\n",
       "<table border=\"1\" class=\"dataframe\">\n",
       "  <thead>\n",
       "    <tr style=\"text-align: right;\">\n",
       "      <th></th>\n",
       "      <th>Original</th>\n",
       "      <th>Deseasonalized</th>\n",
       "    </tr>\n",
       "    <tr>\n",
       "      <th>Date</th>\n",
       "      <th></th>\n",
       "      <th></th>\n",
       "    </tr>\n",
       "  </thead>\n",
       "  <tbody>\n",
       "    <tr>\n",
       "      <th>2018-05-01</th>\n",
       "      <td>1582.260010</td>\n",
       "      <td>1581.104511</td>\n",
       "    </tr>\n",
       "    <tr>\n",
       "      <th>2018-05-02</th>\n",
       "      <td>1569.680054</td>\n",
       "      <td>1563.080726</td>\n",
       "    </tr>\n",
       "    <tr>\n",
       "      <th>2018-05-03</th>\n",
       "      <td>1572.079956</td>\n",
       "      <td>1565.538095</td>\n",
       "    </tr>\n",
       "    <tr>\n",
       "      <th>2018-05-04</th>\n",
       "      <td>1580.949951</td>\n",
       "      <td>1582.674260</td>\n",
       "    </tr>\n",
       "    <tr>\n",
       "      <th>2018-05-05</th>\n",
       "      <td>1587.346639</td>\n",
       "      <td>1590.253597</td>\n",
       "    </tr>\n",
       "    <tr>\n",
       "      <th>...</th>\n",
       "      <td>...</td>\n",
       "      <td>...</td>\n",
       "    </tr>\n",
       "    <tr>\n",
       "      <th>2019-04-27</th>\n",
       "      <td>1946.563355</td>\n",
       "      <td>1950.128157</td>\n",
       "    </tr>\n",
       "    <tr>\n",
       "      <th>2019-04-28</th>\n",
       "      <td>1942.496704</td>\n",
       "      <td>1947.643168</td>\n",
       "    </tr>\n",
       "    <tr>\n",
       "      <th>2019-04-29</th>\n",
       "      <td>1938.430054</td>\n",
       "      <td>1945.378176</td>\n",
       "    </tr>\n",
       "    <tr>\n",
       "      <th>2019-04-30</th>\n",
       "      <td>1926.520020</td>\n",
       "      <td>1925.113114</td>\n",
       "    </tr>\n",
       "    <tr>\n",
       "      <th>2019-05-01</th>\n",
       "      <td>1911.520020</td>\n",
       "      <td>1903.483511</td>\n",
       "    </tr>\n",
       "  </tbody>\n",
       "</table>\n",
       "<p>366 rows × 2 columns</p>\n",
       "</div>"
      ],
      "text/plain": [
       "               Original  Deseasonalized\n",
       "Date                                   \n",
       "2018-05-01  1582.260010     1581.104511\n",
       "2018-05-02  1569.680054     1563.080726\n",
       "2018-05-03  1572.079956     1565.538095\n",
       "2018-05-04  1580.949951     1582.674260\n",
       "2018-05-05  1587.346639     1590.253597\n",
       "...                 ...             ...\n",
       "2019-04-27  1946.563355     1950.128157\n",
       "2019-04-28  1942.496704     1947.643168\n",
       "2019-04-29  1938.430054     1945.378176\n",
       "2019-04-30  1926.520020     1925.113114\n",
       "2019-05-01  1911.520020     1903.483511\n",
       "\n",
       "[366 rows x 2 columns]"
      ]
     },
     "execution_count": 30,
     "metadata": {},
     "output_type": "execute_result"
    }
   ],
   "source": [
    "seasonality.deseasonalize()"
   ]
  },
  {
   "attachments": {},
   "cell_type": "markdown",
   "metadata": {},
   "source": [
    "## Stationarity: now integrated with ARIMA"
   ]
  },
  {
   "attachments": {},
   "cell_type": "markdown",
   "metadata": {},
   "source": [
    "## Autocorrelation"
   ]
  },
  {
   "cell_type": "code",
   "execution_count": 31,
   "metadata": {},
   "outputs": [],
   "source": [
    "a = Autocorrelation()"
   ]
  },
  {
   "cell_type": "code",
   "execution_count": 32,
   "metadata": {},
   "outputs": [
    {
     "data": {
      "text/plain": [
       "{'title': 'Autocorrelation plot of Open, order = 0',\n",
       " 'y': [1.0,\n",
       "  0.9752979711988511,\n",
       "  0.9531624310423276,\n",
       "  0.9290210639586053,\n",
       "  0.9063984537194453,\n",
       "  0.8810893912066061,\n",
       "  0.8545592795815025,\n",
       "  0.8320333502537866,\n",
       "  0.8073821527564129,\n",
       "  0.7855213221620925,\n",
       "  0.7668318936038371,\n",
       "  0.7467704513474687,\n",
       "  0.7263441881084176,\n",
       "  0.7070064186149615,\n",
       "  0.6945159192909174,\n",
       "  0.6815382510394706,\n",
       "  0.6690081523464364,\n",
       "  0.6531988376666664,\n",
       "  0.6391447422559996,\n",
       "  0.628512541913889,\n",
       "  0.6146886914823265,\n",
       "  0.6001979968731954,\n",
       "  0.5811636587057813,\n",
       "  0.5670600438878007,\n",
       "  0.5543025014262816,\n",
       "  0.5426023066094311],\n",
       " 'x': [0,\n",
       "  1,\n",
       "  2,\n",
       "  3,\n",
       "  4,\n",
       "  5,\n",
       "  6,\n",
       "  7,\n",
       "  8,\n",
       "  9,\n",
       "  10,\n",
       "  11,\n",
       "  12,\n",
       "  13,\n",
       "  14,\n",
       "  15,\n",
       "  16,\n",
       "  17,\n",
       "  18,\n",
       "  19,\n",
       "  20,\n",
       "  21,\n",
       "  22,\n",
       "  23,\n",
       "  24,\n",
       "  25],\n",
       " 'upper': [0.0,\n",
       "  0.10244895864565728,\n",
       "  0.1745368359325793,\n",
       "  0.22256312993017635,\n",
       "  0.26009952142685233,\n",
       "  0.2913718644418387,\n",
       "  0.3181095947202719,\n",
       "  0.3413550452256847,\n",
       "  0.3620156158432688,\n",
       "  0.3804457924831608,\n",
       "  0.3971041716377953,\n",
       "  0.4123535195652137,\n",
       "  0.42631176012781924,\n",
       "  0.43910860522815265,\n",
       "  0.4508981892882904,\n",
       "  0.4619897341500784,\n",
       "  0.47242458101487084,\n",
       "  0.4822657208186125,\n",
       "  0.4914638087730391,\n",
       "  0.5001118485229225,\n",
       "  0.5083346560387837,\n",
       "  0.5160771515730349,\n",
       "  0.5233522550737237,\n",
       "  0.5300825535692976,\n",
       "  0.5364116930936625,\n",
       "  0.5423902593342785],\n",
       " 'lower': [0.0,\n",
       "  -0.10244895864565717,\n",
       "  -0.17453683593257918,\n",
       "  -0.22256312993017646,\n",
       "  -0.26009952142685233,\n",
       "  -0.2913718644418387,\n",
       "  -0.3181095947202718,\n",
       "  -0.34135504522568466,\n",
       "  -0.3620156158432689,\n",
       "  -0.38044579248316085,\n",
       "  -0.39710417163779527,\n",
       "  -0.41235351956521377,\n",
       "  -0.4263117601278192,\n",
       "  -0.43910860522815254,\n",
       "  -0.4508981892882904,\n",
       "  -0.46198973415007843,\n",
       "  -0.4724245810148709,\n",
       "  -0.48226572081861246,\n",
       "  -0.49146380877303913,\n",
       "  -0.5001118485229225,\n",
       "  -0.5083346560387837,\n",
       "  -0.5160771515730349,\n",
       "  -0.5233522550737236,\n",
       "  -0.5300825535692975,\n",
       "  -0.5364116930936625,\n",
       "  -0.5423902593342785]}"
      ]
     },
     "execution_count": 32,
     "metadata": {},
     "output_type": "execute_result"
    }
   ],
   "source": [
    "a.autocorrelation(df['Open'])"
   ]
  },
  {
   "cell_type": "code",
   "execution_count": 34,
   "metadata": {},
   "outputs": [
    {
     "name": "stdout",
     "output_type": "stream",
     "text": [
      "As value of statistic is close to 0, series is positively autocorrelated.\n"
     ]
    },
    {
     "data": {
      "text/plain": [
       "0.03702740744372263"
      ]
     },
     "execution_count": 34,
     "metadata": {},
     "output_type": "execute_result"
    }
   ],
   "source": [
    "a.durbin_watson_test(df['Close'], summary = True)"
   ]
  },
  {
   "attachments": {},
   "cell_type": "markdown",
   "metadata": {},
   "source": [
    "## Partial Autocorrelation"
   ]
  },
  {
   "cell_type": "code",
   "execution_count": 35,
   "metadata": {},
   "outputs": [
    {
     "data": {
      "text/plain": [
       "{'title': 'Partial Autocorrelation plot of Close, order = 0',\n",
       " 'y': [1.0,\n",
       "  0.9804261487011565,\n",
       "  -0.03144882700935218,\n",
       "  -0.025561963925761478,\n",
       "  -0.07717496231254937,\n",
       "  0.01458092770842006,\n",
       "  0.002802284906414637,\n",
       "  0.02324308082707098,\n",
       "  -0.08861647801516312,\n",
       "  -0.01457439596121472,\n",
       "  0.06777047050555124,\n",
       "  0.0282605793276168,\n",
       "  0.06875026393962577,\n",
       "  0.10126827102299332,\n",
       "  -0.10567386298845827,\n",
       "  0.07564126264204014,\n",
       "  0.0076446491942542445,\n",
       "  -0.03612725571784281,\n",
       "  -0.04395493981606512,\n",
       "  0.026099606046152184,\n",
       "  -0.011043435218115018,\n",
       "  -0.02040186993153929,\n",
       "  0.0025801928932418887,\n",
       "  0.03611952791831125,\n",
       "  0.026053566440872984,\n",
       "  -0.05283890056354348],\n",
       " 'x': [0,\n",
       "  1,\n",
       "  2,\n",
       "  3,\n",
       "  4,\n",
       "  5,\n",
       "  6,\n",
       "  7,\n",
       "  8,\n",
       "  9,\n",
       "  10,\n",
       "  11,\n",
       "  12,\n",
       "  13,\n",
       "  14,\n",
       "  15,\n",
       "  16,\n",
       "  17,\n",
       "  18,\n",
       "  19,\n",
       "  20,\n",
       "  21,\n",
       "  22,\n",
       "  23,\n",
       "  24,\n",
       "  25],\n",
       " 'upper': [0.0,\n",
       "  0.10244895864565717,\n",
       "  0.10244895864565717,\n",
       "  0.10244895864565719,\n",
       "  0.10244895864565719,\n",
       "  0.10244895864565717,\n",
       "  0.10244895864565719,\n",
       "  0.10244895864565719,\n",
       "  0.10244895864565719,\n",
       "  0.10244895864565719,\n",
       "  0.10244895864565717,\n",
       "  0.10244895864565717,\n",
       "  0.1024489586456572,\n",
       "  0.1024489586456572,\n",
       "  0.10244895864565719,\n",
       "  0.10244895864565719,\n",
       "  0.10244895864565719,\n",
       "  0.10244895864565719,\n",
       "  0.10244895864565719,\n",
       "  0.10244895864565717,\n",
       "  0.10244895864565719,\n",
       "  0.10244895864565719,\n",
       "  0.10244895864565719,\n",
       "  0.1024489586456572,\n",
       "  0.1024489586456572,\n",
       "  0.10244895864565719],\n",
       " 'lower': [0.0,\n",
       "  -0.10244895864565717,\n",
       "  -0.1024489586456572,\n",
       "  -0.10244895864565719,\n",
       "  -0.10244895864565719,\n",
       "  -0.1024489586456572,\n",
       "  -0.10244895864565719,\n",
       "  -0.10244895864565719,\n",
       "  -0.1024489586456572,\n",
       "  -0.10244895864565719,\n",
       "  -0.10244895864565719,\n",
       "  -0.10244895864565719,\n",
       "  -0.10244895864565719,\n",
       "  -0.10244895864565719,\n",
       "  -0.10244895864565717,\n",
       "  -0.10244895864565719,\n",
       "  -0.10244895864565719,\n",
       "  -0.10244895864565717,\n",
       "  -0.10244895864565719,\n",
       "  -0.1024489586456572,\n",
       "  -0.10244895864565719,\n",
       "  -0.10244895864565719,\n",
       "  -0.10244895864565719,\n",
       "  -0.10244895864565717,\n",
       "  -0.10244895864565717,\n",
       "  -0.10244895864565717]}"
      ]
     },
     "execution_count": 35,
     "metadata": {},
     "output_type": "execute_result"
    }
   ],
   "source": [
    "p = PartialAutocorrelation()\n",
    "p.partial_autocorrelation(df['Close'])"
   ]
  },
  {
   "attachments": {},
   "cell_type": "markdown",
   "metadata": {},
   "source": [
    "## Differencing: now integrated with ARIMA"
   ]
  },
  {
   "attachments": {},
   "cell_type": "markdown",
   "metadata": {},
   "source": [
    "# Models"
   ]
  },
  {
   "attachments": {},
   "cell_type": "markdown",
   "metadata": {},
   "source": [
    "## ARIMA"
   ]
  },
  {
   "cell_type": "code",
   "execution_count": 36,
   "metadata": {},
   "outputs": [],
   "source": [
    "from tsa.models import Arima"
   ]
  },
  {
   "cell_type": "code",
   "execution_count": 37,
   "metadata": {},
   "outputs": [],
   "source": [
    "train_df = df[:int(0.8 * len(df))]\n",
    "test_df = df[int(0.8 * len(df)):]\n",
    "\n",
    "df = train_df"
   ]
  },
  {
   "cell_type": "code",
   "execution_count": 38,
   "metadata": {},
   "outputs": [],
   "source": [
    "model = Arima()\n",
    "model(df, 'Date', 'Close')"
   ]
  },
  {
   "cell_type": "code",
   "execution_count": 40,
   "metadata": {},
   "outputs": [
    {
     "name": "stdout",
     "output_type": "stream",
     "text": [
      "1. ADF :  -17.08989694780043\n",
      "2. P-Value :  7.603587980868425e-30\n",
      "3. Num Of Lags :  0\n",
      "4. Num Of Observations Used For ADF Regression and Critical Values Calculation : 290\n",
      "5. Critical Values :\n",
      "\t 1% :  -3.453102162983312\n",
      "\t 5% :  -2.871558538275452\n",
      "\t 10% :  -2.5721082282996433\n",
      "\n",
      "\n",
      "As p-value is inside the confidence interval of 95%, series is stationary.\n"
     ]
    }
   ],
   "source": [
    "model.test_stationarity(1)"
   ]
  },
  {
   "cell_type": "code",
   "execution_count": 41,
   "metadata": {},
   "outputs": [],
   "source": [
    "params = model.acf_plot(1)"
   ]
  },
  {
   "cell_type": "code",
   "execution_count": 42,
   "metadata": {},
   "outputs": [
    {
     "data": {
      "text/plain": [
       "dict_keys(['title', 'y', 'x', 'upper', 'lower'])"
      ]
     },
     "execution_count": 42,
     "metadata": {},
     "output_type": "execute_result"
    }
   ],
   "source": [
    "params.keys()"
   ]
  },
  {
   "cell_type": "code",
   "execution_count": 47,
   "metadata": {},
   "outputs": [],
   "source": [
    "outfile(params['lower'])"
   ]
  },
  {
   "cell_type": "code",
   "execution_count": 48,
   "metadata": {},
   "outputs": [],
   "source": [
    "params = model.pacf_plot(1)"
   ]
  },
  {
   "cell_type": "code",
   "execution_count": 52,
   "metadata": {},
   "outputs": [],
   "source": [
    "outfile(params['title'])\n"
   ]
  },
  {
   "cell_type": "code",
   "execution_count": 64,
   "metadata": {},
   "outputs": [
    {
     "name": "stderr",
     "output_type": "stream",
     "text": [
      "/home/shail/bits/PS1/time_series_analysis/env/lib/python3.10/site-packages/statsmodels/tsa/base/tsa_model.py:473: ValueWarning: No frequency information was provided, so inferred frequency D will be used.\n",
      "  self._init_dates(dates, freq)\n",
      "/home/shail/bits/PS1/time_series_analysis/env/lib/python3.10/site-packages/statsmodels/tsa/base/tsa_model.py:473: ValueWarning: No frequency information was provided, so inferred frequency D will be used.\n",
      "  self._init_dates(dates, freq)\n",
      "/home/shail/bits/PS1/time_series_analysis/env/lib/python3.10/site-packages/statsmodels/tsa/base/tsa_model.py:473: ValueWarning: No frequency information was provided, so inferred frequency D will be used.\n",
      "  self._init_dates(dates, freq)\n"
     ]
    },
    {
     "name": "stdout",
     "output_type": "stream",
     "text": [
      "                               SARIMAX Results                                \n",
      "==============================================================================\n",
      "Dep. Variable:                  Close   No. Observations:                  292\n",
      "Model:                 ARIMA(3, 1, 2)   Log Likelihood               -1391.661\n",
      "Date:                Tue, 04 Jul 2023   AIC                           2795.321\n",
      "Time:                        13:45:38   BIC                           2817.361\n",
      "Sample:                    05-01-2018   HQIC                          2804.150\n",
      "                         - 02-16-2019                                         \n",
      "Covariance Type:                  opg                                         \n",
      "==============================================================================\n",
      "                 coef    std err          z      P>|z|      [0.025      0.975]\n",
      "------------------------------------------------------------------------------\n",
      "ar.L1          0.3394      0.041      8.290      0.000       0.259       0.420\n",
      "ar.L2         -0.9530      0.024    -39.628      0.000      -1.000      -0.906\n",
      "ar.L3          0.0376      0.049      0.772      0.440      -0.058       0.133\n",
      "ma.L1         -0.3545      0.028    -12.816      0.000      -0.409      -0.300\n",
      "ma.L2          0.9980      0.127      7.828      0.000       0.748       1.248\n",
      "sigma2       824.1086    113.399      7.267      0.000     601.851    1046.367\n",
      "===================================================================================\n",
      "Ljung-Box (L1) (Q):                   0.00   Jarque-Bera (JB):               217.50\n",
      "Prob(Q):                              1.00   Prob(JB):                         0.00\n",
      "Heteroskedasticity (H):               4.71   Skew:                            -0.36\n",
      "Prob(H) (two-sided):                  0.00   Kurtosis:                         7.17\n",
      "===================================================================================\n",
      "\n",
      "Warnings:\n",
      "[1] Covariance matrix calculated using the outer product of gradients (complex-step).\n"
     ]
    },
    {
     "name": "stderr",
     "output_type": "stream",
     "text": [
      "/home/shail/bits/PS1/time_series_analysis/env/lib/python3.10/site-packages/statsmodels/base/model.py:607: ConvergenceWarning: Maximum Likelihood optimization failed to converge. Check mle_retvals\n",
      "  warnings.warn(\"Maximum Likelihood optimization failed to \"\n"
     ]
    }
   ],
   "source": [
    "model.fit(order = (3,1,2))"
   ]
  },
  {
   "cell_type": "code",
   "execution_count": 65,
   "metadata": {},
   "outputs": [
    {
     "data": {
      "text/html": [
       "<div>\n",
       "<style scoped>\n",
       "    .dataframe tbody tr th:only-of-type {\n",
       "        vertical-align: middle;\n",
       "    }\n",
       "\n",
       "    .dataframe tbody tr th {\n",
       "        vertical-align: top;\n",
       "    }\n",
       "\n",
       "    .dataframe thead th {\n",
       "        text-align: right;\n",
       "    }\n",
       "</style>\n",
       "<table border=\"1\" class=\"dataframe\">\n",
       "  <thead>\n",
       "    <tr style=\"text-align: right;\">\n",
       "      <th></th>\n",
       "      <th>Metric</th>\n",
       "      <th>Value</th>\n",
       "    </tr>\n",
       "  </thead>\n",
       "  <tbody>\n",
       "    <tr>\n",
       "      <th>0</th>\n",
       "      <td>MAPE</td>\n",
       "      <td>0.088567</td>\n",
       "    </tr>\n",
       "    <tr>\n",
       "      <th>1</th>\n",
       "      <td>MAE</td>\n",
       "      <td>162.116491</td>\n",
       "    </tr>\n",
       "    <tr>\n",
       "      <th>2</th>\n",
       "      <td>MSE</td>\n",
       "      <td>36671.757574</td>\n",
       "    </tr>\n",
       "  </tbody>\n",
       "</table>\n",
       "</div>"
      ],
      "text/plain": [
       "  Metric         Value\n",
       "0   MAPE      0.088567\n",
       "1    MAE    162.116491\n",
       "2    MSE  36671.757574"
      ]
     },
     "execution_count": 65,
     "metadata": {},
     "output_type": "execute_result"
    }
   ],
   "source": [
    "model.error_metrics(test_df, 'Close')"
   ]
  },
  {
   "cell_type": "code",
   "execution_count": 66,
   "metadata": {},
   "outputs": [],
   "source": [
    "params = model.plot_forecast(test_df, 'Close', exclude_time=True)"
   ]
  },
  {
   "cell_type": "code",
   "execution_count": 68,
   "metadata": {},
   "outputs": [],
   "source": [
    "outfile(params['y_forecast'])"
   ]
  },
  {
   "cell_type": "code",
   "execution_count": null,
   "metadata": {},
   "outputs": [],
   "source": []
  }
 ],
 "metadata": {
  "kernelspec": {
   "display_name": "env",
   "language": "python",
   "name": "python3"
  },
  "language_info": {
   "codemirror_mode": {
    "name": "ipython",
    "version": 3
   },
   "file_extension": ".py",
   "mimetype": "text/x-python",
   "name": "python",
   "nbconvert_exporter": "python",
   "pygments_lexer": "ipython3",
   "version": "3.10.6"
  },
  "orig_nbformat": 4
 },
 "nbformat": 4,
 "nbformat_minor": 2
}
