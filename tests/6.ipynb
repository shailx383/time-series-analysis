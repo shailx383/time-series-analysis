{
 "cells": [
  {
   "cell_type": "code",
   "execution_count": 1,
   "metadata": {},
   "outputs": [],
   "source": [
    "import pandas as pd"
   ]
  },
  {
   "cell_type": "code",
   "execution_count": 2,
   "metadata": {},
   "outputs": [],
   "source": [
    "df = pd.read_csv('../../datasets/5/Wind Time Series Dataset(10min).csv')"
   ]
  },
  {
   "cell_type": "code",
   "execution_count": 3,
   "metadata": {},
   "outputs": [
    {
     "data": {
      "text/html": [
       "<div>\n",
       "<style scoped>\n",
       "    .dataframe tbody tr th:only-of-type {\n",
       "        vertical-align: middle;\n",
       "    }\n",
       "\n",
       "    .dataframe tbody tr th {\n",
       "        vertical-align: top;\n",
       "    }\n",
       "\n",
       "    .dataframe thead th {\n",
       "        text-align: right;\n",
       "    }\n",
       "</style>\n",
       "<table border=\"1\" class=\"dataframe\">\n",
       "  <thead>\n",
       "    <tr style=\"text-align: right;\">\n",
       "      <th></th>\n",
       "      <th>Time</th>\n",
       "      <th>WindSpeed</th>\n",
       "      <th>Power</th>\n",
       "    </tr>\n",
       "  </thead>\n",
       "  <tbody>\n",
       "    <tr>\n",
       "      <th>0</th>\n",
       "      <td>2014-10-07 01:20:00</td>\n",
       "      <td>8.22</td>\n",
       "      <td>40.526173</td>\n",
       "    </tr>\n",
       "    <tr>\n",
       "      <th>1</th>\n",
       "      <td>2014-10-07 01:30:00</td>\n",
       "      <td>8.09</td>\n",
       "      <td>38.552540</td>\n",
       "    </tr>\n",
       "    <tr>\n",
       "      <th>2</th>\n",
       "      <td>2014-10-07 01:50:00</td>\n",
       "      <td>7.21</td>\n",
       "      <td>21.313683</td>\n",
       "    </tr>\n",
       "    <tr>\n",
       "      <th>3</th>\n",
       "      <td>2014-10-07 02:00:00</td>\n",
       "      <td>6.75</td>\n",
       "      <td>18.031418</td>\n",
       "    </tr>\n",
       "    <tr>\n",
       "      <th>4</th>\n",
       "      <td>2014-10-07 02:10:00</td>\n",
       "      <td>6.52</td>\n",
       "      <td>16.593281</td>\n",
       "    </tr>\n",
       "    <tr>\n",
       "      <th>...</th>\n",
       "      <td>...</td>\n",
       "      <td>...</td>\n",
       "      <td>...</td>\n",
       "    </tr>\n",
       "    <tr>\n",
       "      <th>39190</th>\n",
       "      <td>2015-10-06 23:10:00</td>\n",
       "      <td>7.45</td>\n",
       "      <td>30.580953</td>\n",
       "    </tr>\n",
       "    <tr>\n",
       "      <th>39191</th>\n",
       "      <td>2015-10-06 23:20:00</td>\n",
       "      <td>7.15</td>\n",
       "      <td>28.455153</td>\n",
       "    </tr>\n",
       "    <tr>\n",
       "      <th>39192</th>\n",
       "      <td>2015-10-06 23:30:00</td>\n",
       "      <td>7.27</td>\n",
       "      <td>30.080422</td>\n",
       "    </tr>\n",
       "    <tr>\n",
       "      <th>39193</th>\n",
       "      <td>2015-10-06 23:40:00</td>\n",
       "      <td>8.19</td>\n",
       "      <td>42.483618</td>\n",
       "    </tr>\n",
       "    <tr>\n",
       "      <th>39194</th>\n",
       "      <td>2015-10-06 23:50:00</td>\n",
       "      <td>7.85</td>\n",
       "      <td>38.560957</td>\n",
       "    </tr>\n",
       "  </tbody>\n",
       "</table>\n",
       "<p>39195 rows × 3 columns</p>\n",
       "</div>"
      ],
      "text/plain": [
       "                      Time  WindSpeed      Power\n",
       "0      2014-10-07 01:20:00       8.22  40.526173\n",
       "1      2014-10-07 01:30:00       8.09  38.552540\n",
       "2      2014-10-07 01:50:00       7.21  21.313683\n",
       "3      2014-10-07 02:00:00       6.75  18.031418\n",
       "4      2014-10-07 02:10:00       6.52  16.593281\n",
       "...                    ...        ...        ...\n",
       "39190  2015-10-06 23:10:00       7.45  30.580953\n",
       "39191  2015-10-06 23:20:00       7.15  28.455153\n",
       "39192  2015-10-06 23:30:00       7.27  30.080422\n",
       "39193  2015-10-06 23:40:00       8.19  42.483618\n",
       "39194  2015-10-06 23:50:00       7.85  38.560957\n",
       "\n",
       "[39195 rows x 3 columns]"
      ]
     },
     "execution_count": 3,
     "metadata": {},
     "output_type": "execute_result"
    }
   ],
   "source": [
    "df"
   ]
  },
  {
   "cell_type": "code",
   "execution_count": 4,
   "metadata": {},
   "outputs": [
    {
     "data": {
      "text/plain": [
       "Time         0\n",
       "WindSpeed    0\n",
       "Power        0\n",
       "dtype: int64"
      ]
     },
     "execution_count": 4,
     "metadata": {},
     "output_type": "execute_result"
    }
   ],
   "source": [
    "df.isna().sum()"
   ]
  },
  {
   "cell_type": "code",
   "execution_count": 5,
   "metadata": {},
   "outputs": [],
   "source": [
    "import sys\n",
    "sys.path.insert(0, '/home/shail/bits/PS1/time_series_analysis')\n",
    "\n",
    "original_stdout = sys.stdout \n",
    "\t\n",
    "def outfile(x):\n",
    "    with open('output.txt', 'w') as f:\n",
    "        sys.stdout = f\n",
    "        print(x)\n",
    "        sys.stdout = original_stdout "
   ]
  },
  {
   "cell_type": "code",
   "execution_count": 6,
   "metadata": {},
   "outputs": [],
   "source": [
    "from tsa.dateconverter import DateConverter"
   ]
  },
  {
   "attachments": {},
   "cell_type": "markdown",
   "metadata": {},
   "source": [
    "### Filtering"
   ]
  },
  {
   "cell_type": "code",
   "execution_count": 7,
   "metadata": {},
   "outputs": [
    {
     "data": {
      "text/html": [
       "<div>\n",
       "<style scoped>\n",
       "    .dataframe tbody tr th:only-of-type {\n",
       "        vertical-align: middle;\n",
       "    }\n",
       "\n",
       "    .dataframe tbody tr th {\n",
       "        vertical-align: top;\n",
       "    }\n",
       "\n",
       "    .dataframe thead th {\n",
       "        text-align: right;\n",
       "    }\n",
       "</style>\n",
       "<table border=\"1\" class=\"dataframe\">\n",
       "  <thead>\n",
       "    <tr style=\"text-align: right;\">\n",
       "      <th></th>\n",
       "      <th>Time</th>\n",
       "      <th>WindSpeed</th>\n",
       "      <th>Power</th>\n",
       "      <th>Year</th>\n",
       "    </tr>\n",
       "  </thead>\n",
       "  <tbody>\n",
       "    <tr>\n",
       "      <th>0</th>\n",
       "      <td>2015-01-01 00:10:00</td>\n",
       "      <td>6.42</td>\n",
       "      <td>29.832422</td>\n",
       "      <td>2015</td>\n",
       "    </tr>\n",
       "    <tr>\n",
       "      <th>1</th>\n",
       "      <td>2015-01-01 00:20:00</td>\n",
       "      <td>6.92</td>\n",
       "      <td>36.332202</td>\n",
       "      <td>2015</td>\n",
       "    </tr>\n",
       "    <tr>\n",
       "      <th>2</th>\n",
       "      <td>2015-01-01 00:30:00</td>\n",
       "      <td>8.11</td>\n",
       "      <td>45.594939</td>\n",
       "      <td>2015</td>\n",
       "    </tr>\n",
       "    <tr>\n",
       "      <th>3</th>\n",
       "      <td>2015-01-01 00:40:00</td>\n",
       "      <td>8.21</td>\n",
       "      <td>47.367194</td>\n",
       "      <td>2015</td>\n",
       "    </tr>\n",
       "    <tr>\n",
       "      <th>4</th>\n",
       "      <td>2015-01-01 00:50:00</td>\n",
       "      <td>6.70</td>\n",
       "      <td>28.656531</td>\n",
       "      <td>2015</td>\n",
       "    </tr>\n",
       "    <tr>\n",
       "      <th>...</th>\n",
       "      <td>...</td>\n",
       "      <td>...</td>\n",
       "      <td>...</td>\n",
       "      <td>...</td>\n",
       "    </tr>\n",
       "    <tr>\n",
       "      <th>29782</th>\n",
       "      <td>2015-10-06 23:10:00</td>\n",
       "      <td>7.45</td>\n",
       "      <td>30.580953</td>\n",
       "      <td>2015</td>\n",
       "    </tr>\n",
       "    <tr>\n",
       "      <th>29783</th>\n",
       "      <td>2015-10-06 23:20:00</td>\n",
       "      <td>7.15</td>\n",
       "      <td>28.455153</td>\n",
       "      <td>2015</td>\n",
       "    </tr>\n",
       "    <tr>\n",
       "      <th>29784</th>\n",
       "      <td>2015-10-06 23:30:00</td>\n",
       "      <td>7.27</td>\n",
       "      <td>30.080422</td>\n",
       "      <td>2015</td>\n",
       "    </tr>\n",
       "    <tr>\n",
       "      <th>29785</th>\n",
       "      <td>2015-10-06 23:40:00</td>\n",
       "      <td>8.19</td>\n",
       "      <td>42.483618</td>\n",
       "      <td>2015</td>\n",
       "    </tr>\n",
       "    <tr>\n",
       "      <th>29786</th>\n",
       "      <td>2015-10-06 23:50:00</td>\n",
       "      <td>7.85</td>\n",
       "      <td>38.560957</td>\n",
       "      <td>2015</td>\n",
       "    </tr>\n",
       "  </tbody>\n",
       "</table>\n",
       "<p>29787 rows × 4 columns</p>\n",
       "</div>"
      ],
      "text/plain": [
       "                      Time  WindSpeed      Power  Year\n",
       "0      2015-01-01 00:10:00       6.42  29.832422  2015\n",
       "1      2015-01-01 00:20:00       6.92  36.332202  2015\n",
       "2      2015-01-01 00:30:00       8.11  45.594939  2015\n",
       "3      2015-01-01 00:40:00       8.21  47.367194  2015\n",
       "4      2015-01-01 00:50:00       6.70  28.656531  2015\n",
       "...                    ...        ...        ...   ...\n",
       "29782  2015-10-06 23:10:00       7.45  30.580953  2015\n",
       "29783  2015-10-06 23:20:00       7.15  28.455153  2015\n",
       "29784  2015-10-06 23:30:00       7.27  30.080422  2015\n",
       "29785  2015-10-06 23:40:00       8.19  42.483618  2015\n",
       "29786  2015-10-06 23:50:00       7.85  38.560957  2015\n",
       "\n",
       "[29787 rows x 4 columns]"
      ]
     },
     "execution_count": 7,
     "metadata": {},
     "output_type": "execute_result"
    }
   ],
   "source": [
    "\n",
    "    \n",
    "df['Year'] = df['Time'].apply(lambda x: x[:4])\n",
    "df = pd.DataFrame(df[df['Year'] == '2015'])\n",
    "df = df.reset_index().drop('index', axis = 1)\n",
    "df"
   ]
  },
  {
   "attachments": {},
   "cell_type": "markdown",
   "metadata": {},
   "source": [
    "# Date Conversion"
   ]
  },
  {
   "cell_type": "code",
   "execution_count": 8,
   "metadata": {},
   "outputs": [
    {
     "data": {
      "text/html": [
       "<div>\n",
       "<style scoped>\n",
       "    .dataframe tbody tr th:only-of-type {\n",
       "        vertical-align: middle;\n",
       "    }\n",
       "\n",
       "    .dataframe tbody tr th {\n",
       "        vertical-align: top;\n",
       "    }\n",
       "\n",
       "    .dataframe thead th {\n",
       "        text-align: right;\n",
       "    }\n",
       "</style>\n",
       "<table border=\"1\" class=\"dataframe\">\n",
       "  <thead>\n",
       "    <tr style=\"text-align: right;\">\n",
       "      <th></th>\n",
       "      <th>Code</th>\n",
       "      <th>Example</th>\n",
       "      <th>Description</th>\n",
       "    </tr>\n",
       "  </thead>\n",
       "  <tbody>\n",
       "    <tr>\n",
       "      <th>0</th>\n",
       "      <td>%a</td>\n",
       "      <td>Sun</td>\n",
       "      <td>Weekday as locale's abbreviated name.</td>\n",
       "    </tr>\n",
       "    <tr>\n",
       "      <th>1</th>\n",
       "      <td>%A</td>\n",
       "      <td>Sunday</td>\n",
       "      <td>Weekday as locale's full name.</td>\n",
       "    </tr>\n",
       "    <tr>\n",
       "      <th>2</th>\n",
       "      <td>%w</td>\n",
       "      <td>0</td>\n",
       "      <td>Weekday as a decimal number, where 0 is Sunday...</td>\n",
       "    </tr>\n",
       "    <tr>\n",
       "      <th>3</th>\n",
       "      <td>%d</td>\n",
       "      <td>08</td>\n",
       "      <td>Day of the month as a zero-padded decimal number.</td>\n",
       "    </tr>\n",
       "    <tr>\n",
       "      <th>4</th>\n",
       "      <td>%-d</td>\n",
       "      <td>8</td>\n",
       "      <td>Day of the month as a decimal number. (Platfor...</td>\n",
       "    </tr>\n",
       "    <tr>\n",
       "      <th>5</th>\n",
       "      <td>%b</td>\n",
       "      <td>Sep</td>\n",
       "      <td>Month as locale's abbreviated name.</td>\n",
       "    </tr>\n",
       "    <tr>\n",
       "      <th>6</th>\n",
       "      <td>%B</td>\n",
       "      <td>September</td>\n",
       "      <td>Month as locale's full name.</td>\n",
       "    </tr>\n",
       "    <tr>\n",
       "      <th>7</th>\n",
       "      <td>%m</td>\n",
       "      <td>09</td>\n",
       "      <td>Month as a zero-padded decimal number.</td>\n",
       "    </tr>\n",
       "    <tr>\n",
       "      <th>8</th>\n",
       "      <td>%-m</td>\n",
       "      <td>9</td>\n",
       "      <td>Month as a decimal number. (Platform speciﬁc)</td>\n",
       "    </tr>\n",
       "    <tr>\n",
       "      <th>9</th>\n",
       "      <td>%y</td>\n",
       "      <td>13</td>\n",
       "      <td>Year without century as a zero-padded decimal ...</td>\n",
       "    </tr>\n",
       "    <tr>\n",
       "      <th>10</th>\n",
       "      <td>%Y</td>\n",
       "      <td>2013</td>\n",
       "      <td>Year with century as a decimal number.</td>\n",
       "    </tr>\n",
       "    <tr>\n",
       "      <th>11</th>\n",
       "      <td>%H</td>\n",
       "      <td>07</td>\n",
       "      <td>Hour (24-hour clock) as a zero-padded decimal ...</td>\n",
       "    </tr>\n",
       "    <tr>\n",
       "      <th>12</th>\n",
       "      <td>%-H</td>\n",
       "      <td>7</td>\n",
       "      <td>Hour (24-hour clock) as a decimal number. (Pla...</td>\n",
       "    </tr>\n",
       "    <tr>\n",
       "      <th>13</th>\n",
       "      <td>%I</td>\n",
       "      <td>07</td>\n",
       "      <td>Hour (12-hour clock) as a zero-padded decimal ...</td>\n",
       "    </tr>\n",
       "    <tr>\n",
       "      <th>14</th>\n",
       "      <td>%-I</td>\n",
       "      <td>7</td>\n",
       "      <td>Hour (12-hour clock) as a decimal number. (Pla...</td>\n",
       "    </tr>\n",
       "    <tr>\n",
       "      <th>15</th>\n",
       "      <td>%p</td>\n",
       "      <td>AM</td>\n",
       "      <td>Locale's equivalent of either AM or PM.</td>\n",
       "    </tr>\n",
       "    <tr>\n",
       "      <th>16</th>\n",
       "      <td>%M</td>\n",
       "      <td>06</td>\n",
       "      <td>Minute as a zero-padded decimal number.</td>\n",
       "    </tr>\n",
       "    <tr>\n",
       "      <th>17</th>\n",
       "      <td>%-M</td>\n",
       "      <td>6</td>\n",
       "      <td>Minute as a decimal number. (Platform speciﬁc)</td>\n",
       "    </tr>\n",
       "    <tr>\n",
       "      <th>18</th>\n",
       "      <td>%S</td>\n",
       "      <td>05</td>\n",
       "      <td>Second as a zero-padded decimal number.</td>\n",
       "    </tr>\n",
       "    <tr>\n",
       "      <th>19</th>\n",
       "      <td>%-S</td>\n",
       "      <td>5</td>\n",
       "      <td>Second as a decimal number. (Platform speciﬁc)</td>\n",
       "    </tr>\n",
       "    <tr>\n",
       "      <th>20</th>\n",
       "      <td>%f</td>\n",
       "      <td>000000</td>\n",
       "      <td>Microsecond as a decimal number, zero-padded t...</td>\n",
       "    </tr>\n",
       "    <tr>\n",
       "      <th>21</th>\n",
       "      <td>%z</td>\n",
       "      <td>+0000</td>\n",
       "      <td>UTC oﬀset in the form ±HHMM[SS[.ﬀﬀﬀ]] (empty s...</td>\n",
       "    </tr>\n",
       "    <tr>\n",
       "      <th>22</th>\n",
       "      <td>%Z</td>\n",
       "      <td>UTC</td>\n",
       "      <td>Time zone name (empty string if the object is ...</td>\n",
       "    </tr>\n",
       "  </tbody>\n",
       "</table>\n",
       "</div>"
      ],
      "text/plain": [
       "   Code    Example                                        Description\n",
       "0    %a        Sun              Weekday as locale's abbreviated name.\n",
       "1    %A     Sunday                     Weekday as locale's full name.\n",
       "2    %w          0  Weekday as a decimal number, where 0 is Sunday...\n",
       "3    %d         08  Day of the month as a zero-padded decimal number.\n",
       "4   %-d          8  Day of the month as a decimal number. (Platfor...\n",
       "5    %b        Sep                Month as locale's abbreviated name.\n",
       "6    %B  September                       Month as locale's full name.\n",
       "7    %m         09             Month as a zero-padded decimal number.\n",
       "8   %-m          9      Month as a decimal number. (Platform speciﬁc)\n",
       "9    %y         13  Year without century as a zero-padded decimal ...\n",
       "10   %Y       2013             Year with century as a decimal number.\n",
       "11   %H         07  Hour (24-hour clock) as a zero-padded decimal ...\n",
       "12  %-H          7  Hour (24-hour clock) as a decimal number. (Pla...\n",
       "13   %I         07  Hour (12-hour clock) as a zero-padded decimal ...\n",
       "14  %-I          7  Hour (12-hour clock) as a decimal number. (Pla...\n",
       "15   %p         AM            Locale's equivalent of either AM or PM.\n",
       "16   %M         06            Minute as a zero-padded decimal number.\n",
       "17  %-M          6     Minute as a decimal number. (Platform speciﬁc)\n",
       "18   %S         05            Second as a zero-padded decimal number.\n",
       "19  %-S          5     Second as a decimal number. (Platform speciﬁc)\n",
       "20   %f     000000  Microsecond as a decimal number, zero-padded t...\n",
       "21   %z      +0000  UTC oﬀset in the form ±HHMM[SS[.ﬀﬀﬀ]] (empty s...\n",
       "22   %Z        UTC  Time zone name (empty string if the object is ..."
      ]
     },
     "execution_count": 8,
     "metadata": {},
     "output_type": "execute_result"
    }
   ],
   "source": [
    "converter = DateConverter()\n",
    "converter.directive_df()"
   ]
  },
  {
   "cell_type": "code",
   "execution_count": 9,
   "metadata": {},
   "outputs": [
    {
     "data": {
      "text/html": [
       "<div>\n",
       "<style scoped>\n",
       "    .dataframe tbody tr th:only-of-type {\n",
       "        vertical-align: middle;\n",
       "    }\n",
       "\n",
       "    .dataframe tbody tr th {\n",
       "        vertical-align: top;\n",
       "    }\n",
       "\n",
       "    .dataframe thead th {\n",
       "        text-align: right;\n",
       "    }\n",
       "</style>\n",
       "<table border=\"1\" class=\"dataframe\">\n",
       "  <thead>\n",
       "    <tr style=\"text-align: right;\">\n",
       "      <th></th>\n",
       "      <th>Time</th>\n",
       "      <th>WindSpeed</th>\n",
       "      <th>Power</th>\n",
       "      <th>Year</th>\n",
       "    </tr>\n",
       "  </thead>\n",
       "  <tbody>\n",
       "    <tr>\n",
       "      <th>0</th>\n",
       "      <td>2015-01-01 00:10:00</td>\n",
       "      <td>6.42</td>\n",
       "      <td>29.832422</td>\n",
       "      <td>2015</td>\n",
       "    </tr>\n",
       "    <tr>\n",
       "      <th>1</th>\n",
       "      <td>2015-01-01 00:20:00</td>\n",
       "      <td>6.92</td>\n",
       "      <td>36.332202</td>\n",
       "      <td>2015</td>\n",
       "    </tr>\n",
       "    <tr>\n",
       "      <th>2</th>\n",
       "      <td>2015-01-01 00:30:00</td>\n",
       "      <td>8.11</td>\n",
       "      <td>45.594939</td>\n",
       "      <td>2015</td>\n",
       "    </tr>\n",
       "    <tr>\n",
       "      <th>3</th>\n",
       "      <td>2015-01-01 00:40:00</td>\n",
       "      <td>8.21</td>\n",
       "      <td>47.367194</td>\n",
       "      <td>2015</td>\n",
       "    </tr>\n",
       "    <tr>\n",
       "      <th>4</th>\n",
       "      <td>2015-01-01 00:50:00</td>\n",
       "      <td>6.70</td>\n",
       "      <td>28.656531</td>\n",
       "      <td>2015</td>\n",
       "    </tr>\n",
       "    <tr>\n",
       "      <th>...</th>\n",
       "      <td>...</td>\n",
       "      <td>...</td>\n",
       "      <td>...</td>\n",
       "      <td>...</td>\n",
       "    </tr>\n",
       "    <tr>\n",
       "      <th>29782</th>\n",
       "      <td>2015-10-06 23:10:00</td>\n",
       "      <td>7.45</td>\n",
       "      <td>30.580953</td>\n",
       "      <td>2015</td>\n",
       "    </tr>\n",
       "    <tr>\n",
       "      <th>29783</th>\n",
       "      <td>2015-10-06 23:20:00</td>\n",
       "      <td>7.15</td>\n",
       "      <td>28.455153</td>\n",
       "      <td>2015</td>\n",
       "    </tr>\n",
       "    <tr>\n",
       "      <th>29784</th>\n",
       "      <td>2015-10-06 23:30:00</td>\n",
       "      <td>7.27</td>\n",
       "      <td>30.080422</td>\n",
       "      <td>2015</td>\n",
       "    </tr>\n",
       "    <tr>\n",
       "      <th>29785</th>\n",
       "      <td>2015-10-06 23:40:00</td>\n",
       "      <td>8.19</td>\n",
       "      <td>42.483618</td>\n",
       "      <td>2015</td>\n",
       "    </tr>\n",
       "    <tr>\n",
       "      <th>29786</th>\n",
       "      <td>2015-10-06 23:50:00</td>\n",
       "      <td>7.85</td>\n",
       "      <td>38.560957</td>\n",
       "      <td>2015</td>\n",
       "    </tr>\n",
       "  </tbody>\n",
       "</table>\n",
       "<p>29787 rows × 4 columns</p>\n",
       "</div>"
      ],
      "text/plain": [
       "                     Time  WindSpeed      Power  Year\n",
       "0     2015-01-01 00:10:00       6.42  29.832422  2015\n",
       "1     2015-01-01 00:20:00       6.92  36.332202  2015\n",
       "2     2015-01-01 00:30:00       8.11  45.594939  2015\n",
       "3     2015-01-01 00:40:00       8.21  47.367194  2015\n",
       "4     2015-01-01 00:50:00       6.70  28.656531  2015\n",
       "...                   ...        ...        ...   ...\n",
       "29782 2015-10-06 23:10:00       7.45  30.580953  2015\n",
       "29783 2015-10-06 23:20:00       7.15  28.455153  2015\n",
       "29784 2015-10-06 23:30:00       7.27  30.080422  2015\n",
       "29785 2015-10-06 23:40:00       8.19  42.483618  2015\n",
       "29786 2015-10-06 23:50:00       7.85  38.560957  2015\n",
       "\n",
       "[29787 rows x 4 columns]"
      ]
     },
     "execution_count": 9,
     "metadata": {},
     "output_type": "execute_result"
    }
   ],
   "source": [
    "df['Time'] = df['Time'].apply(lambda x: converter.convert_date(x, include_time=True, infer_format=True))\n",
    "df"
   ]
  },
  {
   "attachments": {},
   "cell_type": "markdown",
   "metadata": {},
   "source": [
    "## Interpolation"
   ]
  },
  {
   "cell_type": "code",
   "execution_count": 11,
   "metadata": {},
   "outputs": [],
   "source": [
    "from tsa.interpolation import interpolate_dates as interpolate"
   ]
  },
  {
   "cell_type": "code",
   "execution_count": 12,
   "metadata": {},
   "outputs": [
    {
     "data": {
      "text/html": [
       "<div>\n",
       "<style scoped>\n",
       "    .dataframe tbody tr th:only-of-type {\n",
       "        vertical-align: middle;\n",
       "    }\n",
       "\n",
       "    .dataframe tbody tr th {\n",
       "        vertical-align: top;\n",
       "    }\n",
       "\n",
       "    .dataframe thead th {\n",
       "        text-align: right;\n",
       "    }\n",
       "</style>\n",
       "<table border=\"1\" class=\"dataframe\">\n",
       "  <thead>\n",
       "    <tr style=\"text-align: right;\">\n",
       "      <th></th>\n",
       "      <th>WindSpeed</th>\n",
       "      <th>Power</th>\n",
       "      <th>Time</th>\n",
       "    </tr>\n",
       "  </thead>\n",
       "  <tbody>\n",
       "    <tr>\n",
       "      <th>0</th>\n",
       "      <td>6.42</td>\n",
       "      <td>29.832422</td>\n",
       "      <td>2015-01-01 00:10:00</td>\n",
       "    </tr>\n",
       "    <tr>\n",
       "      <th>1</th>\n",
       "      <td>6.92</td>\n",
       "      <td>36.332202</td>\n",
       "      <td>2015-01-01 00:20:00</td>\n",
       "    </tr>\n",
       "    <tr>\n",
       "      <th>2</th>\n",
       "      <td>8.11</td>\n",
       "      <td>45.594939</td>\n",
       "      <td>2015-01-01 00:30:00</td>\n",
       "    </tr>\n",
       "    <tr>\n",
       "      <th>3</th>\n",
       "      <td>8.21</td>\n",
       "      <td>47.367194</td>\n",
       "      <td>2015-01-01 00:40:00</td>\n",
       "    </tr>\n",
       "    <tr>\n",
       "      <th>4</th>\n",
       "      <td>6.70</td>\n",
       "      <td>28.656531</td>\n",
       "      <td>2015-01-01 00:50:00</td>\n",
       "    </tr>\n",
       "    <tr>\n",
       "      <th>...</th>\n",
       "      <td>...</td>\n",
       "      <td>...</td>\n",
       "      <td>...</td>\n",
       "    </tr>\n",
       "    <tr>\n",
       "      <th>40170</th>\n",
       "      <td>7.45</td>\n",
       "      <td>30.580953</td>\n",
       "      <td>2015-10-06 23:10:00</td>\n",
       "    </tr>\n",
       "    <tr>\n",
       "      <th>40171</th>\n",
       "      <td>7.15</td>\n",
       "      <td>28.455153</td>\n",
       "      <td>2015-10-06 23:20:00</td>\n",
       "    </tr>\n",
       "    <tr>\n",
       "      <th>40172</th>\n",
       "      <td>7.27</td>\n",
       "      <td>30.080422</td>\n",
       "      <td>2015-10-06 23:30:00</td>\n",
       "    </tr>\n",
       "    <tr>\n",
       "      <th>40173</th>\n",
       "      <td>8.19</td>\n",
       "      <td>42.483618</td>\n",
       "      <td>2015-10-06 23:40:00</td>\n",
       "    </tr>\n",
       "    <tr>\n",
       "      <th>40174</th>\n",
       "      <td>7.85</td>\n",
       "      <td>38.560957</td>\n",
       "      <td>2015-10-06 23:50:00</td>\n",
       "    </tr>\n",
       "  </tbody>\n",
       "</table>\n",
       "<p>40175 rows × 3 columns</p>\n",
       "</div>"
      ],
      "text/plain": [
       "       WindSpeed      Power                Time\n",
       "0           6.42  29.832422 2015-01-01 00:10:00\n",
       "1           6.92  36.332202 2015-01-01 00:20:00\n",
       "2           8.11  45.594939 2015-01-01 00:30:00\n",
       "3           8.21  47.367194 2015-01-01 00:40:00\n",
       "4           6.70  28.656531 2015-01-01 00:50:00\n",
       "...          ...        ...                 ...\n",
       "40170       7.45  30.580953 2015-10-06 23:10:00\n",
       "40171       7.15  28.455153 2015-10-06 23:20:00\n",
       "40172       7.27  30.080422 2015-10-06 23:30:00\n",
       "40173       8.19  42.483618 2015-10-06 23:40:00\n",
       "40174       7.85  38.560957 2015-10-06 23:50:00\n",
       "\n",
       "[40175 rows x 3 columns]"
      ]
     },
     "execution_count": 12,
     "metadata": {},
     "output_type": "execute_result"
    }
   ],
   "source": [
    "df = interpolate(df, 'Time', ['WindSpeed', 'Power'], interval='10T')\n",
    "df"
   ]
  },
  {
   "attachments": {},
   "cell_type": "markdown",
   "metadata": {},
   "source": [
    "# Visualizations"
   ]
  },
  {
   "cell_type": "code",
   "execution_count": 13,
   "metadata": {},
   "outputs": [],
   "source": [
    "from tsa.visualization import *"
   ]
  },
  {
   "cell_type": "code",
   "execution_count": 14,
   "metadata": {},
   "outputs": [
    {
     "data": {
      "text/html": [
       "<div>\n",
       "<style scoped>\n",
       "    .dataframe tbody tr th:only-of-type {\n",
       "        vertical-align: middle;\n",
       "    }\n",
       "\n",
       "    .dataframe tbody tr th {\n",
       "        vertical-align: top;\n",
       "    }\n",
       "\n",
       "    .dataframe thead th {\n",
       "        text-align: right;\n",
       "    }\n",
       "</style>\n",
       "<table border=\"1\" class=\"dataframe\">\n",
       "  <thead>\n",
       "    <tr style=\"text-align: right;\">\n",
       "      <th></th>\n",
       "      <th>WindSpeed</th>\n",
       "      <th>Power</th>\n",
       "      <th>Time</th>\n",
       "    </tr>\n",
       "  </thead>\n",
       "  <tbody>\n",
       "    <tr>\n",
       "      <th>0</th>\n",
       "      <td>6.42</td>\n",
       "      <td>29.832422</td>\n",
       "      <td>2015-01-01 00:10:00</td>\n",
       "    </tr>\n",
       "    <tr>\n",
       "      <th>1</th>\n",
       "      <td>6.92</td>\n",
       "      <td>36.332202</td>\n",
       "      <td>2015-01-01 00:20:00</td>\n",
       "    </tr>\n",
       "    <tr>\n",
       "      <th>2</th>\n",
       "      <td>8.11</td>\n",
       "      <td>45.594939</td>\n",
       "      <td>2015-01-01 00:30:00</td>\n",
       "    </tr>\n",
       "    <tr>\n",
       "      <th>3</th>\n",
       "      <td>8.21</td>\n",
       "      <td>47.367194</td>\n",
       "      <td>2015-01-01 00:40:00</td>\n",
       "    </tr>\n",
       "    <tr>\n",
       "      <th>4</th>\n",
       "      <td>6.70</td>\n",
       "      <td>28.656531</td>\n",
       "      <td>2015-01-01 00:50:00</td>\n",
       "    </tr>\n",
       "    <tr>\n",
       "      <th>5</th>\n",
       "      <td>6.36</td>\n",
       "      <td>24.458028</td>\n",
       "      <td>2015-01-01 01:00:00</td>\n",
       "    </tr>\n",
       "    <tr>\n",
       "      <th>6</th>\n",
       "      <td>5.49</td>\n",
       "      <td>20.600767</td>\n",
       "      <td>2015-01-01 01:10:00</td>\n",
       "    </tr>\n",
       "    <tr>\n",
       "      <th>7</th>\n",
       "      <td>5.63</td>\n",
       "      <td>22.077106</td>\n",
       "      <td>2015-01-01 01:20:00</td>\n",
       "    </tr>\n",
       "    <tr>\n",
       "      <th>8</th>\n",
       "      <td>5.61</td>\n",
       "      <td>22.266829</td>\n",
       "      <td>2015-01-01 01:30:00</td>\n",
       "    </tr>\n",
       "    <tr>\n",
       "      <th>9</th>\n",
       "      <td>6.03</td>\n",
       "      <td>23.888213</td>\n",
       "      <td>2015-01-01 01:40:00</td>\n",
       "    </tr>\n",
       "    <tr>\n",
       "      <th>10</th>\n",
       "      <td>6.74</td>\n",
       "      <td>28.783444</td>\n",
       "      <td>2015-01-01 01:50:00</td>\n",
       "    </tr>\n",
       "    <tr>\n",
       "      <th>11</th>\n",
       "      <td>7.60</td>\n",
       "      <td>39.128183</td>\n",
       "      <td>2015-01-01 02:00:00</td>\n",
       "    </tr>\n",
       "    <tr>\n",
       "      <th>12</th>\n",
       "      <td>7.92</td>\n",
       "      <td>46.083167</td>\n",
       "      <td>2015-01-01 02:10:00</td>\n",
       "    </tr>\n",
       "    <tr>\n",
       "      <th>13</th>\n",
       "      <td>7.75</td>\n",
       "      <td>46.752700</td>\n",
       "      <td>2015-01-01 02:20:00</td>\n",
       "    </tr>\n",
       "    <tr>\n",
       "      <th>14</th>\n",
       "      <td>7.33</td>\n",
       "      <td>37.262037</td>\n",
       "      <td>2015-01-01 02:30:00</td>\n",
       "    </tr>\n",
       "  </tbody>\n",
       "</table>\n",
       "</div>"
      ],
      "text/plain": [
       "    WindSpeed      Power                Time\n",
       "0        6.42  29.832422 2015-01-01 00:10:00\n",
       "1        6.92  36.332202 2015-01-01 00:20:00\n",
       "2        8.11  45.594939 2015-01-01 00:30:00\n",
       "3        8.21  47.367194 2015-01-01 00:40:00\n",
       "4        6.70  28.656531 2015-01-01 00:50:00\n",
       "5        6.36  24.458028 2015-01-01 01:00:00\n",
       "6        5.49  20.600767 2015-01-01 01:10:00\n",
       "7        5.63  22.077106 2015-01-01 01:20:00\n",
       "8        5.61  22.266829 2015-01-01 01:30:00\n",
       "9        6.03  23.888213 2015-01-01 01:40:00\n",
       "10       6.74  28.783444 2015-01-01 01:50:00\n",
       "11       7.60  39.128183 2015-01-01 02:00:00\n",
       "12       7.92  46.083167 2015-01-01 02:10:00\n",
       "13       7.75  46.752700 2015-01-01 02:20:00\n",
       "14       7.33  37.262037 2015-01-01 02:30:00"
      ]
     },
     "execution_count": 14,
     "metadata": {},
     "output_type": "execute_result"
    }
   ],
   "source": [
    "small_df = pd.DataFrame(df[:15])\n",
    "small_df"
   ]
  },
  {
   "cell_type": "markdown",
   "metadata": {},
   "source": [
    "## Waterfall Plot"
   ]
  },
  {
   "cell_type": "code",
   "execution_count": 15,
   "metadata": {},
   "outputs": [],
   "source": [
    "plot_params = waterfall_plot(small_df, 'Time', 'Power', 'Waterfall plot of Power', remove_time=False)"
   ]
  },
  {
   "cell_type": "code",
   "execution_count": 20,
   "metadata": {},
   "outputs": [],
   "source": [
    "outfile(plot_params['t'])"
   ]
  },
  {
   "attachments": {},
   "cell_type": "markdown",
   "metadata": {},
   "source": [
    "## Lag Plot"
   ]
  },
  {
   "cell_type": "code",
   "execution_count": 22,
   "metadata": {},
   "outputs": [
    {
     "name": "stderr",
     "output_type": "stream",
     "text": [
      "/home/shail/bits/PS1/time_series_analysis/env/lib/python3.10/site-packages/sklearn/cluster/_kmeans.py:870: FutureWarning: The default value of `n_init` will change from 10 to 'auto' in 1.4. Set the value of `n_init` explicitly to suppress the warning\n",
      "  warnings.warn(\n"
     ]
    }
   ],
   "source": [
    "data = lag_plot(df['WindSpeed'], 30, 'Lag plot of wind speed', 40)"
   ]
  },
  {
   "cell_type": "code",
   "execution_count": 24,
   "metadata": {},
   "outputs": [],
   "source": [
    "outfile(data['title'])"
   ]
  },
  {
   "attachments": {},
   "cell_type": "markdown",
   "metadata": {},
   "source": [
    "## Stacked Area Chart"
   ]
  },
  {
   "cell_type": "code",
   "execution_count": 25,
   "metadata": {},
   "outputs": [],
   "source": [
    "x = stacked_area_plot(df, ['Power', 'WindSpeed'], 'Time', 'stacked_area_plot', remove_time=False)"
   ]
  },
  {
   "cell_type": "code",
   "execution_count": 26,
   "metadata": {},
   "outputs": [
    {
     "data": {
      "text/plain": [
       "dict_keys(['title', 'names', 'vals', 'x'])"
      ]
     },
     "execution_count": 26,
     "metadata": {},
     "output_type": "execute_result"
    }
   ],
   "source": [
    "x.keys()"
   ]
  },
  {
   "cell_type": "code",
   "execution_count": 31,
   "metadata": {},
   "outputs": [],
   "source": [
    "outfile(x['x'])\n"
   ]
  },
  {
   "attachments": {},
   "cell_type": "markdown",
   "metadata": {},
   "source": [
    "# Properties"
   ]
  },
  {
   "cell_type": "code",
   "execution_count": 32,
   "metadata": {},
   "outputs": [],
   "source": [
    "from tsa.properties import *"
   ]
  },
  {
   "cell_type": "code",
   "execution_count": 33,
   "metadata": {},
   "outputs": [],
   "source": [
    "trend = Trend(df, 'WindSpeed', 'Time')"
   ]
  },
  {
   "cell_type": "code",
   "execution_count": 34,
   "metadata": {},
   "outputs": [],
   "source": [
    "params = trend.plot(remove_time = False)"
   ]
  },
  {
   "cell_type": "code",
   "execution_count": 35,
   "metadata": {},
   "outputs": [
    {
     "data": {
      "text/plain": [
       "dict_keys(['title', 'data', 'x'])"
      ]
     },
     "execution_count": 35,
     "metadata": {},
     "output_type": "execute_result"
    }
   ],
   "source": [
    "params.keys()"
   ]
  },
  {
   "cell_type": "code",
   "execution_count": 36,
   "metadata": {},
   "outputs": [],
   "source": [
    "outfile(params['x'])"
   ]
  },
  {
   "cell_type": "code",
   "execution_count": 37,
   "metadata": {},
   "outputs": [
    {
     "data": {
      "text/html": [
       "<div>\n",
       "<style scoped>\n",
       "    .dataframe tbody tr th:only-of-type {\n",
       "        vertical-align: middle;\n",
       "    }\n",
       "\n",
       "    .dataframe tbody tr th {\n",
       "        vertical-align: top;\n",
       "    }\n",
       "\n",
       "    .dataframe thead th {\n",
       "        text-align: right;\n",
       "    }\n",
       "</style>\n",
       "<table border=\"1\" class=\"dataframe\">\n",
       "  <thead>\n",
       "    <tr style=\"text-align: right;\">\n",
       "      <th></th>\n",
       "      <th>Original</th>\n",
       "      <th>Detrend</th>\n",
       "    </tr>\n",
       "    <tr>\n",
       "      <th>Time</th>\n",
       "      <th></th>\n",
       "      <th></th>\n",
       "    </tr>\n",
       "  </thead>\n",
       "  <tbody>\n",
       "    <tr>\n",
       "      <th>2015-01-01 00:10:00</th>\n",
       "      <td>6.42</td>\n",
       "      <td>6.420000</td>\n",
       "    </tr>\n",
       "    <tr>\n",
       "      <th>2015-01-01 00:20:00</th>\n",
       "      <td>6.92</td>\n",
       "      <td>6.919753</td>\n",
       "    </tr>\n",
       "    <tr>\n",
       "      <th>2015-01-01 00:30:00</th>\n",
       "      <td>8.11</td>\n",
       "      <td>8.109506</td>\n",
       "    </tr>\n",
       "    <tr>\n",
       "      <th>2015-01-01 00:40:00</th>\n",
       "      <td>8.21</td>\n",
       "      <td>8.209259</td>\n",
       "    </tr>\n",
       "    <tr>\n",
       "      <th>2015-01-01 00:50:00</th>\n",
       "      <td>6.70</td>\n",
       "      <td>6.699012</td>\n",
       "    </tr>\n",
       "    <tr>\n",
       "      <th>...</th>\n",
       "      <td>...</td>\n",
       "      <td>...</td>\n",
       "    </tr>\n",
       "    <tr>\n",
       "      <th>2015-10-06 23:10:00</th>\n",
       "      <td>7.45</td>\n",
       "      <td>-2.473928</td>\n",
       "    </tr>\n",
       "    <tr>\n",
       "      <th>2015-10-06 23:20:00</th>\n",
       "      <td>7.15</td>\n",
       "      <td>-2.774175</td>\n",
       "    </tr>\n",
       "    <tr>\n",
       "      <th>2015-10-06 23:30:00</th>\n",
       "      <td>7.27</td>\n",
       "      <td>-2.654422</td>\n",
       "    </tr>\n",
       "    <tr>\n",
       "      <th>2015-10-06 23:40:00</th>\n",
       "      <td>8.19</td>\n",
       "      <td>-1.734669</td>\n",
       "    </tr>\n",
       "    <tr>\n",
       "      <th>2015-10-06 23:50:00</th>\n",
       "      <td>7.85</td>\n",
       "      <td>-2.074916</td>\n",
       "    </tr>\n",
       "  </tbody>\n",
       "</table>\n",
       "<p>40175 rows × 2 columns</p>\n",
       "</div>"
      ],
      "text/plain": [
       "                     Original   Detrend\n",
       "Time                                   \n",
       "2015-01-01 00:10:00      6.42  6.420000\n",
       "2015-01-01 00:20:00      6.92  6.919753\n",
       "2015-01-01 00:30:00      8.11  8.109506\n",
       "2015-01-01 00:40:00      8.21  8.209259\n",
       "2015-01-01 00:50:00      6.70  6.699012\n",
       "...                       ...       ...\n",
       "2015-10-06 23:10:00      7.45 -2.473928\n",
       "2015-10-06 23:20:00      7.15 -2.774175\n",
       "2015-10-06 23:30:00      7.27 -2.654422\n",
       "2015-10-06 23:40:00      8.19 -1.734669\n",
       "2015-10-06 23:50:00      7.85 -2.074916\n",
       "\n",
       "[40175 rows x 2 columns]"
      ]
     },
     "execution_count": 37,
     "metadata": {},
     "output_type": "execute_result"
    }
   ],
   "source": [
    "trend.detrend()"
   ]
  },
  {
   "cell_type": "code",
   "execution_count": 38,
   "metadata": {},
   "outputs": [],
   "source": [
    "p = trend.plot_detrend(remove_time = True)"
   ]
  },
  {
   "cell_type": "code",
   "execution_count": 39,
   "metadata": {},
   "outputs": [
    {
     "data": {
      "text/plain": [
       "dict_keys(['title', 'data', 'data_detrend', 'x'])"
      ]
     },
     "execution_count": 39,
     "metadata": {},
     "output_type": "execute_result"
    }
   ],
   "source": [
    "p.keys()"
   ]
  },
  {
   "cell_type": "code",
   "execution_count": 32,
   "metadata": {},
   "outputs": [],
   "source": [
    "outfile(p['x'])"
   ]
  },
  {
   "attachments": {},
   "cell_type": "markdown",
   "metadata": {},
   "source": [
    "## Seasonality"
   ]
  },
  {
   "cell_type": "code",
   "execution_count": 40,
   "metadata": {},
   "outputs": [],
   "source": [
    "seasonality = Seasonality(df, 'Power', 'Time')"
   ]
  },
  {
   "cell_type": "code",
   "execution_count": 41,
   "metadata": {},
   "outputs": [
    {
     "data": {
      "text/plain": [
       "Time\n",
       "2015-01-01 00:10:00    1.0\n",
       "2015-01-01 00:20:00    1.0\n",
       "2015-01-01 00:30:00    1.0\n",
       "2015-01-01 00:40:00    1.0\n",
       "2015-01-01 00:50:00    1.0\n",
       "                      ... \n",
       "2015-10-06 23:10:00    1.0\n",
       "2015-10-06 23:20:00    1.0\n",
       "2015-10-06 23:30:00    1.0\n",
       "2015-10-06 23:40:00    1.0\n",
       "2015-10-06 23:50:00    1.0\n",
       "Name: seasonal, Length: 40175, dtype: float64"
      ]
     },
     "execution_count": 41,
     "metadata": {},
     "output_type": "execute_result"
    }
   ],
   "source": [
    "seasonality.seasonal()"
   ]
  },
  {
   "cell_type": "code",
   "execution_count": 42,
   "metadata": {},
   "outputs": [
    {
     "data": {
      "text/html": [
       "<div>\n",
       "<style scoped>\n",
       "    .dataframe tbody tr th:only-of-type {\n",
       "        vertical-align: middle;\n",
       "    }\n",
       "\n",
       "    .dataframe tbody tr th {\n",
       "        vertical-align: top;\n",
       "    }\n",
       "\n",
       "    .dataframe thead th {\n",
       "        text-align: right;\n",
       "    }\n",
       "</style>\n",
       "<table border=\"1\" class=\"dataframe\">\n",
       "  <thead>\n",
       "    <tr style=\"text-align: right;\">\n",
       "      <th></th>\n",
       "      <th>Original</th>\n",
       "      <th>Deseasonalized</th>\n",
       "    </tr>\n",
       "    <tr>\n",
       "      <th>Time</th>\n",
       "      <th></th>\n",
       "      <th></th>\n",
       "    </tr>\n",
       "  </thead>\n",
       "  <tbody>\n",
       "    <tr>\n",
       "      <th>2015-01-01 00:10:00</th>\n",
       "      <td>29.832422</td>\n",
       "      <td>29.832422</td>\n",
       "    </tr>\n",
       "    <tr>\n",
       "      <th>2015-01-01 00:20:00</th>\n",
       "      <td>36.332202</td>\n",
       "      <td>36.332202</td>\n",
       "    </tr>\n",
       "    <tr>\n",
       "      <th>2015-01-01 00:30:00</th>\n",
       "      <td>45.594939</td>\n",
       "      <td>45.594939</td>\n",
       "    </tr>\n",
       "    <tr>\n",
       "      <th>2015-01-01 00:40:00</th>\n",
       "      <td>47.367194</td>\n",
       "      <td>47.367194</td>\n",
       "    </tr>\n",
       "    <tr>\n",
       "      <th>2015-01-01 00:50:00</th>\n",
       "      <td>28.656531</td>\n",
       "      <td>28.656531</td>\n",
       "    </tr>\n",
       "    <tr>\n",
       "      <th>...</th>\n",
       "      <td>...</td>\n",
       "      <td>...</td>\n",
       "    </tr>\n",
       "    <tr>\n",
       "      <th>2015-10-06 23:10:00</th>\n",
       "      <td>30.580953</td>\n",
       "      <td>30.580953</td>\n",
       "    </tr>\n",
       "    <tr>\n",
       "      <th>2015-10-06 23:20:00</th>\n",
       "      <td>28.455153</td>\n",
       "      <td>28.455153</td>\n",
       "    </tr>\n",
       "    <tr>\n",
       "      <th>2015-10-06 23:30:00</th>\n",
       "      <td>30.080422</td>\n",
       "      <td>30.080422</td>\n",
       "    </tr>\n",
       "    <tr>\n",
       "      <th>2015-10-06 23:40:00</th>\n",
       "      <td>42.483618</td>\n",
       "      <td>42.483618</td>\n",
       "    </tr>\n",
       "    <tr>\n",
       "      <th>2015-10-06 23:50:00</th>\n",
       "      <td>38.560957</td>\n",
       "      <td>38.560957</td>\n",
       "    </tr>\n",
       "  </tbody>\n",
       "</table>\n",
       "<p>40175 rows × 2 columns</p>\n",
       "</div>"
      ],
      "text/plain": [
       "                      Original  Deseasonalized\n",
       "Time                                          \n",
       "2015-01-01 00:10:00  29.832422       29.832422\n",
       "2015-01-01 00:20:00  36.332202       36.332202\n",
       "2015-01-01 00:30:00  45.594939       45.594939\n",
       "2015-01-01 00:40:00  47.367194       47.367194\n",
       "2015-01-01 00:50:00  28.656531       28.656531\n",
       "...                        ...             ...\n",
       "2015-10-06 23:10:00  30.580953       30.580953\n",
       "2015-10-06 23:20:00  28.455153       28.455153\n",
       "2015-10-06 23:30:00  30.080422       30.080422\n",
       "2015-10-06 23:40:00  42.483618       42.483618\n",
       "2015-10-06 23:50:00  38.560957       38.560957\n",
       "\n",
       "[40175 rows x 2 columns]"
      ]
     },
     "execution_count": 42,
     "metadata": {},
     "output_type": "execute_result"
    }
   ],
   "source": [
    "seasonality.deseasonalize()"
   ]
  },
  {
   "cell_type": "code",
   "execution_count": 36,
   "metadata": {},
   "outputs": [],
   "source": [
    "p=seasonality.plot_deseasonalize()"
   ]
  },
  {
   "cell_type": "code",
   "execution_count": null,
   "metadata": {},
   "outputs": [],
   "source": [
    "outfile(p['data_des'])"
   ]
  },
  {
   "attachments": {},
   "cell_type": "markdown",
   "metadata": {},
   "source": [
    "## Stationarity: now integrated with ARIMA"
   ]
  },
  {
   "attachments": {},
   "cell_type": "markdown",
   "metadata": {},
   "source": [
    "## Autocorrelation"
   ]
  },
  {
   "cell_type": "code",
   "execution_count": null,
   "metadata": {},
   "outputs": [],
   "source": [
    "a = Autocorrelation()"
   ]
  },
  {
   "cell_type": "code",
   "execution_count": null,
   "metadata": {},
   "outputs": [
    {
     "data": {
      "text/plain": [
       "{'title': 'Autocorrelation plot of Open, order = 0',\n",
       " 'y': [1.0,\n",
       "  0.9752979711988511,\n",
       "  0.9531624310423276,\n",
       "  0.9290210639586053,\n",
       "  0.9063984537194453,\n",
       "  0.8810893912066061,\n",
       "  0.8545592795815025,\n",
       "  0.8320333502537866,\n",
       "  0.8073821527564129,\n",
       "  0.7855213221620925,\n",
       "  0.7668318936038371,\n",
       "  0.7467704513474687,\n",
       "  0.7263441881084176,\n",
       "  0.7070064186149615,\n",
       "  0.6945159192909174,\n",
       "  0.6815382510394706,\n",
       "  0.6690081523464364,\n",
       "  0.6531988376666664,\n",
       "  0.6391447422559996,\n",
       "  0.628512541913889,\n",
       "  0.6146886914823265,\n",
       "  0.6001979968731954,\n",
       "  0.5811636587057813,\n",
       "  0.5670600438878007,\n",
       "  0.5543025014262816,\n",
       "  0.5426023066094311],\n",
       " 'x': [0,\n",
       "  1,\n",
       "  2,\n",
       "  3,\n",
       "  4,\n",
       "  5,\n",
       "  6,\n",
       "  7,\n",
       "  8,\n",
       "  9,\n",
       "  10,\n",
       "  11,\n",
       "  12,\n",
       "  13,\n",
       "  14,\n",
       "  15,\n",
       "  16,\n",
       "  17,\n",
       "  18,\n",
       "  19,\n",
       "  20,\n",
       "  21,\n",
       "  22,\n",
       "  23,\n",
       "  24,\n",
       "  25],\n",
       " 'upper': [0.0,\n",
       "  0.10244895864565728,\n",
       "  0.1745368359325793,\n",
       "  0.22256312993017635,\n",
       "  0.26009952142685233,\n",
       "  0.2913718644418387,\n",
       "  0.3181095947202719,\n",
       "  0.3413550452256847,\n",
       "  0.3620156158432688,\n",
       "  0.3804457924831608,\n",
       "  0.3971041716377953,\n",
       "  0.4123535195652137,\n",
       "  0.42631176012781924,\n",
       "  0.43910860522815265,\n",
       "  0.4508981892882904,\n",
       "  0.4619897341500784,\n",
       "  0.47242458101487084,\n",
       "  0.4822657208186125,\n",
       "  0.4914638087730391,\n",
       "  0.5001118485229225,\n",
       "  0.5083346560387837,\n",
       "  0.5160771515730349,\n",
       "  0.5233522550737237,\n",
       "  0.5300825535692976,\n",
       "  0.5364116930936625,\n",
       "  0.5423902593342785],\n",
       " 'lower': [0.0,\n",
       "  -0.10244895864565717,\n",
       "  -0.17453683593257918,\n",
       "  -0.22256312993017646,\n",
       "  -0.26009952142685233,\n",
       "  -0.2913718644418387,\n",
       "  -0.3181095947202718,\n",
       "  -0.34135504522568466,\n",
       "  -0.3620156158432689,\n",
       "  -0.38044579248316085,\n",
       "  -0.39710417163779527,\n",
       "  -0.41235351956521377,\n",
       "  -0.4263117601278192,\n",
       "  -0.43910860522815254,\n",
       "  -0.4508981892882904,\n",
       "  -0.46198973415007843,\n",
       "  -0.4724245810148709,\n",
       "  -0.48226572081861246,\n",
       "  -0.49146380877303913,\n",
       "  -0.5001118485229225,\n",
       "  -0.5083346560387837,\n",
       "  -0.5160771515730349,\n",
       "  -0.5233522550737236,\n",
       "  -0.5300825535692975,\n",
       "  -0.5364116930936625,\n",
       "  -0.5423902593342785]}"
      ]
     },
     "execution_count": 32,
     "metadata": {},
     "output_type": "execute_result"
    }
   ],
   "source": [
    "a.autocorrelation(df['Open'])"
   ]
  },
  {
   "cell_type": "code",
   "execution_count": null,
   "metadata": {},
   "outputs": [
    {
     "name": "stdout",
     "output_type": "stream",
     "text": [
      "As value of statistic is close to 0, series is positively autocorrelated.\n"
     ]
    },
    {
     "data": {
      "text/plain": [
       "0.03702740744372263"
      ]
     },
     "execution_count": 34,
     "metadata": {},
     "output_type": "execute_result"
    }
   ],
   "source": [
    "a.durbin_watson_test(df['Close'], summary = True)"
   ]
  },
  {
   "attachments": {},
   "cell_type": "markdown",
   "metadata": {},
   "source": [
    "## Partial Autocorrelation"
   ]
  },
  {
   "cell_type": "code",
   "execution_count": null,
   "metadata": {},
   "outputs": [
    {
     "data": {
      "text/plain": [
       "{'title': 'Partial Autocorrelation plot of Close, order = 0',\n",
       " 'y': [1.0,\n",
       "  0.9804261487011565,\n",
       "  -0.03144882700935218,\n",
       "  -0.025561963925761478,\n",
       "  -0.07717496231254937,\n",
       "  0.01458092770842006,\n",
       "  0.002802284906414637,\n",
       "  0.02324308082707098,\n",
       "  -0.08861647801516312,\n",
       "  -0.01457439596121472,\n",
       "  0.06777047050555124,\n",
       "  0.0282605793276168,\n",
       "  0.06875026393962577,\n",
       "  0.10126827102299332,\n",
       "  -0.10567386298845827,\n",
       "  0.07564126264204014,\n",
       "  0.0076446491942542445,\n",
       "  -0.03612725571784281,\n",
       "  -0.04395493981606512,\n",
       "  0.026099606046152184,\n",
       "  -0.011043435218115018,\n",
       "  -0.02040186993153929,\n",
       "  0.0025801928932418887,\n",
       "  0.03611952791831125,\n",
       "  0.026053566440872984,\n",
       "  -0.05283890056354348],\n",
       " 'x': [0,\n",
       "  1,\n",
       "  2,\n",
       "  3,\n",
       "  4,\n",
       "  5,\n",
       "  6,\n",
       "  7,\n",
       "  8,\n",
       "  9,\n",
       "  10,\n",
       "  11,\n",
       "  12,\n",
       "  13,\n",
       "  14,\n",
       "  15,\n",
       "  16,\n",
       "  17,\n",
       "  18,\n",
       "  19,\n",
       "  20,\n",
       "  21,\n",
       "  22,\n",
       "  23,\n",
       "  24,\n",
       "  25],\n",
       " 'upper': [0.0,\n",
       "  0.10244895864565717,\n",
       "  0.10244895864565717,\n",
       "  0.10244895864565719,\n",
       "  0.10244895864565719,\n",
       "  0.10244895864565717,\n",
       "  0.10244895864565719,\n",
       "  0.10244895864565719,\n",
       "  0.10244895864565719,\n",
       "  0.10244895864565719,\n",
       "  0.10244895864565717,\n",
       "  0.10244895864565717,\n",
       "  0.1024489586456572,\n",
       "  0.1024489586456572,\n",
       "  0.10244895864565719,\n",
       "  0.10244895864565719,\n",
       "  0.10244895864565719,\n",
       "  0.10244895864565719,\n",
       "  0.10244895864565719,\n",
       "  0.10244895864565717,\n",
       "  0.10244895864565719,\n",
       "  0.10244895864565719,\n",
       "  0.10244895864565719,\n",
       "  0.1024489586456572,\n",
       "  0.1024489586456572,\n",
       "  0.10244895864565719],\n",
       " 'lower': [0.0,\n",
       "  -0.10244895864565717,\n",
       "  -0.1024489586456572,\n",
       "  -0.10244895864565719,\n",
       "  -0.10244895864565719,\n",
       "  -0.1024489586456572,\n",
       "  -0.10244895864565719,\n",
       "  -0.10244895864565719,\n",
       "  -0.1024489586456572,\n",
       "  -0.10244895864565719,\n",
       "  -0.10244895864565719,\n",
       "  -0.10244895864565719,\n",
       "  -0.10244895864565719,\n",
       "  -0.10244895864565719,\n",
       "  -0.10244895864565717,\n",
       "  -0.10244895864565719,\n",
       "  -0.10244895864565719,\n",
       "  -0.10244895864565717,\n",
       "  -0.10244895864565719,\n",
       "  -0.1024489586456572,\n",
       "  -0.10244895864565719,\n",
       "  -0.10244895864565719,\n",
       "  -0.10244895864565719,\n",
       "  -0.10244895864565717,\n",
       "  -0.10244895864565717,\n",
       "  -0.10244895864565717]}"
      ]
     },
     "execution_count": 35,
     "metadata": {},
     "output_type": "execute_result"
    }
   ],
   "source": [
    "p = PartialAutocorrelation()\n",
    "p.partial_autocorrelation(df['Close'])"
   ]
  },
  {
   "attachments": {},
   "cell_type": "markdown",
   "metadata": {},
   "source": [
    "## Differencing: now integrated with ARIMA"
   ]
  },
  {
   "attachments": {},
   "cell_type": "markdown",
   "metadata": {},
   "source": [
    "# Models"
   ]
  },
  {
   "attachments": {},
   "cell_type": "markdown",
   "metadata": {},
   "source": [
    "## ARIMA"
   ]
  },
  {
   "cell_type": "code",
   "execution_count": 43,
   "metadata": {},
   "outputs": [],
   "source": [
    "from tsa.models import Arima\n",
    "\n",
    "df = pd.DataFrame(df[:300])"
   ]
  },
  {
   "cell_type": "code",
   "execution_count": 44,
   "metadata": {},
   "outputs": [],
   "source": [
    "train_df = df[:int(0.8 * len(df))]\n",
    "test_df = df[int(0.8 * len(df)):]\n",
    "\n",
    "df = train_df"
   ]
  },
  {
   "cell_type": "code",
   "execution_count": 45,
   "metadata": {},
   "outputs": [],
   "source": [
    "model = Arima()\n",
    "model(df, 'Time', 'Power')"
   ]
  },
  {
   "cell_type": "code",
   "execution_count": 46,
   "metadata": {},
   "outputs": [
    {
     "name": "stdout",
     "output_type": "stream",
     "text": [
      "1. ADF :  -2.970032980710227\n",
      "2. P-Value :  0.0377893019014961\n",
      "3. Num Of Lags :  6\n",
      "4. Num Of Observations Used For ADF Regression and Critical Values Calculation : 233\n",
      "5. Critical Values :\n",
      "\t 1% :  -3.458731141928624\n",
      "\t 5% :  -2.8740258764297293\n",
      "\t 10% :  -2.5734243167124093\n",
      "\n",
      "\n",
      "As p-value is inside the confidence interval of 95%, series is stationary.\n"
     ]
    }
   ],
   "source": [
    "model.test_stationarity(0)"
   ]
  },
  {
   "cell_type": "code",
   "execution_count": 47,
   "metadata": {},
   "outputs": [],
   "source": [
    "params = model.acf_plot(0)"
   ]
  },
  {
   "cell_type": "code",
   "execution_count": 48,
   "metadata": {},
   "outputs": [
    {
     "data": {
      "text/plain": [
       "dict_keys(['title', 'y', 'x', 'upper', 'lower'])"
      ]
     },
     "execution_count": 48,
     "metadata": {},
     "output_type": "execute_result"
    }
   ],
   "source": [
    "params.keys()"
   ]
  },
  {
   "cell_type": "code",
   "execution_count": 53,
   "metadata": {},
   "outputs": [],
   "source": [
    "outfile(params['lower'])"
   ]
  },
  {
   "cell_type": "code",
   "execution_count": 54,
   "metadata": {},
   "outputs": [],
   "source": [
    "params = model.pacf_plot(0)"
   ]
  },
  {
   "cell_type": "code",
   "execution_count": 59,
   "metadata": {},
   "outputs": [],
   "source": [
    "outfile(params['lower'])\n"
   ]
  },
  {
   "cell_type": "code",
   "execution_count": 70,
   "metadata": {},
   "outputs": [
    {
     "name": "stdout",
     "output_type": "stream",
     "text": [
      "                               SARIMAX Results                                \n",
      "==============================================================================\n",
      "Dep. Variable:                      y   No. Observations:                  240\n",
      "Model:               SARIMAX(2, 1, 2)   Log Likelihood                -644.767\n",
      "Date:                Wed, 05 Jul 2023   AIC                           1301.534\n",
      "Time:                        15:19:45   BIC                           1322.393\n",
      "Sample:                    01-01-2015   HQIC                          1309.939\n",
      "                         - 01-02-2015                                         \n",
      "Covariance Type:                  opg                                         \n",
      "==============================================================================\n",
      "                 coef    std err          z      P>|z|      [0.025      0.975]\n",
      "------------------------------------------------------------------------------\n",
      "intercept     -0.3545      0.857     -0.414      0.679      -2.034       1.325\n",
      "ar.L1         -1.3317      0.049    -26.937      0.000      -1.429      -1.235\n",
      "ar.L2         -0.6194      0.057    -10.960      0.000      -0.730      -0.509\n",
      "ma.L1          1.6558      0.028     58.818      0.000       1.601       1.711\n",
      "ma.L2          0.9117      0.028     32.338      0.000       0.856       0.967\n",
      "sigma2        12.8405      0.660     19.457      0.000      11.547      14.134\n",
      "===================================================================================\n",
      "Ljung-Box (L1) (Q):                   0.99   Jarque-Bera (JB):               258.94\n",
      "Prob(Q):                              0.32   Prob(JB):                         0.00\n",
      "Heteroskedasticity (H):               0.66   Skew:                            -0.22\n",
      "Prob(H) (two-sided):                  0.06   Kurtosis:                         8.08\n",
      "===================================================================================\n",
      "\n",
      "Warnings:\n",
      "[1] Covariance matrix calculated using the outer product of gradients (complex-step).\n"
     ]
    }
   ],
   "source": [
    "model.fit()"
   ]
  },
  {
   "cell_type": "code",
   "execution_count": 71,
   "metadata": {},
   "outputs": [
    {
     "data": {
      "text/html": [
       "<div>\n",
       "<style scoped>\n",
       "    .dataframe tbody tr th:only-of-type {\n",
       "        vertical-align: middle;\n",
       "    }\n",
       "\n",
       "    .dataframe tbody tr th {\n",
       "        vertical-align: top;\n",
       "    }\n",
       "\n",
       "    .dataframe thead th {\n",
       "        text-align: right;\n",
       "    }\n",
       "</style>\n",
       "<table border=\"1\" class=\"dataframe\">\n",
       "  <thead>\n",
       "    <tr style=\"text-align: right;\">\n",
       "      <th></th>\n",
       "      <th>Metric</th>\n",
       "      <th>Value</th>\n",
       "    </tr>\n",
       "  </thead>\n",
       "  <tbody>\n",
       "    <tr>\n",
       "      <th>0</th>\n",
       "      <td>MAPE</td>\n",
       "      <td>2.610034</td>\n",
       "    </tr>\n",
       "    <tr>\n",
       "      <th>1</th>\n",
       "      <td>MAE</td>\n",
       "      <td>4.243417</td>\n",
       "    </tr>\n",
       "    <tr>\n",
       "      <th>2</th>\n",
       "      <td>MSE</td>\n",
       "      <td>23.854493</td>\n",
       "    </tr>\n",
       "  </tbody>\n",
       "</table>\n",
       "</div>"
      ],
      "text/plain": [
       "  Metric      Value\n",
       "0   MAPE   2.610034\n",
       "1    MAE   4.243417\n",
       "2    MSE  23.854493"
      ]
     },
     "execution_count": 71,
     "metadata": {},
     "output_type": "execute_result"
    }
   ],
   "source": [
    "model.error_metrics(test_df, 'Power')"
   ]
  },
  {
   "cell_type": "code",
   "execution_count": 72,
   "metadata": {},
   "outputs": [],
   "source": [
    "params = model.plot_forecast(test_df, 'Power', exclude_time=False)"
   ]
  },
  {
   "cell_type": "code",
   "execution_count": 75,
   "metadata": {},
   "outputs": [],
   "source": [
    "outfile(params['y_forecast'])"
   ]
  },
  {
   "cell_type": "code",
   "execution_count": null,
   "metadata": {},
   "outputs": [],
   "source": []
  }
 ],
 "metadata": {
  "kernelspec": {
   "display_name": "env",
   "language": "python",
   "name": "python3"
  },
  "language_info": {
   "codemirror_mode": {
    "name": "ipython",
    "version": 3
   },
   "file_extension": ".py",
   "mimetype": "text/x-python",
   "name": "python",
   "nbconvert_exporter": "python",
   "pygments_lexer": "ipython3",
   "version": "3.10.6"
  },
  "orig_nbformat": 4
 },
 "nbformat": 4,
 "nbformat_minor": 2
}
