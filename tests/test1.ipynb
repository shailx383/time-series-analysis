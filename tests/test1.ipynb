{
  "cells": [
    {
      "cell_type": "code",
      "execution_count": 2,
      "metadata": {
        "id": "K4fxTGxt4M2F"
      },
      "outputs": [],
      "source": [
        "# from google.colab import files\n",
        "# uploaded = files.upload()\n",
        "import sys\n",
        "sys.path.insert(0, '/home/shail/bits/PS1/time_series_analysis')"
      ]
    },
    {
      "cell_type": "code",
      "execution_count": 3,
      "metadata": {
        "id": "QSEG4OdG4eZF"
      },
      "outputs": [],
      "source": [
        "import tsa.dateconverter as converter\n",
        "import pandas as pd"
      ]
    },
    {
      "cell_type": "code",
      "execution_count": 5,
      "metadata": {
        "id": "NouIotOq4siy"
      },
      "outputs": [],
      "source": [
        "df= pd.read_csv('../datasets/4/Month_Value_1.csv')"
      ]
    },
    {
      "cell_type": "code",
      "execution_count": 6,
      "metadata": {
        "colab": {
          "base_uri": "https://localhost:8080/",
          "height": 424
        },
        "id": "0jAQabMc6IJB",
        "outputId": "1804c720-51ad-4afd-c953-23a2e09b9dd6"
      },
      "outputs": [
        {
          "data": {
            "text/html": [
              "<div>\n",
              "<style scoped>\n",
              "    .dataframe tbody tr th:only-of-type {\n",
              "        vertical-align: middle;\n",
              "    }\n",
              "\n",
              "    .dataframe tbody tr th {\n",
              "        vertical-align: top;\n",
              "    }\n",
              "\n",
              "    .dataframe thead th {\n",
              "        text-align: right;\n",
              "    }\n",
              "</style>\n",
              "<table border=\"1\" class=\"dataframe\">\n",
              "  <thead>\n",
              "    <tr style=\"text-align: right;\">\n",
              "      <th></th>\n",
              "      <th>Period</th>\n",
              "      <th>Revenue</th>\n",
              "      <th>Sales_quantity</th>\n",
              "      <th>Average_cost</th>\n",
              "      <th>The_average_annual_payroll_of_the_region</th>\n",
              "    </tr>\n",
              "  </thead>\n",
              "  <tbody>\n",
              "    <tr>\n",
              "      <th>0</th>\n",
              "      <td>01.01.2015</td>\n",
              "      <td>1.601007e+07</td>\n",
              "      <td>12729.0</td>\n",
              "      <td>1257.763541</td>\n",
              "      <td>30024676.0</td>\n",
              "    </tr>\n",
              "    <tr>\n",
              "      <th>1</th>\n",
              "      <td>01.02.2015</td>\n",
              "      <td>1.580759e+07</td>\n",
              "      <td>11636.0</td>\n",
              "      <td>1358.507000</td>\n",
              "      <td>30024676.0</td>\n",
              "    </tr>\n",
              "    <tr>\n",
              "      <th>2</th>\n",
              "      <td>01.03.2015</td>\n",
              "      <td>2.204715e+07</td>\n",
              "      <td>15922.0</td>\n",
              "      <td>1384.697024</td>\n",
              "      <td>30024676.0</td>\n",
              "    </tr>\n",
              "    <tr>\n",
              "      <th>3</th>\n",
              "      <td>01.04.2015</td>\n",
              "      <td>1.881458e+07</td>\n",
              "      <td>15227.0</td>\n",
              "      <td>1235.606705</td>\n",
              "      <td>30024676.0</td>\n",
              "    </tr>\n",
              "    <tr>\n",
              "      <th>4</th>\n",
              "      <td>01.05.2015</td>\n",
              "      <td>1.402148e+07</td>\n",
              "      <td>8620.0</td>\n",
              "      <td>1626.621765</td>\n",
              "      <td>30024676.0</td>\n",
              "    </tr>\n",
              "    <tr>\n",
              "      <th>...</th>\n",
              "      <td>...</td>\n",
              "      <td>...</td>\n",
              "      <td>...</td>\n",
              "      <td>...</td>\n",
              "      <td>...</td>\n",
              "    </tr>\n",
              "    <tr>\n",
              "      <th>91</th>\n",
              "      <td>01.08.2022</td>\n",
              "      <td>NaN</td>\n",
              "      <td>NaN</td>\n",
              "      <td>NaN</td>\n",
              "      <td>NaN</td>\n",
              "    </tr>\n",
              "    <tr>\n",
              "      <th>92</th>\n",
              "      <td>01.09.2022</td>\n",
              "      <td>NaN</td>\n",
              "      <td>NaN</td>\n",
              "      <td>NaN</td>\n",
              "      <td>NaN</td>\n",
              "    </tr>\n",
              "    <tr>\n",
              "      <th>93</th>\n",
              "      <td>01.10.2022</td>\n",
              "      <td>NaN</td>\n",
              "      <td>NaN</td>\n",
              "      <td>NaN</td>\n",
              "      <td>NaN</td>\n",
              "    </tr>\n",
              "    <tr>\n",
              "      <th>94</th>\n",
              "      <td>01.11.2022</td>\n",
              "      <td>NaN</td>\n",
              "      <td>NaN</td>\n",
              "      <td>NaN</td>\n",
              "      <td>NaN</td>\n",
              "    </tr>\n",
              "    <tr>\n",
              "      <th>95</th>\n",
              "      <td>01.12.2022</td>\n",
              "      <td>NaN</td>\n",
              "      <td>NaN</td>\n",
              "      <td>NaN</td>\n",
              "      <td>NaN</td>\n",
              "    </tr>\n",
              "  </tbody>\n",
              "</table>\n",
              "<p>96 rows × 5 columns</p>\n",
              "</div>"
            ],
            "text/plain": [
              "        Period       Revenue  Sales_quantity  Average_cost  \\\n",
              "0   01.01.2015  1.601007e+07         12729.0   1257.763541   \n",
              "1   01.02.2015  1.580759e+07         11636.0   1358.507000   \n",
              "2   01.03.2015  2.204715e+07         15922.0   1384.697024   \n",
              "3   01.04.2015  1.881458e+07         15227.0   1235.606705   \n",
              "4   01.05.2015  1.402148e+07          8620.0   1626.621765   \n",
              "..         ...           ...             ...           ...   \n",
              "91  01.08.2022           NaN             NaN           NaN   \n",
              "92  01.09.2022           NaN             NaN           NaN   \n",
              "93  01.10.2022           NaN             NaN           NaN   \n",
              "94  01.11.2022           NaN             NaN           NaN   \n",
              "95  01.12.2022           NaN             NaN           NaN   \n",
              "\n",
              "    The_average_annual_payroll_of_the_region  \n",
              "0                                 30024676.0  \n",
              "1                                 30024676.0  \n",
              "2                                 30024676.0  \n",
              "3                                 30024676.0  \n",
              "4                                 30024676.0  \n",
              "..                                       ...  \n",
              "91                                       NaN  \n",
              "92                                       NaN  \n",
              "93                                       NaN  \n",
              "94                                       NaN  \n",
              "95                                       NaN  \n",
              "\n",
              "[96 rows x 5 columns]"
            ]
          },
          "execution_count": 6,
          "metadata": {},
          "output_type": "execute_result"
        }
      ],
      "source": [
        "df"
      ]
    },
    {
      "cell_type": "code",
      "execution_count": 7,
      "metadata": {
        "colab": {
          "base_uri": "https://localhost:8080/"
        },
        "id": "iiKRtUoV6JGF",
        "outputId": "44f7ca31-f671-4ad1-bb13-16296df01070"
      },
      "outputs": [
        {
          "data": {
            "text/plain": [
              "Period                                       0\n",
              "Revenue                                     32\n",
              "Sales_quantity                              32\n",
              "Average_cost                                32\n",
              "The_average_annual_payroll_of_the_region    32\n",
              "dtype: int64"
            ]
          },
          "execution_count": 7,
          "metadata": {},
          "output_type": "execute_result"
        }
      ],
      "source": [
        "df.isna().sum()"
      ]
    },
    {
      "cell_type": "code",
      "execution_count": 8,
      "metadata": {
        "id": "LMh6JCUD6KxH"
      },
      "outputs": [],
      "source": [
        "df.dropna(inplace = True)"
      ]
    },
    {
      "cell_type": "code",
      "execution_count": 9,
      "metadata": {
        "colab": {
          "base_uri": "https://localhost:8080/"
        },
        "id": "pd2Kgpq07og-",
        "outputId": "2307ba64-6ceb-41c8-82bd-2331b454b95d"
      },
      "outputs": [
        {
          "name": "stdout",
          "output_type": "stream",
          "text": [
            "<class 'pandas.core.frame.DataFrame'>\n",
            "Index: 64 entries, 0 to 63\n",
            "Data columns (total 5 columns):\n",
            " #   Column                                    Non-Null Count  Dtype  \n",
            "---  ------                                    --------------  -----  \n",
            " 0   Period                                    64 non-null     object \n",
            " 1   Revenue                                   64 non-null     float64\n",
            " 2   Sales_quantity                            64 non-null     float64\n",
            " 3   Average_cost                              64 non-null     float64\n",
            " 4   The_average_annual_payroll_of_the_region  64 non-null     float64\n",
            "dtypes: float64(4), object(1)\n",
            "memory usage: 3.0+ KB\n"
          ]
        }
      ],
      "source": [
        "df.info()"
      ]
    },
    {
      "cell_type": "code",
      "execution_count": 10,
      "metadata": {
        "colab": {
          "base_uri": "https://localhost:8080/",
          "height": 771
        },
        "id": "hIyE5V8469E_",
        "outputId": "c2dcc6bd-d3bd-4243-ad1c-0ea44ee4d4ac"
      },
      "outputs": [
        {
          "data": {
            "text/html": [
              "<div>\n",
              "<style scoped>\n",
              "    .dataframe tbody tr th:only-of-type {\n",
              "        vertical-align: middle;\n",
              "    }\n",
              "\n",
              "    .dataframe tbody tr th {\n",
              "        vertical-align: top;\n",
              "    }\n",
              "\n",
              "    .dataframe thead th {\n",
              "        text-align: right;\n",
              "    }\n",
              "</style>\n",
              "<table border=\"1\" class=\"dataframe\">\n",
              "  <thead>\n",
              "    <tr style=\"text-align: right;\">\n",
              "      <th></th>\n",
              "      <th>Code</th>\n",
              "      <th>Example</th>\n",
              "      <th>Description</th>\n",
              "    </tr>\n",
              "  </thead>\n",
              "  <tbody>\n",
              "    <tr>\n",
              "      <th>0</th>\n",
              "      <td>%a</td>\n",
              "      <td>Sun</td>\n",
              "      <td>Weekday as locale's abbreviated name.</td>\n",
              "    </tr>\n",
              "    <tr>\n",
              "      <th>1</th>\n",
              "      <td>%A</td>\n",
              "      <td>Sunday</td>\n",
              "      <td>Weekday as locale's full name.</td>\n",
              "    </tr>\n",
              "    <tr>\n",
              "      <th>2</th>\n",
              "      <td>%w</td>\n",
              "      <td>0</td>\n",
              "      <td>Weekday as a decimal number, where 0 is Sunday...</td>\n",
              "    </tr>\n",
              "    <tr>\n",
              "      <th>3</th>\n",
              "      <td>%d</td>\n",
              "      <td>08</td>\n",
              "      <td>Day of the month as a zero-padded decimal number.</td>\n",
              "    </tr>\n",
              "    <tr>\n",
              "      <th>4</th>\n",
              "      <td>%-d</td>\n",
              "      <td>8</td>\n",
              "      <td>Day of the month as a decimal number. (Platfor...</td>\n",
              "    </tr>\n",
              "    <tr>\n",
              "      <th>5</th>\n",
              "      <td>%b</td>\n",
              "      <td>Sep</td>\n",
              "      <td>Month as locale's abbreviated name.</td>\n",
              "    </tr>\n",
              "    <tr>\n",
              "      <th>6</th>\n",
              "      <td>%B</td>\n",
              "      <td>September</td>\n",
              "      <td>Month as locale's full name.</td>\n",
              "    </tr>\n",
              "    <tr>\n",
              "      <th>7</th>\n",
              "      <td>%m</td>\n",
              "      <td>09</td>\n",
              "      <td>Month as a zero-padded decimal number.</td>\n",
              "    </tr>\n",
              "    <tr>\n",
              "      <th>8</th>\n",
              "      <td>%-m</td>\n",
              "      <td>9</td>\n",
              "      <td>Month as a decimal number. (Platform speciﬁc)</td>\n",
              "    </tr>\n",
              "    <tr>\n",
              "      <th>9</th>\n",
              "      <td>%y</td>\n",
              "      <td>13</td>\n",
              "      <td>Year without century as a zero-padded decimal ...</td>\n",
              "    </tr>\n",
              "    <tr>\n",
              "      <th>10</th>\n",
              "      <td>%Y</td>\n",
              "      <td>2013</td>\n",
              "      <td>Year with century as a decimal number.</td>\n",
              "    </tr>\n",
              "    <tr>\n",
              "      <th>11</th>\n",
              "      <td>%H</td>\n",
              "      <td>07</td>\n",
              "      <td>Hour (24-hour clock) as a zero-padded decimal ...</td>\n",
              "    </tr>\n",
              "    <tr>\n",
              "      <th>12</th>\n",
              "      <td>%-H</td>\n",
              "      <td>7</td>\n",
              "      <td>Hour (24-hour clock) as a decimal number. (Pla...</td>\n",
              "    </tr>\n",
              "    <tr>\n",
              "      <th>13</th>\n",
              "      <td>%I</td>\n",
              "      <td>07</td>\n",
              "      <td>Hour (12-hour clock) as a zero-padded decimal ...</td>\n",
              "    </tr>\n",
              "    <tr>\n",
              "      <th>14</th>\n",
              "      <td>%-I</td>\n",
              "      <td>7</td>\n",
              "      <td>Hour (12-hour clock) as a decimal number. (Pla...</td>\n",
              "    </tr>\n",
              "    <tr>\n",
              "      <th>15</th>\n",
              "      <td>%p</td>\n",
              "      <td>AM</td>\n",
              "      <td>Locale's equivalent of either AM or PM.</td>\n",
              "    </tr>\n",
              "    <tr>\n",
              "      <th>16</th>\n",
              "      <td>%M</td>\n",
              "      <td>06</td>\n",
              "      <td>Minute as a zero-padded decimal number.</td>\n",
              "    </tr>\n",
              "    <tr>\n",
              "      <th>17</th>\n",
              "      <td>%-M</td>\n",
              "      <td>6</td>\n",
              "      <td>Minute as a decimal number. (Platform speciﬁc)</td>\n",
              "    </tr>\n",
              "    <tr>\n",
              "      <th>18</th>\n",
              "      <td>%S</td>\n",
              "      <td>05</td>\n",
              "      <td>Second as a zero-padded decimal number.</td>\n",
              "    </tr>\n",
              "    <tr>\n",
              "      <th>19</th>\n",
              "      <td>%-S</td>\n",
              "      <td>5</td>\n",
              "      <td>Second as a decimal number. (Platform speciﬁc)</td>\n",
              "    </tr>\n",
              "    <tr>\n",
              "      <th>20</th>\n",
              "      <td>%f</td>\n",
              "      <td>000000</td>\n",
              "      <td>Microsecond as a decimal number, zero-padded t...</td>\n",
              "    </tr>\n",
              "    <tr>\n",
              "      <th>21</th>\n",
              "      <td>%z</td>\n",
              "      <td>+0000</td>\n",
              "      <td>UTC oﬀset in the form ±HHMM[SS[.ﬀﬀﬀ]] (empty s...</td>\n",
              "    </tr>\n",
              "    <tr>\n",
              "      <th>22</th>\n",
              "      <td>%Z</td>\n",
              "      <td>UTC</td>\n",
              "      <td>Time zone name (empty string if the object is ...</td>\n",
              "    </tr>\n",
              "  </tbody>\n",
              "</table>\n",
              "</div>"
            ],
            "text/plain": [
              "   Code    Example                                        Description\n",
              "0    %a        Sun              Weekday as locale's abbreviated name.\n",
              "1    %A     Sunday                     Weekday as locale's full name.\n",
              "2    %w          0  Weekday as a decimal number, where 0 is Sunday...\n",
              "3    %d         08  Day of the month as a zero-padded decimal number.\n",
              "4   %-d          8  Day of the month as a decimal number. (Platfor...\n",
              "5    %b        Sep                Month as locale's abbreviated name.\n",
              "6    %B  September                       Month as locale's full name.\n",
              "7    %m         09             Month as a zero-padded decimal number.\n",
              "8   %-m          9      Month as a decimal number. (Platform speciﬁc)\n",
              "9    %y         13  Year without century as a zero-padded decimal ...\n",
              "10   %Y       2013             Year with century as a decimal number.\n",
              "11   %H         07  Hour (24-hour clock) as a zero-padded decimal ...\n",
              "12  %-H          7  Hour (24-hour clock) as a decimal number. (Pla...\n",
              "13   %I         07  Hour (12-hour clock) as a zero-padded decimal ...\n",
              "14  %-I          7  Hour (12-hour clock) as a decimal number. (Pla...\n",
              "15   %p         AM            Locale's equivalent of either AM or PM.\n",
              "16   %M         06            Minute as a zero-padded decimal number.\n",
              "17  %-M          6     Minute as a decimal number. (Platform speciﬁc)\n",
              "18   %S         05            Second as a zero-padded decimal number.\n",
              "19  %-S          5     Second as a decimal number. (Platform speciﬁc)\n",
              "20   %f     000000  Microsecond as a decimal number, zero-padded t...\n",
              "21   %z      +0000  UTC oﬀset in the form ±HHMM[SS[.ﬀﬀﬀ]] (empty s...\n",
              "22   %Z        UTC  Time zone name (empty string if the object is ..."
            ]
          },
          "execution_count": 10,
          "metadata": {},
          "output_type": "execute_result"
        }
      ],
      "source": [
        "# making date format uniform:\n",
        "\n",
        "formatter = converter.DateConverter()\n",
        "formatter.directive_df()"
      ]
    },
    {
      "cell_type": "code",
      "execution_count": 11,
      "metadata": {
        "id": "f3O0fxu87Q-W"
      },
      "outputs": [],
      "source": [
        "formatter.add_format(\"%d.%m.%Y\")"
      ]
    },
    {
      "cell_type": "code",
      "execution_count": 12,
      "metadata": {
        "id": "58ipmRmO7fKJ"
      },
      "outputs": [],
      "source": [
        "df['Period'] = df['Period'].apply(lambda x: formatter.convert_date(x))"
      ]
    },
    {
      "cell_type": "code",
      "execution_count": 13,
      "metadata": {
        "colab": {
          "base_uri": "https://localhost:8080/"
        },
        "id": "uU5A1PEd7txq",
        "outputId": "124616a3-2a11-4afe-c4c3-11670a012aea"
      },
      "outputs": [
        {
          "data": {
            "text/plain": [
              "array(['2015-01-01', '2015-02-01', '2015-03-01', '2015-04-01',\n",
              "       '2015-05-01', '2015-06-01', '2015-07-01', '2015-08-01',\n",
              "       '2015-09-01', '2015-10-01', '2015-11-01', '2015-12-01',\n",
              "       '2016-01-01', '2016-02-01', '2016-03-01', '2016-04-01',\n",
              "       '2016-05-01', '2016-06-01', '2016-07-01', '2016-08-01',\n",
              "       '2016-09-01', '2016-10-01', '2016-11-01', '2016-12-01',\n",
              "       '2017-01-01', '2017-02-01', '2017-03-01', '2017-04-01',\n",
              "       '2017-05-01', '2017-06-01', '2017-07-01', '2017-08-01',\n",
              "       '2017-09-01', '2017-10-01', '2017-11-01', '2017-12-01',\n",
              "       '2018-01-01', '2018-02-01', '2018-03-01', '2018-04-01',\n",
              "       '2018-05-01', '2018-06-01', '2018-07-01', '2018-08-01',\n",
              "       '2018-09-01', '2018-10-01', '2018-11-01', '2018-12-01',\n",
              "       '2019-01-01', '2019-02-01', '2019-03-01', '2019-04-01',\n",
              "       '2019-05-01', '2019-06-01', '2019-07-01', '2019-08-01',\n",
              "       '2019-09-01', '2019-10-01', '2019-11-01', '2019-12-01',\n",
              "       '2020-01-01', '2020-02-01', '2020-03-01', '2020-04-01'],\n",
              "      dtype=object)"
            ]
          },
          "execution_count": 13,
          "metadata": {},
          "output_type": "execute_result"
        }
      ],
      "source": [
        "df['Period'].values"
      ]
    },
    {
      "cell_type": "code",
      "execution_count": 14,
      "metadata": {
        "id": "mdzYs2tM994M"
      },
      "outputs": [],
      "source": [
        "df['Period'] = pd.to_datetime(df['Period'])"
      ]
    },
    {
      "cell_type": "markdown",
      "metadata": {
        "id": "WVaGRAYC6mcw"
      },
      "source": [
        "# Testing Properties:"
      ]
    },
    {
      "cell_type": "markdown",
      "metadata": {
        "id": "q0NB-nnq85qJ"
      },
      "source": [
        "## Trend"
      ]
    },
    {
      "cell_type": "code",
      "execution_count": 15,
      "metadata": {
        "id": "z4Zt149g6QIG"
      },
      "outputs": [],
      "source": [
        "from tsa.properties import Trend"
      ]
    },
    {
      "cell_type": "code",
      "execution_count": 16,
      "metadata": {
        "id": "jeRMiHvg6wdf"
      },
      "outputs": [],
      "source": [
        "t = Trend(df, 'Revenue', 'Period')"
      ]
    },
    {
      "cell_type": "code",
      "execution_count": 17,
      "metadata": {
        "colab": {
          "base_uri": "https://localhost:8080/",
          "height": 455
        },
        "id": "_hpUH_VN71oT",
        "outputId": "354c2e56-6161-4b4c-c3d0-67022754df0c"
      },
      "outputs": [
        {
          "data": {
            "text/html": [
              "<div>\n",
              "<style scoped>\n",
              "    .dataframe tbody tr th:only-of-type {\n",
              "        vertical-align: middle;\n",
              "    }\n",
              "\n",
              "    .dataframe tbody tr th {\n",
              "        vertical-align: top;\n",
              "    }\n",
              "\n",
              "    .dataframe thead th {\n",
              "        text-align: right;\n",
              "    }\n",
              "</style>\n",
              "<table border=\"1\" class=\"dataframe\">\n",
              "  <thead>\n",
              "    <tr style=\"text-align: right;\">\n",
              "      <th></th>\n",
              "      <th>Original</th>\n",
              "      <th>Detrend</th>\n",
              "    </tr>\n",
              "    <tr>\n",
              "      <th>Period</th>\n",
              "      <th></th>\n",
              "      <th></th>\n",
              "    </tr>\n",
              "  </thead>\n",
              "  <tbody>\n",
              "    <tr>\n",
              "      <th>2015-01-01</th>\n",
              "      <td>1.601007e+07</td>\n",
              "      <td>1.601007e+07</td>\n",
              "    </tr>\n",
              "    <tr>\n",
              "      <th>2015-02-01</th>\n",
              "      <td>1.580759e+07</td>\n",
              "      <td>1.491674e+07</td>\n",
              "    </tr>\n",
              "    <tr>\n",
              "      <th>2015-03-01</th>\n",
              "      <td>2.204715e+07</td>\n",
              "      <td>2.026545e+07</td>\n",
              "    </tr>\n",
              "    <tr>\n",
              "      <th>2015-04-01</th>\n",
              "      <td>1.881458e+07</td>\n",
              "      <td>1.614204e+07</td>\n",
              "    </tr>\n",
              "    <tr>\n",
              "      <th>2015-05-01</th>\n",
              "      <td>1.402148e+07</td>\n",
              "      <td>1.045809e+07</td>\n",
              "    </tr>\n",
              "    <tr>\n",
              "      <th>...</th>\n",
              "      <td>...</td>\n",
              "      <td>...</td>\n",
              "    </tr>\n",
              "    <tr>\n",
              "      <th>2019-12-01</th>\n",
              "      <td>5.875647e+07</td>\n",
              "      <td>6.196449e+06</td>\n",
              "    </tr>\n",
              "    <tr>\n",
              "      <th>2020-01-01</th>\n",
              "      <td>5.628830e+07</td>\n",
              "      <td>2.837428e+06</td>\n",
              "    </tr>\n",
              "    <tr>\n",
              "      <th>2020-02-01</th>\n",
              "      <td>4.022524e+07</td>\n",
              "      <td>-1.411648e+07</td>\n",
              "    </tr>\n",
              "    <tr>\n",
              "      <th>2020-03-01</th>\n",
              "      <td>5.002217e+07</td>\n",
              "      <td>-5.210403e+06</td>\n",
              "    </tr>\n",
              "    <tr>\n",
              "      <th>2020-04-01</th>\n",
              "      <td>5.232069e+07</td>\n",
              "      <td>-3.802723e+06</td>\n",
              "    </tr>\n",
              "  </tbody>\n",
              "</table>\n",
              "<p>64 rows × 2 columns</p>\n",
              "</div>"
            ],
            "text/plain": [
              "                Original       Detrend\n",
              "Period                                \n",
              "2015-01-01  1.601007e+07  1.601007e+07\n",
              "2015-02-01  1.580759e+07  1.491674e+07\n",
              "2015-03-01  2.204715e+07  2.026545e+07\n",
              "2015-04-01  1.881458e+07  1.614204e+07\n",
              "2015-05-01  1.402148e+07  1.045809e+07\n",
              "...                  ...           ...\n",
              "2019-12-01  5.875647e+07  6.196449e+06\n",
              "2020-01-01  5.628830e+07  2.837428e+06\n",
              "2020-02-01  4.022524e+07 -1.411648e+07\n",
              "2020-03-01  5.002217e+07 -5.210403e+06\n",
              "2020-04-01  5.232069e+07 -3.802723e+06\n",
              "\n",
              "[64 rows x 2 columns]"
            ]
          },
          "execution_count": 17,
          "metadata": {},
          "output_type": "execute_result"
        }
      ],
      "source": [
        "t.detrend()"
      ]
    },
    {
      "cell_type": "code",
      "execution_count": 19,
      "metadata": {
        "colab": {
          "base_uri": "https://localhost:8080/"
        },
        "id": "dO-a_uqH76Kx",
        "outputId": "4b0ab77e-4af8-40d1-ed13-ab8561bf627c"
      },
      "outputs": [
        {
          "data": {
            "text/plain": [
              "{'title': 'Original vs Detrend of Revenue:',\n",
              " 'data': [16010072.1195,\n",
              "  15807587.449808,\n",
              "  22047146.023644,\n",
              "  18814583.29428,\n",
              "  14021479.611678,\n",
              "  16783928.522112,\n",
              "  19161892.194872,\n",
              "  15204984.296742,\n",
              "  20603939.9751,\n",
              "  20992874.780136,\n",
              "  14993369.65763,\n",
              "  27791807.639848,\n",
              "  28601586.496,\n",
              "  22367074.065584,\n",
              "  29738608.568,\n",
              "  28351007.9388,\n",
              "  15264603.734865,\n",
              "  24385658.077056,\n",
              "  29486517.069955,\n",
              "  15270117.2565,\n",
              "  36141027.562,\n",
              "  27915143.655,\n",
              "  21272049.3454,\n",
              "  42014159.88396,\n",
              "  36007380.67,\n",
              "  30396775.3784,\n",
              "  47678130.72603,\n",
              "  27013964.728324,\n",
              "  24948844.698,\n",
              "  31101345.543,\n",
              "  33848822.228544,\n",
              "  16454666.958,\n",
              "  31650092.652,\n",
              "  31572205.6224,\n",
              "  22446371.0268,\n",
              "  44966125.7696,\n",
              "  44067520.858,\n",
              "  36020287.1553,\n",
              "  46995990.4125,\n",
              "  35536487.6848,\n",
              "  29699599.176,\n",
              "  33261065.3886,\n",
              "  35826534.9072,\n",
              "  23268655.2112,\n",
              "  35423489.85,\n",
              "  39831565.6974,\n",
              "  32999145.2096,\n",
              "  47221828.2018,\n",
              "  36459960.091485,\n",
              "  36546498.663015,\n",
              "  54198706.7196,\n",
              "  32743989.6056,\n",
              "  32531657.5397,\n",
              "  47709701.6346,\n",
              "  45992141.57398,\n",
              "  36933665.022,\n",
              "  48526260.1344,\n",
              "  44160416.1824,\n",
              "  36374956.4944,\n",
              "  58756473.6608,\n",
              "  56288300.87,\n",
              "  40225243.264,\n",
              "  50022165.2325,\n",
              "  52320692.9428],\n",
              " 'data_detrend': [16010072.1195,\n",
              "  14916739.576826978,\n",
              "  20265450.277681958,\n",
              "  16142039.675336935,\n",
              "  10458088.119753912,\n",
              "  12329689.157206891,\n",
              "  13816804.956985869,\n",
              "  8969049.185874846,\n",
              "  13477156.991251824,\n",
              "  12975243.923306804,\n",
              "  6084890.927819781,\n",
              "  17992481.03705676,\n",
              "  17911412.020227738,\n",
              "  10786051.716830716,\n",
              "  17266738.346265696,\n",
              "  14988289.84408467,\n",
              "  1011037.7671686504,\n",
              "  9241244.236378627,\n",
              "  13451255.356296604,\n",
              "  -1655992.3301394153,\n",
              "  18324070.10237956,\n",
              "  9207338.322398543,\n",
              "  1673396.139817521,\n",
              "  21524658.805396497,\n",
              "  14627031.718455479,\n",
              "  8125578.553874455,\n",
              "  24516086.02852343,\n",
              "  2961072.1578364074,\n",
              "  5104.25453138724,\n",
              "  5266757.226550367,\n",
              "  7123386.039113339,\n",
              "  -11161617.104411677,\n",
              "  3142960.7166072987,\n",
              "  2174225.8140262775,\n",
              "  -7842456.654554743,\n",
              "  13786450.215264231,\n",
              "  11996997.430683214,\n",
              "  3058915.855002191,\n",
              "  13143771.23922117,\n",
              "  793420.6385401487,\n",
              "  -5934315.743240878,\n",
              "  -3263697.403621897,\n",
              "  -1589075.7580029145,\n",
              "  -15037803.326983944,\n",
              "  -3773816.5611649603,\n",
              "  -256588.5867459774,\n",
              "  -7979856.947527006,\n",
              "  5351978.1716919765,\n",
              "  -6300737.811604045,\n",
              "  -7105047.113055073,\n",
              "  9656313.070548907,\n",
              "  -12689251.91643212,\n",
              "  -13792431.855313137,\n",
              "  494764.3666058406,\n",
              "  -2113643.566995181,\n",
              "  -12062967.991956204,\n",
              "  -1361220.7525372207,\n",
              "  -6617912.577518247,\n",
              "  -15294220.138499267,\n",
              "  6196449.154919714,\n",
              "  2837428.491138682,\n",
              "  -14116476.987842336,\n",
              "  -5210402.892323352,\n",
              "  -3802723.0550043806],\n",
              " 'x': ['2015-01-01',\n",
              "  '2015-02-01',\n",
              "  '2015-03-01',\n",
              "  '2015-04-01',\n",
              "  '2015-05-01',\n",
              "  '2015-06-01',\n",
              "  '2015-07-01',\n",
              "  '2015-08-01',\n",
              "  '2015-09-01',\n",
              "  '2015-10-01',\n",
              "  '2015-11-01',\n",
              "  '2015-12-01',\n",
              "  '2016-01-01',\n",
              "  '2016-02-01',\n",
              "  '2016-03-01',\n",
              "  '2016-04-01',\n",
              "  '2016-05-01',\n",
              "  '2016-06-01',\n",
              "  '2016-07-01',\n",
              "  '2016-08-01',\n",
              "  '2016-09-01',\n",
              "  '2016-10-01',\n",
              "  '2016-11-01',\n",
              "  '2016-12-01',\n",
              "  '2017-01-01',\n",
              "  '2017-02-01',\n",
              "  '2017-03-01',\n",
              "  '2017-04-01',\n",
              "  '2017-05-01',\n",
              "  '2017-06-01',\n",
              "  '2017-07-01',\n",
              "  '2017-08-01',\n",
              "  '2017-09-01',\n",
              "  '2017-10-01',\n",
              "  '2017-11-01',\n",
              "  '2017-12-01',\n",
              "  '2018-01-01',\n",
              "  '2018-02-01',\n",
              "  '2018-03-01',\n",
              "  '2018-04-01',\n",
              "  '2018-05-01',\n",
              "  '2018-06-01',\n",
              "  '2018-07-01',\n",
              "  '2018-08-01',\n",
              "  '2018-09-01',\n",
              "  '2018-10-01',\n",
              "  '2018-11-01',\n",
              "  '2018-12-01',\n",
              "  '2019-01-01',\n",
              "  '2019-02-01',\n",
              "  '2019-03-01',\n",
              "  '2019-04-01',\n",
              "  '2019-05-01',\n",
              "  '2019-06-01',\n",
              "  '2019-07-01',\n",
              "  '2019-08-01',\n",
              "  '2019-09-01',\n",
              "  '2019-10-01',\n",
              "  '2019-11-01',\n",
              "  '2019-12-01',\n",
              "  '2020-01-01',\n",
              "  '2020-02-01',\n",
              "  '2020-03-01',\n",
              "  '2020-04-01']}"
            ]
          },
          "execution_count": 19,
          "metadata": {},
          "output_type": "execute_result"
        }
      ],
      "source": [
        "t.plot_detrend(remove_time = True)"
      ]
    },
    {
      "cell_type": "markdown",
      "metadata": {
        "id": "MfneZzeS9jFc"
      },
      "source": [
        "## Seasonality"
      ]
    },
    {
      "cell_type": "code",
      "execution_count": 20,
      "metadata": {
        "id": "w03NX4YC8jTq"
      },
      "outputs": [],
      "source": [
        "from tsa.properties import Seasonality"
      ]
    },
    {
      "cell_type": "code",
      "execution_count": 21,
      "metadata": {
        "id": "57621If09qK_"
      },
      "outputs": [],
      "source": [
        "s = Seasonality(df, 'Sales_quantity', 'Period')"
      ]
    },
    {
      "cell_type": "code",
      "execution_count": 22,
      "metadata": {
        "colab": {
          "base_uri": "https://localhost:8080/"
        },
        "id": "8uRSI3ue9yy2",
        "outputId": "8bb52a7f-559b-446e-dbdc-85f3cdfc601f"
      },
      "outputs": [
        {
          "data": {
            "text/plain": [
              "Period\n",
              "2015-01-01    1.016014\n",
              "2015-02-01    0.914684\n",
              "2015-03-01    1.351165\n",
              "2015-04-01    0.992906\n",
              "2015-05-01    0.652248\n",
              "                ...   \n",
              "2019-12-01    1.528319\n",
              "2020-01-01    1.016014\n",
              "2020-02-01    0.914684\n",
              "2020-03-01    1.351165\n",
              "2020-04-01    0.992906\n",
              "Name: seasonal, Length: 64, dtype: float64"
            ]
          },
          "execution_count": 22,
          "metadata": {},
          "output_type": "execute_result"
        }
      ],
      "source": [
        "s.seasonal()"
      ]
    },
    {
      "cell_type": "code",
      "execution_count": 23,
      "metadata": {
        "colab": {
          "base_uri": "https://localhost:8080/",
          "height": 455
        },
        "id": "GhMZh55c92n1",
        "outputId": "02d5ba8a-252c-4512-92c4-da80275e9b73"
      },
      "outputs": [
        {
          "data": {
            "text/html": [
              "<div>\n",
              "<style scoped>\n",
              "    .dataframe tbody tr th:only-of-type {\n",
              "        vertical-align: middle;\n",
              "    }\n",
              "\n",
              "    .dataframe tbody tr th {\n",
              "        vertical-align: top;\n",
              "    }\n",
              "\n",
              "    .dataframe thead th {\n",
              "        text-align: right;\n",
              "    }\n",
              "</style>\n",
              "<table border=\"1\" class=\"dataframe\">\n",
              "  <thead>\n",
              "    <tr style=\"text-align: right;\">\n",
              "      <th></th>\n",
              "      <th>Original</th>\n",
              "      <th>Deseasonalized</th>\n",
              "    </tr>\n",
              "    <tr>\n",
              "      <th>Period</th>\n",
              "      <th></th>\n",
              "      <th></th>\n",
              "    </tr>\n",
              "  </thead>\n",
              "  <tbody>\n",
              "    <tr>\n",
              "      <th>2015-01-01</th>\n",
              "      <td>12729.0</td>\n",
              "      <td>12528.365967</td>\n",
              "    </tr>\n",
              "    <tr>\n",
              "      <th>2015-02-01</th>\n",
              "      <td>11636.0</td>\n",
              "      <td>12721.334153</td>\n",
              "    </tr>\n",
              "    <tr>\n",
              "      <th>2015-03-01</th>\n",
              "      <td>15922.0</td>\n",
              "      <td>11783.905209</td>\n",
              "    </tr>\n",
              "    <tr>\n",
              "      <th>2015-04-01</th>\n",
              "      <td>15227.0</td>\n",
              "      <td>15335.799402</td>\n",
              "    </tr>\n",
              "    <tr>\n",
              "      <th>2015-05-01</th>\n",
              "      <td>8620.0</td>\n",
              "      <td>13215.825762</td>\n",
              "    </tr>\n",
              "    <tr>\n",
              "      <th>...</th>\n",
              "      <td>...</td>\n",
              "      <td>...</td>\n",
              "    </tr>\n",
              "    <tr>\n",
              "      <th>2019-12-01</th>\n",
              "      <td>38069.0</td>\n",
              "      <td>24909.073288</td>\n",
              "    </tr>\n",
              "    <tr>\n",
              "      <th>2020-01-01</th>\n",
              "      <td>27184.0</td>\n",
              "      <td>26755.526785</td>\n",
              "    </tr>\n",
              "    <tr>\n",
              "      <th>2020-02-01</th>\n",
              "      <td>23509.0</td>\n",
              "      <td>25701.774201</td>\n",
              "    </tr>\n",
              "    <tr>\n",
              "      <th>2020-03-01</th>\n",
              "      <td>32569.0</td>\n",
              "      <td>24104.384422</td>\n",
              "    </tr>\n",
              "    <tr>\n",
              "      <th>2020-04-01</th>\n",
              "      <td>26615.0</td>\n",
              "      <td>26805.168522</td>\n",
              "    </tr>\n",
              "  </tbody>\n",
              "</table>\n",
              "<p>64 rows × 2 columns</p>\n",
              "</div>"
            ],
            "text/plain": [
              "            Original  Deseasonalized\n",
              "Period                              \n",
              "2015-01-01   12729.0    12528.365967\n",
              "2015-02-01   11636.0    12721.334153\n",
              "2015-03-01   15922.0    11783.905209\n",
              "2015-04-01   15227.0    15335.799402\n",
              "2015-05-01    8620.0    13215.825762\n",
              "...              ...             ...\n",
              "2019-12-01   38069.0    24909.073288\n",
              "2020-01-01   27184.0    26755.526785\n",
              "2020-02-01   23509.0    25701.774201\n",
              "2020-03-01   32569.0    24104.384422\n",
              "2020-04-01   26615.0    26805.168522\n",
              "\n",
              "[64 rows x 2 columns]"
            ]
          },
          "execution_count": 23,
          "metadata": {},
          "output_type": "execute_result"
        }
      ],
      "source": [
        "s.deseasonalize()"
      ]
    },
    {
      "cell_type": "code",
      "execution_count": 25,
      "metadata": {
        "colab": {
          "base_uri": "https://localhost:8080/"
        },
        "id": "b_WDcBkAPaPu",
        "outputId": "b725d3d8-ab53-4cb9-d808-bcba58af76ea"
      },
      "outputs": [
        {
          "data": {
            "text/plain": [
              "{'title': 'Original vs Deseasonalized of Sales_quantity:',\n",
              " 'data': [12729.0,\n",
              "  11636.0,\n",
              "  15922.0,\n",
              "  15227.0,\n",
              "  8620.0,\n",
              "  13160.0,\n",
              "  17254.0,\n",
              "  8642.0,\n",
              "  16144.0,\n",
              "  18135.0,\n",
              "  10841.0,\n",
              "  22113.0,\n",
              "  15365.0,\n",
              "  13153.0,\n",
              "  18339.0,\n",
              "  13909.0,\n",
              "  8553.0,\n",
              "  15101.0,\n",
              "  15695.0,\n",
              "  8314.0,\n",
              "  17764.0,\n",
              "  18969.0,\n",
              "  13433.0,\n",
              "  27029.0,\n",
              "  16889.0,\n",
              "  15864.0,\n",
              "  22786.0,\n",
              "  17910.0,\n",
              "  10777.0,\n",
              "  18799.0,\n",
              "  17899.0,\n",
              "  9649.0,\n",
              "  20159.0,\n",
              "  19519.0,\n",
              "  15360.0,\n",
              "  30833.0,\n",
              "  19812.0,\n",
              "  18424.0,\n",
              "  29004.0,\n",
              "  22033.0,\n",
              "  14959.0,\n",
              "  23067.0,\n",
              "  18397.0,\n",
              "  12045.0,\n",
              "  23358.0,\n",
              "  22644.0,\n",
              "  19765.0,\n",
              "  33207.0,\n",
              "  24096.0,\n",
              "  21624.0,\n",
              "  33379.0,\n",
              "  22265.0,\n",
              "  16967.0,\n",
              "  24958.0,\n",
              "  21917.0,\n",
              "  14431.0,\n",
              "  23253.0,\n",
              "  26603.0,\n",
              "  21987.0,\n",
              "  38069.0,\n",
              "  27184.0,\n",
              "  23509.0,\n",
              "  32569.0,\n",
              "  26615.0],\n",
              " 'data_des': [12528.365966867745,\n",
              "  12721.334153134034,\n",
              "  11783.905209427572,\n",
              "  15335.799402174376,\n",
              "  13215.825761862416,\n",
              "  12651.16004914013,\n",
              "  17426.172101394033,\n",
              "  15505.715294496556,\n",
              "  15288.577947461774,\n",
              "  16507.229913549974,\n",
              "  13510.390650547177,\n",
              "  14468.841777408588,\n",
              "  15122.817431135432,\n",
              "  14379.830535937775,\n",
              "  13572.731920342434,\n",
              "  14008.382076892585,\n",
              "  13113.104146311976,\n",
              "  14517.110022953273,\n",
              "  15851.615343188789,\n",
              "  14917.208627452485,\n",
              "  16822.739015034127,\n",
              "  17266.37133885467,\n",
              "  16740.621493294,\n",
              "  17685.448577830994,\n",
              "  16622.796198792472,\n",
              "  17343.69585814011,\n",
              "  16863.96583984529,\n",
              "  18037.969875414925,\n",
              "  16522.84851921012,\n",
              "  18072.12445013566,\n",
              "  18077.608348374397,\n",
              "  17312.502531427595,\n",
              "  19090.835161229057,\n",
              "  17767.004173288224,\n",
              "  19142.108697758937,\n",
              "  20174.458396546783,\n",
              "  19499.7239795415,\n",
              "  20142.476833735083,\n",
              "  21465.92053097835,\n",
              "  22190.429383864717,\n",
              "  22934.51711968676,\n",
              "  22175.099456954053,\n",
              "  18580.577729763885,\n",
              "  21611.471965078803,\n",
              "  22120.32976318212,\n",
              "  20611.508914387956,\n",
              "  24631.75640697952,\n",
              "  21727.799434830507,\n",
              "  23716.19972799475,\n",
              "  23640.953053228804,\n",
              "  24703.867101211086,\n",
              "  22424.08706175954,\n",
              "  26013.09926931782,\n",
              "  23992.982713255267,\n",
              "  22135.702674524924,\n",
              "  25892.499122295743,\n",
              "  22020.893397691318,\n",
              "  24215.15508079239,\n",
              "  27400.88176677251,\n",
              "  24909.073288299533,\n",
              "  26755.526784769645,\n",
              "  25701.774201274322,\n",
              "  24104.384421922285,\n",
              "  26805.16852228745],\n",
              " 'x': ['2015-01-01',\n",
              "  '2015-02-01',\n",
              "  '2015-03-01',\n",
              "  '2015-04-01',\n",
              "  '2015-05-01',\n",
              "  '2015-06-01',\n",
              "  '2015-07-01',\n",
              "  '2015-08-01',\n",
              "  '2015-09-01',\n",
              "  '2015-10-01',\n",
              "  '2015-11-01',\n",
              "  '2015-12-01',\n",
              "  '2016-01-01',\n",
              "  '2016-02-01',\n",
              "  '2016-03-01',\n",
              "  '2016-04-01',\n",
              "  '2016-05-01',\n",
              "  '2016-06-01',\n",
              "  '2016-07-01',\n",
              "  '2016-08-01',\n",
              "  '2016-09-01',\n",
              "  '2016-10-01',\n",
              "  '2016-11-01',\n",
              "  '2016-12-01',\n",
              "  '2017-01-01',\n",
              "  '2017-02-01',\n",
              "  '2017-03-01',\n",
              "  '2017-04-01',\n",
              "  '2017-05-01',\n",
              "  '2017-06-01',\n",
              "  '2017-07-01',\n",
              "  '2017-08-01',\n",
              "  '2017-09-01',\n",
              "  '2017-10-01',\n",
              "  '2017-11-01',\n",
              "  '2017-12-01',\n",
              "  '2018-01-01',\n",
              "  '2018-02-01',\n",
              "  '2018-03-01',\n",
              "  '2018-04-01',\n",
              "  '2018-05-01',\n",
              "  '2018-06-01',\n",
              "  '2018-07-01',\n",
              "  '2018-08-01',\n",
              "  '2018-09-01',\n",
              "  '2018-10-01',\n",
              "  '2018-11-01',\n",
              "  '2018-12-01',\n",
              "  '2019-01-01',\n",
              "  '2019-02-01',\n",
              "  '2019-03-01',\n",
              "  '2019-04-01',\n",
              "  '2019-05-01',\n",
              "  '2019-06-01',\n",
              "  '2019-07-01',\n",
              "  '2019-08-01',\n",
              "  '2019-09-01',\n",
              "  '2019-10-01',\n",
              "  '2019-11-01',\n",
              "  '2019-12-01',\n",
              "  '2020-01-01',\n",
              "  '2020-02-01',\n",
              "  '2020-03-01',\n",
              "  '2020-04-01']}"
            ]
          },
          "execution_count": 25,
          "metadata": {},
          "output_type": "execute_result"
        }
      ],
      "source": [
        "s.plot_deseasonalize(remove_time = True)"
      ]
    },
    {
      "cell_type": "markdown",
      "metadata": {
        "id": "r9yolgtePjBC"
      },
      "source": [
        "## Stationarity\n"
      ]
    },
    {
      "cell_type": "code",
      "execution_count": 26,
      "metadata": {
        "id": "NVVt4fgcPesU"
      },
      "outputs": [],
      "source": [
        "from tsa.properties import Stationarity"
      ]
    },
    {
      "cell_type": "code",
      "execution_count": 27,
      "metadata": {
        "id": "5E7Tf9bcPs5i"
      },
      "outputs": [],
      "source": [
        "s = Stationarity(df, 'Period', 'Average_cost')"
      ]
    },
    {
      "cell_type": "code",
      "execution_count": 28,
      "metadata": {
        "colab": {
          "base_uri": "https://localhost:8080/"
        },
        "id": "nwOJu5MhP9mN",
        "outputId": "11574c9f-1485-4740-8205-3704a1e40748"
      },
      "outputs": [
        {
          "name": "stdout",
          "output_type": "stream",
          "text": [
            "1. ADF :  -5.751134561254756\n",
            "2. P-Value :  5.962883288959484e-07\n",
            "3. Num Of Lags :  0\n",
            "4. Num Of Observations Used For ADF Regression and Critical Values Calculation : 63\n",
            "5. Critical Values :\n",
            "\t 1% :  -3.5386953618719676\n",
            "\t 5% :  -2.9086446751210775\n",
            "\t 10% :  -2.591896782564878\n",
            "\n",
            "\n",
            "As p-value is inside the confidence interval of 95%, series is stationary.\n"
          ]
        }
      ],
      "source": [
        "s.test_stationarity()"
      ]
    },
    {
      "cell_type": "code",
      "execution_count": 29,
      "metadata": {
        "colab": {
          "base_uri": "https://localhost:8080/"
        },
        "id": "KqRQkVxBQDHe",
        "outputId": "7384af66-5e38-43ab-b101-f7baceef23de"
      },
      "outputs": [
        {
          "name": "stdout",
          "output_type": "stream",
          "text": [
            "1. ADF :  1.1570562060945353\n",
            "2. P-Value :  0.9956753282590142\n",
            "3. Num Of Lags :  11\n",
            "4. Num Of Observations Used For ADF Regression and Critical Values Calculation : 52\n",
            "5. Critical Values :\n",
            "\t 1% :  -3.562878534649522\n",
            "\t 5% :  -2.918973284023669\n",
            "\t 10% :  -2.597393446745562\n",
            "\n",
            "\n",
            "As p-value is outside the confidence interval of 95%, series is non-stationary.\n"
          ]
        }
      ],
      "source": [
        "s = Stationarity(df, 'Period', 'Sales_quantity')\n",
        "s.test_stationarity()"
      ]
    },
    {
      "cell_type": "code",
      "execution_count": 30,
      "metadata": {
        "colab": {
          "base_uri": "https://localhost:8080/"
        },
        "id": "LW7ycY0tQ-mA",
        "outputId": "fc353e98-bd8d-4406-cb98-1fdcb41f6a8b"
      },
      "outputs": [
        {
          "name": "stdout",
          "output_type": "stream",
          "text": [
            "p-value:  0.14663566307724246 \n",
            "As p-value is greater than 0.05, transformed series is non-stationary.\n"
          ]
        },
        {
          "data": {
            "text/plain": [
              "12    0.015684\n",
              "13    0.010212\n",
              "14    0.011777\n",
              "15   -0.007545\n",
              "16   -0.000650\n",
              "17    0.011465\n",
              "18   -0.007892\n",
              "19   -0.003224\n",
              "20    0.007969\n",
              "21    0.003747\n",
              "22    0.017865\n",
              "23    0.016729\n",
              "24    0.007881\n",
              "25    0.015617\n",
              "26    0.018093\n",
              "27    0.021069\n",
              "28    0.019261\n",
              "29    0.018254\n",
              "30    0.010950\n",
              "31    0.012409\n",
              "32    0.010540\n",
              "33    0.002382\n",
              "34    0.011171\n",
              "35    0.010973\n",
              "36    0.013302\n",
              "37    0.012467\n",
              "38    0.020107\n",
              "39    0.017265\n",
              "40    0.027325\n",
              "41    0.017050\n",
              "42    0.002287\n",
              "43    0.018483\n",
              "44    0.012274\n",
              "45    0.012376\n",
              "46    0.021012\n",
              "47    0.006181\n",
              "48    0.016313\n",
              "49    0.013346\n",
              "50    0.011708\n",
              "51    0.000873\n",
              "52    0.010496\n",
              "53    0.006566\n",
              "54    0.014590\n",
              "55    0.015061\n",
              "56   -0.000375\n",
              "57    0.013427\n",
              "58    0.008878\n",
              "59    0.011387\n",
              "60    0.010049\n",
              "61    0.006965\n",
              "62   -0.002047\n",
              "63    0.014872\n",
              "dtype: float64"
            ]
          },
          "execution_count": 30,
          "metadata": {},
          "output_type": "execute_result"
        }
      ],
      "source": [
        "s.make_stationary(method = 'log')"
      ]
    },
    {
      "cell_type": "code",
      "execution_count": 27,
      "metadata": {
        "colab": {
          "base_uri": "https://localhost:8080/"
        },
        "id": "FQ478fqRQP23",
        "outputId": "9e18965f-7492-4b47-b5f9-0d2c5d318100"
      },
      "outputs": [
        {
          "name": "stdout",
          "output_type": "stream",
          "text": [
            "p-value:  5.0780400142510945e-06 \n",
            "As p-value is lesser than 0.05, transformed series is stationary.\n"
          ]
        },
        {
          "data": {
            "text/plain": [
              "12    0.927731\n",
              "13    0.568020\n",
              "14    0.769930\n",
              "15   -0.455109\n",
              "16   -0.030127\n",
              "17    0.680757\n",
              "18   -0.506233\n",
              "19   -0.148435\n",
              "20    0.518551\n",
              "21    0.255145\n",
              "22    0.981725\n",
              "23    1.308382\n",
              "24    0.500171\n",
              "25    0.938820\n",
              "26    1.294063\n",
              "27    1.324319\n",
              "28    0.944158\n",
              "29    1.185277\n",
              "30    0.708955\n",
              "31    0.587349\n",
              "32    0.725061\n",
              "33    0.165202\n",
              "34    0.669554\n",
              "35    0.932358\n",
              "36    0.899785\n",
              "37    0.815222\n",
              "38    1.612940\n",
              "39    1.217244\n",
              "40    1.541222\n",
              "41    1.230733\n",
              "42    0.154033\n",
              "43    0.960033\n",
              "44    0.904237\n",
              "45    0.897402\n",
              "46    1.387715\n",
              "47    0.552883\n",
              "48    1.206146\n",
              "49    0.942998\n",
              "50    1.032800\n",
              "51    0.064953\n",
              "52    0.662537\n",
              "53    0.508564\n",
              "54    1.034031\n",
              "55    0.864948\n",
              "56   -0.028658\n",
              "57    1.052086\n",
              "58    0.641007\n",
              "59    1.073742\n",
              "60    0.803904\n",
              "61    0.522953\n",
              "62   -0.185864\n",
              "63    1.160536\n",
              "dtype: float64"
            ]
          },
          "execution_count": 27,
          "metadata": {},
          "output_type": "execute_result"
        }
      ],
      "source": [
        "s.make_stationary(method='power')"
      ]
    },
    {
      "cell_type": "code",
      "execution_count": 32,
      "metadata": {
        "colab": {
          "base_uri": "https://localhost:8080/"
        },
        "id": "5C3jxhlWQ00-",
        "outputId": "1c05722a-f21f-4fa4-9a6e-19946ff9caff"
      },
      "outputs": [
        {
          "data": {
            "text/plain": [
              "{'title': 'Transformed series',\n",
              " 'data': [0.01568411172451256,\n",
              "  0.010212177404472556,\n",
              "  0.011777344920693267,\n",
              "  -0.007544504602799762,\n",
              "  -0.0006502488397472916,\n",
              "  0.011464920074706342,\n",
              "  -0.007891817530039091,\n",
              "  -0.0032244330566069124,\n",
              "  0.007968789484882777,\n",
              "  0.0037468579174770866,\n",
              "  0.017864926950142745,\n",
              "  0.016728724399857953,\n",
              "  0.00788086057111137,\n",
              "  0.015616876810904401,\n",
              "  0.01809303104676907,\n",
              "  0.021068591953968152,\n",
              "  0.019261011251337834,\n",
              "  0.018253559178180723,\n",
              "  0.01095022125587164,\n",
              "  0.012409453517316038,\n",
              "  0.010539741780702272,\n",
              "  0.0023818568683253716,\n",
              "  0.011171030136553739,\n",
              "  0.01097293177562264,\n",
              "  0.013302107690849496,\n",
              "  0.012466814275075677,\n",
              "  0.020107286602783603,\n",
              "  0.01726517611745315,\n",
              "  0.027324907648134555,\n",
              "  0.01704994564886242,\n",
              "  0.0022868968732741024,\n",
              "  0.018482946085715213,\n",
              "  0.012274058254840625,\n",
              "  0.012375547167494005,\n",
              "  0.021012164085760787,\n",
              "  0.006181262674214594,\n",
              "  0.016313169740957534,\n",
              "  0.013345803871313677,\n",
              "  0.011707767351404996,\n",
              "  0.000872884107636196,\n",
              "  0.010496429639038851,\n",
              "  0.006565948947292455,\n",
              "  0.014589581962994203,\n",
              "  0.01506075286559394,\n",
              "  -0.0003754484907414479,\n",
              "  0.013427422934059408,\n",
              "  0.008878222738598396,\n",
              "  0.011386633797972223,\n",
              "  0.010048559442674687,\n",
              "  0.006964959798478887,\n",
              "  -0.002047170334204651,\n",
              "  0.01487158565425517],\n",
              " 'x': ['2015-01-01',\n",
              "  '2015-02-01',\n",
              "  '2015-03-01',\n",
              "  '2015-04-01',\n",
              "  '2015-05-01',\n",
              "  '2015-06-01',\n",
              "  '2015-07-01',\n",
              "  '2015-08-01',\n",
              "  '2015-09-01',\n",
              "  '2015-10-01',\n",
              "  '2015-11-01',\n",
              "  '2015-12-01',\n",
              "  '2016-01-01',\n",
              "  '2016-02-01',\n",
              "  '2016-03-01',\n",
              "  '2016-04-01',\n",
              "  '2016-05-01',\n",
              "  '2016-06-01',\n",
              "  '2016-07-01',\n",
              "  '2016-08-01',\n",
              "  '2016-09-01',\n",
              "  '2016-10-01',\n",
              "  '2016-11-01',\n",
              "  '2016-12-01',\n",
              "  '2017-01-01',\n",
              "  '2017-02-01',\n",
              "  '2017-03-01',\n",
              "  '2017-04-01',\n",
              "  '2017-05-01',\n",
              "  '2017-06-01',\n",
              "  '2017-07-01',\n",
              "  '2017-08-01',\n",
              "  '2017-09-01',\n",
              "  '2017-10-01',\n",
              "  '2017-11-01',\n",
              "  '2017-12-01',\n",
              "  '2018-01-01',\n",
              "  '2018-02-01',\n",
              "  '2018-03-01',\n",
              "  '2018-04-01',\n",
              "  '2018-05-01',\n",
              "  '2018-06-01',\n",
              "  '2018-07-01',\n",
              "  '2018-08-01',\n",
              "  '2018-09-01',\n",
              "  '2018-10-01',\n",
              "  '2018-11-01',\n",
              "  '2018-12-01',\n",
              "  '2019-01-01',\n",
              "  '2019-02-01',\n",
              "  '2019-03-01',\n",
              "  '2019-04-01',\n",
              "  '2019-05-01',\n",
              "  '2019-06-01',\n",
              "  '2019-07-01',\n",
              "  '2019-08-01',\n",
              "  '2019-09-01',\n",
              "  '2019-10-01',\n",
              "  '2019-11-01',\n",
              "  '2019-12-01',\n",
              "  '2020-01-01',\n",
              "  '2020-02-01',\n",
              "  '2020-03-01',\n",
              "  '2020-04-01']}"
            ]
          },
          "execution_count": 32,
          "metadata": {},
          "output_type": "execute_result"
        }
      ],
      "source": [
        "s.get_transform_plot_params(remove_time=True)"
      ]
    },
    {
      "attachments": {},
      "cell_type": "markdown",
      "metadata": {},
      "source": [
        "# new autocorrelation functions now in ARIMA model in models.py"
      ]
    },
    {
      "cell_type": "code",
      "execution_count": 29,
      "metadata": {
        "id": "MbB7tLp1RWDB"
      },
      "outputs": [],
      "source": [
        "from tsa.properties import Autocorrelation"
      ]
    },
    {
      "cell_type": "code",
      "execution_count": 30,
      "metadata": {
        "colab": {
          "base_uri": "https://localhost:8080/"
        },
        "id": "s3_Y35fQRcsU",
        "outputId": "2841eca5-abc7-4d7c-c177-b7e789d39530"
      },
      "outputs": [
        {
          "data": {
            "text/plain": [
              "{'title': 'Autocorrelation plot: differencing = 2',\n",
              " 'acf_line': [1.0,\n",
              "  -0.6446784975788444,\n",
              "  0.12292019303393154,\n",
              "  0.06310647099688314,\n",
              "  -0.03970647143847367,\n",
              "  -0.07520242651594654,\n",
              "  0.24217314163259104,\n",
              "  -0.3177051381305487,\n",
              "  0.25970151002374137,\n",
              "  -0.18492307799500382,\n",
              "  0.1462408682593049],\n",
              " 'lower': [-0.245,\n",
              "  -0.245,\n",
              "  -0.245,\n",
              "  -0.245,\n",
              "  -0.245,\n",
              "  -0.245,\n",
              "  -0.245,\n",
              "  -0.245,\n",
              "  -0.245,\n",
              "  -0.245,\n",
              "  -0.245],\n",
              " 'upper': [0.245,\n",
              "  0.245,\n",
              "  0.245,\n",
              "  0.245,\n",
              "  0.245,\n",
              "  0.245,\n",
              "  0.245,\n",
              "  0.245,\n",
              "  0.245,\n",
              "  0.245,\n",
              "  0.245],\n",
              " 'zero': [0, 0, 0, 0, 0, 0, 0, 0, 0, 0, 0],\n",
              " 'x': [0, 1, 2, 3, 4, 5, 6, 7, 8, 9, 10]}"
            ]
          },
          "execution_count": 30,
          "metadata": {},
          "output_type": "execute_result"
        }
      ],
      "source": [
        "a = Autocorrelation()\n",
        "a.autocorrelation(df['Average_cost'], differencing = 2, n_lags = 10)"
      ]
    },
    {
      "cell_type": "code",
      "execution_count": 31,
      "metadata": {
        "colab": {
          "base_uri": "https://localhost:8080/"
        },
        "id": "R9pkPCm8Sepl",
        "outputId": "2fff167e-2bbe-45ad-d613-279322a8b80e"
      },
      "outputs": [
        {
          "name": "stdout",
          "output_type": "stream",
          "text": [
            "As value of statistic is close to 2, series is not autocorrelated.\n"
          ]
        },
        {
          "data": {
            "text/plain": [
              "1.5991785398869105"
            ]
          },
          "execution_count": 31,
          "metadata": {},
          "output_type": "execute_result"
        }
      ],
      "source": [
        "a.durbin_watson_test(df['Average_cost'], summary = True)"
      ]
    },
    {
      "cell_type": "code",
      "execution_count": 32,
      "metadata": {
        "colab": {
          "base_uri": "https://localhost:8080/"
        },
        "id": "4HUGW5bQSoSQ",
        "outputId": "72c2aaac-d62e-4b5b-c051-5fbaa0730fc8"
      },
      "outputs": [
        {
          "data": {
            "text/plain": [
              "(0, 1)"
            ]
          },
          "execution_count": 32,
          "metadata": {},
          "output_type": "execute_result"
        }
      ],
      "source": [
        "a.estimate_q()"
      ]
    },
    {
      "cell_type": "markdown",
      "metadata": {
        "id": "RQng-xtKSxkF"
      },
      "source": [
        "## Partial Autocorrelation"
      ]
    },
    {
      "cell_type": "code",
      "execution_count": 33,
      "metadata": {
        "id": "XFsd6e_pS35f"
      },
      "outputs": [],
      "source": [
        "from tsa.properties import PartialAutocorrelation"
      ]
    },
    {
      "cell_type": "code",
      "execution_count": 34,
      "metadata": {
        "colab": {
          "base_uri": "https://localhost:8080/"
        },
        "id": "8cEXV83BSuP-",
        "outputId": "27f8e4b8-fe72-4ce6-927c-76ee245fd5e8"
      },
      "outputs": [
        {
          "data": {
            "text/plain": [
              "{'title': 'Partial autocorrelation plot: differencing = 2',\n",
              " 'pacf_line': [1.0,\n",
              "  -0.6552469975391533,\n",
              "  -0.5297999964643015,\n",
              "  -0.37398647594800016,\n",
              "  -0.26333409385899426,\n",
              "  -0.4444359056420599,\n",
              "  -0.053952931964065906,\n",
              "  -0.21370376332029964,\n",
              "  0.003286475417334922,\n",
              "  -0.19190795088324855,\n",
              "  -0.019236922760738927],\n",
              " 'lower': [-0.245,\n",
              "  -0.245,\n",
              "  -0.245,\n",
              "  -0.245,\n",
              "  -0.245,\n",
              "  -0.245,\n",
              "  -0.245,\n",
              "  -0.245,\n",
              "  -0.245,\n",
              "  -0.245,\n",
              "  -0.245],\n",
              " 'upper': [0.245,\n",
              "  0.245,\n",
              "  0.245,\n",
              "  0.245,\n",
              "  0.245,\n",
              "  0.245,\n",
              "  0.245,\n",
              "  0.245,\n",
              "  0.245,\n",
              "  0.245,\n",
              "  0.245],\n",
              " 'zero': [0, 0, 0, 0, 0, 0, 0, 0, 0, 0, 0],\n",
              " 'x': [0, 1, 2, 3, 4, 5, 6, 7, 8, 9, 10]}"
            ]
          },
          "execution_count": 34,
          "metadata": {},
          "output_type": "execute_result"
        }
      ],
      "source": [
        "p = PartialAutocorrelation()\n",
        "p.partial_autocorrelation(df['Average_cost'], differencing = 2, n_lags = 10)"
      ]
    },
    {
      "cell_type": "code",
      "execution_count": 35,
      "metadata": {
        "colab": {
          "base_uri": "https://localhost:8080/"
        },
        "id": "noNJE8-LS-Hh",
        "outputId": "a9fdd481-2a6e-4b33-f0ac-47d1743b3b26"
      },
      "outputs": [
        {
          "data": {
            "text/plain": [
              "(0, 1)"
            ]
          },
          "execution_count": 35,
          "metadata": {},
          "output_type": "execute_result"
        }
      ],
      "source": [
        "p.estimate_p()"
      ]
    },
    {
      "cell_type": "markdown",
      "metadata": {
        "id": "zOS-nTrrTHwe"
      },
      "source": [
        "## Cross Correlation"
      ]
    },
    {
      "cell_type": "code",
      "execution_count": 36,
      "metadata": {
        "id": "y9jyITT6TG9l"
      },
      "outputs": [],
      "source": [
        "from tsa.properties import CrossCorrelation"
      ]
    },
    {
      "cell_type": "code",
      "execution_count": 37,
      "metadata": {
        "id": "JPt0olTMTBr8"
      },
      "outputs": [],
      "source": [
        "c = CrossCorrelation(df['Average_cost'], df['Revenue'], df['Period'])"
      ]
    },
    {
      "cell_type": "code",
      "execution_count": 38,
      "metadata": {
        "colab": {
          "base_uri": "https://localhost:8080/"
        },
        "id": "R6SFxDo3Tn4x",
        "outputId": "6ea9f4a0-69a0-4786-b2bb-53eb620af423"
      },
      "outputs": [
        {
          "name": "stdout",
          "output_type": "stream",
          "text": [
            "Max positive correlation is 0.412045324316085 at lag = 1 \n",
            "Max negative correlation is -0.21981598447130393  at lag = 24\n"
          ]
        },
        {
          "data": {
            "text/plain": [
              "-0.07576724848778044"
            ]
          },
          "execution_count": 38,
          "metadata": {},
          "output_type": "execute_result"
        }
      ],
      "source": [
        "c.cross_correlation(20, summary = True)"
      ]
    },
    {
      "cell_type": "markdown",
      "metadata": {
        "id": "LsZmGkgcUuWu"
      },
      "source": [
        "## Granger Causality"
      ]
    },
    {
      "cell_type": "code",
      "execution_count": 39,
      "metadata": {
        "id": "sVoGZLRiUi2o"
      },
      "outputs": [],
      "source": [
        "from tsa.properties import granger_causality_matrix"
      ]
    },
    {
      "cell_type": "code",
      "execution_count": 40,
      "metadata": {
        "colab": {
          "base_uri": "https://localhost:8080/",
          "height": 182
        },
        "id": "h-cZuG6HU2Ca",
        "outputId": "86b2cb7d-85f1-4037-8291-e050a8de6051"
      },
      "outputs": [
        {
          "name": "stdout",
          "output_type": "stream",
          "text": [
            "Revenue \"granger causes\" Average_cost with p-value of 0.0.\n",
            "\n",
            "Average_cost \"granger causes\" Revenue with p-value of 0.0.\n",
            "\n"
          ]
        },
        {
          "data": {
            "text/html": [
              "\n",
              "  <div id=\"df-0c8bb5e4-4ddd-49b1-9329-21a225e13841\">\n",
              "    <div class=\"colab-df-container\">\n",
              "      <div>\n",
              "<style scoped>\n",
              "    .dataframe tbody tr th:only-of-type {\n",
              "        vertical-align: middle;\n",
              "    }\n",
              "\n",
              "    .dataframe tbody tr th {\n",
              "        vertical-align: top;\n",
              "    }\n",
              "\n",
              "    .dataframe thead th {\n",
              "        text-align: right;\n",
              "    }\n",
              "</style>\n",
              "<table border=\"1\" class=\"dataframe\">\n",
              "  <thead>\n",
              "    <tr style=\"text-align: right;\">\n",
              "      <th></th>\n",
              "      <th>Average_cost_x</th>\n",
              "      <th>Revenue_x</th>\n",
              "    </tr>\n",
              "  </thead>\n",
              "  <tbody>\n",
              "    <tr>\n",
              "      <th>Average_cost_y</th>\n",
              "      <td>1.0</td>\n",
              "      <td>0.0</td>\n",
              "    </tr>\n",
              "    <tr>\n",
              "      <th>Revenue_y</th>\n",
              "      <td>0.0</td>\n",
              "      <td>1.0</td>\n",
              "    </tr>\n",
              "  </tbody>\n",
              "</table>\n",
              "</div>\n",
              "      <button class=\"colab-df-convert\" onclick=\"convertToInteractive('df-0c8bb5e4-4ddd-49b1-9329-21a225e13841')\"\n",
              "              title=\"Convert this dataframe to an interactive table.\"\n",
              "              style=\"display:none;\">\n",
              "        \n",
              "  <svg xmlns=\"http://www.w3.org/2000/svg\" height=\"24px\"viewBox=\"0 0 24 24\"\n",
              "       width=\"24px\">\n",
              "    <path d=\"M0 0h24v24H0V0z\" fill=\"none\"/>\n",
              "    <path d=\"M18.56 5.44l.94 2.06.94-2.06 2.06-.94-2.06-.94-.94-2.06-.94 2.06-2.06.94zm-11 1L8.5 8.5l.94-2.06 2.06-.94-2.06-.94L8.5 2.5l-.94 2.06-2.06.94zm10 10l.94 2.06.94-2.06 2.06-.94-2.06-.94-.94-2.06-.94 2.06-2.06.94z\"/><path d=\"M17.41 7.96l-1.37-1.37c-.4-.4-.92-.59-1.43-.59-.52 0-1.04.2-1.43.59L10.3 9.45l-7.72 7.72c-.78.78-.78 2.05 0 2.83L4 21.41c.39.39.9.59 1.41.59.51 0 1.02-.2 1.41-.59l7.78-7.78 2.81-2.81c.8-.78.8-2.07 0-2.86zM5.41 20L4 18.59l7.72-7.72 1.47 1.35L5.41 20z\"/>\n",
              "  </svg>\n",
              "      </button>\n",
              "      \n",
              "  <style>\n",
              "    .colab-df-container {\n",
              "      display:flex;\n",
              "      flex-wrap:wrap;\n",
              "      gap: 12px;\n",
              "    }\n",
              "\n",
              "    .colab-df-convert {\n",
              "      background-color: #E8F0FE;\n",
              "      border: none;\n",
              "      border-radius: 50%;\n",
              "      cursor: pointer;\n",
              "      display: none;\n",
              "      fill: #1967D2;\n",
              "      height: 32px;\n",
              "      padding: 0 0 0 0;\n",
              "      width: 32px;\n",
              "    }\n",
              "\n",
              "    .colab-df-convert:hover {\n",
              "      background-color: #E2EBFA;\n",
              "      box-shadow: 0px 1px 2px rgba(60, 64, 67, 0.3), 0px 1px 3px 1px rgba(60, 64, 67, 0.15);\n",
              "      fill: #174EA6;\n",
              "    }\n",
              "\n",
              "    [theme=dark] .colab-df-convert {\n",
              "      background-color: #3B4455;\n",
              "      fill: #D2E3FC;\n",
              "    }\n",
              "\n",
              "    [theme=dark] .colab-df-convert:hover {\n",
              "      background-color: #434B5C;\n",
              "      box-shadow: 0px 1px 3px 1px rgba(0, 0, 0, 0.15);\n",
              "      filter: drop-shadow(0px 1px 2px rgba(0, 0, 0, 0.3));\n",
              "      fill: #FFFFFF;\n",
              "    }\n",
              "  </style>\n",
              "\n",
              "      <script>\n",
              "        const buttonEl =\n",
              "          document.querySelector('#df-0c8bb5e4-4ddd-49b1-9329-21a225e13841 button.colab-df-convert');\n",
              "        buttonEl.style.display =\n",
              "          google.colab.kernel.accessAllowed ? 'block' : 'none';\n",
              "\n",
              "        async function convertToInteractive(key) {\n",
              "          const element = document.querySelector('#df-0c8bb5e4-4ddd-49b1-9329-21a225e13841');\n",
              "          const dataTable =\n",
              "            await google.colab.kernel.invokeFunction('convertToInteractive',\n",
              "                                                     [key], {});\n",
              "          if (!dataTable) return;\n",
              "\n",
              "          const docLinkHtml = 'Like what you see? Visit the ' +\n",
              "            '<a target=\"_blank\" href=https://colab.research.google.com/notebooks/data_table.ipynb>data table notebook</a>'\n",
              "            + ' to learn more about interactive tables.';\n",
              "          element.innerHTML = '';\n",
              "          dataTable['output_type'] = 'display_data';\n",
              "          await google.colab.output.renderOutput(dataTable, element);\n",
              "          const docLink = document.createElement('div');\n",
              "          docLink.innerHTML = docLinkHtml;\n",
              "          element.appendChild(docLink);\n",
              "        }\n",
              "      </script>\n",
              "    </div>\n",
              "  </div>\n",
              "  "
            ],
            "text/plain": [
              "                Average_cost_x  Revenue_x\n",
              "Average_cost_y             1.0        0.0\n",
              "Revenue_y                  0.0        1.0"
            ]
          },
          "execution_count": 40,
          "metadata": {},
          "output_type": "execute_result"
        }
      ],
      "source": [
        "granger_causality_matrix(df, ['Average_cost', 'Revenue'], summary = True)"
      ]
    },
    {
      "cell_type": "markdown",
      "metadata": {
        "id": "Cbljhk9zVWmn"
      },
      "source": [
        "## Differencing"
      ]
    },
    {
      "cell_type": "code",
      "execution_count": 41,
      "metadata": {
        "id": "ScJYOGn2VKFG"
      },
      "outputs": [],
      "source": [
        "from tsa.properties import Differencing"
      ]
    },
    {
      "cell_type": "code",
      "execution_count": 42,
      "metadata": {
        "id": "BM7nlyp5WLLQ"
      },
      "outputs": [],
      "source": [
        "d = Differencing(df, 'Revenue', 'Period')"
      ]
    },
    {
      "cell_type": "code",
      "execution_count": 43,
      "metadata": {
        "colab": {
          "base_uri": "https://localhost:8080/"
        },
        "id": "TMU5dqTfWPxB",
        "outputId": "203fae9e-1acd-4f89-f070-b8b79d6920c2"
      },
      "outputs": [
        {
          "name": "stdout",
          "output_type": "stream",
          "text": [
            "p-value:  1.2441377995538413e-06 \n",
            "As p-value is lesser than 0.05, transformed series is stationary.\n"
          ]
        }
      ],
      "source": [
        "d.adf_test()"
      ]
    },
    {
      "cell_type": "code",
      "execution_count": 44,
      "metadata": {
        "colab": {
          "base_uri": "https://localhost:8080/"
        },
        "id": "m38JQoNzWpxs",
        "outputId": "3ce0f45b-00b8-45b3-9a91-1f362b676de9"
      },
      "outputs": [
        {
          "data": {
            "text/plain": [
              "{'data': [-202484.66969200037,\n",
              "  6239558.573836001,\n",
              "  -3232562.7293640003,\n",
              "  -4793103.6826019995,\n",
              "  2762448.910434,\n",
              "  2377963.6727599986,\n",
              "  -3956907.8981299996,\n",
              "  5398955.678358,\n",
              "  388934.8050360009,\n",
              "  -5999505.122506,\n",
              "  12798437.982218001,\n",
              "  809778.856151998,\n",
              "  -6234512.430415999,\n",
              "  7371534.502416,\n",
              "  -1387600.6292000003,\n",
              "  -13086404.203935,\n",
              "  9121054.342190998,\n",
              "  5100858.992899001,\n",
              "  -14216399.813454999,\n",
              "  20870910.3055,\n",
              "  -8225883.906999998,\n",
              "  -6643094.309599999,\n",
              "  20742110.53856,\n",
              "  -6006779.213959999,\n",
              "  -5610605.2916,\n",
              "  17281355.347629998,\n",
              "  -20664165.997706,\n",
              "  -2065120.0303240009,\n",
              "  6152500.8450000025,\n",
              "  2747476.6855439954,\n",
              "  -17394155.270543996,\n",
              "  15195425.693999998,\n",
              "  -77887.02959999815,\n",
              "  -9125834.595600002,\n",
              "  22519754.742799997,\n",
              "  -898604.9115999937,\n",
              "  -8047233.702700004,\n",
              "  10975703.257200003,\n",
              "  -11459502.727700002,\n",
              "  -5836888.5088,\n",
              "  3561466.2126,\n",
              "  2565469.518600002,\n",
              "  -12557879.696000002,\n",
              "  12154834.638800003,\n",
              "  4408075.847400002,\n",
              "  -6832420.487800002,\n",
              "  14222682.992200002,\n",
              "  -10761868.110315003,\n",
              "  86538.57152999938,\n",
              "  17652208.056585,\n",
              "  -21454717.114,\n",
              "  -212332.06589999795,\n",
              "  15178044.094899997,\n",
              "  -1717560.060619995,\n",
              "  -9058476.551980004,\n",
              "  11592595.112400003,\n",
              "  -4365843.952,\n",
              "  -7785459.688000001,\n",
              "  22381517.1664,\n",
              "  -2468172.790800005,\n",
              "  -16063057.605999999,\n",
              "  9796921.968500003,\n",
              "  2298527.7102999985],\n",
              " 'x': ['2015-01-01',\n",
              "  '2015-02-01',\n",
              "  '2015-03-01',\n",
              "  '2015-04-01',\n",
              "  '2015-05-01',\n",
              "  '2015-06-01',\n",
              "  '2015-07-01',\n",
              "  '2015-08-01',\n",
              "  '2015-09-01',\n",
              "  '2015-10-01',\n",
              "  '2015-11-01',\n",
              "  '2015-12-01',\n",
              "  '2016-01-01',\n",
              "  '2016-02-01',\n",
              "  '2016-03-01',\n",
              "  '2016-04-01',\n",
              "  '2016-05-01',\n",
              "  '2016-06-01',\n",
              "  '2016-07-01',\n",
              "  '2016-08-01',\n",
              "  '2016-09-01',\n",
              "  '2016-10-01',\n",
              "  '2016-11-01',\n",
              "  '2016-12-01',\n",
              "  '2017-01-01',\n",
              "  '2017-02-01',\n",
              "  '2017-03-01',\n",
              "  '2017-04-01',\n",
              "  '2017-05-01',\n",
              "  '2017-06-01',\n",
              "  '2017-07-01',\n",
              "  '2017-08-01',\n",
              "  '2017-09-01',\n",
              "  '2017-10-01',\n",
              "  '2017-11-01',\n",
              "  '2017-12-01',\n",
              "  '2018-01-01',\n",
              "  '2018-02-01',\n",
              "  '2018-03-01',\n",
              "  '2018-04-01',\n",
              "  '2018-05-01',\n",
              "  '2018-06-01',\n",
              "  '2018-07-01',\n",
              "  '2018-08-01',\n",
              "  '2018-09-01',\n",
              "  '2018-10-01',\n",
              "  '2018-11-01',\n",
              "  '2018-12-01',\n",
              "  '2019-01-01',\n",
              "  '2019-02-01',\n",
              "  '2019-03-01',\n",
              "  '2019-04-01',\n",
              "  '2019-05-01',\n",
              "  '2019-06-01',\n",
              "  '2019-07-01',\n",
              "  '2019-08-01',\n",
              "  '2019-09-01',\n",
              "  '2019-10-01',\n",
              "  '2019-11-01',\n",
              "  '2019-12-01',\n",
              "  '2020-01-01',\n",
              "  '2020-02-01',\n",
              "  '2020-03-01',\n",
              "  '2020-04-01']}"
            ]
          },
          "execution_count": 44,
          "metadata": {},
          "output_type": "execute_result"
        }
      ],
      "source": [
        "d.plot_diff()"
      ]
    },
    {
      "cell_type": "code",
      "execution_count": 45,
      "metadata": {
        "id": "khGEc7_6Wt5a"
      },
      "outputs": [],
      "source": [
        "from tsa.visualization import *"
      ]
    },
    {
      "cell_type": "code",
      "execution_count": 46,
      "metadata": {
        "colab": {
          "base_uri": "https://localhost:8080/"
        },
        "id": "577OwIl0Zl1R",
        "outputId": "1ab133c4-5e78-476b-bae3-3e9d459ca680"
      },
      "outputs": [
        {
          "data": {
            "text/plain": [
              "{'t': 'Waterall Plot',\n",
              " 'x': ['2015-01-01',\n",
              "  '2015-02-01',\n",
              "  '2015-03-01',\n",
              "  '2015-04-01',\n",
              "  '2015-05-01',\n",
              "  '2015-06-01',\n",
              "  '2015-07-01',\n",
              "  '2015-08-01',\n",
              "  '2015-09-01',\n",
              "  '2015-10-01',\n",
              "  '2015-11-01',\n",
              "  '2015-12-01',\n",
              "  '2016-01-01',\n",
              "  '2016-02-01',\n",
              "  '2016-03-01',\n",
              "  '2016-04-01',\n",
              "  '2016-05-01',\n",
              "  '2016-06-01',\n",
              "  '2016-07-01',\n",
              "  '2016-08-01',\n",
              "  '2016-09-01',\n",
              "  '2016-10-01',\n",
              "  '2016-11-01',\n",
              "  '2016-12-01',\n",
              "  '2017-01-01',\n",
              "  '2017-02-01',\n",
              "  '2017-03-01',\n",
              "  '2017-04-01',\n",
              "  '2017-05-01',\n",
              "  '2017-06-01',\n",
              "  '2017-07-01',\n",
              "  '2017-08-01',\n",
              "  '2017-09-01',\n",
              "  '2017-10-01',\n",
              "  '2017-11-01',\n",
              "  '2017-12-01',\n",
              "  '2018-01-01',\n",
              "  '2018-02-01',\n",
              "  '2018-03-01',\n",
              "  '2018-04-01',\n",
              "  '2018-05-01',\n",
              "  '2018-06-01',\n",
              "  '2018-07-01',\n",
              "  '2018-08-01',\n",
              "  '2018-09-01',\n",
              "  '2018-10-01',\n",
              "  '2018-11-01',\n",
              "  '2018-12-01',\n",
              "  '2019-01-01',\n",
              "  '2019-02-01',\n",
              "  '2019-03-01',\n",
              "  '2019-04-01',\n",
              "  '2019-05-01',\n",
              "  '2019-06-01',\n",
              "  '2019-07-01',\n",
              "  '2019-08-01',\n",
              "  '2019-09-01',\n",
              "  '2019-10-01',\n",
              "  '2019-11-01',\n",
              "  '2019-12-01',\n",
              "  '2020-01-01',\n",
              "  '2020-02-01',\n",
              "  '2020-03-01',\n",
              "  '2020-04-01'],\n",
              " 'y': [0,\n",
              "  15807587.45,\n",
              "  15807587.449808,\n",
              "  18814583.29,\n",
              "  14021479.61,\n",
              "  14021479.611678,\n",
              "  16783928.522112,\n",
              "  15204984.3,\n",
              "  15204984.296742,\n",
              "  20603939.9751,\n",
              "  14993369.66,\n",
              "  14993369.65763,\n",
              "  27791807.639848,\n",
              "  22367074.07,\n",
              "  22367074.065584,\n",
              "  28351007.94,\n",
              "  15264603.73,\n",
              "  15264603.734865,\n",
              "  24385658.077056,\n",
              "  15270117.26,\n",
              "  15270117.2565,\n",
              "  27915143.66,\n",
              "  21272049.35,\n",
              "  21272049.3454,\n",
              "  36007380.67,\n",
              "  30396775.38,\n",
              "  30396775.3784,\n",
              "  27013964.73,\n",
              "  24948844.7,\n",
              "  24948844.698,\n",
              "  31101345.543,\n",
              "  16454666.96,\n",
              "  16454666.958,\n",
              "  31572205.62,\n",
              "  22446371.03,\n",
              "  22446371.0268,\n",
              "  44067520.86,\n",
              "  36020287.16,\n",
              "  36020287.1553,\n",
              "  35536487.68,\n",
              "  29699599.18,\n",
              "  29699599.176,\n",
              "  33261065.3886,\n",
              "  23268655.21,\n",
              "  23268655.2112,\n",
              "  35423489.85,\n",
              "  32999145.21,\n",
              "  32999145.2096,\n",
              "  36459960.09,\n",
              "  36459960.091485,\n",
              "  36546498.663015,\n",
              "  32743989.61,\n",
              "  32531657.54,\n",
              "  32531657.5397,\n",
              "  45992141.57,\n",
              "  36933665.02,\n",
              "  36933665.022,\n",
              "  44160416.18,\n",
              "  36374956.49,\n",
              "  36374956.4944,\n",
              "  56288300.87,\n",
              "  40225243.26,\n",
              "  40225243.264,\n",
              "  50022165.2325],\n",
              " 'i': [16010072.1195,\n",
              "  '-',\n",
              "  6239558.57,\n",
              "  '-',\n",
              "  '-',\n",
              "  2762448.91,\n",
              "  2377963.67,\n",
              "  '-',\n",
              "  5398955.68,\n",
              "  388934.81,\n",
              "  '-',\n",
              "  12798437.98,\n",
              "  809778.86,\n",
              "  '-',\n",
              "  7371534.5,\n",
              "  '-',\n",
              "  '-',\n",
              "  9121054.34,\n",
              "  5100858.99,\n",
              "  '-',\n",
              "  20870910.31,\n",
              "  '-',\n",
              "  '-',\n",
              "  20742110.54,\n",
              "  '-',\n",
              "  '-',\n",
              "  17281355.35,\n",
              "  '-',\n",
              "  '-',\n",
              "  6152500.85,\n",
              "  2747476.69,\n",
              "  '-',\n",
              "  15195425.69,\n",
              "  '-',\n",
              "  '-',\n",
              "  22519754.74,\n",
              "  '-',\n",
              "  '-',\n",
              "  10975703.26,\n",
              "  '-',\n",
              "  '-',\n",
              "  3561466.21,\n",
              "  2565469.52,\n",
              "  '-',\n",
              "  12154834.64,\n",
              "  4408075.85,\n",
              "  '-',\n",
              "  14222682.99,\n",
              "  '-',\n",
              "  86538.57,\n",
              "  17652208.06,\n",
              "  '-',\n",
              "  '-',\n",
              "  15178044.09,\n",
              "  '-',\n",
              "  '-',\n",
              "  11592595.11,\n",
              "  '-',\n",
              "  '-',\n",
              "  22381517.17,\n",
              "  '-',\n",
              "  '-',\n",
              "  9796921.97,\n",
              "  2298527.71],\n",
              " 'd': ['-',\n",
              "  202484.67,\n",
              "  '-',\n",
              "  3232562.73,\n",
              "  4793103.68,\n",
              "  '-',\n",
              "  '-',\n",
              "  3956907.9,\n",
              "  '-',\n",
              "  '-',\n",
              "  5999505.12,\n",
              "  '-',\n",
              "  '-',\n",
              "  6234512.43,\n",
              "  '-',\n",
              "  1387600.63,\n",
              "  13086404.2,\n",
              "  '-',\n",
              "  '-',\n",
              "  14216399.81,\n",
              "  '-',\n",
              "  8225883.91,\n",
              "  6643094.31,\n",
              "  '-',\n",
              "  6006779.21,\n",
              "  5610605.29,\n",
              "  '-',\n",
              "  20664166.0,\n",
              "  2065120.03,\n",
              "  '-',\n",
              "  '-',\n",
              "  17394155.27,\n",
              "  '-',\n",
              "  77887.03,\n",
              "  9125834.6,\n",
              "  '-',\n",
              "  898604.91,\n",
              "  8047233.7,\n",
              "  '-',\n",
              "  11459502.73,\n",
              "  5836888.51,\n",
              "  '-',\n",
              "  '-',\n",
              "  12557879.7,\n",
              "  '-',\n",
              "  '-',\n",
              "  6832420.49,\n",
              "  '-',\n",
              "  10761868.11,\n",
              "  '-',\n",
              "  '-',\n",
              "  21454717.11,\n",
              "  212332.07,\n",
              "  '-',\n",
              "  1717560.06,\n",
              "  9058476.55,\n",
              "  '-',\n",
              "  4365843.95,\n",
              "  7785459.69,\n",
              "  '-',\n",
              "  2468172.79,\n",
              "  16063057.61,\n",
              "  '-',\n",
              "  '-']}"
            ]
          },
          "execution_count": 46,
          "metadata": {},
          "output_type": "execute_result"
        }
      ],
      "source": [
        "waterfall_plot(df, 'Period', 'Revenue', title = 'Waterall Plot')"
      ]
    },
    {
      "cell_type": "code",
      "execution_count": 47,
      "metadata": {
        "colab": {
          "base_uri": "https://localhost:8080/"
        },
        "id": "u3WRT9zcZyoE",
        "outputId": "d4d65008-5c4d-4b49-df6b-9b66a6fa1d09"
      },
      "outputs": [
        {
          "name": "stderr",
          "output_type": "stream",
          "text": [
            "/usr/local/lib/python3.10/dist-packages/sklearn/cluster/_kmeans.py:870: FutureWarning: The default value of `n_init` will change from 10 to 'auto' in 1.4. Set the value of `n_init` explicitly to suppress the warning\n",
            "  warnings.warn(\n"
          ]
        },
        {
          "data": {
            "text/plain": [
              "[[1583.56654101094, 1916.08518522441],\n",
              " [1384.69702447205, 1275.37450775927],\n",
              " [2034.50954526008, 1554.41044374413],\n",
              " [1955.07420512918, 1985.40003850525],\n",
              " [1543.42046444088, 1535.88274839571],\n",
              " [2559.32818390964, 1654.38470434348],\n",
              " [1917.34882652797, 2559.32818390964],\n",
              " [1256.80855785502, 1621.60469862043],\n",
              " [1554.41044374413, 2092.43091047266],\n",
              " [1759.03399122946, 1513.11255359749],\n",
              " [1784.70755698176, 1836.67515714457],\n",
              " [1257.76354148008, 1235.60670481907],\n",
              " [1654.38470434348, 1711.05718082437],\n",
              " [1931.81031226235, 1669.57476395649],\n",
              " [2224.28431546538, 1612.87558139155],\n",
              " [1916.08518522441, 2315.00832309548],\n",
              " [1157.58890433615, 1861.4765047836],\n",
              " [1235.60670481907, 1110.57680508126],\n",
              " [1458.37660200435, 1620.32790003103],\n",
              " [1617.51143103643, 2224.28431546538],\n",
              " [2098.46884035133, 1659.9788062399],\n",
              " [2070.64085013243, 1965.83479026113],\n",
              " [1516.54635884922, 1422.04439430843],\n",
              " [1621.60469862043, 1614.83730064605],\n",
              " [1861.4765047836, 2038.3210826659],\n",
              " [1759.4288702548, 1383.02459714325],\n",
              " [2315.00832309548, 1705.32355249249],\n",
              " [1110.57680508126, 1157.58890433615],\n",
              " [1358.50699981162, 1626.62176469582],\n",
              " [1508.31740526655, 1891.10130334343],\n",
              " [1878.72042497324, 1471.61914992883],\n",
              " [1620.32790003103, 1441.93286463779],\n",
              " [1659.9788062399, 2070.64085013243],\n",
              " [1470.64853382439, 2098.46884035133],\n",
              " [1836.67515714457, 1583.56654101094],\n",
              " [1690.08965330258, 1917.34882652797],\n",
              " [2038.3210826659, 1878.72042497324],\n",
              " [1441.93286463779, 1516.54635884922],\n",
              " [1947.41180122846, 1759.03399122946],\n",
              " [2132.00193439517, 1508.31740526655],\n",
              " [1911.59955263242, 2086.88169846471],\n",
              " [1700.53022622854, 1784.70755698176],\n",
              " [1654.4148913772, 1570.02295014634],\n",
              " [1461.35228039063, 1955.07420512918],\n",
              " [1891.10130334343, 1617.51143103643],\n",
              " [1985.40003850525, 1931.81031226235],\n",
              " [1383.02459714325, 1700.53022622854],\n",
              " [1614.83730064605, 2034.50954526008],\n",
              " [1626.62176469582, 1759.4288702548],\n",
              " [1570.02295014634, 1458.37660200435],\n",
              " [1705.32355249249, 1461.35228039063],\n",
              " [2086.88169846471, 1543.42046444088],\n",
              " [1276.25990926041, 1256.80855785502],\n",
              " [1612.87558139155, 1947.41180122846],\n",
              " [1513.11255359749, 1470.64853382439],\n",
              " [1623.7366823332, 1911.59955263242],\n",
              " [1422.04439430843, 1623.7366823332],\n",
              " [1471.61914992883, 2132.00193439517],\n",
              " [1669.57476395649, 1690.08965330258],\n",
              " [1275.37450775927, 1276.25990926041],\n",
              " [2092.43091047266, 1654.4148913772]]"
            ]
          },
          "execution_count": 47,
          "metadata": {},
          "output_type": "execute_result"
        }
      ],
      "source": [
        "lag_plot(df['Average_cost'], 3)"
      ]
    },
    {
      "cell_type": "code",
      "execution_count": 48,
      "metadata": {
        "colab": {
          "base_uri": "https://localhost:8080/"
        },
        "id": "p_og6P3ncw-b",
        "outputId": "50a01436-2c91-4b07-9e75-bc72a0d05aeb"
      },
      "outputs": [
        {
          "data": {
            "text/plain": [
              "{'title': 'Revenue and Average Cost',\n",
              " 'names': ['Revenue', 'Average_cost'],\n",
              " 'vals': [[16010072.1195,\n",
              "   15807587.449808,\n",
              "   22047146.023644,\n",
              "   18814583.29428,\n",
              "   14021479.611678,\n",
              "   16783928.522112,\n",
              "   19161892.194872,\n",
              "   15204984.296742,\n",
              "   20603939.9751,\n",
              "   20992874.780136,\n",
              "   14993369.65763,\n",
              "   27791807.639848,\n",
              "   28601586.496,\n",
              "   22367074.065584,\n",
              "   29738608.568,\n",
              "   28351007.9388,\n",
              "   15264603.734865,\n",
              "   24385658.077056,\n",
              "   29486517.069955,\n",
              "   15270117.2565,\n",
              "   36141027.562,\n",
              "   27915143.655,\n",
              "   21272049.3454,\n",
              "   42014159.88396,\n",
              "   36007380.67,\n",
              "   30396775.3784,\n",
              "   47678130.72603,\n",
              "   27013964.728324,\n",
              "   24948844.698,\n",
              "   31101345.543,\n",
              "   33848822.228544,\n",
              "   16454666.958,\n",
              "   31650092.652,\n",
              "   31572205.6224,\n",
              "   22446371.0268,\n",
              "   44966125.7696,\n",
              "   44067520.858,\n",
              "   36020287.1553,\n",
              "   46995990.4125,\n",
              "   35536487.6848,\n",
              "   29699599.176,\n",
              "   33261065.3886,\n",
              "   35826534.9072,\n",
              "   23268655.2112,\n",
              "   35423489.85,\n",
              "   39831565.6974,\n",
              "   32999145.2096,\n",
              "   47221828.2018,\n",
              "   36459960.091485,\n",
              "   36546498.663015,\n",
              "   54198706.7196,\n",
              "   32743989.6056,\n",
              "   32531657.5397,\n",
              "   47709701.6346,\n",
              "   45992141.57398,\n",
              "   36933665.022,\n",
              "   48526260.1344,\n",
              "   44160416.1824,\n",
              "   36374956.4944,\n",
              "   58756473.6608,\n",
              "   56288300.87,\n",
              "   40225243.264,\n",
              "   50022165.2325,\n",
              "   52320692.9428],\n",
              "  [1257.76354148008,\n",
              "   1358.50699981162,\n",
              "   1384.69702447205,\n",
              "   1235.60670481907,\n",
              "   1626.62176469582,\n",
              "   1275.37450775927,\n",
              "   1110.57680508126,\n",
              "   1759.4288702548,\n",
              "   1276.25990926041,\n",
              "   1157.58890433615,\n",
              "   1383.02459714325,\n",
              "   1256.80855785502,\n",
              "   1861.4765047836,\n",
              "   1700.53022622854,\n",
              "   1621.60469862043,\n",
              "   2038.3210826659,\n",
              "   1784.70755698176,\n",
              "   1614.83730064605,\n",
              "   1878.72042497324,\n",
              "   1836.67515714457,\n",
              "   2034.50954526008,\n",
              "   1471.61914992883,\n",
              "   1583.56654101094,\n",
              "   1554.41044374413,\n",
              "   2132.00193439517,\n",
              "   1916.08518522441,\n",
              "   2092.43091047266,\n",
              "   1508.31740526655,\n",
              "   2315.00832309548,\n",
              "   1654.4148913772,\n",
              "   1891.10130334343,\n",
              "   1705.32355249249,\n",
              "   1570.02295014634,\n",
              "   1617.51143103643,\n",
              "   1461.35228039063,\n",
              "   1458.37660200435,\n",
              "   2224.28431546538,\n",
              "   1955.07420512918,\n",
              "   1620.32790003103,\n",
              "   1612.87558139155,\n",
              "   1985.40003850525,\n",
              "   1441.93286463779,\n",
              "   1947.41180122846,\n",
              "   1931.81031226235,\n",
              "   1516.54635884922,\n",
              "   1759.03399122946,\n",
              "   1669.57476395649,\n",
              "   1422.04439430843,\n",
              "   1513.11255359749,\n",
              "   1690.08965330258,\n",
              "   1623.7366823332,\n",
              "   1470.64853382439,\n",
              "   1917.34882652797,\n",
              "   1911.59955263242,\n",
              "   2098.46884035133,\n",
              "   2559.32818390964,\n",
              "   2086.88169846471,\n",
              "   1659.9788062399,\n",
              "   1654.38470434348,\n",
              "   1543.42046444088,\n",
              "   2070.64085013243,\n",
              "   1711.05718082437,\n",
              "   1535.88274839571,\n",
              "   1965.83479026113]],\n",
              " 'x': ['2015-01-01',\n",
              "  '2015-02-01',\n",
              "  '2015-03-01',\n",
              "  '2015-04-01',\n",
              "  '2015-05-01',\n",
              "  '2015-06-01',\n",
              "  '2015-07-01',\n",
              "  '2015-08-01',\n",
              "  '2015-09-01',\n",
              "  '2015-10-01',\n",
              "  '2015-11-01',\n",
              "  '2015-12-01',\n",
              "  '2016-01-01',\n",
              "  '2016-02-01',\n",
              "  '2016-03-01',\n",
              "  '2016-04-01',\n",
              "  '2016-05-01',\n",
              "  '2016-06-01',\n",
              "  '2016-07-01',\n",
              "  '2016-08-01',\n",
              "  '2016-09-01',\n",
              "  '2016-10-01',\n",
              "  '2016-11-01',\n",
              "  '2016-12-01',\n",
              "  '2017-01-01',\n",
              "  '2017-02-01',\n",
              "  '2017-03-01',\n",
              "  '2017-04-01',\n",
              "  '2017-05-01',\n",
              "  '2017-06-01',\n",
              "  '2017-07-01',\n",
              "  '2017-08-01',\n",
              "  '2017-09-01',\n",
              "  '2017-10-01',\n",
              "  '2017-11-01',\n",
              "  '2017-12-01',\n",
              "  '2018-01-01',\n",
              "  '2018-02-01',\n",
              "  '2018-03-01',\n",
              "  '2018-04-01',\n",
              "  '2018-05-01',\n",
              "  '2018-06-01',\n",
              "  '2018-07-01',\n",
              "  '2018-08-01',\n",
              "  '2018-09-01',\n",
              "  '2018-10-01',\n",
              "  '2018-11-01',\n",
              "  '2018-12-01',\n",
              "  '2019-01-01',\n",
              "  '2019-02-01',\n",
              "  '2019-03-01',\n",
              "  '2019-04-01',\n",
              "  '2019-05-01',\n",
              "  '2019-06-01',\n",
              "  '2019-07-01',\n",
              "  '2019-08-01',\n",
              "  '2019-09-01',\n",
              "  '2019-10-01',\n",
              "  '2019-11-01',\n",
              "  '2019-12-01',\n",
              "  '2020-01-01',\n",
              "  '2020-02-01',\n",
              "  '2020-03-01',\n",
              "  '2020-04-01']}"
            ]
          },
          "execution_count": 48,
          "metadata": {},
          "output_type": "execute_result"
        }
      ],
      "source": [
        "stacked_area_plot(df, ['Revenue', 'Average_cost'], 'Period', 'Revenue and Average Cost')"
      ]
    },
    {
      "cell_type": "code",
      "execution_count": 49,
      "metadata": {
        "colab": {
          "base_uri": "https://localhost:8080/"
        },
        "id": "2V3KEvT2dKxZ",
        "outputId": "e48f395f-bc50-43b6-8282-01ac7b34b57c"
      },
      "outputs": [
        {
          "data": {
            "text/plain": [
              "{'data': [['2015-01-01', 16010072.1195, 'Revenue'],\n",
              "  ['2015-02-01', 15807587.449808, 'Revenue'],\n",
              "  ['2015-03-01', 22047146.023644, 'Revenue'],\n",
              "  ['2015-04-01', 18814583.29428, 'Revenue'],\n",
              "  ['2015-05-01', 14021479.611678, 'Revenue'],\n",
              "  ['2015-06-01', 16783928.522112, 'Revenue'],\n",
              "  ['2015-07-01', 19161892.194872, 'Revenue'],\n",
              "  ['2015-08-01', 15204984.296742, 'Revenue'],\n",
              "  ['2015-09-01', 20603939.9751, 'Revenue'],\n",
              "  ['2015-10-01', 20992874.780136, 'Revenue'],\n",
              "  ['2015-11-01', 14993369.65763, 'Revenue'],\n",
              "  ['2015-12-01', 27791807.639848, 'Revenue'],\n",
              "  ['2016-01-01', 28601586.496, 'Revenue'],\n",
              "  ['2016-02-01', 22367074.065584, 'Revenue'],\n",
              "  ['2016-03-01', 29738608.568, 'Revenue'],\n",
              "  ['2016-04-01', 28351007.9388, 'Revenue'],\n",
              "  ['2016-05-01', 15264603.734865, 'Revenue'],\n",
              "  ['2016-06-01', 24385658.077056, 'Revenue'],\n",
              "  ['2016-07-01', 29486517.069955, 'Revenue'],\n",
              "  ['2016-08-01', 15270117.2565, 'Revenue'],\n",
              "  ['2016-09-01', 36141027.562, 'Revenue'],\n",
              "  ['2016-10-01', 27915143.655, 'Revenue'],\n",
              "  ['2016-11-01', 21272049.3454, 'Revenue'],\n",
              "  ['2016-12-01', 42014159.88396, 'Revenue'],\n",
              "  ['2017-01-01', 36007380.67, 'Revenue'],\n",
              "  ['2017-02-01', 30396775.3784, 'Revenue'],\n",
              "  ['2017-03-01', 47678130.72603, 'Revenue'],\n",
              "  ['2017-04-01', 27013964.728324, 'Revenue'],\n",
              "  ['2017-05-01', 24948844.698, 'Revenue'],\n",
              "  ['2017-06-01', 31101345.543, 'Revenue'],\n",
              "  ['2017-07-01', 33848822.228544, 'Revenue'],\n",
              "  ['2017-08-01', 16454666.958, 'Revenue'],\n",
              "  ['2017-09-01', 31650092.652, 'Revenue'],\n",
              "  ['2017-10-01', 31572205.6224, 'Revenue'],\n",
              "  ['2017-11-01', 22446371.0268, 'Revenue'],\n",
              "  ['2017-12-01', 44966125.7696, 'Revenue'],\n",
              "  ['2018-01-01', 44067520.858, 'Revenue'],\n",
              "  ['2018-02-01', 36020287.1553, 'Revenue'],\n",
              "  ['2018-03-01', 46995990.4125, 'Revenue'],\n",
              "  ['2018-04-01', 35536487.6848, 'Revenue'],\n",
              "  ['2018-05-01', 29699599.176, 'Revenue'],\n",
              "  ['2018-06-01', 33261065.3886, 'Revenue'],\n",
              "  ['2018-07-01', 35826534.9072, 'Revenue'],\n",
              "  ['2018-08-01', 23268655.2112, 'Revenue'],\n",
              "  ['2018-09-01', 35423489.85, 'Revenue'],\n",
              "  ['2018-10-01', 39831565.6974, 'Revenue'],\n",
              "  ['2018-11-01', 32999145.2096, 'Revenue'],\n",
              "  ['2018-12-01', 47221828.2018, 'Revenue'],\n",
              "  ['2019-01-01', 36459960.091485, 'Revenue'],\n",
              "  ['2019-02-01', 36546498.663015, 'Revenue'],\n",
              "  ['2019-03-01', 54198706.7196, 'Revenue'],\n",
              "  ['2019-04-01', 32743989.6056, 'Revenue'],\n",
              "  ['2019-05-01', 32531657.5397, 'Revenue'],\n",
              "  ['2019-06-01', 47709701.6346, 'Revenue'],\n",
              "  ['2019-07-01', 45992141.57398, 'Revenue'],\n",
              "  ['2019-08-01', 36933665.022, 'Revenue'],\n",
              "  ['2019-09-01', 48526260.1344, 'Revenue'],\n",
              "  ['2019-10-01', 44160416.1824, 'Revenue'],\n",
              "  ['2019-11-01', 36374956.4944, 'Revenue'],\n",
              "  ['2019-12-01', 58756473.6608, 'Revenue'],\n",
              "  ['2020-01-01', 56288300.87, 'Revenue'],\n",
              "  ['2020-02-01', 40225243.264, 'Revenue'],\n",
              "  ['2020-03-01', 50022165.2325, 'Revenue'],\n",
              "  ['2020-04-01', 52320692.9428, 'Revenue'],\n",
              "  ['2015-01-01', 1257.76354148008, 'Average_cost'],\n",
              "  ['2015-02-01', 1358.50699981162, 'Average_cost'],\n",
              "  ['2015-03-01', 1384.69702447205, 'Average_cost'],\n",
              "  ['2015-04-01', 1235.60670481907, 'Average_cost'],\n",
              "  ['2015-05-01', 1626.62176469582, 'Average_cost'],\n",
              "  ['2015-06-01', 1275.37450775927, 'Average_cost'],\n",
              "  ['2015-07-01', 1110.57680508126, 'Average_cost'],\n",
              "  ['2015-08-01', 1759.4288702548, 'Average_cost'],\n",
              "  ['2015-09-01', 1276.25990926041, 'Average_cost'],\n",
              "  ['2015-10-01', 1157.58890433615, 'Average_cost'],\n",
              "  ['2015-11-01', 1383.02459714325, 'Average_cost'],\n",
              "  ['2015-12-01', 1256.80855785502, 'Average_cost'],\n",
              "  ['2016-01-01', 1861.4765047836, 'Average_cost'],\n",
              "  ['2016-02-01', 1700.53022622854, 'Average_cost'],\n",
              "  ['2016-03-01', 1621.60469862043, 'Average_cost'],\n",
              "  ['2016-04-01', 2038.3210826659, 'Average_cost'],\n",
              "  ['2016-05-01', 1784.70755698176, 'Average_cost'],\n",
              "  ['2016-06-01', 1614.83730064605, 'Average_cost'],\n",
              "  ['2016-07-01', 1878.72042497324, 'Average_cost'],\n",
              "  ['2016-08-01', 1836.67515714457, 'Average_cost'],\n",
              "  ['2016-09-01', 2034.50954526008, 'Average_cost'],\n",
              "  ['2016-10-01', 1471.61914992883, 'Average_cost'],\n",
              "  ['2016-11-01', 1583.56654101094, 'Average_cost'],\n",
              "  ['2016-12-01', 1554.41044374413, 'Average_cost'],\n",
              "  ['2017-01-01', 2132.00193439517, 'Average_cost'],\n",
              "  ['2017-02-01', 1916.08518522441, 'Average_cost'],\n",
              "  ['2017-03-01', 2092.43091047266, 'Average_cost'],\n",
              "  ['2017-04-01', 1508.31740526655, 'Average_cost'],\n",
              "  ['2017-05-01', 2315.00832309548, 'Average_cost'],\n",
              "  ['2017-06-01', 1654.4148913772, 'Average_cost'],\n",
              "  ['2017-07-01', 1891.10130334343, 'Average_cost'],\n",
              "  ['2017-08-01', 1705.32355249249, 'Average_cost'],\n",
              "  ['2017-09-01', 1570.02295014634, 'Average_cost'],\n",
              "  ['2017-10-01', 1617.51143103643, 'Average_cost'],\n",
              "  ['2017-11-01', 1461.35228039063, 'Average_cost'],\n",
              "  ['2017-12-01', 1458.37660200435, 'Average_cost'],\n",
              "  ['2018-01-01', 2224.28431546538, 'Average_cost'],\n",
              "  ['2018-02-01', 1955.07420512918, 'Average_cost'],\n",
              "  ['2018-03-01', 1620.32790003103, 'Average_cost'],\n",
              "  ['2018-04-01', 1612.87558139155, 'Average_cost'],\n",
              "  ['2018-05-01', 1985.40003850525, 'Average_cost'],\n",
              "  ['2018-06-01', 1441.93286463779, 'Average_cost'],\n",
              "  ['2018-07-01', 1947.41180122846, 'Average_cost'],\n",
              "  ['2018-08-01', 1931.81031226235, 'Average_cost'],\n",
              "  ['2018-09-01', 1516.54635884922, 'Average_cost'],\n",
              "  ['2018-10-01', 1759.03399122946, 'Average_cost'],\n",
              "  ['2018-11-01', 1669.57476395649, 'Average_cost'],\n",
              "  ['2018-12-01', 1422.04439430843, 'Average_cost'],\n",
              "  ['2019-01-01', 1513.11255359749, 'Average_cost'],\n",
              "  ['2019-02-01', 1690.08965330258, 'Average_cost'],\n",
              "  ['2019-03-01', 1623.7366823332, 'Average_cost'],\n",
              "  ['2019-04-01', 1470.64853382439, 'Average_cost'],\n",
              "  ['2019-05-01', 1917.34882652797, 'Average_cost'],\n",
              "  ['2019-06-01', 1911.59955263242, 'Average_cost'],\n",
              "  ['2019-07-01', 2098.46884035133, 'Average_cost'],\n",
              "  ['2019-08-01', 2559.32818390964, 'Average_cost'],\n",
              "  ['2019-09-01', 2086.88169846471, 'Average_cost'],\n",
              "  ['2019-10-01', 1659.9788062399, 'Average_cost'],\n",
              "  ['2019-11-01', 1654.38470434348, 'Average_cost'],\n",
              "  ['2019-12-01', 1543.42046444088, 'Average_cost'],\n",
              "  ['2020-01-01', 2070.64085013243, 'Average_cost'],\n",
              "  ['2020-02-01', 1711.05718082437, 'Average_cost'],\n",
              "  ['2020-03-01', 1535.88274839571, 'Average_cost'],\n",
              "  ['2020-04-01', 1965.83479026113, 'Average_cost']],\n",
              " 'names': ['Revenue', 'Average_cost']}"
            ]
          },
          "execution_count": 49,
          "metadata": {},
          "output_type": "execute_result"
        }
      ],
      "source": [
        "stream_graph(df, ['Revenue', 'Average_cost'], 'Period')"
      ]
    },
    {
      "cell_type": "code",
      "execution_count": 49,
      "metadata": {
        "id": "qd6aXIcLd9ji"
      },
      "outputs": [],
      "source": []
    }
  ],
  "metadata": {
    "colab": {
      "provenance": []
    },
    "kernelspec": {
      "display_name": "Python 3",
      "name": "python3"
    },
    "language_info": {
      "codemirror_mode": {
        "name": "ipython",
        "version": 3
      },
      "file_extension": ".py",
      "mimetype": "text/x-python",
      "name": "python",
      "nbconvert_exporter": "python",
      "pygments_lexer": "ipython3",
      "version": "3.10.6"
    }
  },
  "nbformat": 4,
  "nbformat_minor": 0
}
