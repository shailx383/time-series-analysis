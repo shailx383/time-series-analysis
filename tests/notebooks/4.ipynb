{
 "cells": [
  {
   "attachments": {},
   "cell_type": "markdown",
   "metadata": {},
   "source": [
    "# Dataset: [Power Usage 2016 to 2020](https://www.kaggle.com/datasets/srinuti/residential-power-usage-3years-data-timeseries)"
   ]
  },
  {
   "cell_type": "code",
   "execution_count": 1,
   "metadata": {},
   "outputs": [],
   "source": [
    "import pandas as pd"
   ]
  },
  {
   "cell_type": "code",
   "execution_count": 2,
   "metadata": {},
   "outputs": [],
   "source": [
    "df = pd.read_csv('../../datasets/4/power_usage_2016_to_2020.csv')"
   ]
  },
  {
   "cell_type": "code",
   "execution_count": 3,
   "metadata": {},
   "outputs": [
    {
     "data": {
      "text/html": [
       "<div>\n",
       "<style scoped>\n",
       "    .dataframe tbody tr th:only-of-type {\n",
       "        vertical-align: middle;\n",
       "    }\n",
       "\n",
       "    .dataframe tbody tr th {\n",
       "        vertical-align: top;\n",
       "    }\n",
       "\n",
       "    .dataframe thead th {\n",
       "        text-align: right;\n",
       "    }\n",
       "</style>\n",
       "<table border=\"1\" class=\"dataframe\">\n",
       "  <thead>\n",
       "    <tr style=\"text-align: right;\">\n",
       "      <th></th>\n",
       "      <th>StartDate</th>\n",
       "      <th>Value (kWh)</th>\n",
       "      <th>day_of_week</th>\n",
       "      <th>notes</th>\n",
       "    </tr>\n",
       "  </thead>\n",
       "  <tbody>\n",
       "    <tr>\n",
       "      <th>0</th>\n",
       "      <td>2016-01-06 00:00:00</td>\n",
       "      <td>1.057</td>\n",
       "      <td>2</td>\n",
       "      <td>weekday</td>\n",
       "    </tr>\n",
       "    <tr>\n",
       "      <th>1</th>\n",
       "      <td>2016-01-06 01:00:00</td>\n",
       "      <td>1.171</td>\n",
       "      <td>2</td>\n",
       "      <td>weekday</td>\n",
       "    </tr>\n",
       "    <tr>\n",
       "      <th>2</th>\n",
       "      <td>2016-01-06 02:00:00</td>\n",
       "      <td>0.560</td>\n",
       "      <td>2</td>\n",
       "      <td>weekday</td>\n",
       "    </tr>\n",
       "    <tr>\n",
       "      <th>3</th>\n",
       "      <td>2016-01-06 03:00:00</td>\n",
       "      <td>0.828</td>\n",
       "      <td>2</td>\n",
       "      <td>weekday</td>\n",
       "    </tr>\n",
       "    <tr>\n",
       "      <th>4</th>\n",
       "      <td>2016-01-06 04:00:00</td>\n",
       "      <td>0.932</td>\n",
       "      <td>2</td>\n",
       "      <td>weekday</td>\n",
       "    </tr>\n",
       "    <tr>\n",
       "      <th>...</th>\n",
       "      <td>...</td>\n",
       "      <td>...</td>\n",
       "      <td>...</td>\n",
       "      <td>...</td>\n",
       "    </tr>\n",
       "    <tr>\n",
       "      <th>35947</th>\n",
       "      <td>2020-07-07 19:00:00</td>\n",
       "      <td>1.307</td>\n",
       "      <td>1</td>\n",
       "      <td>weekday</td>\n",
       "    </tr>\n",
       "    <tr>\n",
       "      <th>35948</th>\n",
       "      <td>2020-07-07 20:00:00</td>\n",
       "      <td>2.872</td>\n",
       "      <td>1</td>\n",
       "      <td>weekday</td>\n",
       "    </tr>\n",
       "    <tr>\n",
       "      <th>35949</th>\n",
       "      <td>2020-07-07 21:00:00</td>\n",
       "      <td>2.138</td>\n",
       "      <td>1</td>\n",
       "      <td>weekday</td>\n",
       "    </tr>\n",
       "    <tr>\n",
       "      <th>35950</th>\n",
       "      <td>2020-07-07 22:00:00</td>\n",
       "      <td>2.199</td>\n",
       "      <td>1</td>\n",
       "      <td>weekday</td>\n",
       "    </tr>\n",
       "    <tr>\n",
       "      <th>35951</th>\n",
       "      <td>2020-07-07 23:00:00</td>\n",
       "      <td>1.809</td>\n",
       "      <td>1</td>\n",
       "      <td>weekday</td>\n",
       "    </tr>\n",
       "  </tbody>\n",
       "</table>\n",
       "<p>35952 rows × 4 columns</p>\n",
       "</div>"
      ],
      "text/plain": [
       "                 StartDate  Value (kWh)  day_of_week    notes\n",
       "0      2016-01-06 00:00:00        1.057            2  weekday\n",
       "1      2016-01-06 01:00:00        1.171            2  weekday\n",
       "2      2016-01-06 02:00:00        0.560            2  weekday\n",
       "3      2016-01-06 03:00:00        0.828            2  weekday\n",
       "4      2016-01-06 04:00:00        0.932            2  weekday\n",
       "...                    ...          ...          ...      ...\n",
       "35947  2020-07-07 19:00:00        1.307            1  weekday\n",
       "35948  2020-07-07 20:00:00        2.872            1  weekday\n",
       "35949  2020-07-07 21:00:00        2.138            1  weekday\n",
       "35950  2020-07-07 22:00:00        2.199            1  weekday\n",
       "35951  2020-07-07 23:00:00        1.809            1  weekday\n",
       "\n",
       "[35952 rows x 4 columns]"
      ]
     },
     "execution_count": 3,
     "metadata": {},
     "output_type": "execute_result"
    }
   ],
   "source": [
    "df"
   ]
  },
  {
   "cell_type": "code",
   "execution_count": 4,
   "metadata": {},
   "outputs": [
    {
     "data": {
      "text/plain": [
       "StartDate      0\n",
       "Value (kWh)    0\n",
       "day_of_week    0\n",
       "notes          0\n",
       "dtype: int64"
      ]
     },
     "execution_count": 4,
     "metadata": {},
     "output_type": "execute_result"
    }
   ],
   "source": [
    "df.isna().sum()"
   ]
  },
  {
   "cell_type": "code",
   "execution_count": 5,
   "metadata": {},
   "outputs": [],
   "source": [
    "y = 'Value (kWh)'"
   ]
  },
  {
   "cell_type": "code",
   "execution_count": 6,
   "metadata": {},
   "outputs": [],
   "source": [
    "import sys\n",
    "sys.path.insert(0, '/home/shail/bits/PS1/time_series_analysis')\n",
    "\n",
    "original_stdout = sys.stdout \n",
    "\t\n",
    "def outfile(x):\n",
    "    with open('output.txt', 'w') as f:\n",
    "        sys.stdout = f\n",
    "        print(x)\n",
    "        sys.stdout = original_stdout "
   ]
  },
  {
   "cell_type": "code",
   "execution_count": 7,
   "metadata": {},
   "outputs": [],
   "source": [
    "from tsa.dateconverter import DateConverter"
   ]
  },
  {
   "attachments": {},
   "cell_type": "markdown",
   "metadata": {},
   "source": [
    "### Filtering"
   ]
  },
  {
   "cell_type": "code",
   "execution_count": 8,
   "metadata": {},
   "outputs": [
    {
     "data": {
      "text/html": [
       "<div>\n",
       "<style scoped>\n",
       "    .dataframe tbody tr th:only-of-type {\n",
       "        vertical-align: middle;\n",
       "    }\n",
       "\n",
       "    .dataframe tbody tr th {\n",
       "        vertical-align: top;\n",
       "    }\n",
       "\n",
       "    .dataframe thead th {\n",
       "        text-align: right;\n",
       "    }\n",
       "</style>\n",
       "<table border=\"1\" class=\"dataframe\">\n",
       "  <thead>\n",
       "    <tr style=\"text-align: right;\">\n",
       "      <th></th>\n",
       "      <th>StartDate</th>\n",
       "      <th>Value (kWh)</th>\n",
       "      <th>day_of_week</th>\n",
       "      <th>notes</th>\n",
       "    </tr>\n",
       "  </thead>\n",
       "  <tbody>\n",
       "    <tr>\n",
       "      <th>0</th>\n",
       "      <td>2016-01-06 00:00:00</td>\n",
       "      <td>1.057</td>\n",
       "      <td>2</td>\n",
       "      <td>weekday</td>\n",
       "    </tr>\n",
       "    <tr>\n",
       "      <th>1</th>\n",
       "      <td>2016-01-06 01:00:00</td>\n",
       "      <td>1.171</td>\n",
       "      <td>2</td>\n",
       "      <td>weekday</td>\n",
       "    </tr>\n",
       "    <tr>\n",
       "      <th>2</th>\n",
       "      <td>2016-01-06 02:00:00</td>\n",
       "      <td>0.560</td>\n",
       "      <td>2</td>\n",
       "      <td>weekday</td>\n",
       "    </tr>\n",
       "    <tr>\n",
       "      <th>3</th>\n",
       "      <td>2016-01-06 03:00:00</td>\n",
       "      <td>0.828</td>\n",
       "      <td>2</td>\n",
       "      <td>weekday</td>\n",
       "    </tr>\n",
       "    <tr>\n",
       "      <th>4</th>\n",
       "      <td>2016-01-06 04:00:00</td>\n",
       "      <td>0.932</td>\n",
       "      <td>2</td>\n",
       "      <td>weekday</td>\n",
       "    </tr>\n",
       "    <tr>\n",
       "      <th>...</th>\n",
       "      <td>...</td>\n",
       "      <td>...</td>\n",
       "      <td>...</td>\n",
       "      <td>...</td>\n",
       "    </tr>\n",
       "    <tr>\n",
       "      <th>4411</th>\n",
       "      <td>2016-01-12 19:00:00</td>\n",
       "      <td>1.096</td>\n",
       "      <td>1</td>\n",
       "      <td>weekday</td>\n",
       "    </tr>\n",
       "    <tr>\n",
       "      <th>4412</th>\n",
       "      <td>2016-01-12 20:00:00</td>\n",
       "      <td>0.932</td>\n",
       "      <td>1</td>\n",
       "      <td>weekday</td>\n",
       "    </tr>\n",
       "    <tr>\n",
       "      <th>4413</th>\n",
       "      <td>2016-01-12 21:00:00</td>\n",
       "      <td>0.932</td>\n",
       "      <td>1</td>\n",
       "      <td>weekday</td>\n",
       "    </tr>\n",
       "    <tr>\n",
       "      <th>4414</th>\n",
       "      <td>2016-01-12 22:00:00</td>\n",
       "      <td>0.576</td>\n",
       "      <td>1</td>\n",
       "      <td>weekday</td>\n",
       "    </tr>\n",
       "    <tr>\n",
       "      <th>4415</th>\n",
       "      <td>2016-01-12 23:00:00</td>\n",
       "      <td>0.322</td>\n",
       "      <td>1</td>\n",
       "      <td>weekday</td>\n",
       "    </tr>\n",
       "  </tbody>\n",
       "</table>\n",
       "<p>168 rows × 4 columns</p>\n",
       "</div>"
      ],
      "text/plain": [
       "                StartDate  Value (kWh)  day_of_week    notes\n",
       "0     2016-01-06 00:00:00        1.057            2  weekday\n",
       "1     2016-01-06 01:00:00        1.171            2  weekday\n",
       "2     2016-01-06 02:00:00        0.560            2  weekday\n",
       "3     2016-01-06 03:00:00        0.828            2  weekday\n",
       "4     2016-01-06 04:00:00        0.932            2  weekday\n",
       "...                   ...          ...          ...      ...\n",
       "4411  2016-01-12 19:00:00        1.096            1  weekday\n",
       "4412  2016-01-12 20:00:00        0.932            1  weekday\n",
       "4413  2016-01-12 21:00:00        0.932            1  weekday\n",
       "4414  2016-01-12 22:00:00        0.576            1  weekday\n",
       "4415  2016-01-12 23:00:00        0.322            1  weekday\n",
       "\n",
       "[168 rows x 4 columns]"
      ]
     },
     "execution_count": 8,
     "metadata": {},
     "output_type": "execute_result"
    }
   ],
   "source": [
    "df['Year'] = df['StartDate'].apply(lambda x: x[:4])\n",
    "df['Month'] = df['StartDate'].apply(lambda x: x[5:7])\n",
    "df = pd.DataFrame(df[df['Year'] == '2016'])\n",
    "df = pd.DataFrame(df[df['Month'] == '01'])\n",
    "df.drop(['Year', 'Month'], axis = 1, inplace = True)\n",
    "df"
   ]
  },
  {
   "attachments": {},
   "cell_type": "markdown",
   "metadata": {},
   "source": [
    "# Date Conversion"
   ]
  },
  {
   "cell_type": "code",
   "execution_count": 9,
   "metadata": {},
   "outputs": [
    {
     "data": {
      "text/html": [
       "<div>\n",
       "<style scoped>\n",
       "    .dataframe tbody tr th:only-of-type {\n",
       "        vertical-align: middle;\n",
       "    }\n",
       "\n",
       "    .dataframe tbody tr th {\n",
       "        vertical-align: top;\n",
       "    }\n",
       "\n",
       "    .dataframe thead th {\n",
       "        text-align: right;\n",
       "    }\n",
       "</style>\n",
       "<table border=\"1\" class=\"dataframe\">\n",
       "  <thead>\n",
       "    <tr style=\"text-align: right;\">\n",
       "      <th></th>\n",
       "      <th>StartDate</th>\n",
       "      <th>Value (kWh)</th>\n",
       "      <th>day_of_week</th>\n",
       "      <th>notes</th>\n",
       "    </tr>\n",
       "  </thead>\n",
       "  <tbody>\n",
       "    <tr>\n",
       "      <th>0</th>\n",
       "      <td>2016-01-06 00:00:00</td>\n",
       "      <td>1.057</td>\n",
       "      <td>2</td>\n",
       "      <td>weekday</td>\n",
       "    </tr>\n",
       "    <tr>\n",
       "      <th>1</th>\n",
       "      <td>2016-01-06 01:00:00</td>\n",
       "      <td>1.171</td>\n",
       "      <td>2</td>\n",
       "      <td>weekday</td>\n",
       "    </tr>\n",
       "    <tr>\n",
       "      <th>2</th>\n",
       "      <td>2016-01-06 02:00:00</td>\n",
       "      <td>0.560</td>\n",
       "      <td>2</td>\n",
       "      <td>weekday</td>\n",
       "    </tr>\n",
       "    <tr>\n",
       "      <th>3</th>\n",
       "      <td>2016-01-06 03:00:00</td>\n",
       "      <td>0.828</td>\n",
       "      <td>2</td>\n",
       "      <td>weekday</td>\n",
       "    </tr>\n",
       "    <tr>\n",
       "      <th>4</th>\n",
       "      <td>2016-01-06 04:00:00</td>\n",
       "      <td>0.932</td>\n",
       "      <td>2</td>\n",
       "      <td>weekday</td>\n",
       "    </tr>\n",
       "    <tr>\n",
       "      <th>...</th>\n",
       "      <td>...</td>\n",
       "      <td>...</td>\n",
       "      <td>...</td>\n",
       "      <td>...</td>\n",
       "    </tr>\n",
       "    <tr>\n",
       "      <th>4411</th>\n",
       "      <td>2016-01-12 19:00:00</td>\n",
       "      <td>1.096</td>\n",
       "      <td>1</td>\n",
       "      <td>weekday</td>\n",
       "    </tr>\n",
       "    <tr>\n",
       "      <th>4412</th>\n",
       "      <td>2016-01-12 20:00:00</td>\n",
       "      <td>0.932</td>\n",
       "      <td>1</td>\n",
       "      <td>weekday</td>\n",
       "    </tr>\n",
       "    <tr>\n",
       "      <th>4413</th>\n",
       "      <td>2016-01-12 21:00:00</td>\n",
       "      <td>0.932</td>\n",
       "      <td>1</td>\n",
       "      <td>weekday</td>\n",
       "    </tr>\n",
       "    <tr>\n",
       "      <th>4414</th>\n",
       "      <td>2016-01-12 22:00:00</td>\n",
       "      <td>0.576</td>\n",
       "      <td>1</td>\n",
       "      <td>weekday</td>\n",
       "    </tr>\n",
       "    <tr>\n",
       "      <th>4415</th>\n",
       "      <td>2016-01-12 23:00:00</td>\n",
       "      <td>0.322</td>\n",
       "      <td>1</td>\n",
       "      <td>weekday</td>\n",
       "    </tr>\n",
       "  </tbody>\n",
       "</table>\n",
       "<p>168 rows × 4 columns</p>\n",
       "</div>"
      ],
      "text/plain": [
       "               StartDate  Value (kWh)  day_of_week    notes\n",
       "0    2016-01-06 00:00:00        1.057            2  weekday\n",
       "1    2016-01-06 01:00:00        1.171            2  weekday\n",
       "2    2016-01-06 02:00:00        0.560            2  weekday\n",
       "3    2016-01-06 03:00:00        0.828            2  weekday\n",
       "4    2016-01-06 04:00:00        0.932            2  weekday\n",
       "...                  ...          ...          ...      ...\n",
       "4411 2016-01-12 19:00:00        1.096            1  weekday\n",
       "4412 2016-01-12 20:00:00        0.932            1  weekday\n",
       "4413 2016-01-12 21:00:00        0.932            1  weekday\n",
       "4414 2016-01-12 22:00:00        0.576            1  weekday\n",
       "4415 2016-01-12 23:00:00        0.322            1  weekday\n",
       "\n",
       "[168 rows x 4 columns]"
      ]
     },
     "execution_count": 9,
     "metadata": {},
     "output_type": "execute_result"
    }
   ],
   "source": [
    "converter = DateConverter()\n",
    "df['StartDate'] = df['StartDate'].apply(lambda x: converter.convert_date(x, True, infer_format=True))\n",
    "df"
   ]
  },
  {
   "attachments": {},
   "cell_type": "markdown",
   "metadata": {},
   "source": [
    "## Interpolation"
   ]
  },
  {
   "cell_type": "code",
   "execution_count": 10,
   "metadata": {},
   "outputs": [],
   "source": [
    "from tsa.interpolation import interpolate_dates as interpolate"
   ]
  },
  {
   "cell_type": "code",
   "execution_count": 11,
   "metadata": {},
   "outputs": [
    {
     "data": {
      "text/html": [
       "<div>\n",
       "<style scoped>\n",
       "    .dataframe tbody tr th:only-of-type {\n",
       "        vertical-align: middle;\n",
       "    }\n",
       "\n",
       "    .dataframe tbody tr th {\n",
       "        vertical-align: top;\n",
       "    }\n",
       "\n",
       "    .dataframe thead th {\n",
       "        text-align: right;\n",
       "    }\n",
       "</style>\n",
       "<table border=\"1\" class=\"dataframe\">\n",
       "  <thead>\n",
       "    <tr style=\"text-align: right;\">\n",
       "      <th></th>\n",
       "      <th>Value (kWh)</th>\n",
       "      <th>StartDate</th>\n",
       "    </tr>\n",
       "  </thead>\n",
       "  <tbody>\n",
       "    <tr>\n",
       "      <th>0</th>\n",
       "      <td>1.057</td>\n",
       "      <td>2016-01-06 00:00:00</td>\n",
       "    </tr>\n",
       "    <tr>\n",
       "      <th>1</th>\n",
       "      <td>1.171</td>\n",
       "      <td>2016-01-06 01:00:00</td>\n",
       "    </tr>\n",
       "    <tr>\n",
       "      <th>2</th>\n",
       "      <td>0.560</td>\n",
       "      <td>2016-01-06 02:00:00</td>\n",
       "    </tr>\n",
       "    <tr>\n",
       "      <th>3</th>\n",
       "      <td>0.828</td>\n",
       "      <td>2016-01-06 03:00:00</td>\n",
       "    </tr>\n",
       "    <tr>\n",
       "      <th>4</th>\n",
       "      <td>0.932</td>\n",
       "      <td>2016-01-06 04:00:00</td>\n",
       "    </tr>\n",
       "    <tr>\n",
       "      <th>...</th>\n",
       "      <td>...</td>\n",
       "      <td>...</td>\n",
       "    </tr>\n",
       "    <tr>\n",
       "      <th>163</th>\n",
       "      <td>1.096</td>\n",
       "      <td>2016-01-12 19:00:00</td>\n",
       "    </tr>\n",
       "    <tr>\n",
       "      <th>164</th>\n",
       "      <td>0.932</td>\n",
       "      <td>2016-01-12 20:00:00</td>\n",
       "    </tr>\n",
       "    <tr>\n",
       "      <th>165</th>\n",
       "      <td>0.932</td>\n",
       "      <td>2016-01-12 21:00:00</td>\n",
       "    </tr>\n",
       "    <tr>\n",
       "      <th>166</th>\n",
       "      <td>0.576</td>\n",
       "      <td>2016-01-12 22:00:00</td>\n",
       "    </tr>\n",
       "    <tr>\n",
       "      <th>167</th>\n",
       "      <td>0.322</td>\n",
       "      <td>2016-01-12 23:00:00</td>\n",
       "    </tr>\n",
       "  </tbody>\n",
       "</table>\n",
       "<p>168 rows × 2 columns</p>\n",
       "</div>"
      ],
      "text/plain": [
       "     Value (kWh)           StartDate\n",
       "0          1.057 2016-01-06 00:00:00\n",
       "1          1.171 2016-01-06 01:00:00\n",
       "2          0.560 2016-01-06 02:00:00\n",
       "3          0.828 2016-01-06 03:00:00\n",
       "4          0.932 2016-01-06 04:00:00\n",
       "..           ...                 ...\n",
       "163        1.096 2016-01-12 19:00:00\n",
       "164        0.932 2016-01-12 20:00:00\n",
       "165        0.932 2016-01-12 21:00:00\n",
       "166        0.576 2016-01-12 22:00:00\n",
       "167        0.322 2016-01-12 23:00:00\n",
       "\n",
       "[168 rows x 2 columns]"
      ]
     },
     "execution_count": 11,
     "metadata": {},
     "output_type": "execute_result"
    }
   ],
   "source": [
    "df = interpolate(df, 'StartDate', [y], interval='H')\n",
    "df"
   ]
  },
  {
   "attachments": {},
   "cell_type": "markdown",
   "metadata": {},
   "source": [
    "# Visualizations"
   ]
  },
  {
   "cell_type": "code",
   "execution_count": 12,
   "metadata": {},
   "outputs": [],
   "source": [
    "from tsa.visualization import *"
   ]
  },
  {
   "cell_type": "code",
   "execution_count": 13,
   "metadata": {},
   "outputs": [
    {
     "data": {
      "text/html": [
       "<div>\n",
       "<style scoped>\n",
       "    .dataframe tbody tr th:only-of-type {\n",
       "        vertical-align: middle;\n",
       "    }\n",
       "\n",
       "    .dataframe tbody tr th {\n",
       "        vertical-align: top;\n",
       "    }\n",
       "\n",
       "    .dataframe thead th {\n",
       "        text-align: right;\n",
       "    }\n",
       "</style>\n",
       "<table border=\"1\" class=\"dataframe\">\n",
       "  <thead>\n",
       "    <tr style=\"text-align: right;\">\n",
       "      <th></th>\n",
       "      <th>Value (kWh)</th>\n",
       "      <th>StartDate</th>\n",
       "    </tr>\n",
       "  </thead>\n",
       "  <tbody>\n",
       "    <tr>\n",
       "      <th>0</th>\n",
       "      <td>1.057</td>\n",
       "      <td>2016-01-06 00:00:00</td>\n",
       "    </tr>\n",
       "    <tr>\n",
       "      <th>1</th>\n",
       "      <td>1.171</td>\n",
       "      <td>2016-01-06 01:00:00</td>\n",
       "    </tr>\n",
       "    <tr>\n",
       "      <th>2</th>\n",
       "      <td>0.560</td>\n",
       "      <td>2016-01-06 02:00:00</td>\n",
       "    </tr>\n",
       "    <tr>\n",
       "      <th>3</th>\n",
       "      <td>0.828</td>\n",
       "      <td>2016-01-06 03:00:00</td>\n",
       "    </tr>\n",
       "    <tr>\n",
       "      <th>4</th>\n",
       "      <td>0.932</td>\n",
       "      <td>2016-01-06 04:00:00</td>\n",
       "    </tr>\n",
       "    <tr>\n",
       "      <th>5</th>\n",
       "      <td>0.333</td>\n",
       "      <td>2016-01-06 05:00:00</td>\n",
       "    </tr>\n",
       "    <tr>\n",
       "      <th>6</th>\n",
       "      <td>0.462</td>\n",
       "      <td>2016-01-06 06:00:00</td>\n",
       "    </tr>\n",
       "    <tr>\n",
       "      <th>7</th>\n",
       "      <td>0.493</td>\n",
       "      <td>2016-01-06 07:00:00</td>\n",
       "    </tr>\n",
       "    <tr>\n",
       "      <th>8</th>\n",
       "      <td>0.325</td>\n",
       "      <td>2016-01-06 08:00:00</td>\n",
       "    </tr>\n",
       "    <tr>\n",
       "      <th>9</th>\n",
       "      <td>0.294</td>\n",
       "      <td>2016-01-06 09:00:00</td>\n",
       "    </tr>\n",
       "    <tr>\n",
       "      <th>10</th>\n",
       "      <td>0.273</td>\n",
       "      <td>2016-01-06 10:00:00</td>\n",
       "    </tr>\n",
       "    <tr>\n",
       "      <th>11</th>\n",
       "      <td>0.723</td>\n",
       "      <td>2016-01-06 11:00:00</td>\n",
       "    </tr>\n",
       "    <tr>\n",
       "      <th>12</th>\n",
       "      <td>0.426</td>\n",
       "      <td>2016-01-06 12:00:00</td>\n",
       "    </tr>\n",
       "    <tr>\n",
       "      <th>13</th>\n",
       "      <td>0.421</td>\n",
       "      <td>2016-01-06 13:00:00</td>\n",
       "    </tr>\n",
       "    <tr>\n",
       "      <th>14</th>\n",
       "      <td>0.447</td>\n",
       "      <td>2016-01-06 14:00:00</td>\n",
       "    </tr>\n",
       "  </tbody>\n",
       "</table>\n",
       "</div>"
      ],
      "text/plain": [
       "    Value (kWh)           StartDate\n",
       "0         1.057 2016-01-06 00:00:00\n",
       "1         1.171 2016-01-06 01:00:00\n",
       "2         0.560 2016-01-06 02:00:00\n",
       "3         0.828 2016-01-06 03:00:00\n",
       "4         0.932 2016-01-06 04:00:00\n",
       "5         0.333 2016-01-06 05:00:00\n",
       "6         0.462 2016-01-06 06:00:00\n",
       "7         0.493 2016-01-06 07:00:00\n",
       "8         0.325 2016-01-06 08:00:00\n",
       "9         0.294 2016-01-06 09:00:00\n",
       "10        0.273 2016-01-06 10:00:00\n",
       "11        0.723 2016-01-06 11:00:00\n",
       "12        0.426 2016-01-06 12:00:00\n",
       "13        0.421 2016-01-06 13:00:00\n",
       "14        0.447 2016-01-06 14:00:00"
      ]
     },
     "execution_count": 13,
     "metadata": {},
     "output_type": "execute_result"
    }
   ],
   "source": [
    "small_df = pd.DataFrame(df[:15])\n",
    "small_df"
   ]
  },
  {
   "cell_type": "markdown",
   "metadata": {},
   "source": [
    "## Waterfall Plot"
   ]
  },
  {
   "cell_type": "code",
   "execution_count": 14,
   "metadata": {},
   "outputs": [],
   "source": [
    "plot_params = waterfall_plot(small_df, 'StartDate', y, 'Waterfall plot', remove_time=False)"
   ]
  },
  {
   "cell_type": "code",
   "execution_count": 15,
   "metadata": {},
   "outputs": [],
   "source": [
    "outfile(plot_params['x'])"
   ]
  },
  {
   "attachments": {},
   "cell_type": "markdown",
   "metadata": {},
   "source": [
    "## Lag Plot"
   ]
  },
  {
   "cell_type": "code",
   "execution_count": 16,
   "metadata": {},
   "outputs": [
    {
     "name": "stderr",
     "output_type": "stream",
     "text": [
      "/home/shail/bits/PS1/time_series_analysis/env/lib/python3.10/site-packages/sklearn/cluster/_kmeans.py:870: FutureWarning: The default value of `n_init` will change from 10 to 'auto' in 1.4. Set the value of `n_init` explicitly to suppress the warning\n",
      "  warnings.warn(\n"
     ]
    }
   ],
   "source": [
    "data = lag_plot(df[y], 24, 'Lag plot of stock')"
   ]
  },
  {
   "cell_type": "code",
   "execution_count": 17,
   "metadata": {},
   "outputs": [],
   "source": [
    "outfile(data['data'])"
   ]
  },
  {
   "attachments": {},
   "cell_type": "markdown",
   "metadata": {},
   "source": [
    "## Stacked Area Chart"
   ]
  },
  {
   "attachments": {},
   "cell_type": "markdown",
   "metadata": {},
   "source": [
    "# Properties"
   ]
  },
  {
   "cell_type": "code",
   "execution_count": 19,
   "metadata": {},
   "outputs": [],
   "source": [
    "from tsa.properties import *"
   ]
  },
  {
   "cell_type": "code",
   "execution_count": 20,
   "metadata": {},
   "outputs": [],
   "source": [
    "trend = Trend(df, y, 'StartDate')"
   ]
  },
  {
   "cell_type": "code",
   "execution_count": 21,
   "metadata": {},
   "outputs": [],
   "source": [
    "params = trend.plot(remove_time = False)"
   ]
  },
  {
   "cell_type": "code",
   "execution_count": 22,
   "metadata": {},
   "outputs": [
    {
     "data": {
      "text/plain": [
       "dict_keys(['title', 'data', 'x'])"
      ]
     },
     "execution_count": 22,
     "metadata": {},
     "output_type": "execute_result"
    }
   ],
   "source": [
    "params.keys()"
   ]
  },
  {
   "cell_type": "code",
   "execution_count": 23,
   "metadata": {},
   "outputs": [],
   "source": [
    "outfile(params['data'])"
   ]
  },
  {
   "cell_type": "code",
   "execution_count": 24,
   "metadata": {},
   "outputs": [
    {
     "data": {
      "text/html": [
       "<div>\n",
       "<style scoped>\n",
       "    .dataframe tbody tr th:only-of-type {\n",
       "        vertical-align: middle;\n",
       "    }\n",
       "\n",
       "    .dataframe tbody tr th {\n",
       "        vertical-align: top;\n",
       "    }\n",
       "\n",
       "    .dataframe thead th {\n",
       "        text-align: right;\n",
       "    }\n",
       "</style>\n",
       "<table border=\"1\" class=\"dataframe\">\n",
       "  <thead>\n",
       "    <tr style=\"text-align: right;\">\n",
       "      <th></th>\n",
       "      <th>Original</th>\n",
       "      <th>Detrend</th>\n",
       "    </tr>\n",
       "    <tr>\n",
       "      <th>StartDate</th>\n",
       "      <th></th>\n",
       "      <th></th>\n",
       "    </tr>\n",
       "  </thead>\n",
       "  <tbody>\n",
       "    <tr>\n",
       "      <th>2016-01-06 00:00:00</th>\n",
       "      <td>1.057</td>\n",
       "      <td>1.057000</td>\n",
       "    </tr>\n",
       "    <tr>\n",
       "      <th>2016-01-06 01:00:00</th>\n",
       "      <td>1.171</td>\n",
       "      <td>1.158907</td>\n",
       "    </tr>\n",
       "    <tr>\n",
       "      <th>2016-01-06 02:00:00</th>\n",
       "      <td>0.560</td>\n",
       "      <td>0.535814</td>\n",
       "    </tr>\n",
       "    <tr>\n",
       "      <th>2016-01-06 03:00:00</th>\n",
       "      <td>0.828</td>\n",
       "      <td>0.791722</td>\n",
       "    </tr>\n",
       "    <tr>\n",
       "      <th>2016-01-06 04:00:00</th>\n",
       "      <td>0.932</td>\n",
       "      <td>0.883629</td>\n",
       "    </tr>\n",
       "    <tr>\n",
       "      <th>...</th>\n",
       "      <td>...</td>\n",
       "      <td>...</td>\n",
       "    </tr>\n",
       "    <tr>\n",
       "      <th>2016-01-12 19:00:00</th>\n",
       "      <td>1.096</td>\n",
       "      <td>-0.875126</td>\n",
       "    </tr>\n",
       "    <tr>\n",
       "      <th>2016-01-12 20:00:00</th>\n",
       "      <td>0.932</td>\n",
       "      <td>-1.051219</td>\n",
       "    </tr>\n",
       "    <tr>\n",
       "      <th>2016-01-12 21:00:00</th>\n",
       "      <td>0.932</td>\n",
       "      <td>-1.063312</td>\n",
       "    </tr>\n",
       "    <tr>\n",
       "      <th>2016-01-12 22:00:00</th>\n",
       "      <td>0.576</td>\n",
       "      <td>-1.431404</td>\n",
       "    </tr>\n",
       "    <tr>\n",
       "      <th>2016-01-12 23:00:00</th>\n",
       "      <td>0.322</td>\n",
       "      <td>-1.697497</td>\n",
       "    </tr>\n",
       "  </tbody>\n",
       "</table>\n",
       "<p>168 rows × 2 columns</p>\n",
       "</div>"
      ],
      "text/plain": [
       "                     Original   Detrend\n",
       "StartDate                              \n",
       "2016-01-06 00:00:00     1.057  1.057000\n",
       "2016-01-06 01:00:00     1.171  1.158907\n",
       "2016-01-06 02:00:00     0.560  0.535814\n",
       "2016-01-06 03:00:00     0.828  0.791722\n",
       "2016-01-06 04:00:00     0.932  0.883629\n",
       "...                       ...       ...\n",
       "2016-01-12 19:00:00     1.096 -0.875126\n",
       "2016-01-12 20:00:00     0.932 -1.051219\n",
       "2016-01-12 21:00:00     0.932 -1.063312\n",
       "2016-01-12 22:00:00     0.576 -1.431404\n",
       "2016-01-12 23:00:00     0.322 -1.697497\n",
       "\n",
       "[168 rows x 2 columns]"
      ]
     },
     "execution_count": 24,
     "metadata": {},
     "output_type": "execute_result"
    }
   ],
   "source": [
    "trend.detrend()"
   ]
  },
  {
   "cell_type": "code",
   "execution_count": 25,
   "metadata": {},
   "outputs": [],
   "source": [
    "p = trend.plot_detrend(remove_time = False)"
   ]
  },
  {
   "cell_type": "code",
   "execution_count": 26,
   "metadata": {},
   "outputs": [
    {
     "data": {
      "text/plain": [
       "dict_keys(['title', 'data', 'data_detrend', 'x'])"
      ]
     },
     "execution_count": 26,
     "metadata": {},
     "output_type": "execute_result"
    }
   ],
   "source": [
    "p.keys()"
   ]
  },
  {
   "cell_type": "code",
   "execution_count": 27,
   "metadata": {},
   "outputs": [],
   "source": [
    "outfile(p['data_detrend'])"
   ]
  },
  {
   "attachments": {},
   "cell_type": "markdown",
   "metadata": {},
   "source": [
    "## Seasonality"
   ]
  },
  {
   "cell_type": "code",
   "execution_count": 28,
   "metadata": {},
   "outputs": [],
   "source": [
    "seasonality = Seasonality(df, y, 'StartDate')"
   ]
  },
  {
   "cell_type": "code",
   "execution_count": 29,
   "metadata": {},
   "outputs": [
    {
     "data": {
      "text/plain": [
       "StartDate\n",
       "2016-01-06 00:00:00    0.717003\n",
       "2016-01-06 01:00:00    0.530417\n",
       "2016-01-06 02:00:00    0.558204\n",
       "2016-01-06 03:00:00    0.552072\n",
       "2016-01-06 04:00:00    0.513011\n",
       "                         ...   \n",
       "2016-01-12 19:00:00    1.556824\n",
       "2016-01-12 20:00:00    2.131084\n",
       "2016-01-12 21:00:00    2.004327\n",
       "2016-01-12 22:00:00    1.756406\n",
       "2016-01-12 23:00:00    1.140730\n",
       "Name: seasonal, Length: 168, dtype: float64"
      ]
     },
     "execution_count": 29,
     "metadata": {},
     "output_type": "execute_result"
    }
   ],
   "source": [
    "seasonality.seasonal()"
   ]
  },
  {
   "cell_type": "code",
   "execution_count": 30,
   "metadata": {},
   "outputs": [
    {
     "data": {
      "text/html": [
       "<div>\n",
       "<style scoped>\n",
       "    .dataframe tbody tr th:only-of-type {\n",
       "        vertical-align: middle;\n",
       "    }\n",
       "\n",
       "    .dataframe tbody tr th {\n",
       "        vertical-align: top;\n",
       "    }\n",
       "\n",
       "    .dataframe thead th {\n",
       "        text-align: right;\n",
       "    }\n",
       "</style>\n",
       "<table border=\"1\" class=\"dataframe\">\n",
       "  <thead>\n",
       "    <tr style=\"text-align: right;\">\n",
       "      <th></th>\n",
       "      <th>Original</th>\n",
       "      <th>Deseasonalized</th>\n",
       "    </tr>\n",
       "    <tr>\n",
       "      <th>StartDate</th>\n",
       "      <th></th>\n",
       "      <th></th>\n",
       "    </tr>\n",
       "  </thead>\n",
       "  <tbody>\n",
       "    <tr>\n",
       "      <th>2016-01-06 00:00:00</th>\n",
       "      <td>1.057</td>\n",
       "      <td>1.474192</td>\n",
       "    </tr>\n",
       "    <tr>\n",
       "      <th>2016-01-06 01:00:00</th>\n",
       "      <td>1.171</td>\n",
       "      <td>2.207696</td>\n",
       "    </tr>\n",
       "    <tr>\n",
       "      <th>2016-01-06 02:00:00</th>\n",
       "      <td>0.560</td>\n",
       "      <td>1.003218</td>\n",
       "    </tr>\n",
       "    <tr>\n",
       "      <th>2016-01-06 03:00:00</th>\n",
       "      <td>0.828</td>\n",
       "      <td>1.499804</td>\n",
       "    </tr>\n",
       "    <tr>\n",
       "      <th>2016-01-06 04:00:00</th>\n",
       "      <td>0.932</td>\n",
       "      <td>1.816727</td>\n",
       "    </tr>\n",
       "    <tr>\n",
       "      <th>...</th>\n",
       "      <td>...</td>\n",
       "      <td>...</td>\n",
       "    </tr>\n",
       "    <tr>\n",
       "      <th>2016-01-12 19:00:00</th>\n",
       "      <td>1.096</td>\n",
       "      <td>0.703997</td>\n",
       "    </tr>\n",
       "    <tr>\n",
       "      <th>2016-01-12 20:00:00</th>\n",
       "      <td>0.932</td>\n",
       "      <td>0.437336</td>\n",
       "    </tr>\n",
       "    <tr>\n",
       "      <th>2016-01-12 21:00:00</th>\n",
       "      <td>0.932</td>\n",
       "      <td>0.464994</td>\n",
       "    </tr>\n",
       "    <tr>\n",
       "      <th>2016-01-12 22:00:00</th>\n",
       "      <td>0.576</td>\n",
       "      <td>0.327942</td>\n",
       "    </tr>\n",
       "    <tr>\n",
       "      <th>2016-01-12 23:00:00</th>\n",
       "      <td>0.322</td>\n",
       "      <td>0.282275</td>\n",
       "    </tr>\n",
       "  </tbody>\n",
       "</table>\n",
       "<p>168 rows × 2 columns</p>\n",
       "</div>"
      ],
      "text/plain": [
       "                     Original  Deseasonalized\n",
       "StartDate                                    \n",
       "2016-01-06 00:00:00     1.057        1.474192\n",
       "2016-01-06 01:00:00     1.171        2.207696\n",
       "2016-01-06 02:00:00     0.560        1.003218\n",
       "2016-01-06 03:00:00     0.828        1.499804\n",
       "2016-01-06 04:00:00     0.932        1.816727\n",
       "...                       ...             ...\n",
       "2016-01-12 19:00:00     1.096        0.703997\n",
       "2016-01-12 20:00:00     0.932        0.437336\n",
       "2016-01-12 21:00:00     0.932        0.464994\n",
       "2016-01-12 22:00:00     0.576        0.327942\n",
       "2016-01-12 23:00:00     0.322        0.282275\n",
       "\n",
       "[168 rows x 2 columns]"
      ]
     },
     "execution_count": 30,
     "metadata": {},
     "output_type": "execute_result"
    }
   ],
   "source": [
    "seasonality.deseasonalize()"
   ]
  },
  {
   "cell_type": "code",
   "execution_count": 31,
   "metadata": {},
   "outputs": [],
   "source": [
    "p = seasonality.plot_deseasonalize()"
   ]
  },
  {
   "cell_type": "code",
   "execution_count": 32,
   "metadata": {},
   "outputs": [
    {
     "data": {
      "text/plain": [
       "dict_keys(['title', 'data', 'data_des', 'x'])"
      ]
     },
     "execution_count": 32,
     "metadata": {},
     "output_type": "execute_result"
    }
   ],
   "source": [
    "p.keys()"
   ]
  },
  {
   "cell_type": "code",
   "execution_count": 33,
   "metadata": {},
   "outputs": [],
   "source": [
    "outfile(p['data_des'])"
   ]
  },
  {
   "attachments": {},
   "cell_type": "markdown",
   "metadata": {},
   "source": [
    "## Stationarity: now integrated with ARIMA"
   ]
  },
  {
   "attachments": {},
   "cell_type": "markdown",
   "metadata": {},
   "source": [
    "## Autocorrelation"
   ]
  },
  {
   "cell_type": "code",
   "execution_count": 34,
   "metadata": {},
   "outputs": [],
   "source": [
    "a = Autocorrelation()"
   ]
  },
  {
   "cell_type": "code",
   "execution_count": 35,
   "metadata": {},
   "outputs": [
    {
     "data": {
      "text/plain": [
       "{'title': 'Autocorrelation plot of Value (kWh), order = 0',\n",
       " 'y': [1.0,\n",
       "  0.8346824554728471,\n",
       "  0.6294936484244446,\n",
       "  0.4281098677144612,\n",
       "  0.2547689818280644,\n",
       "  0.08403341762451357,\n",
       "  -0.045258422943220585,\n",
       "  -0.12995365820051805,\n",
       "  -0.1799248092879687,\n",
       "  -0.2219901535597121,\n",
       "  -0.24484397382976464,\n",
       "  -0.25637703411780466,\n",
       "  -0.2589037558951131,\n",
       "  -0.21282398407182432,\n",
       "  -0.14450168158512497,\n",
       "  -0.06979190905622984,\n",
       "  0.008061159357436934,\n",
       "  0.0881400058665667,\n",
       "  0.16714816367041904,\n",
       "  0.23961739426509382,\n",
       "  0.2906122941367508,\n",
       "  0.30317103829115394,\n",
       "  0.30601184289396627],\n",
       " 'x': [0,\n",
       "  1,\n",
       "  2,\n",
       "  3,\n",
       "  4,\n",
       "  5,\n",
       "  6,\n",
       "  7,\n",
       "  8,\n",
       "  9,\n",
       "  10,\n",
       "  11,\n",
       "  12,\n",
       "  13,\n",
       "  14,\n",
       "  15,\n",
       "  16,\n",
       "  17,\n",
       "  18,\n",
       "  19,\n",
       "  20,\n",
       "  21,\n",
       "  22],\n",
       " 'upper': [0.0,\n",
       "  0.15121450430979,\n",
       "  0.2339376646928112,\n",
       "  0.2699047214926736,\n",
       "  0.2850090651275229,\n",
       "  0.2901697473683353,\n",
       "  0.2907256810546137,\n",
       "  0.2908867389639032,\n",
       "  0.2922112402321775,\n",
       "  0.2947335692236536,\n",
       "  0.2985322690586434,\n",
       "  0.30308919960564856,\n",
       "  0.30800806338555226,\n",
       "  0.31294474368137015,\n",
       "  0.3162369116279628,\n",
       "  0.3177431271333408,\n",
       "  0.3180934605279197,\n",
       "  0.3180981316797521,\n",
       "  0.3186560764643438,\n",
       "  0.32065459491283016,\n",
       "  0.3247231443432095,\n",
       "  0.3306167120886169,\n",
       "  0.3369135334111691],\n",
       " 'lower': [0.0,\n",
       "  -0.15121450430979,\n",
       "  -0.23393766469281124,\n",
       "  -0.26990472149267364,\n",
       "  -0.28500906512752294,\n",
       "  -0.2901697473683353,\n",
       "  -0.2907256810546137,\n",
       "  -0.29088673896390316,\n",
       "  -0.2922112402321775,\n",
       "  -0.2947335692236537,\n",
       "  -0.2985322690586434,\n",
       "  -0.3030891996056486,\n",
       "  -0.30800806338555226,\n",
       "  -0.31294474368137015,\n",
       "  -0.31623691162796275,\n",
       "  -0.3177431271333408,\n",
       "  -0.3180934605279197,\n",
       "  -0.3180981316797521,\n",
       "  -0.31865607646434385,\n",
       "  -0.32065459491283016,\n",
       "  -0.3247231443432094,\n",
       "  -0.3306167120886169,\n",
       "  -0.3369135334111691]}"
      ]
     },
     "execution_count": 35,
     "metadata": {},
     "output_type": "execute_result"
    }
   ],
   "source": [
    "a.autocorrelation(df[y])"
   ]
  },
  {
   "cell_type": "code",
   "execution_count": 36,
   "metadata": {},
   "outputs": [
    {
     "name": "stdout",
     "output_type": "stream",
     "text": [
      "As value of statistic is close to 0, series is positively autocorrelated.\n"
     ]
    },
    {
     "data": {
      "text/plain": [
       "0.33343684579071"
      ]
     },
     "execution_count": 36,
     "metadata": {},
     "output_type": "execute_result"
    }
   ],
   "source": [
    "a.durbin_watson_test(df[y], summary = True)"
   ]
  },
  {
   "attachments": {},
   "cell_type": "markdown",
   "metadata": {},
   "source": [
    "## Partial Autocorrelation"
   ]
  },
  {
   "cell_type": "code",
   "execution_count": 37,
   "metadata": {},
   "outputs": [
    {
     "data": {
      "text/plain": [
       "{'title': 'Partial Autocorrelation plot of Value (kWh), order = 0',\n",
       " 'y': [1.0,\n",
       "  0.8396805540086129,\n",
       "  -0.23050896730859446,\n",
       "  -0.10313942965154982,\n",
       "  -0.04875087866179857,\n",
       "  -0.15809881061997855,\n",
       "  -0.007464400242731997,\n",
       "  -0.00982431450926144,\n",
       "  -0.03454027076012684,\n",
       "  -0.08962349914315519,\n",
       "  -0.035640764750320415,\n",
       "  -0.0613985106288021,\n",
       "  -0.05521988793967591,\n",
       "  0.13289993899500963,\n",
       "  0.020848653849368237,\n",
       "  0.015519567252038471,\n",
       "  0.05729927397475713,\n",
       "  0.043309959525829216,\n",
       "  0.08303093754390535,\n",
       "  0.10249766581519422,\n",
       "  0.05279641229012522,\n",
       "  -0.03399630112333654,\n",
       "  0.09921750761118438],\n",
       " 'x': [0,\n",
       "  1,\n",
       "  2,\n",
       "  3,\n",
       "  4,\n",
       "  5,\n",
       "  6,\n",
       "  7,\n",
       "  8,\n",
       "  9,\n",
       "  10,\n",
       "  11,\n",
       "  12,\n",
       "  13,\n",
       "  14,\n",
       "  15,\n",
       "  16,\n",
       "  17,\n",
       "  18,\n",
       "  19,\n",
       "  20,\n",
       "  21,\n",
       "  22],\n",
       " 'upper': [0.0,\n",
       "  0.15121450430979,\n",
       "  0.15121450430979003,\n",
       "  0.15121450430979003,\n",
       "  0.15121450430979003,\n",
       "  0.15121450430979003,\n",
       "  0.15121450430979,\n",
       "  0.15121450430979003,\n",
       "  0.15121450430979003,\n",
       "  0.15121450430979003,\n",
       "  0.15121450430979003,\n",
       "  0.15121450430979003,\n",
       "  0.15121450430979003,\n",
       "  0.15121450430979,\n",
       "  0.15121450430979003,\n",
       "  0.15121450430979005,\n",
       "  0.15121450430979003,\n",
       "  0.15121450430979003,\n",
       "  0.15121450430979005,\n",
       "  0.15121450430979005,\n",
       "  0.15121450430979003,\n",
       "  0.15121450430979003,\n",
       "  0.15121450430979005],\n",
       " 'lower': [0.0,\n",
       "  -0.15121450430979,\n",
       "  -0.15121450430979003,\n",
       "  -0.15121450430979005,\n",
       "  -0.15121450430979005,\n",
       "  -0.15121450430979,\n",
       "  -0.15121450430979005,\n",
       "  -0.15121450430979003,\n",
       "  -0.15121450430979003,\n",
       "  -0.15121450430979,\n",
       "  -0.15121450430979003,\n",
       "  -0.15121450430979005,\n",
       "  -0.15121450430979003,\n",
       "  -0.15121450430979003,\n",
       "  -0.15121450430979003,\n",
       "  -0.15121450430979,\n",
       "  -0.15121450430979003,\n",
       "  -0.15121450430979003,\n",
       "  -0.15121450430979003,\n",
       "  -0.15121450430979003,\n",
       "  -0.15121450430979003,\n",
       "  -0.15121450430979003,\n",
       "  -0.15121450430979003]}"
      ]
     },
     "execution_count": 37,
     "metadata": {},
     "output_type": "execute_result"
    }
   ],
   "source": [
    "p = PartialAutocorrelation()\n",
    "p.partial_autocorrelation(df[y])"
   ]
  },
  {
   "attachments": {},
   "cell_type": "markdown",
   "metadata": {},
   "source": [
    "## Differencing: now integrated with ARIMA"
   ]
  },
  {
   "attachments": {},
   "cell_type": "markdown",
   "metadata": {},
   "source": [
    "# Models"
   ]
  },
  {
   "attachments": {},
   "cell_type": "markdown",
   "metadata": {},
   "source": [
    "## ARIMA"
   ]
  },
  {
   "cell_type": "code",
   "execution_count": 38,
   "metadata": {},
   "outputs": [],
   "source": [
    "from tsa.models import Arima"
   ]
  },
  {
   "cell_type": "code",
   "execution_count": 39,
   "metadata": {},
   "outputs": [],
   "source": [
    "train_df = df[:int(0.8 * len(df))]\n",
    "test_df = df[int(0.8 * len(df)):]\n",
    "\n",
    "df = train_df"
   ]
  },
  {
   "cell_type": "code",
   "execution_count": 40,
   "metadata": {},
   "outputs": [],
   "source": [
    "model = Arima()\n",
    "model(df, 'StartDate', y)"
   ]
  },
  {
   "cell_type": "code",
   "execution_count": 41,
   "metadata": {},
   "outputs": [
    {
     "name": "stdout",
     "output_type": "stream",
     "text": [
      "1. ADF :  -4.7828923672558314\n",
      "2. P-Value :  5.863582967286941e-05\n",
      "3. Num Of Lags :  4\n",
      "4. Num Of Observations Used For ADF Regression and Critical Values Calculation : 129\n",
      "5. Critical Values :\n",
      "\t 1% :  -3.482087964046026\n",
      "\t 5% :  -2.8842185101614626\n",
      "\t 10% :  -2.578864381347275\n",
      "\n",
      "\n",
      "As p-value is inside the confidence interval of 95%, series is stationary.\n"
     ]
    }
   ],
   "source": [
    "model.test_stationarity(0)"
   ]
  },
  {
   "cell_type": "code",
   "execution_count": 42,
   "metadata": {},
   "outputs": [],
   "source": [
    "params = model.acf_plot(0)"
   ]
  },
  {
   "cell_type": "code",
   "execution_count": 43,
   "metadata": {},
   "outputs": [
    {
     "data": {
      "text/plain": [
       "dict_keys(['title', 'y', 'x', 'upper', 'lower'])"
      ]
     },
     "execution_count": 43,
     "metadata": {},
     "output_type": "execute_result"
    }
   ],
   "source": [
    "params.keys()"
   ]
  },
  {
   "cell_type": "code",
   "execution_count": 48,
   "metadata": {},
   "outputs": [],
   "source": [
    "outfile(params['title'])"
   ]
  },
  {
   "cell_type": "code",
   "execution_count": 49,
   "metadata": {},
   "outputs": [],
   "source": [
    "params = model.pacf_plot(0)"
   ]
  },
  {
   "cell_type": "code",
   "execution_count": 54,
   "metadata": {},
   "outputs": [],
   "source": [
    "outfile(params['lower'])\n"
   ]
  },
  {
   "cell_type": "code",
   "execution_count": 80,
   "metadata": {},
   "outputs": [
    {
     "name": "stdout",
     "output_type": "stream",
     "text": [
      "                               SARIMAX Results                                \n",
      "==============================================================================\n",
      "Dep. Variable:            Value (kWh)   No. Observations:                  134\n",
      "Model:                 ARIMA(1, 0, 0)   Log Likelihood                -162.218\n",
      "Date:                Tue, 04 Jul 2023   AIC                            330.436\n",
      "Time:                        16:45:45   BIC                            339.129\n",
      "Sample:                    01-06-2016   HQIC                           333.969\n",
      "                         - 01-11-2016                                         \n",
      "Covariance Type:                  opg                                         \n",
      "==============================================================================\n",
      "                 coef    std err          z      P>|z|      [0.025      0.975]\n",
      "------------------------------------------------------------------------------\n",
      "const          1.5814      0.616      2.568      0.010       0.375       2.788\n",
      "ar.L1          0.8302      0.061     13.649      0.000       0.711       0.949\n",
      "sigma2         0.6535      0.061     10.738      0.000       0.534       0.773\n",
      "===================================================================================\n",
      "Ljung-Box (L1) (Q):                   6.75   Jarque-Bera (JB):               166.40\n",
      "Prob(Q):                              0.01   Prob(JB):                         0.00\n",
      "Heteroskedasticity (H):               1.29   Skew:                             1.38\n",
      "Prob(H) (two-sided):                  0.40   Kurtosis:                         7.71\n",
      "===================================================================================\n",
      "\n",
      "Warnings:\n",
      "[1] Covariance matrix calculated using the outer product of gradients (complex-step).\n"
     ]
    },
    {
     "name": "stderr",
     "output_type": "stream",
     "text": [
      "/home/shail/bits/PS1/time_series_analysis/env/lib/python3.10/site-packages/statsmodels/tsa/base/tsa_model.py:473: ValueWarning: No frequency information was provided, so inferred frequency H will be used.\n",
      "  self._init_dates(dates, freq)\n",
      "/home/shail/bits/PS1/time_series_analysis/env/lib/python3.10/site-packages/statsmodels/tsa/base/tsa_model.py:473: ValueWarning: No frequency information was provided, so inferred frequency H will be used.\n",
      "  self._init_dates(dates, freq)\n",
      "/home/shail/bits/PS1/time_series_analysis/env/lib/python3.10/site-packages/statsmodels/tsa/base/tsa_model.py:473: ValueWarning: No frequency information was provided, so inferred frequency H will be used.\n",
      "  self._init_dates(dates, freq)\n"
     ]
    }
   ],
   "source": [
    "model.fit((1,0,0))"
   ]
  },
  {
   "cell_type": "code",
   "execution_count": 81,
   "metadata": {},
   "outputs": [
    {
     "data": {
      "text/html": [
       "<div>\n",
       "<style scoped>\n",
       "    .dataframe tbody tr th:only-of-type {\n",
       "        vertical-align: middle;\n",
       "    }\n",
       "\n",
       "    .dataframe tbody tr th {\n",
       "        vertical-align: top;\n",
       "    }\n",
       "\n",
       "    .dataframe thead th {\n",
       "        text-align: right;\n",
       "    }\n",
       "</style>\n",
       "<table border=\"1\" class=\"dataframe\">\n",
       "  <thead>\n",
       "    <tr style=\"text-align: right;\">\n",
       "      <th></th>\n",
       "      <th>Metric</th>\n",
       "      <th>Value</th>\n",
       "    </tr>\n",
       "  </thead>\n",
       "  <tbody>\n",
       "    <tr>\n",
       "      <th>0</th>\n",
       "      <td>MAPE</td>\n",
       "      <td>1.787036</td>\n",
       "    </tr>\n",
       "    <tr>\n",
       "      <th>1</th>\n",
       "      <td>MAE</td>\n",
       "      <td>0.839779</td>\n",
       "    </tr>\n",
       "    <tr>\n",
       "      <th>2</th>\n",
       "      <td>MSE</td>\n",
       "      <td>0.903268</td>\n",
       "    </tr>\n",
       "  </tbody>\n",
       "</table>\n",
       "</div>"
      ],
      "text/plain": [
       "  Metric     Value\n",
       "0   MAPE  1.787036\n",
       "1    MAE  0.839779\n",
       "2    MSE  0.903268"
      ]
     },
     "execution_count": 81,
     "metadata": {},
     "output_type": "execute_result"
    }
   ],
   "source": [
    "model.error_metrics(test_df, y)"
   ]
  },
  {
   "cell_type": "code",
   "execution_count": 82,
   "metadata": {},
   "outputs": [],
   "source": [
    "params = model.plot_forecast(test_df, y, exclude_time=False)"
   ]
  },
  {
   "cell_type": "code",
   "execution_count": 83,
   "metadata": {},
   "outputs": [],
   "source": [
    "outfile(params['y_forecast'])"
   ]
  }
 ],
 "metadata": {
  "kernelspec": {
   "display_name": "env",
   "language": "python",
   "name": "python3"
  },
  "language_info": {
   "codemirror_mode": {
    "name": "ipython",
    "version": 3
   },
   "file_extension": ".py",
   "mimetype": "text/x-python",
   "name": "python",
   "nbconvert_exporter": "python",
   "pygments_lexer": "ipython3",
   "version": "3.10.6"
  },
  "orig_nbformat": 4
 },
 "nbformat": 4,
 "nbformat_minor": 2
}
