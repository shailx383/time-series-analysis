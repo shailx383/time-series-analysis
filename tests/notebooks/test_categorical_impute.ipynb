{
 "cells": [
  {
   "cell_type": "code",
   "execution_count": 1,
   "metadata": {},
   "outputs": [],
   "source": [
    "import pandas as pd\n",
    "from datetime import datetime, timedelta\n",
    "import numpy as np\n",
    "from itertools import dropwhile\n",
    "import sys\n",
    "sys.path.insert(0, '/home/shail/bits/PS1/time_series_analysis')"
   ]
  },
  {
   "cell_type": "code",
   "execution_count": 2,
   "metadata": {},
   "outputs": [],
   "source": [
    "\n",
    "df = pd.DataFrame([[10  ,      \"Mumbai\"   ,  '2015-12-01'  ]   ,               \n",
    "   [1 ,       \"Bangalore\" , '2016-01-12'],\n",
    "   [12    ,    \"Pune\"    ,   '2016-02-24'],\n",
    "   [4    ,    \"Mumbai\"  ,    '2016-04-01'],\n",
    "   [15   ,     \"Delhi\" ,     '2016-04-03'],\n",
    "   [6   ,     np.nan   ,    '2016-05-12'],\n",
    "   [14    ,    \"Bangalore\" ,   '2016-06-05'],\n",
    "  [ 5   ,     np.nan    ,   '2016-07-31'],\n",
    "   [8   ,     \"Mumbai\"  ,   '2016-12-19']], columns = ['value', 'city', 'date'])"
   ]
  },
  {
   "cell_type": "code",
   "execution_count": 3,
   "metadata": {},
   "outputs": [
    {
     "data": {
      "text/html": [
       "<div>\n",
       "<style scoped>\n",
       "    .dataframe tbody tr th:only-of-type {\n",
       "        vertical-align: middle;\n",
       "    }\n",
       "\n",
       "    .dataframe tbody tr th {\n",
       "        vertical-align: top;\n",
       "    }\n",
       "\n",
       "    .dataframe thead th {\n",
       "        text-align: right;\n",
       "    }\n",
       "</style>\n",
       "<table border=\"1\" class=\"dataframe\">\n",
       "  <thead>\n",
       "    <tr style=\"text-align: right;\">\n",
       "      <th></th>\n",
       "      <th>value</th>\n",
       "      <th>city</th>\n",
       "      <th>date</th>\n",
       "    </tr>\n",
       "  </thead>\n",
       "  <tbody>\n",
       "    <tr>\n",
       "      <th>0</th>\n",
       "      <td>10</td>\n",
       "      <td>Mumbai</td>\n",
       "      <td>2015-12-01</td>\n",
       "    </tr>\n",
       "    <tr>\n",
       "      <th>1</th>\n",
       "      <td>1</td>\n",
       "      <td>Bangalore</td>\n",
       "      <td>2016-01-12</td>\n",
       "    </tr>\n",
       "    <tr>\n",
       "      <th>2</th>\n",
       "      <td>12</td>\n",
       "      <td>Pune</td>\n",
       "      <td>2016-02-24</td>\n",
       "    </tr>\n",
       "    <tr>\n",
       "      <th>3</th>\n",
       "      <td>4</td>\n",
       "      <td>Mumbai</td>\n",
       "      <td>2016-04-01</td>\n",
       "    </tr>\n",
       "    <tr>\n",
       "      <th>4</th>\n",
       "      <td>15</td>\n",
       "      <td>Delhi</td>\n",
       "      <td>2016-04-03</td>\n",
       "    </tr>\n",
       "    <tr>\n",
       "      <th>5</th>\n",
       "      <td>6</td>\n",
       "      <td>NaN</td>\n",
       "      <td>2016-05-12</td>\n",
       "    </tr>\n",
       "    <tr>\n",
       "      <th>6</th>\n",
       "      <td>14</td>\n",
       "      <td>Bangalore</td>\n",
       "      <td>2016-06-05</td>\n",
       "    </tr>\n",
       "    <tr>\n",
       "      <th>7</th>\n",
       "      <td>5</td>\n",
       "      <td>NaN</td>\n",
       "      <td>2016-07-31</td>\n",
       "    </tr>\n",
       "    <tr>\n",
       "      <th>8</th>\n",
       "      <td>8</td>\n",
       "      <td>Mumbai</td>\n",
       "      <td>2016-12-19</td>\n",
       "    </tr>\n",
       "  </tbody>\n",
       "</table>\n",
       "</div>"
      ],
      "text/plain": [
       "   value       city        date\n",
       "0     10     Mumbai  2015-12-01\n",
       "1      1  Bangalore  2016-01-12\n",
       "2     12       Pune  2016-02-24\n",
       "3      4     Mumbai  2016-04-01\n",
       "4     15      Delhi  2016-04-03\n",
       "5      6        NaN  2016-05-12\n",
       "6     14  Bangalore  2016-06-05\n",
       "7      5        NaN  2016-07-31\n",
       "8      8     Mumbai  2016-12-19"
      ]
     },
     "execution_count": 3,
     "metadata": {},
     "output_type": "execute_result"
    }
   ],
   "source": [
    "df"
   ]
  },
  {
   "cell_type": "code",
   "execution_count": 4,
   "metadata": {},
   "outputs": [],
   "source": [
    "def impute_categorical_with_mode(col: pd.Series):\n",
    "    '''\n",
    "        imputes null values in categorical variables\n",
    "        \n",
    "        Args:\n",
    "            - col (pd.Series): series of variable to be imputed\n",
    "        \n",
    "        Returns:\n",
    "            - (pd.Series): series with no nans\n",
    "    '''\n",
    "    d = col.value_counts().to_dict()\n",
    "    max(d, key = lambda x: d[x])\n",
    "    new_col = col.fillna(max(d, key = lambda x: d[x]))\n",
    "    return new_col\n"
   ]
  },
  {
   "cell_type": "code",
   "execution_count": 5,
   "metadata": {},
   "outputs": [
    {
     "data": {
      "text/plain": [
       "0       Mumbai\n",
       "1    Bangalore\n",
       "2         Pune\n",
       "3       Mumbai\n",
       "4        Delhi\n",
       "5       Mumbai\n",
       "6    Bangalore\n",
       "7       Mumbai\n",
       "8       Mumbai\n",
       "Name: city, dtype: object"
      ]
     },
     "execution_count": 5,
     "metadata": {},
     "output_type": "execute_result"
    }
   ],
   "source": [
    "impute_categorical_with_mode(df['city'])"
   ]
  },
  {
   "cell_type": "code",
   "execution_count": null,
   "metadata": {},
   "outputs": [],
   "source": []
  }
 ],
 "metadata": {
  "kernelspec": {
   "display_name": "env",
   "language": "python",
   "name": "python3"
  },
  "language_info": {
   "codemirror_mode": {
    "name": "ipython",
    "version": 3
   },
   "file_extension": ".py",
   "mimetype": "text/x-python",
   "name": "python",
   "nbconvert_exporter": "python",
   "pygments_lexer": "ipython3",
   "version": "3.10.6"
  },
  "orig_nbformat": 4
 },
 "nbformat": 4,
 "nbformat_minor": 2
}
