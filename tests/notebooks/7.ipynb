{
 "cells": [
  {
   "cell_type": "code",
   "execution_count": 1,
   "metadata": {},
   "outputs": [],
   "source": [
    "import pandas as pd"
   ]
  },
  {
   "cell_type": "code",
   "execution_count": 2,
   "metadata": {},
   "outputs": [],
   "source": [
    "df = pd.read_csv('../datasets/5/POP.csv')"
   ]
  },
  {
   "cell_type": "code",
   "execution_count": 3,
   "metadata": {},
   "outputs": [
    {
     "data": {
      "text/html": [
       "<div>\n",
       "<style scoped>\n",
       "    .dataframe tbody tr th:only-of-type {\n",
       "        vertical-align: middle;\n",
       "    }\n",
       "\n",
       "    .dataframe tbody tr th {\n",
       "        vertical-align: top;\n",
       "    }\n",
       "\n",
       "    .dataframe thead th {\n",
       "        text-align: right;\n",
       "    }\n",
       "</style>\n",
       "<table border=\"1\" class=\"dataframe\">\n",
       "  <thead>\n",
       "    <tr style=\"text-align: right;\">\n",
       "      <th></th>\n",
       "      <th>realtime_start</th>\n",
       "      <th>value</th>\n",
       "      <th>date</th>\n",
       "      <th>realtime_end</th>\n",
       "    </tr>\n",
       "  </thead>\n",
       "  <tbody>\n",
       "    <tr>\n",
       "      <th>0</th>\n",
       "      <td>2019-12-06</td>\n",
       "      <td>156309.000</td>\n",
       "      <td>1952-01-01</td>\n",
       "      <td>2019-12-06</td>\n",
       "    </tr>\n",
       "    <tr>\n",
       "      <th>1</th>\n",
       "      <td>2019-12-06</td>\n",
       "      <td>156527.000</td>\n",
       "      <td>1952-02-01</td>\n",
       "      <td>2019-12-06</td>\n",
       "    </tr>\n",
       "    <tr>\n",
       "      <th>2</th>\n",
       "      <td>2019-12-06</td>\n",
       "      <td>156731.000</td>\n",
       "      <td>1952-03-01</td>\n",
       "      <td>2019-12-06</td>\n",
       "    </tr>\n",
       "    <tr>\n",
       "      <th>3</th>\n",
       "      <td>2019-12-06</td>\n",
       "      <td>156943.000</td>\n",
       "      <td>1952-04-01</td>\n",
       "      <td>2019-12-06</td>\n",
       "    </tr>\n",
       "    <tr>\n",
       "      <th>4</th>\n",
       "      <td>2019-12-06</td>\n",
       "      <td>157140.000</td>\n",
       "      <td>1952-05-01</td>\n",
       "      <td>2019-12-06</td>\n",
       "    </tr>\n",
       "    <tr>\n",
       "      <th>...</th>\n",
       "      <td>...</td>\n",
       "      <td>...</td>\n",
       "      <td>...</td>\n",
       "      <td>...</td>\n",
       "    </tr>\n",
       "    <tr>\n",
       "      <th>811</th>\n",
       "      <td>2019-12-06</td>\n",
       "      <td>329591.333</td>\n",
       "      <td>2019-08-01</td>\n",
       "      <td>2019-12-06</td>\n",
       "    </tr>\n",
       "    <tr>\n",
       "      <th>812</th>\n",
       "      <td>2019-12-06</td>\n",
       "      <td>329785.872</td>\n",
       "      <td>2019-09-01</td>\n",
       "      <td>2019-12-06</td>\n",
       "    </tr>\n",
       "    <tr>\n",
       "      <th>813</th>\n",
       "      <td>2019-12-06</td>\n",
       "      <td>329982.035</td>\n",
       "      <td>2019-10-01</td>\n",
       "      <td>2019-12-06</td>\n",
       "    </tr>\n",
       "    <tr>\n",
       "      <th>814</th>\n",
       "      <td>2019-12-06</td>\n",
       "      <td>330154.949</td>\n",
       "      <td>2019-11-01</td>\n",
       "      <td>2019-12-06</td>\n",
       "    </tr>\n",
       "    <tr>\n",
       "      <th>815</th>\n",
       "      <td>2019-12-06</td>\n",
       "      <td>330309.946</td>\n",
       "      <td>2019-12-01</td>\n",
       "      <td>2019-12-06</td>\n",
       "    </tr>\n",
       "  </tbody>\n",
       "</table>\n",
       "<p>816 rows × 4 columns</p>\n",
       "</div>"
      ],
      "text/plain": [
       "    realtime_start       value        date realtime_end\n",
       "0       2019-12-06  156309.000  1952-01-01   2019-12-06\n",
       "1       2019-12-06  156527.000  1952-02-01   2019-12-06\n",
       "2       2019-12-06  156731.000  1952-03-01   2019-12-06\n",
       "3       2019-12-06  156943.000  1952-04-01   2019-12-06\n",
       "4       2019-12-06  157140.000  1952-05-01   2019-12-06\n",
       "..             ...         ...         ...          ...\n",
       "811     2019-12-06  329591.333  2019-08-01   2019-12-06\n",
       "812     2019-12-06  329785.872  2019-09-01   2019-12-06\n",
       "813     2019-12-06  329982.035  2019-10-01   2019-12-06\n",
       "814     2019-12-06  330154.949  2019-11-01   2019-12-06\n",
       "815     2019-12-06  330309.946  2019-12-01   2019-12-06\n",
       "\n",
       "[816 rows x 4 columns]"
      ]
     },
     "execution_count": 3,
     "metadata": {},
     "output_type": "execute_result"
    }
   ],
   "source": [
    "df"
   ]
  },
  {
   "cell_type": "code",
   "execution_count": 4,
   "metadata": {},
   "outputs": [
    {
     "data": {
      "text/plain": [
       "realtime_start    0\n",
       "value             0\n",
       "date              0\n",
       "realtime_end      0\n",
       "dtype: int64"
      ]
     },
     "execution_count": 4,
     "metadata": {},
     "output_type": "execute_result"
    }
   ],
   "source": [
    "df.isna().sum()"
   ]
  },
  {
   "cell_type": "code",
   "execution_count": 5,
   "metadata": {},
   "outputs": [],
   "source": [
    "import sys\n",
    "sys.path.insert(0, '/home/shail/bits/PS1/time_series_analysis')\n",
    "\n",
    "original_stdout = sys.stdout \n",
    "\t\n",
    "def outfile(x):\n",
    "    with open('output.txt', 'w') as f:\n",
    "        sys.stdout = f\n",
    "        print(x)\n",
    "        sys.stdout = original_stdout "
   ]
  },
  {
   "cell_type": "code",
   "execution_count": 6,
   "metadata": {},
   "outputs": [],
   "source": [
    "from tsa.dateconverter import DateConverter"
   ]
  },
  {
   "attachments": {},
   "cell_type": "markdown",
   "metadata": {},
   "source": [
    "### Filtering"
   ]
  },
  {
   "cell_type": "code",
   "execution_count": 7,
   "metadata": {},
   "outputs": [
    {
     "data": {
      "text/html": [
       "<div>\n",
       "<style scoped>\n",
       "    .dataframe tbody tr th:only-of-type {\n",
       "        vertical-align: middle;\n",
       "    }\n",
       "\n",
       "    .dataframe tbody tr th {\n",
       "        vertical-align: top;\n",
       "    }\n",
       "\n",
       "    .dataframe thead th {\n",
       "        text-align: right;\n",
       "    }\n",
       "</style>\n",
       "<table border=\"1\" class=\"dataframe\">\n",
       "  <thead>\n",
       "    <tr style=\"text-align: right;\">\n",
       "      <th></th>\n",
       "      <th>value</th>\n",
       "      <th>date</th>\n",
       "    </tr>\n",
       "  </thead>\n",
       "  <tbody>\n",
       "    <tr>\n",
       "      <th>0</th>\n",
       "      <td>156309.000</td>\n",
       "      <td>1952-01-01</td>\n",
       "    </tr>\n",
       "    <tr>\n",
       "      <th>1</th>\n",
       "      <td>156527.000</td>\n",
       "      <td>1952-02-01</td>\n",
       "    </tr>\n",
       "    <tr>\n",
       "      <th>2</th>\n",
       "      <td>156731.000</td>\n",
       "      <td>1952-03-01</td>\n",
       "    </tr>\n",
       "    <tr>\n",
       "      <th>3</th>\n",
       "      <td>156943.000</td>\n",
       "      <td>1952-04-01</td>\n",
       "    </tr>\n",
       "    <tr>\n",
       "      <th>4</th>\n",
       "      <td>157140.000</td>\n",
       "      <td>1952-05-01</td>\n",
       "    </tr>\n",
       "    <tr>\n",
       "      <th>...</th>\n",
       "      <td>...</td>\n",
       "      <td>...</td>\n",
       "    </tr>\n",
       "    <tr>\n",
       "      <th>811</th>\n",
       "      <td>329591.333</td>\n",
       "      <td>2019-08-01</td>\n",
       "    </tr>\n",
       "    <tr>\n",
       "      <th>812</th>\n",
       "      <td>329785.872</td>\n",
       "      <td>2019-09-01</td>\n",
       "    </tr>\n",
       "    <tr>\n",
       "      <th>813</th>\n",
       "      <td>329982.035</td>\n",
       "      <td>2019-10-01</td>\n",
       "    </tr>\n",
       "    <tr>\n",
       "      <th>814</th>\n",
       "      <td>330154.949</td>\n",
       "      <td>2019-11-01</td>\n",
       "    </tr>\n",
       "    <tr>\n",
       "      <th>815</th>\n",
       "      <td>330309.946</td>\n",
       "      <td>2019-12-01</td>\n",
       "    </tr>\n",
       "  </tbody>\n",
       "</table>\n",
       "<p>816 rows × 2 columns</p>\n",
       "</div>"
      ],
      "text/plain": [
       "          value        date\n",
       "0    156309.000  1952-01-01\n",
       "1    156527.000  1952-02-01\n",
       "2    156731.000  1952-03-01\n",
       "3    156943.000  1952-04-01\n",
       "4    157140.000  1952-05-01\n",
       "..          ...         ...\n",
       "811  329591.333  2019-08-01\n",
       "812  329785.872  2019-09-01\n",
       "813  329982.035  2019-10-01\n",
       "814  330154.949  2019-11-01\n",
       "815  330309.946  2019-12-01\n",
       "\n",
       "[816 rows x 2 columns]"
      ]
     },
     "execution_count": 7,
     "metadata": {},
     "output_type": "execute_result"
    }
   ],
   "source": [
    "df.drop(['realtime_start', 'realtime_end'], axis = 1, inplace = True)\n",
    "df"
   ]
  },
  {
   "attachments": {},
   "cell_type": "markdown",
   "metadata": {},
   "source": [
    "# Date Conversion"
   ]
  },
  {
   "cell_type": "code",
   "execution_count": 8,
   "metadata": {},
   "outputs": [
    {
     "data": {
      "text/html": [
       "<div>\n",
       "<style scoped>\n",
       "    .dataframe tbody tr th:only-of-type {\n",
       "        vertical-align: middle;\n",
       "    }\n",
       "\n",
       "    .dataframe tbody tr th {\n",
       "        vertical-align: top;\n",
       "    }\n",
       "\n",
       "    .dataframe thead th {\n",
       "        text-align: right;\n",
       "    }\n",
       "</style>\n",
       "<table border=\"1\" class=\"dataframe\">\n",
       "  <thead>\n",
       "    <tr style=\"text-align: right;\">\n",
       "      <th></th>\n",
       "      <th>Code</th>\n",
       "      <th>Example</th>\n",
       "      <th>Description</th>\n",
       "    </tr>\n",
       "  </thead>\n",
       "  <tbody>\n",
       "    <tr>\n",
       "      <th>0</th>\n",
       "      <td>%a</td>\n",
       "      <td>Sun</td>\n",
       "      <td>Weekday as locale's abbreviated name.</td>\n",
       "    </tr>\n",
       "    <tr>\n",
       "      <th>1</th>\n",
       "      <td>%A</td>\n",
       "      <td>Sunday</td>\n",
       "      <td>Weekday as locale's full name.</td>\n",
       "    </tr>\n",
       "    <tr>\n",
       "      <th>2</th>\n",
       "      <td>%w</td>\n",
       "      <td>0</td>\n",
       "      <td>Weekday as a decimal number, where 0 is Sunday...</td>\n",
       "    </tr>\n",
       "    <tr>\n",
       "      <th>3</th>\n",
       "      <td>%d</td>\n",
       "      <td>08</td>\n",
       "      <td>Day of the month as a zero-padded decimal number.</td>\n",
       "    </tr>\n",
       "    <tr>\n",
       "      <th>4</th>\n",
       "      <td>%-d</td>\n",
       "      <td>8</td>\n",
       "      <td>Day of the month as a decimal number. (Platfor...</td>\n",
       "    </tr>\n",
       "    <tr>\n",
       "      <th>5</th>\n",
       "      <td>%b</td>\n",
       "      <td>Sep</td>\n",
       "      <td>Month as locale's abbreviated name.</td>\n",
       "    </tr>\n",
       "    <tr>\n",
       "      <th>6</th>\n",
       "      <td>%B</td>\n",
       "      <td>September</td>\n",
       "      <td>Month as locale's full name.</td>\n",
       "    </tr>\n",
       "    <tr>\n",
       "      <th>7</th>\n",
       "      <td>%m</td>\n",
       "      <td>09</td>\n",
       "      <td>Month as a zero-padded decimal number.</td>\n",
       "    </tr>\n",
       "    <tr>\n",
       "      <th>8</th>\n",
       "      <td>%-m</td>\n",
       "      <td>9</td>\n",
       "      <td>Month as a decimal number. (Platform speciﬁc)</td>\n",
       "    </tr>\n",
       "    <tr>\n",
       "      <th>9</th>\n",
       "      <td>%y</td>\n",
       "      <td>13</td>\n",
       "      <td>Year without century as a zero-padded decimal ...</td>\n",
       "    </tr>\n",
       "    <tr>\n",
       "      <th>10</th>\n",
       "      <td>%Y</td>\n",
       "      <td>2013</td>\n",
       "      <td>Year with century as a decimal number.</td>\n",
       "    </tr>\n",
       "    <tr>\n",
       "      <th>11</th>\n",
       "      <td>%H</td>\n",
       "      <td>07</td>\n",
       "      <td>Hour (24-hour clock) as a zero-padded decimal ...</td>\n",
       "    </tr>\n",
       "    <tr>\n",
       "      <th>12</th>\n",
       "      <td>%-H</td>\n",
       "      <td>7</td>\n",
       "      <td>Hour (24-hour clock) as a decimal number. (Pla...</td>\n",
       "    </tr>\n",
       "    <tr>\n",
       "      <th>13</th>\n",
       "      <td>%I</td>\n",
       "      <td>07</td>\n",
       "      <td>Hour (12-hour clock) as a zero-padded decimal ...</td>\n",
       "    </tr>\n",
       "    <tr>\n",
       "      <th>14</th>\n",
       "      <td>%-I</td>\n",
       "      <td>7</td>\n",
       "      <td>Hour (12-hour clock) as a decimal number. (Pla...</td>\n",
       "    </tr>\n",
       "    <tr>\n",
       "      <th>15</th>\n",
       "      <td>%p</td>\n",
       "      <td>AM</td>\n",
       "      <td>Locale's equivalent of either AM or PM.</td>\n",
       "    </tr>\n",
       "    <tr>\n",
       "      <th>16</th>\n",
       "      <td>%M</td>\n",
       "      <td>06</td>\n",
       "      <td>Minute as a zero-padded decimal number.</td>\n",
       "    </tr>\n",
       "    <tr>\n",
       "      <th>17</th>\n",
       "      <td>%-M</td>\n",
       "      <td>6</td>\n",
       "      <td>Minute as a decimal number. (Platform speciﬁc)</td>\n",
       "    </tr>\n",
       "    <tr>\n",
       "      <th>18</th>\n",
       "      <td>%S</td>\n",
       "      <td>05</td>\n",
       "      <td>Second as a zero-padded decimal number.</td>\n",
       "    </tr>\n",
       "    <tr>\n",
       "      <th>19</th>\n",
       "      <td>%-S</td>\n",
       "      <td>5</td>\n",
       "      <td>Second as a decimal number. (Platform speciﬁc)</td>\n",
       "    </tr>\n",
       "    <tr>\n",
       "      <th>20</th>\n",
       "      <td>%f</td>\n",
       "      <td>000000</td>\n",
       "      <td>Microsecond as a decimal number, zero-padded t...</td>\n",
       "    </tr>\n",
       "    <tr>\n",
       "      <th>21</th>\n",
       "      <td>%z</td>\n",
       "      <td>+0000</td>\n",
       "      <td>UTC oﬀset in the form ±HHMM[SS[.ﬀﬀﬀ]] (empty s...</td>\n",
       "    </tr>\n",
       "    <tr>\n",
       "      <th>22</th>\n",
       "      <td>%Z</td>\n",
       "      <td>UTC</td>\n",
       "      <td>Time zone name (empty string if the object is ...</td>\n",
       "    </tr>\n",
       "  </tbody>\n",
       "</table>\n",
       "</div>"
      ],
      "text/plain": [
       "   Code    Example                                        Description\n",
       "0    %a        Sun              Weekday as locale's abbreviated name.\n",
       "1    %A     Sunday                     Weekday as locale's full name.\n",
       "2    %w          0  Weekday as a decimal number, where 0 is Sunday...\n",
       "3    %d         08  Day of the month as a zero-padded decimal number.\n",
       "4   %-d          8  Day of the month as a decimal number. (Platfor...\n",
       "5    %b        Sep                Month as locale's abbreviated name.\n",
       "6    %B  September                       Month as locale's full name.\n",
       "7    %m         09             Month as a zero-padded decimal number.\n",
       "8   %-m          9      Month as a decimal number. (Platform speciﬁc)\n",
       "9    %y         13  Year without century as a zero-padded decimal ...\n",
       "10   %Y       2013             Year with century as a decimal number.\n",
       "11   %H         07  Hour (24-hour clock) as a zero-padded decimal ...\n",
       "12  %-H          7  Hour (24-hour clock) as a decimal number. (Pla...\n",
       "13   %I         07  Hour (12-hour clock) as a zero-padded decimal ...\n",
       "14  %-I          7  Hour (12-hour clock) as a decimal number. (Pla...\n",
       "15   %p         AM            Locale's equivalent of either AM or PM.\n",
       "16   %M         06            Minute as a zero-padded decimal number.\n",
       "17  %-M          6     Minute as a decimal number. (Platform speciﬁc)\n",
       "18   %S         05            Second as a zero-padded decimal number.\n",
       "19  %-S          5     Second as a decimal number. (Platform speciﬁc)\n",
       "20   %f     000000  Microsecond as a decimal number, zero-padded t...\n",
       "21   %z      +0000  UTC oﬀset in the form ±HHMM[SS[.ﬀﬀﬀ]] (empty s...\n",
       "22   %Z        UTC  Time zone name (empty string if the object is ..."
      ]
     },
     "execution_count": 8,
     "metadata": {},
     "output_type": "execute_result"
    }
   ],
   "source": [
    "converter = DateConverter()\n",
    "converter.directive_df()"
   ]
  },
  {
   "cell_type": "code",
   "execution_count": 9,
   "metadata": {},
   "outputs": [
    {
     "data": {
      "text/html": [
       "<div>\n",
       "<style scoped>\n",
       "    .dataframe tbody tr th:only-of-type {\n",
       "        vertical-align: middle;\n",
       "    }\n",
       "\n",
       "    .dataframe tbody tr th {\n",
       "        vertical-align: top;\n",
       "    }\n",
       "\n",
       "    .dataframe thead th {\n",
       "        text-align: right;\n",
       "    }\n",
       "</style>\n",
       "<table border=\"1\" class=\"dataframe\">\n",
       "  <thead>\n",
       "    <tr style=\"text-align: right;\">\n",
       "      <th></th>\n",
       "      <th>value</th>\n",
       "      <th>date</th>\n",
       "    </tr>\n",
       "  </thead>\n",
       "  <tbody>\n",
       "    <tr>\n",
       "      <th>0</th>\n",
       "      <td>156309.000</td>\n",
       "      <td>1952-01-01</td>\n",
       "    </tr>\n",
       "    <tr>\n",
       "      <th>1</th>\n",
       "      <td>156527.000</td>\n",
       "      <td>1952-02-01</td>\n",
       "    </tr>\n",
       "    <tr>\n",
       "      <th>2</th>\n",
       "      <td>156731.000</td>\n",
       "      <td>1952-03-01</td>\n",
       "    </tr>\n",
       "    <tr>\n",
       "      <th>3</th>\n",
       "      <td>156943.000</td>\n",
       "      <td>1952-04-01</td>\n",
       "    </tr>\n",
       "    <tr>\n",
       "      <th>4</th>\n",
       "      <td>157140.000</td>\n",
       "      <td>1952-05-01</td>\n",
       "    </tr>\n",
       "    <tr>\n",
       "      <th>...</th>\n",
       "      <td>...</td>\n",
       "      <td>...</td>\n",
       "    </tr>\n",
       "    <tr>\n",
       "      <th>811</th>\n",
       "      <td>329591.333</td>\n",
       "      <td>2019-08-01</td>\n",
       "    </tr>\n",
       "    <tr>\n",
       "      <th>812</th>\n",
       "      <td>329785.872</td>\n",
       "      <td>2019-09-01</td>\n",
       "    </tr>\n",
       "    <tr>\n",
       "      <th>813</th>\n",
       "      <td>329982.035</td>\n",
       "      <td>2019-10-01</td>\n",
       "    </tr>\n",
       "    <tr>\n",
       "      <th>814</th>\n",
       "      <td>330154.949</td>\n",
       "      <td>2019-11-01</td>\n",
       "    </tr>\n",
       "    <tr>\n",
       "      <th>815</th>\n",
       "      <td>330309.946</td>\n",
       "      <td>2019-12-01</td>\n",
       "    </tr>\n",
       "  </tbody>\n",
       "</table>\n",
       "<p>816 rows × 2 columns</p>\n",
       "</div>"
      ],
      "text/plain": [
       "          value       date\n",
       "0    156309.000 1952-01-01\n",
       "1    156527.000 1952-02-01\n",
       "2    156731.000 1952-03-01\n",
       "3    156943.000 1952-04-01\n",
       "4    157140.000 1952-05-01\n",
       "..          ...        ...\n",
       "811  329591.333 2019-08-01\n",
       "812  329785.872 2019-09-01\n",
       "813  329982.035 2019-10-01\n",
       "814  330154.949 2019-11-01\n",
       "815  330309.946 2019-12-01\n",
       "\n",
       "[816 rows x 2 columns]"
      ]
     },
     "execution_count": 9,
     "metadata": {},
     "output_type": "execute_result"
    }
   ],
   "source": [
    "df['date'] = df['date'].apply(lambda x: converter.convert_date(x, infer_format=True))\n",
    "df"
   ]
  },
  {
   "attachments": {},
   "cell_type": "markdown",
   "metadata": {},
   "source": [
    "## Interpolation"
   ]
  },
  {
   "attachments": {},
   "cell_type": "markdown",
   "metadata": {},
   "source": [
    "# Visualizations"
   ]
  },
  {
   "cell_type": "code",
   "execution_count": 10,
   "metadata": {},
   "outputs": [],
   "source": [
    "from tsa.visualization import *"
   ]
  },
  {
   "cell_type": "code",
   "execution_count": 11,
   "metadata": {},
   "outputs": [
    {
     "data": {
      "text/html": [
       "<div>\n",
       "<style scoped>\n",
       "    .dataframe tbody tr th:only-of-type {\n",
       "        vertical-align: middle;\n",
       "    }\n",
       "\n",
       "    .dataframe tbody tr th {\n",
       "        vertical-align: top;\n",
       "    }\n",
       "\n",
       "    .dataframe thead th {\n",
       "        text-align: right;\n",
       "    }\n",
       "</style>\n",
       "<table border=\"1\" class=\"dataframe\">\n",
       "  <thead>\n",
       "    <tr style=\"text-align: right;\">\n",
       "      <th></th>\n",
       "      <th>value</th>\n",
       "      <th>date</th>\n",
       "    </tr>\n",
       "  </thead>\n",
       "  <tbody>\n",
       "    <tr>\n",
       "      <th>0</th>\n",
       "      <td>156309.0</td>\n",
       "      <td>1952-01-01</td>\n",
       "    </tr>\n",
       "    <tr>\n",
       "      <th>1</th>\n",
       "      <td>156527.0</td>\n",
       "      <td>1952-02-01</td>\n",
       "    </tr>\n",
       "    <tr>\n",
       "      <th>2</th>\n",
       "      <td>156731.0</td>\n",
       "      <td>1952-03-01</td>\n",
       "    </tr>\n",
       "    <tr>\n",
       "      <th>3</th>\n",
       "      <td>156943.0</td>\n",
       "      <td>1952-04-01</td>\n",
       "    </tr>\n",
       "    <tr>\n",
       "      <th>4</th>\n",
       "      <td>157140.0</td>\n",
       "      <td>1952-05-01</td>\n",
       "    </tr>\n",
       "    <tr>\n",
       "      <th>5</th>\n",
       "      <td>157343.0</td>\n",
       "      <td>1952-06-01</td>\n",
       "    </tr>\n",
       "    <tr>\n",
       "      <th>6</th>\n",
       "      <td>157553.0</td>\n",
       "      <td>1952-07-01</td>\n",
       "    </tr>\n",
       "    <tr>\n",
       "      <th>7</th>\n",
       "      <td>157798.0</td>\n",
       "      <td>1952-08-01</td>\n",
       "    </tr>\n",
       "    <tr>\n",
       "      <th>8</th>\n",
       "      <td>158053.0</td>\n",
       "      <td>1952-09-01</td>\n",
       "    </tr>\n",
       "    <tr>\n",
       "      <th>9</th>\n",
       "      <td>158306.0</td>\n",
       "      <td>1952-10-01</td>\n",
       "    </tr>\n",
       "    <tr>\n",
       "      <th>10</th>\n",
       "      <td>158451.0</td>\n",
       "      <td>1952-11-01</td>\n",
       "    </tr>\n",
       "    <tr>\n",
       "      <th>11</th>\n",
       "      <td>158757.0</td>\n",
       "      <td>1952-12-01</td>\n",
       "    </tr>\n",
       "    <tr>\n",
       "      <th>12</th>\n",
       "      <td>158973.0</td>\n",
       "      <td>1953-01-01</td>\n",
       "    </tr>\n",
       "    <tr>\n",
       "      <th>13</th>\n",
       "      <td>159170.0</td>\n",
       "      <td>1953-02-01</td>\n",
       "    </tr>\n",
       "    <tr>\n",
       "      <th>14</th>\n",
       "      <td>159349.0</td>\n",
       "      <td>1953-03-01</td>\n",
       "    </tr>\n",
       "  </tbody>\n",
       "</table>\n",
       "</div>"
      ],
      "text/plain": [
       "       value       date\n",
       "0   156309.0 1952-01-01\n",
       "1   156527.0 1952-02-01\n",
       "2   156731.0 1952-03-01\n",
       "3   156943.0 1952-04-01\n",
       "4   157140.0 1952-05-01\n",
       "5   157343.0 1952-06-01\n",
       "6   157553.0 1952-07-01\n",
       "7   157798.0 1952-08-01\n",
       "8   158053.0 1952-09-01\n",
       "9   158306.0 1952-10-01\n",
       "10  158451.0 1952-11-01\n",
       "11  158757.0 1952-12-01\n",
       "12  158973.0 1953-01-01\n",
       "13  159170.0 1953-02-01\n",
       "14  159349.0 1953-03-01"
      ]
     },
     "execution_count": 11,
     "metadata": {},
     "output_type": "execute_result"
    }
   ],
   "source": [
    "small_df = pd.DataFrame(df[:15])\n",
    "small_df"
   ]
  },
  {
   "cell_type": "markdown",
   "metadata": {},
   "source": [
    "## Line Plot"
   ]
  },
  {
   "cell_type": "code",
   "execution_count": 20,
   "metadata": {},
   "outputs": [],
   "source": [
    "params = single_line_plot(df, 'date', 'value', remove_time=True)"
   ]
  },
  {
   "cell_type": "code",
   "execution_count": 21,
   "metadata": {},
   "outputs": [
    {
     "data": {
      "text/plain": [
       "dict_keys(['title', 'y', 'x'])"
      ]
     },
     "execution_count": 21,
     "metadata": {},
     "output_type": "execute_result"
    }
   ],
   "source": [
    "params.keys()"
   ]
  },
  {
   "cell_type": "code",
   "execution_count": 24,
   "metadata": {},
   "outputs": [],
   "source": [
    "outfile(params['title'])"
   ]
  },
  {
   "cell_type": "markdown",
   "metadata": {},
   "source": [
    "## Waterfall Plot"
   ]
  },
  {
   "cell_type": "code",
   "execution_count": 13,
   "metadata": {},
   "outputs": [],
   "source": [
    "plot_params = waterfall_plot(small_df, 'date', 'value', 'Waterfall plot of value', remove_time=True)"
   ]
  },
  {
   "cell_type": "code",
   "execution_count": 16,
   "metadata": {},
   "outputs": [],
   "source": [
    "outfile(plot_params['d'])"
   ]
  },
  {
   "attachments": {},
   "cell_type": "markdown",
   "metadata": {},
   "source": [
    "## Lag Plot"
   ]
  },
  {
   "cell_type": "code",
   "execution_count": 18,
   "metadata": {},
   "outputs": [
    {
     "name": "stderr",
     "output_type": "stream",
     "text": [
      "/home/shail/bits/PS1/time_series_analysis/env/lib/python3.10/site-packages/sklearn/cluster/_kmeans.py:870: FutureWarning: The default value of `n_init` will change from 10 to 'auto' in 1.4. Set the value of `n_init` explicitly to suppress the warning\n",
      "  warnings.warn(\n"
     ]
    }
   ],
   "source": [
    "data = lag_plot(df['value'], 12, 'Lag plot of wind speed', 3)"
   ]
  },
  {
   "cell_type": "code",
   "execution_count": 19,
   "metadata": {},
   "outputs": [],
   "source": [
    "outfile(data['data'])"
   ]
  },
  {
   "attachments": {},
   "cell_type": "markdown",
   "metadata": {},
   "source": [
    "## Stacked Area Chart"
   ]
  },
  {
   "cell_type": "code",
   "execution_count": 25,
   "metadata": {},
   "outputs": [],
   "source": [
    "x = stacked_area_plot(df, ['Power', 'WindSpeed'], 'Time', 'stacked_area_plot', remove_time=False)"
   ]
  },
  {
   "cell_type": "code",
   "execution_count": 26,
   "metadata": {},
   "outputs": [
    {
     "data": {
      "text/plain": [
       "dict_keys(['title', 'names', 'vals', 'x'])"
      ]
     },
     "execution_count": 26,
     "metadata": {},
     "output_type": "execute_result"
    }
   ],
   "source": [
    "x.keys()"
   ]
  },
  {
   "cell_type": "code",
   "execution_count": 31,
   "metadata": {},
   "outputs": [],
   "source": [
    "outfile(x['x'])\n"
   ]
  },
  {
   "attachments": {},
   "cell_type": "markdown",
   "metadata": {},
   "source": [
    "# Properties"
   ]
  },
  {
   "cell_type": "code",
   "execution_count": 25,
   "metadata": {},
   "outputs": [],
   "source": [
    "from tsa.properties import *"
   ]
  },
  {
   "cell_type": "code",
   "execution_count": 26,
   "metadata": {},
   "outputs": [],
   "source": [
    "trend = Trend(df, 'value', 'date')"
   ]
  },
  {
   "cell_type": "code",
   "execution_count": 27,
   "metadata": {},
   "outputs": [],
   "source": [
    "params = trend.plot(remove_time = True)"
   ]
  },
  {
   "cell_type": "code",
   "execution_count": 28,
   "metadata": {},
   "outputs": [
    {
     "data": {
      "text/plain": [
       "dict_keys(['title', 'data', 'x'])"
      ]
     },
     "execution_count": 28,
     "metadata": {},
     "output_type": "execute_result"
    }
   ],
   "source": [
    "params.keys()"
   ]
  },
  {
   "cell_type": "code",
   "execution_count": 31,
   "metadata": {},
   "outputs": [],
   "source": [
    "outfile(params['data'])"
   ]
  },
  {
   "cell_type": "code",
   "execution_count": 32,
   "metadata": {},
   "outputs": [
    {
     "data": {
      "text/html": [
       "<div>\n",
       "<style scoped>\n",
       "    .dataframe tbody tr th:only-of-type {\n",
       "        vertical-align: middle;\n",
       "    }\n",
       "\n",
       "    .dataframe tbody tr th {\n",
       "        vertical-align: top;\n",
       "    }\n",
       "\n",
       "    .dataframe thead th {\n",
       "        text-align: right;\n",
       "    }\n",
       "</style>\n",
       "<table border=\"1\" class=\"dataframe\">\n",
       "  <thead>\n",
       "    <tr style=\"text-align: right;\">\n",
       "      <th></th>\n",
       "      <th>Original</th>\n",
       "      <th>Detrend</th>\n",
       "    </tr>\n",
       "    <tr>\n",
       "      <th>date</th>\n",
       "      <th></th>\n",
       "      <th></th>\n",
       "    </tr>\n",
       "  </thead>\n",
       "  <tbody>\n",
       "    <tr>\n",
       "      <th>1952-01-01</th>\n",
       "      <td>156309.000</td>\n",
       "      <td>156309.000000</td>\n",
       "    </tr>\n",
       "    <tr>\n",
       "      <th>1952-02-01</th>\n",
       "      <td>156527.000</td>\n",
       "      <td>156024.859523</td>\n",
       "    </tr>\n",
       "    <tr>\n",
       "      <th>1952-03-01</th>\n",
       "      <td>156731.000</td>\n",
       "      <td>155726.719045</td>\n",
       "    </tr>\n",
       "    <tr>\n",
       "      <th>1952-04-01</th>\n",
       "      <td>156943.000</td>\n",
       "      <td>155436.578568</td>\n",
       "    </tr>\n",
       "    <tr>\n",
       "      <th>1952-05-01</th>\n",
       "      <td>157140.000</td>\n",
       "      <td>155131.438091</td>\n",
       "    </tr>\n",
       "    <tr>\n",
       "      <th>...</th>\n",
       "      <td>...</td>\n",
       "      <td>...</td>\n",
       "    </tr>\n",
       "    <tr>\n",
       "      <th>2019-08-01</th>\n",
       "      <td>329591.333</td>\n",
       "      <td>-77644.594123</td>\n",
       "    </tr>\n",
       "    <tr>\n",
       "      <th>2019-09-01</th>\n",
       "      <td>329785.872</td>\n",
       "      <td>-77952.195600</td>\n",
       "    </tr>\n",
       "    <tr>\n",
       "      <th>2019-10-01</th>\n",
       "      <td>329982.035</td>\n",
       "      <td>-78258.173078</td>\n",
       "    </tr>\n",
       "    <tr>\n",
       "      <th>2019-11-01</th>\n",
       "      <td>330154.949</td>\n",
       "      <td>-78587.399555</td>\n",
       "    </tr>\n",
       "    <tr>\n",
       "      <th>2019-12-01</th>\n",
       "      <td>330309.946</td>\n",
       "      <td>-78934.543032</td>\n",
       "    </tr>\n",
       "  </tbody>\n",
       "</table>\n",
       "<p>816 rows × 2 columns</p>\n",
       "</div>"
      ],
      "text/plain": [
       "              Original        Detrend\n",
       "date                                 \n",
       "1952-01-01  156309.000  156309.000000\n",
       "1952-02-01  156527.000  156024.859523\n",
       "1952-03-01  156731.000  155726.719045\n",
       "1952-04-01  156943.000  155436.578568\n",
       "1952-05-01  157140.000  155131.438091\n",
       "...                ...            ...\n",
       "2019-08-01  329591.333  -77644.594123\n",
       "2019-09-01  329785.872  -77952.195600\n",
       "2019-10-01  329982.035  -78258.173078\n",
       "2019-11-01  330154.949  -78587.399555\n",
       "2019-12-01  330309.946  -78934.543032\n",
       "\n",
       "[816 rows x 2 columns]"
      ]
     },
     "execution_count": 32,
     "metadata": {},
     "output_type": "execute_result"
    }
   ],
   "source": [
    "trend.detrend()"
   ]
  },
  {
   "cell_type": "code",
   "execution_count": 33,
   "metadata": {},
   "outputs": [],
   "source": [
    "p = trend.plot_detrend(remove_time = True)"
   ]
  },
  {
   "cell_type": "code",
   "execution_count": 34,
   "metadata": {},
   "outputs": [
    {
     "data": {
      "text/plain": [
       "dict_keys(['title', 'data', 'data_detrend', 'x'])"
      ]
     },
     "execution_count": 34,
     "metadata": {},
     "output_type": "execute_result"
    }
   ],
   "source": [
    "p.keys()"
   ]
  },
  {
   "cell_type": "code",
   "execution_count": 38,
   "metadata": {},
   "outputs": [],
   "source": [
    "outfile(p['data_detrend'])"
   ]
  },
  {
   "attachments": {},
   "cell_type": "markdown",
   "metadata": {},
   "source": [
    "## Seasonality"
   ]
  },
  {
   "cell_type": "code",
   "execution_count": 39,
   "metadata": {},
   "outputs": [],
   "source": [
    "seasonality = Seasonality(df, 'value', 'date')"
   ]
  },
  {
   "cell_type": "code",
   "execution_count": 40,
   "metadata": {},
   "outputs": [
    {
     "data": {
      "text/plain": [
       "date\n",
       "1952-01-01    1.000167\n",
       "1952-02-01    1.000032\n",
       "1952-03-01    0.999882\n",
       "1952-04-01    0.999828\n",
       "1952-05-01    0.999763\n",
       "                ...   \n",
       "2019-08-01    0.999931\n",
       "2019-09-01    1.000085\n",
       "2019-10-01    1.000227\n",
       "2019-11-01    1.000264\n",
       "2019-12-01    1.000229\n",
       "Name: seasonal, Length: 816, dtype: float64"
      ]
     },
     "execution_count": 40,
     "metadata": {},
     "output_type": "execute_result"
    }
   ],
   "source": [
    "seasonality.seasonal()"
   ]
  },
  {
   "cell_type": "code",
   "execution_count": 41,
   "metadata": {},
   "outputs": [
    {
     "data": {
      "text/html": [
       "<div>\n",
       "<style scoped>\n",
       "    .dataframe tbody tr th:only-of-type {\n",
       "        vertical-align: middle;\n",
       "    }\n",
       "\n",
       "    .dataframe tbody tr th {\n",
       "        vertical-align: top;\n",
       "    }\n",
       "\n",
       "    .dataframe thead th {\n",
       "        text-align: right;\n",
       "    }\n",
       "</style>\n",
       "<table border=\"1\" class=\"dataframe\">\n",
       "  <thead>\n",
       "    <tr style=\"text-align: right;\">\n",
       "      <th></th>\n",
       "      <th>Original</th>\n",
       "      <th>Deseasonalized</th>\n",
       "    </tr>\n",
       "    <tr>\n",
       "      <th>date</th>\n",
       "      <th></th>\n",
       "      <th></th>\n",
       "    </tr>\n",
       "  </thead>\n",
       "  <tbody>\n",
       "    <tr>\n",
       "      <th>1952-01-01</th>\n",
       "      <td>156309.000</td>\n",
       "      <td>156282.839498</td>\n",
       "    </tr>\n",
       "    <tr>\n",
       "      <th>1952-02-01</th>\n",
       "      <td>156527.000</td>\n",
       "      <td>156521.969733</td>\n",
       "    </tr>\n",
       "    <tr>\n",
       "      <th>1952-03-01</th>\n",
       "      <td>156731.000</td>\n",
       "      <td>156749.481040</td>\n",
       "    </tr>\n",
       "    <tr>\n",
       "      <th>1952-04-01</th>\n",
       "      <td>156943.000</td>\n",
       "      <td>156969.991854</td>\n",
       "    </tr>\n",
       "    <tr>\n",
       "      <th>1952-05-01</th>\n",
       "      <td>157140.000</td>\n",
       "      <td>157177.277607</td>\n",
       "    </tr>\n",
       "    <tr>\n",
       "      <th>...</th>\n",
       "      <td>...</td>\n",
       "      <td>...</td>\n",
       "    </tr>\n",
       "    <tr>\n",
       "      <th>2019-08-01</th>\n",
       "      <td>329591.333</td>\n",
       "      <td>329613.975956</td>\n",
       "    </tr>\n",
       "    <tr>\n",
       "      <th>2019-09-01</th>\n",
       "      <td>329785.872</td>\n",
       "      <td>329757.803720</td>\n",
       "    </tr>\n",
       "    <tr>\n",
       "      <th>2019-10-01</th>\n",
       "      <td>329982.035</td>\n",
       "      <td>329907.223121</td>\n",
       "    </tr>\n",
       "    <tr>\n",
       "      <th>2019-11-01</th>\n",
       "      <td>330154.949</td>\n",
       "      <td>330067.767973</td>\n",
       "    </tr>\n",
       "    <tr>\n",
       "      <th>2019-12-01</th>\n",
       "      <td>330309.946</td>\n",
       "      <td>330234.194481</td>\n",
       "    </tr>\n",
       "  </tbody>\n",
       "</table>\n",
       "<p>816 rows × 2 columns</p>\n",
       "</div>"
      ],
      "text/plain": [
       "              Original  Deseasonalized\n",
       "date                                  \n",
       "1952-01-01  156309.000   156282.839498\n",
       "1952-02-01  156527.000   156521.969733\n",
       "1952-03-01  156731.000   156749.481040\n",
       "1952-04-01  156943.000   156969.991854\n",
       "1952-05-01  157140.000   157177.277607\n",
       "...                ...             ...\n",
       "2019-08-01  329591.333   329613.975956\n",
       "2019-09-01  329785.872   329757.803720\n",
       "2019-10-01  329982.035   329907.223121\n",
       "2019-11-01  330154.949   330067.767973\n",
       "2019-12-01  330309.946   330234.194481\n",
       "\n",
       "[816 rows x 2 columns]"
      ]
     },
     "execution_count": 41,
     "metadata": {},
     "output_type": "execute_result"
    }
   ],
   "source": [
    "seasonality.deseasonalize()"
   ]
  },
  {
   "cell_type": "code",
   "execution_count": 42,
   "metadata": {},
   "outputs": [],
   "source": [
    "p=seasonality.plot_deseasonalize()"
   ]
  },
  {
   "cell_type": "code",
   "execution_count": 45,
   "metadata": {},
   "outputs": [],
   "source": [
    "outfile(p['x'])"
   ]
  },
  {
   "cell_type": "code",
   "execution_count": 47,
   "metadata": {},
   "outputs": [],
   "source": [
    "p = seasonality.plot(remove_time=True)"
   ]
  },
  {
   "cell_type": "code",
   "execution_count": 51,
   "metadata": {},
   "outputs": [],
   "source": [
    "outfile(p['title'])"
   ]
  },
  {
   "attachments": {},
   "cell_type": "markdown",
   "metadata": {},
   "source": [
    "## Stationarity: now integrated with ARIMA"
   ]
  },
  {
   "attachments": {},
   "cell_type": "markdown",
   "metadata": {},
   "source": [
    "## Autocorrelation"
   ]
  },
  {
   "cell_type": "code",
   "execution_count": 52,
   "metadata": {},
   "outputs": [],
   "source": [
    "a = Autocorrelation()"
   ]
  },
  {
   "cell_type": "code",
   "execution_count": 53,
   "metadata": {},
   "outputs": [
    {
     "data": {
      "text/plain": [
       "{'title': 'Autocorrelation plot of value, order = 0',\n",
       " 'y': [1.0,\n",
       "  0.9963516235686795,\n",
       "  0.9927003677978458,\n",
       "  0.9890464838234957,\n",
       "  0.985391400123351,\n",
       "  0.9817345376014907,\n",
       "  0.9780763165659397,\n",
       "  0.9744164404495198,\n",
       "  0.9707557874827277,\n",
       "  0.967094332495981,\n",
       "  0.9634315179283579,\n",
       "  0.9597620791730718,\n",
       "  0.9560931974225196,\n",
       "  0.9524213104393732,\n",
       "  0.9487459379337336,\n",
       "  0.9450671612587431,\n",
       "  0.9413872520422375,\n",
       "  0.9377055029503084,\n",
       "  0.9340230077715991,\n",
       "  0.9303400514628781,\n",
       "  0.9266575990010792,\n",
       "  0.9229753772743902,\n",
       "  0.9192925359745502,\n",
       "  0.9156077350691556,\n",
       "  0.9119207422224654,\n",
       "  0.9082320854495345,\n",
       "  0.9045414511115754,\n",
       "  0.9008492627053697,\n",
       "  0.8971572045676476,\n",
       "  0.8934648246025423],\n",
       " 'x': [0,\n",
       "  1,\n",
       "  2,\n",
       "  3,\n",
       "  4,\n",
       "  5,\n",
       "  6,\n",
       "  7,\n",
       "  8,\n",
       "  9,\n",
       "  10,\n",
       "  11,\n",
       "  12,\n",
       "  13,\n",
       "  14,\n",
       "  15,\n",
       "  16,\n",
       "  17,\n",
       "  18,\n",
       "  19,\n",
       "  20,\n",
       "  21,\n",
       "  22,\n",
       "  23,\n",
       "  24,\n",
       "  25,\n",
       "  26,\n",
       "  27,\n",
       "  28,\n",
       "  29],\n",
       " 'upper': [0.0,\n",
       "  0.06861246332409043,\n",
       "  0.11855139933212333,\n",
       "  0.15275084019935348,\n",
       "  0.18039685948757045,\n",
       "  0.20416974952722866,\n",
       "  0.22529939412953393,\n",
       "  0.24447258502216174,\n",
       "  0.2621194226931498,\n",
       "  0.27853060119529893,\n",
       "  0.2939135837414484,\n",
       "  0.3084226260390116,\n",
       "  0.3221760285225864,\n",
       "  0.33526719134495087,\n",
       "  0.34777119567597425,\n",
       "  0.35974953762567563,\n",
       "  0.3712533625738468,\n",
       "  0.38232581329274173,\n",
       "  0.3930036350935463,\n",
       "  0.40331847269301524,\n",
       "  0.41329780358240886,\n",
       "  0.42296568832827564,\n",
       "  0.4323433206945416,\n",
       "  0.4414494754553462,\n",
       "  0.4503008687697606,\n",
       "  0.45891247977402916,\n",
       "  0.467297808616303,\n",
       "  0.47546906153837587,\n",
       "  0.48343733187050486,\n",
       "  0.4912127613780748],\n",
       " 'lower': [0.0,\n",
       "  -0.06861246332409043,\n",
       "  -0.11855139933212333,\n",
       "  -0.15275084019935348,\n",
       "  -0.18039685948757045,\n",
       "  -0.20416974952722855,\n",
       "  -0.22529939412953393,\n",
       "  -0.24447258502216174,\n",
       "  -0.2621194226931498,\n",
       "  -0.27853060119529893,\n",
       "  -0.2939135837414485,\n",
       "  -0.3084226260390116,\n",
       "  -0.3221760285225863,\n",
       "  -0.33526719134495075,\n",
       "  -0.34777119567597425,\n",
       "  -0.35974953762567563,\n",
       "  -0.3712533625738468,\n",
       "  -0.38232581329274173,\n",
       "  -0.3930036350935463,\n",
       "  -0.40331847269301524,\n",
       "  -0.41329780358240886,\n",
       "  -0.42296568832827564,\n",
       "  -0.4323433206945416,\n",
       "  -0.4414494754553462,\n",
       "  -0.4503008687697606,\n",
       "  -0.45891247977402927,\n",
       "  -0.4672978086163029,\n",
       "  -0.475469061538376,\n",
       "  -0.4834373318705048,\n",
       "  -0.49121276137807485]}"
      ]
     },
     "execution_count": 53,
     "metadata": {},
     "output_type": "execute_result"
    }
   ],
   "source": [
    "a.autocorrelation(df['value'])"
   ]
  },
  {
   "cell_type": "code",
   "execution_count": 54,
   "metadata": {},
   "outputs": [
    {
     "name": "stdout",
     "output_type": "stream",
     "text": [
      "As value of statistic is close to 0, series is positively autocorrelated.\n"
     ]
    },
    {
     "data": {
      "text/plain": [
       "0.000307410328878566"
      ]
     },
     "execution_count": 54,
     "metadata": {},
     "output_type": "execute_result"
    }
   ],
   "source": [
    "a.durbin_watson_test(df['value'], summary = True)"
   ]
  },
  {
   "attachments": {},
   "cell_type": "markdown",
   "metadata": {},
   "source": [
    "## Partial Autocorrelation"
   ]
  },
  {
   "cell_type": "code",
   "execution_count": 55,
   "metadata": {},
   "outputs": [
    {
     "data": {
      "text/plain": [
       "{'title': 'Partial Autocorrelation plot of value, order = 0',\n",
       " 'y': [1.0,\n",
       "  0.9975741408982114,\n",
       "  -0.003040044294175931,\n",
       "  -0.0029973763230615735,\n",
       "  -0.0027104170159997615,\n",
       "  -0.002839251098429386,\n",
       "  -0.002760792014694597,\n",
       "  -0.00283120459360049,\n",
       "  -0.002657126009004369,\n",
       "  -0.0026708562211480917,\n",
       "  -0.002795934621242009,\n",
       "  -0.0039060951364889396,\n",
       "  -0.002413829345943225,\n",
       "  -0.003168985019154937,\n",
       "  -0.0032804917182420942,\n",
       "  -0.0032733031082143346,\n",
       "  -0.002806027203531875,\n",
       "  -0.002964317604665035,\n",
       "  -0.0027437894224395434,\n",
       "  -0.002692385947683646,\n",
       "  -0.0024971067874689154,\n",
       "  -0.0025622313627426266,\n",
       "  -0.0027532902477080687,\n",
       "  -0.003044914448364532,\n",
       "  -0.003104435667791177,\n",
       "  -0.0030022443451361886,\n",
       "  -0.0030800445242393118,\n",
       "  -0.0029990527717741544,\n",
       "  -0.0026499087815965734,\n",
       "  -0.0027559661562908027],\n",
       " 'x': [0,\n",
       "  1,\n",
       "  2,\n",
       "  3,\n",
       "  4,\n",
       "  5,\n",
       "  6,\n",
       "  7,\n",
       "  8,\n",
       "  9,\n",
       "  10,\n",
       "  11,\n",
       "  12,\n",
       "  13,\n",
       "  14,\n",
       "  15,\n",
       "  16,\n",
       "  17,\n",
       "  18,\n",
       "  19,\n",
       "  20,\n",
       "  21,\n",
       "  22,\n",
       "  23,\n",
       "  24,\n",
       "  25,\n",
       "  26,\n",
       "  27,\n",
       "  28,\n",
       "  29],\n",
       " 'upper': [0.0,\n",
       "  0.06861246332409043,\n",
       "  0.06861246332409049,\n",
       "  0.06861246332409049,\n",
       "  0.06861246332409049,\n",
       "  0.06861246332409049,\n",
       "  0.06861246332409049,\n",
       "  0.06861246332409049,\n",
       "  0.06861246332409049,\n",
       "  0.06861246332409049,\n",
       "  0.06861246332409049,\n",
       "  0.06861246332409049,\n",
       "  0.06861246332409049,\n",
       "  0.06861246332409049,\n",
       "  0.06861246332409049,\n",
       "  0.06861246332409049,\n",
       "  0.06861246332409049,\n",
       "  0.06861246332409049,\n",
       "  0.06861246332409049,\n",
       "  0.06861246332409049,\n",
       "  0.06861246332409049,\n",
       "  0.06861246332409049,\n",
       "  0.06861246332409049,\n",
       "  0.06861246332409049,\n",
       "  0.06861246332409049,\n",
       "  0.06861246332409049,\n",
       "  0.06861246332409049,\n",
       "  0.06861246332409049,\n",
       "  0.06861246332409049,\n",
       "  0.06861246332409049],\n",
       " 'lower': [0.0,\n",
       "  -0.06861246332409043,\n",
       "  -0.06861246332409049,\n",
       "  -0.06861246332409049,\n",
       "  -0.06861246332409049,\n",
       "  -0.06861246332409049,\n",
       "  -0.06861246332409049,\n",
       "  -0.06861246332409049,\n",
       "  -0.06861246332409049,\n",
       "  -0.06861246332409049,\n",
       "  -0.06861246332409049,\n",
       "  -0.06861246332409049,\n",
       "  -0.06861246332409049,\n",
       "  -0.06861246332409049,\n",
       "  -0.06861246332409049,\n",
       "  -0.06861246332409049,\n",
       "  -0.06861246332409049,\n",
       "  -0.06861246332409049,\n",
       "  -0.06861246332409049,\n",
       "  -0.06861246332409049,\n",
       "  -0.06861246332409049,\n",
       "  -0.06861246332409049,\n",
       "  -0.06861246332409049,\n",
       "  -0.06861246332409049,\n",
       "  -0.06861246332409049,\n",
       "  -0.06861246332409049,\n",
       "  -0.06861246332409049,\n",
       "  -0.06861246332409049,\n",
       "  -0.06861246332409049,\n",
       "  -0.06861246332409049]}"
      ]
     },
     "execution_count": 55,
     "metadata": {},
     "output_type": "execute_result"
    }
   ],
   "source": [
    "p = PartialAutocorrelation()\n",
    "p.partial_autocorrelation(df['value'])"
   ]
  },
  {
   "attachments": {},
   "cell_type": "markdown",
   "metadata": {},
   "source": [
    "## Differencing: now integrated with ARIMA"
   ]
  },
  {
   "attachments": {},
   "cell_type": "markdown",
   "metadata": {},
   "source": [
    "# Models"
   ]
  },
  {
   "attachments": {},
   "cell_type": "markdown",
   "metadata": {},
   "source": [
    "## ARIMA"
   ]
  },
  {
   "cell_type": "code",
   "execution_count": 58,
   "metadata": {},
   "outputs": [],
   "source": [
    "from tsa.models import Arima\n",
    "\n",
    "# df = pd.DataFrame(df[:300])"
   ]
  },
  {
   "cell_type": "code",
   "execution_count": 59,
   "metadata": {},
   "outputs": [],
   "source": [
    "train_df = df[:int(0.8 * len(df))]\n",
    "test_df = df[int(0.8 * len(df)):]\n",
    "\n",
    "df = train_df"
   ]
  },
  {
   "cell_type": "code",
   "execution_count": 60,
   "metadata": {},
   "outputs": [],
   "source": [
    "model = Arima()\n",
    "model(df, 'date', 'value')"
   ]
  },
  {
   "cell_type": "code",
   "execution_count": 63,
   "metadata": {},
   "outputs": [
    {
     "name": "stdout",
     "output_type": "stream",
     "text": [
      "1. ADF :  -5.164106224694433\n",
      "2. P-Value :  1.040339516513591e-05\n",
      "3. Num Of Lags :  14\n",
      "4. Num Of Observations Used For ADF Regression and Critical Values Calculation : 504\n",
      "5. Critical Values :\n",
      "\t 1% :  -3.443391504492468\n",
      "\t 5% :  -2.8672917032172953\n",
      "\t 10% :  -2.5698334393109095\n",
      "\n",
      "\n",
      "As p-value is inside the confidence interval of 95%, series is stationary.\n"
     ]
    }
   ],
   "source": [
    "model.test_stationarity(2)"
   ]
  },
  {
   "cell_type": "code",
   "execution_count": 64,
   "metadata": {},
   "outputs": [],
   "source": [
    "params = model.acf_plot(2)"
   ]
  },
  {
   "cell_type": "code",
   "execution_count": 65,
   "metadata": {},
   "outputs": [
    {
     "data": {
      "text/plain": [
       "dict_keys(['title', 'y', 'x', 'upper', 'lower'])"
      ]
     },
     "execution_count": 65,
     "metadata": {},
     "output_type": "execute_result"
    }
   ],
   "source": [
    "params.keys()"
   ]
  },
  {
   "cell_type": "code",
   "execution_count": 70,
   "metadata": {},
   "outputs": [],
   "source": [
    "outfile(params['title'])"
   ]
  },
  {
   "cell_type": "code",
   "execution_count": 71,
   "metadata": {},
   "outputs": [],
   "source": [
    "params = model.pacf_plot(2)"
   ]
  },
  {
   "cell_type": "code",
   "execution_count": 77,
   "metadata": {},
   "outputs": [],
   "source": [
    "outfile(params['title'])\n"
   ]
  },
  {
   "cell_type": "code",
   "execution_count": 88,
   "metadata": {},
   "outputs": [
    {
     "name": "stdout",
     "output_type": "stream",
     "text": [
      "                               SARIMAX Results                                \n",
      "==============================================================================\n",
      "Dep. Variable:                      y   No. Observations:                  521\n",
      "Model:               SARIMAX(4, 2, 1)   Log Likelihood               -2271.206\n",
      "Date:                Mon, 10 Jul 2023   AIC                           4556.412\n",
      "Time:                        11:54:35   BIC                           4586.175\n",
      "Sample:                    01-01-1952   HQIC                          4568.072\n",
      "                         - 05-01-1995                                         \n",
      "Covariance Type:                  opg                                         \n",
      "==============================================================================\n",
      "                 coef    std err          z      P>|z|      [0.025      0.975]\n",
      "------------------------------------------------------------------------------\n",
      "intercept      0.0323      0.140      0.231      0.817      -0.242       0.306\n",
      "ar.L1          0.5731      0.045     12.660      0.000       0.484       0.662\n",
      "ar.L2          0.2364      0.036      6.656      0.000       0.167       0.306\n",
      "ar.L3         -0.1457      0.036     -4.080      0.000      -0.216      -0.076\n",
      "ar.L4         -0.2788      0.037     -7.460      0.000      -0.352      -0.206\n",
      "ma.L1         -0.8546      0.032    -26.550      0.000      -0.918      -0.792\n",
      "sigma2       366.4333     13.116     27.939      0.000     340.727     392.140\n",
      "===================================================================================\n",
      "Ljung-Box (L1) (Q):                   2.84   Jarque-Bera (JB):              2027.29\n",
      "Prob(Q):                              0.09   Prob(JB):                         0.00\n",
      "Heteroskedasticity (H):               0.73   Skew:                             1.07\n",
      "Prob(H) (two-sided):                  0.04   Kurtosis:                        12.44\n",
      "===================================================================================\n",
      "\n",
      "Warnings:\n",
      "[1] Covariance matrix calculated using the outer product of gradients (complex-step).\n"
     ]
    }
   ],
   "source": [
    "model.fit()"
   ]
  },
  {
   "cell_type": "code",
   "execution_count": 89,
   "metadata": {},
   "outputs": [
    {
     "data": {
      "text/html": [
       "<div>\n",
       "<style scoped>\n",
       "    .dataframe tbody tr th:only-of-type {\n",
       "        vertical-align: middle;\n",
       "    }\n",
       "\n",
       "    .dataframe tbody tr th {\n",
       "        vertical-align: top;\n",
       "    }\n",
       "\n",
       "    .dataframe thead th {\n",
       "        text-align: right;\n",
       "    }\n",
       "</style>\n",
       "<table border=\"1\" class=\"dataframe\">\n",
       "  <thead>\n",
       "    <tr style=\"text-align: right;\">\n",
       "      <th></th>\n",
       "      <th>Metric</th>\n",
       "      <th>Value</th>\n",
       "    </tr>\n",
       "  </thead>\n",
       "  <tbody>\n",
       "    <tr>\n",
       "      <th>0</th>\n",
       "      <td>MAPE</td>\n",
       "      <td>0.001780</td>\n",
       "    </tr>\n",
       "    <tr>\n",
       "      <th>1</th>\n",
       "      <td>MAE</td>\n",
       "      <td>516.128136</td>\n",
       "    </tr>\n",
       "    <tr>\n",
       "      <th>2</th>\n",
       "      <td>MSE</td>\n",
       "      <td>527968.773398</td>\n",
       "    </tr>\n",
       "  </tbody>\n",
       "</table>\n",
       "</div>"
      ],
      "text/plain": [
       "  Metric          Value\n",
       "0   MAPE       0.001780\n",
       "1    MAE     516.128136\n",
       "2    MSE  527968.773398"
      ]
     },
     "execution_count": 89,
     "metadata": {},
     "output_type": "execute_result"
    }
   ],
   "source": [
    "model.error_metrics(test_df, 'value')"
   ]
  },
  {
   "cell_type": "code",
   "execution_count": 90,
   "metadata": {},
   "outputs": [],
   "source": [
    "params = model.plot_forecast(test_df, 'value', exclude_time=True)"
   ]
  },
  {
   "cell_type": "code",
   "execution_count": 91,
   "metadata": {},
   "outputs": [],
   "source": [
    "outfile(params['y_forecast'])"
   ]
  },
  {
   "cell_type": "code",
   "execution_count": null,
   "metadata": {},
   "outputs": [],
   "source": []
  }
 ],
 "metadata": {
  "kernelspec": {
   "display_name": "env",
   "language": "python",
   "name": "python3"
  },
  "language_info": {
   "codemirror_mode": {
    "name": "ipython",
    "version": 3
   },
   "file_extension": ".py",
   "mimetype": "text/x-python",
   "name": "python",
   "nbconvert_exporter": "python",
   "pygments_lexer": "ipython3",
   "version": "3.10.6"
  },
  "orig_nbformat": 4
 },
 "nbformat": 4,
 "nbformat_minor": 2
}
