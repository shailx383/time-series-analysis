{
 "cells": [
  {
   "cell_type": "code",
   "execution_count": 1,
   "metadata": {},
   "outputs": [],
   "source": [
    "from tsa.visualization import lag_plot\n",
    "import pandas as pd"
   ]
  },
  {
   "cell_type": "code",
   "execution_count": 2,
   "metadata": {},
   "outputs": [],
   "source": [
    "from sklearn.cluster import KMeans\n",
    "\n"
   ]
  },
  {
   "cell_type": "code",
   "execution_count": 4,
   "metadata": {},
   "outputs": [],
   "source": [
    "df = pd.read_csv('datasets/3/DailyDelhiClimateTrain.csv')"
   ]
  },
  {
   "cell_type": "code",
   "execution_count": 8,
   "metadata": {},
   "outputs": [
    {
     "name": "stderr",
     "output_type": "stream",
     "text": [
      "/home/shail/bits/PS1/time_series_analysis/env/lib/python3.10/site-packages/sklearn/cluster/_kmeans.py:870: FutureWarning: The default value of `n_init` will change from 10 to 'auto' in 1.4. Set the value of `n_init` explicitly to suppress the warning\n",
      "  warnings.warn(\n"
     ]
    },
    {
     "data": {
      "text/plain": [
       "{'data': [[34.323165954415956, 35.59517195767195],\n",
       "  [18.40338095238095, 19.93492857142857],\n",
       "  [30.31835761028638, 30.782449977234414],\n",
       "  [13.411956521739132, 13.41268115942029],\n",
       "  [23.85425986050986, 25.36128306878307],\n",
       "  [28.042117080450414, 27.041899561344007],\n",
       "  [17.02663139329806, 16.67996511003757],\n",
       "  [9.662500000000001, 9.7025],\n",
       "  [32.44298485677796, 31.451932801352037],\n",
       "  [22.82655315843115, 22.718149675435576],\n",
       "  [29.626104654824893, 29.71584199420509],\n",
       "  [35.917313797313795, 37.40640077243019],\n",
       "  [31.86846655328798, 34.13851540616246],\n",
       "  [20.512143099544286, 19.53680038670157],\n",
       "  [14.310639880952381, 16.739353354978356],\n",
       "  [37.05416666666666, 31.635416666666668],\n",
       "  [26.969666666666665, 28.312257142857142],\n",
       "  [25.109527116402116, 25.9916335978836],\n",
       "  [10.110714285714286, 13.024999999999999],\n",
       "  [37.67542016806723, 37.71733193277311],\n",
       "  [33.23440609218598, 33.277728642325414],\n",
       "  [30.252507936507936, 27.221230158730158],\n",
       "  [17.724133247704675, 17.695141287284144],\n",
       "  [7.205555555555556, 7.4484126984126995],\n",
       "  [28.629252840737433, 28.57456432896909],\n",
       "  [28.847532467532467, 31.04773524583307],\n",
       "  [26.851466049382715, 24.91012272192828],\n",
       "  [15.120493197278913, 13.885204081632654],\n",
       "  [20.05436507936508, 21.164285714285715],\n",
       "  [24.388640142289876, 23.631651429378703],\n",
       "  [37.65918449197861, 35.86571428571428],\n",
       "  [31.19473886328725, 29.72388557573567],\n",
       "  [12.001406926406926, 11.668695887445885],\n",
       "  [30.329190656822234, 31.84103113103113],\n",
       "  [35.45145089285714, 33.78932291666666],\n",
       "  [12.261011904761906, 14.810019841269842],\n",
       "  [17.21272182786158, 15.522897043432758],\n",
       "  [20.256122448979593, 17.9984693877551],\n",
       "  [24.093864468864467, 21.246794871794872],\n",
       "  [16.790608465608464, 19.357886904761905],\n",
       "  [30.787043998886105, 33.20710530589047],\n",
       "  [28.83764880952381, 24.564434523809524],\n",
       "  [33.66904724870717, 30.24663525132275],\n",
       "  [26.09937641723356, 26.93174603174603],\n",
       "  [35.84991496598639, 35.90226757369614],\n",
       "  [18.59648888148888, 18.528115865615867],\n",
       "  [32.31710608348766, 32.73167843852055],\n",
       "  [30.200499452654626, 28.594273399014778],\n",
       "  [15.962321428571428, 17.63712121212121],\n",
       "  [36.48214285714286, 27.25],\n",
       "  [21.16951703651842, 22.793361313202034],\n",
       "  [28.513145342312008, 29.805401234567903],\n",
       "  [14.068622076023393, 11.658482142857144],\n",
       "  [31.534865131226415, 31.986940834738455],\n",
       "  [32.94113742236025, 35.19408653846154],\n",
       "  [25.28693342656157, 24.929396314550775],\n",
       "  [12.341987179487178, 12.658653846153847],\n",
       "  [22.983947013634513, 24.189656998321215],\n",
       "  [17.03636363636363, 13.325],\n",
       "  [27.083333333333332, 29.932936507936507],\n",
       "  [34.05853174603175, 31.925587606837606],\n",
       "  [32.25, 28.806349206349207],\n",
       "  [21.870193581122436, 21.45349953409164],\n",
       "  [14.176587301587302, 15.083515335958944],\n",
       "  [24.531666666666666, 28.384999999999998],\n",
       "  [19.279545454545456, 17.065836940836938],\n",
       "  [35.67552083333334, 31.7109375],\n",
       "  [19.13888888888889, 14.55952380952381],\n",
       "  [31.369935714285717, 30.79162176036524],\n",
       "  [34.184680025856494, 34.182948179271705],\n",
       "  [15.695601533882783, 15.765215773809524],\n",
       "  [28.154265873015873, 32.302083333333336],\n",
       "  [11.103125, 10.290178571428571]],\n",
       " 'title': 'Lag Plot'}"
      ]
     },
     "execution_count": 8,
     "metadata": {},
     "output_type": "execute_result"
    }
   ],
   "source": [
    "data = lag_plot(df['meantemp'], 1, 'Lag Plot', 20)\n",
    "data"
   ]
  },
  {
   "cell_type": "code",
   "execution_count": 25,
   "metadata": {},
   "outputs": [],
   "source": [
    "kmeans = KMeans(100)"
   ]
  },
  {
   "cell_type": "code",
   "execution_count": 26,
   "metadata": {},
   "outputs": [
    {
     "name": "stderr",
     "output_type": "stream",
     "text": [
      "/home/shail/miniconda3/lib/python3.10/site-packages/sklearn/cluster/_kmeans.py:870: FutureWarning: The default value of `n_init` will change from 10 to 'auto' in 1.4. Set the value of `n_init` explicitly to suppress the warning\n",
      "  warnings.warn(\n"
     ]
    },
    {
     "data": {
      "text/html": [
       "<style>#sk-container-id-3 {color: black;background-color: white;}#sk-container-id-3 pre{padding: 0;}#sk-container-id-3 div.sk-toggleable {background-color: white;}#sk-container-id-3 label.sk-toggleable__label {cursor: pointer;display: block;width: 100%;margin-bottom: 0;padding: 0.3em;box-sizing: border-box;text-align: center;}#sk-container-id-3 label.sk-toggleable__label-arrow:before {content: \"▸\";float: left;margin-right: 0.25em;color: #696969;}#sk-container-id-3 label.sk-toggleable__label-arrow:hover:before {color: black;}#sk-container-id-3 div.sk-estimator:hover label.sk-toggleable__label-arrow:before {color: black;}#sk-container-id-3 div.sk-toggleable__content {max-height: 0;max-width: 0;overflow: hidden;text-align: left;background-color: #f0f8ff;}#sk-container-id-3 div.sk-toggleable__content pre {margin: 0.2em;color: black;border-radius: 0.25em;background-color: #f0f8ff;}#sk-container-id-3 input.sk-toggleable__control:checked~div.sk-toggleable__content {max-height: 200px;max-width: 100%;overflow: auto;}#sk-container-id-3 input.sk-toggleable__control:checked~label.sk-toggleable__label-arrow:before {content: \"▾\";}#sk-container-id-3 div.sk-estimator input.sk-toggleable__control:checked~label.sk-toggleable__label {background-color: #d4ebff;}#sk-container-id-3 div.sk-label input.sk-toggleable__control:checked~label.sk-toggleable__label {background-color: #d4ebff;}#sk-container-id-3 input.sk-hidden--visually {border: 0;clip: rect(1px 1px 1px 1px);clip: rect(1px, 1px, 1px, 1px);height: 1px;margin: -1px;overflow: hidden;padding: 0;position: absolute;width: 1px;}#sk-container-id-3 div.sk-estimator {font-family: monospace;background-color: #f0f8ff;border: 1px dotted black;border-radius: 0.25em;box-sizing: border-box;margin-bottom: 0.5em;}#sk-container-id-3 div.sk-estimator:hover {background-color: #d4ebff;}#sk-container-id-3 div.sk-parallel-item::after {content: \"\";width: 100%;border-bottom: 1px solid gray;flex-grow: 1;}#sk-container-id-3 div.sk-label:hover label.sk-toggleable__label {background-color: #d4ebff;}#sk-container-id-3 div.sk-serial::before {content: \"\";position: absolute;border-left: 1px solid gray;box-sizing: border-box;top: 0;bottom: 0;left: 50%;z-index: 0;}#sk-container-id-3 div.sk-serial {display: flex;flex-direction: column;align-items: center;background-color: white;padding-right: 0.2em;padding-left: 0.2em;position: relative;}#sk-container-id-3 div.sk-item {position: relative;z-index: 1;}#sk-container-id-3 div.sk-parallel {display: flex;align-items: stretch;justify-content: center;background-color: white;position: relative;}#sk-container-id-3 div.sk-item::before, #sk-container-id-3 div.sk-parallel-item::before {content: \"\";position: absolute;border-left: 1px solid gray;box-sizing: border-box;top: 0;bottom: 0;left: 50%;z-index: -1;}#sk-container-id-3 div.sk-parallel-item {display: flex;flex-direction: column;z-index: 1;position: relative;background-color: white;}#sk-container-id-3 div.sk-parallel-item:first-child::after {align-self: flex-end;width: 50%;}#sk-container-id-3 div.sk-parallel-item:last-child::after {align-self: flex-start;width: 50%;}#sk-container-id-3 div.sk-parallel-item:only-child::after {width: 0;}#sk-container-id-3 div.sk-dashed-wrapped {border: 1px dashed gray;margin: 0 0.4em 0.5em 0.4em;box-sizing: border-box;padding-bottom: 0.4em;background-color: white;}#sk-container-id-3 div.sk-label label {font-family: monospace;font-weight: bold;display: inline-block;line-height: 1.2em;}#sk-container-id-3 div.sk-label-container {text-align: center;}#sk-container-id-3 div.sk-container {/* jupyter's `normalize.less` sets `[hidden] { display: none; }` but bootstrap.min.css set `[hidden] { display: none !important; }` so we also need the `!important` here to be able to override the default hidden behavior on the sphinx rendered scikit-learn.org. See: https://github.com/scikit-learn/scikit-learn/issues/21755 */display: inline-block !important;position: relative;}#sk-container-id-3 div.sk-text-repr-fallback {display: none;}</style><div id=\"sk-container-id-3\" class=\"sk-top-container\"><div class=\"sk-text-repr-fallback\"><pre>KMeans(n_clusters=100)</pre><b>In a Jupyter environment, please rerun this cell to show the HTML representation or trust the notebook. <br />On GitHub, the HTML representation is unable to render, please try loading this page with nbviewer.org.</b></div><div class=\"sk-container\" hidden><div class=\"sk-item\"><div class=\"sk-estimator sk-toggleable\"><input class=\"sk-toggleable__control sk-hidden--visually\" id=\"sk-estimator-id-3\" type=\"checkbox\" checked><label for=\"sk-estimator-id-3\" class=\"sk-toggleable__label sk-toggleable__label-arrow\">KMeans</label><div class=\"sk-toggleable__content\"><pre>KMeans(n_clusters=100)</pre></div></div></div></div></div>"
      ],
      "text/plain": [
       "KMeans(n_clusters=100)"
      ]
     },
     "execution_count": 26,
     "metadata": {},
     "output_type": "execute_result"
    }
   ],
   "source": [
    "kmeans.fit(data)"
   ]
  },
  {
   "cell_type": "code",
   "execution_count": 27,
   "metadata": {},
   "outputs": [],
   "source": [
    "pts = kmeans.cluster_centers_"
   ]
  },
  {
   "cell_type": "code",
   "execution_count": 28,
   "metadata": {},
   "outputs": [],
   "source": [
    "x = [i[0] for i in pts]\n",
    "y = [i[1] for i in pts]"
   ]
  },
  {
   "cell_type": "code",
   "execution_count": 29,
   "metadata": {},
   "outputs": [],
   "source": [
    "import matplotlib.pyplot as plt"
   ]
  },
  {
   "cell_type": "code",
   "execution_count": 30,
   "metadata": {},
   "outputs": [
    {
     "data": {
      "text/plain": [
       "<matplotlib.collections.PathCollection at 0x7f1fda859930>"
      ]
     },
     "execution_count": 30,
     "metadata": {},
     "output_type": "execute_result"
    },
    {
     "data": {
      "image/png": "[encoded data removed]",
      "text/plain": [
       "<Figure size 640x480 with 1 Axes>"
      ]
     },
     "metadata": {},
     "output_type": "display_data"
    }
   ],
   "source": [
    "plt.scatter(x, y)"
   ]
  },
  {
   "cell_type": "code",
   "execution_count": null,
   "metadata": {},
   "outputs": [],
   "source": []
  }
 ],
 "metadata": {
  "kernelspec": {
   "display_name": "base",
   "language": "python",
   "name": "python3"
  },
  "language_info": {
   "codemirror_mode": {
    "name": "ipython",
    "version": 3
   },
   "file_extension": ".py",
   "mimetype": "text/x-python",
   "name": "python",
   "nbconvert_exporter": "python",
   "pygments_lexer": "ipython3",
   "version": "3.10.6"
  },
  "orig_nbformat": 4
 },
 "nbformat": 4,
 "nbformat_minor": 2
}
