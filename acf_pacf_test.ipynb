{
 "cells": [
  {
   "cell_type": "code",
   "execution_count": 3,
   "metadata": {},
   "outputs": [],
   "source": [
    "from statsmodels.tsa.stattools import acf, pacf\n",
    "import pandas as pd"
   ]
  },
  {
   "cell_type": "code",
   "execution_count": 4,
   "metadata": {},
   "outputs": [
    {
     "data": {
      "text/html": [
       "<div>\n",
       "<style scoped>\n",
       "    .dataframe tbody tr th:only-of-type {\n",
       "        vertical-align: middle;\n",
       "    }\n",
       "\n",
       "    .dataframe tbody tr th {\n",
       "        vertical-align: top;\n",
       "    }\n",
       "\n",
       "    .dataframe thead th {\n",
       "        text-align: right;\n",
       "    }\n",
       "</style>\n",
       "<table border=\"1\" class=\"dataframe\">\n",
       "  <thead>\n",
       "    <tr style=\"text-align: right;\">\n",
       "      <th></th>\n",
       "      <th>IPG2211A2N</th>\n",
       "    </tr>\n",
       "    <tr>\n",
       "      <th>DATE</th>\n",
       "      <th></th>\n",
       "    </tr>\n",
       "  </thead>\n",
       "  <tbody>\n",
       "    <tr>\n",
       "      <th>1985-01-01</th>\n",
       "      <td>72.5052</td>\n",
       "    </tr>\n",
       "    <tr>\n",
       "      <th>1985-02-01</th>\n",
       "      <td>70.6720</td>\n",
       "    </tr>\n",
       "    <tr>\n",
       "      <th>1985-03-01</th>\n",
       "      <td>62.4502</td>\n",
       "    </tr>\n",
       "    <tr>\n",
       "      <th>1985-04-01</th>\n",
       "      <td>57.4714</td>\n",
       "    </tr>\n",
       "    <tr>\n",
       "      <th>1985-05-01</th>\n",
       "      <td>55.3151</td>\n",
       "    </tr>\n",
       "  </tbody>\n",
       "</table>\n",
       "</div>"
      ],
      "text/plain": [
       "            IPG2211A2N\n",
       "DATE                  \n",
       "1985-01-01     72.5052\n",
       "1985-02-01     70.6720\n",
       "1985-03-01     62.4502\n",
       "1985-04-01     57.4714\n",
       "1985-05-01     55.3151"
      ]
     },
     "execution_count": 4,
     "metadata": {},
     "output_type": "execute_result"
    }
   ],
   "source": [
    "df = pd.read_csv('datasets/2/Electric_Production.csv')\n",
    "df['DATE'] = pd.to_datetime(df['DATE'])\n",
    "df = df.set_index(['DATE'])\n",
    "df.head()"
   ]
  },
  {
   "cell_type": "code",
   "execution_count": 5,
   "metadata": {},
   "outputs": [],
   "source": [
    "train_df = pd.DataFrame(df[:int(0.8 * len(df))])\n",
    "test_df = pd.DataFrame(df[int(0.8 * len(df)):])"
   ]
  },
  {
   "cell_type": "code",
   "execution_count": 41,
   "metadata": {},
   "outputs": [],
   "source": [
    "x, confint = pacf(train_df, alpha = 0.05)\n"
   ]
  },
  {
   "cell_type": "code",
   "execution_count": 42,
   "metadata": {},
   "outputs": [
    {
     "data": {
      "text/plain": [
       "[1.0,\n",
       " 0.8778632491500709,\n",
       " -0.47257821007359935,\n",
       " 0.6141596343497127,\n",
       " 0.544135252474487,\n",
       " 0.3493818895605283,\n",
       " -0.07883520109115906,\n",
       " -0.11019543899465495,\n",
       " -0.15409457305770044,\n",
       " 0.22379700723299323,\n",
       " 0.27287604260814374,\n",
       " 0.35304873729806185,\n",
       " 0.11368490718252872,\n",
       " -0.534787979366814,\n",
       " 0.015412877208869842,\n",
       " -0.10669022928379383,\n",
       " 0.055340805837452156,\n",
       " -0.056542646886863446,\n",
       " -0.034329742302245406,\n",
       " 0.18575983642741573,\n",
       " -0.013517985069724917,\n",
       " 0.009183313210426257,\n",
       " 0.1009986316760949,\n",
       " 0.11516543052670751,\n",
       " -0.030742019446067283,\n",
       " -0.22605806429442385]"
      ]
     },
     "execution_count": 42,
     "metadata": {},
     "output_type": "execute_result"
    }
   ],
   "source": [
    "x.tolist()"
   ]
  },
  {
   "cell_type": "code",
   "execution_count": 43,
   "metadata": {},
   "outputs": [],
   "source": [
    "import matplotlib.pyplot as plt\n",
    "%matplotlib inline"
   ]
  },
  {
   "cell_type": "code",
   "execution_count": 46,
   "metadata": {},
   "outputs": [],
   "source": [
    "y = confint[:, 0] - x"
   ]
  },
  {
   "cell_type": "code",
   "execution_count": 47,
   "metadata": {},
   "outputs": [],
   "source": [
    "y1 = confint[:, 1] - x"
   ]
  },
  {
   "cell_type": "code",
   "execution_count": 49,
   "metadata": {},
   "outputs": [
    {
     "data": {
      "text/plain": [
       "[0.0,\n",
       " 0.11008254460537936,\n",
       " 0.11008254460537942,\n",
       " 0.11008254460537936,\n",
       " 0.11008254460537936,\n",
       " 0.11008254460537942,\n",
       " 0.1100825446053794,\n",
       " 0.1100825446053794,\n",
       " 0.1100825446053794,\n",
       " 0.11008254460537942,\n",
       " 0.11008254460537942,\n",
       " 0.11008254460537942,\n",
       " 0.11008254460537942,\n",
       " 0.11008254460537942,\n",
       " 0.1100825446053794,\n",
       " 0.1100825446053794,\n",
       " 0.11008254460537942,\n",
       " 0.1100825446053794,\n",
       " 0.1100825446053794,\n",
       " 0.11008254460537942,\n",
       " 0.1100825446053794,\n",
       " 0.1100825446053794,\n",
       " 0.1100825446053794,\n",
       " 0.1100825446053794,\n",
       " 0.11008254460537939,\n",
       " 0.1100825446053794]"
      ]
     },
     "execution_count": 49,
     "metadata": {},
     "output_type": "execute_result"
    }
   ],
   "source": [
    "y1.tolist()"
   ]
  },
  {
   "cell_type": "code",
   "execution_count": null,
   "metadata": {},
   "outputs": [],
   "source": []
  }
 ],
 "metadata": {
  "kernelspec": {
   "display_name": "env",
   "language": "python",
   "name": "python3"
  },
  "language_info": {
   "codemirror_mode": {
    "name": "ipython",
    "version": 3
   },
   "file_extension": ".py",
   "mimetype": "text/x-python",
   "name": "python",
   "nbconvert_exporter": "python",
   "pygments_lexer": "ipython3",
   "version": "3.10.6"
  },
  "orig_nbformat": 4
 },
 "nbformat": 4,
 "nbformat_minor": 2
}
