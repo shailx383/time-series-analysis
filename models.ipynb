{
  "cells": [
    {
      "attachments": {},
      "cell_type": "markdown",
      "metadata": {
        "id": "k0EYaQluyD9c"
      },
      "source": [
        "# Exponential Smoothing"
      ]
    },
    {
      "cell_type": "code",
      "execution_count": 1,
      "metadata": {
        "id": "wRIAqAs-mP_Y"
      },
      "outputs": [],
      "source": [
        "import pandas as pd\n",
        "import matplotlib.pyplot as plt\n",
        "import matplotlib.dates as mdates\n",
        "from statsmodels.tsa.holtwinters import SimpleExpSmoothing, Holt\n",
        "%matplotlib inline"
      ]
    },
    {
      "cell_type": "code",
      "execution_count": 2,
      "metadata": {
        "colab": {
          "base_uri": "https://localhost:8080/",
          "height": 206
        },
        "id": "qK5tTHZyyf-Z",
        "outputId": "82f9973e-a55c-4659-8a5d-3ed9a49dc4cf"
      },
      "outputs": [
        {
          "data": {
            "text/html": [
              "\n",
              "  <div id=\"df-50d81616-05f8-4a07-95c5-d860260f0375\">\n",
              "    <div class=\"colab-df-container\">\n",
              "      <div>\n",
              "<style scoped>\n",
              "    .dataframe tbody tr th:only-of-type {\n",
              "        vertical-align: middle;\n",
              "    }\n",
              "\n",
              "    .dataframe tbody tr th {\n",
              "        vertical-align: top;\n",
              "    }\n",
              "\n",
              "    .dataframe thead th {\n",
              "        text-align: right;\n",
              "    }\n",
              "</style>\n",
              "<table border=\"1\" class=\"dataframe\">\n",
              "  <thead>\n",
              "    <tr style=\"text-align: right;\">\n",
              "      <th></th>\n",
              "      <th>DATE</th>\n",
              "      <th>IPG2211A2N</th>\n",
              "    </tr>\n",
              "  </thead>\n",
              "  <tbody>\n",
              "    <tr>\n",
              "      <th>0</th>\n",
              "      <td>1/1/1985</td>\n",
              "      <td>72.5052</td>\n",
              "    </tr>\n",
              "    <tr>\n",
              "      <th>1</th>\n",
              "      <td>2/1/1985</td>\n",
              "      <td>70.6720</td>\n",
              "    </tr>\n",
              "    <tr>\n",
              "      <th>2</th>\n",
              "      <td>3/1/1985</td>\n",
              "      <td>62.4502</td>\n",
              "    </tr>\n",
              "    <tr>\n",
              "      <th>3</th>\n",
              "      <td>4/1/1985</td>\n",
              "      <td>57.4714</td>\n",
              "    </tr>\n",
              "    <tr>\n",
              "      <th>4</th>\n",
              "      <td>5/1/1985</td>\n",
              "      <td>55.3151</td>\n",
              "    </tr>\n",
              "  </tbody>\n",
              "</table>\n",
              "</div>\n",
              "      <button class=\"colab-df-convert\" onclick=\"convertToInteractive('df-50d81616-05f8-4a07-95c5-d860260f0375')\"\n",
              "              title=\"Convert this dataframe to an interactive table.\"\n",
              "              style=\"display:none;\">\n",
              "        \n",
              "  <svg xmlns=\"http://www.w3.org/2000/svg\" height=\"24px\"viewBox=\"0 0 24 24\"\n",
              "       width=\"24px\">\n",
              "    <path d=\"M0 0h24v24H0V0z\" fill=\"none\"/>\n",
              "    <path d=\"M18.56 5.44l.94 2.06.94-2.06 2.06-.94-2.06-.94-.94-2.06-.94 2.06-2.06.94zm-11 1L8.5 8.5l.94-2.06 2.06-.94-2.06-.94L8.5 2.5l-.94 2.06-2.06.94zm10 10l.94 2.06.94-2.06 2.06-.94-2.06-.94-.94-2.06-.94 2.06-2.06.94z\"/><path d=\"M17.41 7.96l-1.37-1.37c-.4-.4-.92-.59-1.43-.59-.52 0-1.04.2-1.43.59L10.3 9.45l-7.72 7.72c-.78.78-.78 2.05 0 2.83L4 21.41c.39.39.9.59 1.41.59.51 0 1.02-.2 1.41-.59l7.78-7.78 2.81-2.81c.8-.78.8-2.07 0-2.86zM5.41 20L4 18.59l7.72-7.72 1.47 1.35L5.41 20z\"/>\n",
              "  </svg>\n",
              "      </button>\n",
              "      \n",
              "  <style>\n",
              "    .colab-df-container {\n",
              "      display:flex;\n",
              "      flex-wrap:wrap;\n",
              "      gap: 12px;\n",
              "    }\n",
              "\n",
              "    .colab-df-convert {\n",
              "      background-color: #E8F0FE;\n",
              "      border: none;\n",
              "      border-radius: 50%;\n",
              "      cursor: pointer;\n",
              "      display: none;\n",
              "      fill: #1967D2;\n",
              "      height: 32px;\n",
              "      padding: 0 0 0 0;\n",
              "      width: 32px;\n",
              "    }\n",
              "\n",
              "    .colab-df-convert:hover {\n",
              "      background-color: #E2EBFA;\n",
              "      box-shadow: 0px 1px 2px rgba(60, 64, 67, 0.3), 0px 1px 3px 1px rgba(60, 64, 67, 0.15);\n",
              "      fill: #174EA6;\n",
              "    }\n",
              "\n",
              "    [theme=dark] .colab-df-convert {\n",
              "      background-color: #3B4455;\n",
              "      fill: #D2E3FC;\n",
              "    }\n",
              "\n",
              "    [theme=dark] .colab-df-convert:hover {\n",
              "      background-color: #434B5C;\n",
              "      box-shadow: 0px 1px 3px 1px rgba(0, 0, 0, 0.15);\n",
              "      filter: drop-shadow(0px 1px 2px rgba(0, 0, 0, 0.3));\n",
              "      fill: #FFFFFF;\n",
              "    }\n",
              "  </style>\n",
              "\n",
              "      <script>\n",
              "        const buttonEl =\n",
              "          document.querySelector('#df-50d81616-05f8-4a07-95c5-d860260f0375 button.colab-df-convert');\n",
              "        buttonEl.style.display =\n",
              "          google.colab.kernel.accessAllowed ? 'block' : 'none';\n",
              "\n",
              "        async function convertToInteractive(key) {\n",
              "          const element = document.querySelector('#df-50d81616-05f8-4a07-95c5-d860260f0375');\n",
              "          const dataTable =\n",
              "            await google.colab.kernel.invokeFunction('convertToInteractive',\n",
              "                                                     [key], {});\n",
              "          if (!dataTable) return;\n",
              "\n",
              "          const docLinkHtml = 'Like what you see? Visit the ' +\n",
              "            '<a target=\"_blank\" href=https://colab.research.google.com/notebooks/data_table.ipynb>data table notebook</a>'\n",
              "            + ' to learn more about interactive tables.';\n",
              "          element.innerHTML = '';\n",
              "          dataTable['output_type'] = 'display_data';\n",
              "          await google.colab.output.renderOutput(dataTable, element);\n",
              "          const docLink = document.createElement('div');\n",
              "          docLink.innerHTML = docLinkHtml;\n",
              "          element.appendChild(docLink);\n",
              "        }\n",
              "      </script>\n",
              "    </div>\n",
              "  </div>\n",
              "  "
            ],
            "text/plain": [
              "       DATE  IPG2211A2N\n",
              "0  1/1/1985     72.5052\n",
              "1  2/1/1985     70.6720\n",
              "2  3/1/1985     62.4502\n",
              "3  4/1/1985     57.4714\n",
              "4  5/1/1985     55.3151"
            ]
          },
          "execution_count": 2,
          "metadata": {},
          "output_type": "execute_result"
        }
      ],
      "source": [
        "df = pd.read_csv('/content/drive/MyDrive/data/2/Electric_Production.csv')\n",
        "df.head()"
      ]
    },
    {
      "cell_type": "code",
      "execution_count": 3,
      "metadata": {
        "id": "9j4AV8XVynMX"
      },
      "outputs": [],
      "source": [
        "df['DATA'] = df['IPG2211A2N']\n",
        "df.drop(['IPG2211A2N'], inplace = True, axis = 1)"
      ]
    },
    {
      "cell_type": "code",
      "execution_count": 4,
      "metadata": {
        "id": "sKz19NLJyva2"
      },
      "outputs": [],
      "source": [
        "class ExponentialSmoothingModel:\n",
        "  def __init__(self, df, x, y):\n",
        "    self.df = df\n",
        "    self.x = x\n",
        "    self.y = y\n",
        "    self.idf = self._idf()\n",
        "    self.fitted = False\n",
        "\n",
        "  def _idf(self):\n",
        "    idf = pd.DataFrame()\n",
        "    idf[self.y] = self.df[self.y]\n",
        "    idf[self.x] = self.df[self.x]\n",
        "    idf = idf.set_index([self.x])\n",
        "    return idf\n",
        "\n",
        "  def fit_simple_smoothing(self, smoothing_level = 0.3):\n",
        "    model = SimpleExpSmoothing(self.idf, initialization_method = 'heuristic')\n",
        "    fit = model.fit(smoothing_level = smoothing_level, optimized = False)\n",
        "    self.fit = fit\n",
        "    self.method = 'simple'\n",
        "    print(\"Data has been fit.\")\n",
        "    self.fitted = True\n",
        "\n",
        "  def fit_holts(self, smoothing_level = 0.8, smoothing_trend=0.2, method = 'linear'):\n",
        "    self.method = method\n",
        "    if method == 'linear':\n",
        "      self.fit = Holt(self.idf, initialization_method=\"estimated\").fit(smoothing_level = smoothing_level, smoothing_trend = smoothing_trend, optimized = False)\n",
        "    elif method == 'exponential':\n",
        "      self.fit = Holt(self.idf, exponential = True, initialization_method=\"estimated\").fit(smoothing_level = smoothing_level, smoothing_trend = smoothing_trend, optimized = False)\n",
        "    elif method == 'damped':\n",
        "      self.fit = Holt(self.idf, damped_trend = True, initialization_method=\"estimated\").fit(smoothing_level = smoothing_level, smoothing_trend = smoothing_trend, optimized = False)\n",
        "    else:\n",
        "      print(\"Incorrect method for Holt's.\")\n",
        "    self.fitted = True\n",
        "\n",
        "  def get_forecasts(self, num_periods):\n",
        "    if not self.fitted:\n",
        "      print(\"Fit data first.\")\n",
        "      return\n",
        "    fcast = self.fit.forecast(num_periods).rename(self.method + \" forecast\")\n",
        "    self.fcast = fcast\n",
        "    return fcast\n",
        "\n"
      ]
    },
    {
      "cell_type": "code",
      "execution_count": 5,
      "metadata": {
        "id": "xzwZJJza1Fwy"
      },
      "outputs": [],
      "source": [
        "es = ExponentialSmoothingModel(df, 'DATE', \"DATA\")"
      ]
    },
    {
      "cell_type": "code",
      "execution_count": 6,
      "metadata": {
        "colab": {
          "base_uri": "https://localhost:8080/"
        },
        "id": "B7gO9nMT7YsV",
        "outputId": "e25b8b81-7115-46ac-b2ca-90de56dd4c50"
      },
      "outputs": [
        {
          "name": "stdout",
          "output_type": "stream",
          "text": [
            "Data has been fit.\n"
          ]
        },
        {
          "name": "stderr",
          "output_type": "stream",
          "text": [
            "/usr/local/lib/python3.10/dist-packages/statsmodels/tsa/base/tsa_model.py:471: ValueWarning: No frequency information was provided, so inferred frequency MS will be used.\n",
            "  self._init_dates(dates, freq)\n"
          ]
        }
      ],
      "source": [
        "es.fit_simple_smoothing()"
      ]
    },
    {
      "cell_type": "code",
      "execution_count": 7,
      "metadata": {
        "colab": {
          "base_uri": "https://localhost:8080/"
        },
        "id": "gNMqMqYu7mAH",
        "outputId": "eb398be1-c2c0-4bf8-c2a9-e917dfeeb980"
      },
      "outputs": [
        {
          "data": {
            "text/plain": [
              "2018-02-01    111.515909\n",
              "2018-03-01    111.515909\n",
              "2018-04-01    111.515909\n",
              "2018-05-01    111.515909\n",
              "2018-06-01    111.515909\n",
              "2018-07-01    111.515909\n",
              "2018-08-01    111.515909\n",
              "2018-09-01    111.515909\n",
              "2018-10-01    111.515909\n",
              "2018-11-01    111.515909\n",
              "2018-12-01    111.515909\n",
              "2019-01-01    111.515909\n",
              "2019-02-01    111.515909\n",
              "2019-03-01    111.515909\n",
              "2019-04-01    111.515909\n",
              "2019-05-01    111.515909\n",
              "2019-06-01    111.515909\n",
              "2019-07-01    111.515909\n",
              "2019-08-01    111.515909\n",
              "2019-09-01    111.515909\n",
              "Freq: MS, Name: simple forecast, dtype: float64"
            ]
          },
          "execution_count": 7,
          "metadata": {},
          "output_type": "execute_result"
        }
      ],
      "source": [
        "es.get_forecasts(20)"
      ]
    },
    {
      "cell_type": "code",
      "execution_count": 8,
      "metadata": {
        "colab": {
          "base_uri": "https://localhost:8080/"
        },
        "id": "T0HXLyD37qIl",
        "outputId": "1f4f6a07-4a30-48c4-f062-5481238b79a6"
      },
      "outputs": [
        {
          "name": "stderr",
          "output_type": "stream",
          "text": [
            "/usr/local/lib/python3.10/dist-packages/statsmodels/tsa/base/tsa_model.py:471: ValueWarning: No frequency information was provided, so inferred frequency MS will be used.\n",
            "  self._init_dates(dates, freq)\n"
          ]
        }
      ],
      "source": [
        "es.fit_holts(method = 'exponential')"
      ]
    },
    {
      "cell_type": "code",
      "execution_count": 9,
      "metadata": {
        "colab": {
          "base_uri": "https://localhost:8080/"
        },
        "id": "S7JapEpo76I5",
        "outputId": "f5917647-558f-4e8c-bdd0-41186b793dd6"
      },
      "outputs": [
        {
          "data": {
            "text/plain": [
              "2018-02-01    132.209912\n",
              "2018-03-01    138.436243\n",
              "2018-04-01    144.955799\n",
              "2018-05-01    151.782389\n",
              "2018-06-01    158.930472\n",
              "2018-07-01    166.415189\n",
              "2018-08-01    174.252393\n",
              "2018-09-01    182.458685\n",
              "2018-10-01    191.051446\n",
              "2018-11-01    200.048878\n",
              "2018-12-01    209.470037\n",
              "2019-01-01    219.334878\n",
              "2019-02-01    229.664297\n",
              "2019-03-01    240.480173\n",
              "2019-04-01    251.805415\n",
              "2019-05-01    263.664011\n",
              "2019-06-01    276.081079\n",
              "2019-07-01    289.082920\n",
              "2019-08-01    302.697073\n",
              "2019-09-01    316.952376\n",
              "Freq: MS, Name: exponential forecast, dtype: float64"
            ]
          },
          "execution_count": 9,
          "metadata": {},
          "output_type": "execute_result"
        }
      ],
      "source": [
        "es.get_forecasts(20)"
      ]
    },
    {
      "attachments": {},
      "cell_type": "markdown",
      "metadata": {
        "id": "kE-aMqQKEAFZ"
      },
      "source": [
        "# Moving Average"
      ]
    },
    {
      "cell_type": "code",
      "execution_count": 10,
      "metadata": {
        "id": "qLqyV2OREIoy"
      },
      "outputs": [],
      "source": [
        "import numpy as np\n",
        "from statsmodels.tsa.arima.model import ARIMA\n"
      ]
    },
    {
      "cell_type": "code",
      "execution_count": 11,
      "metadata": {
        "colab": {
          "base_uri": "https://localhost:8080/",
          "height": 238
        },
        "id": "A5wtQZV7E98Q",
        "outputId": "31db8cfd-7d91-4fe4-bdba-918784cd17e8"
      },
      "outputs": [
        {
          "data": {
            "text/html": [
              "\n",
              "  <div id=\"df-5eb777a6-8cbf-4485-a128-f68bf4f84028\">\n",
              "    <div class=\"colab-df-container\">\n",
              "      <div>\n",
              "<style scoped>\n",
              "    .dataframe tbody tr th:only-of-type {\n",
              "        vertical-align: middle;\n",
              "    }\n",
              "\n",
              "    .dataframe tbody tr th {\n",
              "        vertical-align: top;\n",
              "    }\n",
              "\n",
              "    .dataframe thead th {\n",
              "        text-align: right;\n",
              "    }\n",
              "</style>\n",
              "<table border=\"1\" class=\"dataframe\">\n",
              "  <thead>\n",
              "    <tr style=\"text-align: right;\">\n",
              "      <th></th>\n",
              "      <th>IPG2211A2N</th>\n",
              "    </tr>\n",
              "    <tr>\n",
              "      <th>DATE</th>\n",
              "      <th></th>\n",
              "    </tr>\n",
              "  </thead>\n",
              "  <tbody>\n",
              "    <tr>\n",
              "      <th>1985-01-01</th>\n",
              "      <td>72.5052</td>\n",
              "    </tr>\n",
              "    <tr>\n",
              "      <th>1985-02-01</th>\n",
              "      <td>70.6720</td>\n",
              "    </tr>\n",
              "    <tr>\n",
              "      <th>1985-03-01</th>\n",
              "      <td>62.4502</td>\n",
              "    </tr>\n",
              "    <tr>\n",
              "      <th>1985-04-01</th>\n",
              "      <td>57.4714</td>\n",
              "    </tr>\n",
              "    <tr>\n",
              "      <th>1985-05-01</th>\n",
              "      <td>55.3151</td>\n",
              "    </tr>\n",
              "  </tbody>\n",
              "</table>\n",
              "</div>\n",
              "      <button class=\"colab-df-convert\" onclick=\"convertToInteractive('df-5eb777a6-8cbf-4485-a128-f68bf4f84028')\"\n",
              "              title=\"Convert this dataframe to an interactive table.\"\n",
              "              style=\"display:none;\">\n",
              "        \n",
              "  <svg xmlns=\"http://www.w3.org/2000/svg\" height=\"24px\"viewBox=\"0 0 24 24\"\n",
              "       width=\"24px\">\n",
              "    <path d=\"M0 0h24v24H0V0z\" fill=\"none\"/>\n",
              "    <path d=\"M18.56 5.44l.94 2.06.94-2.06 2.06-.94-2.06-.94-.94-2.06-.94 2.06-2.06.94zm-11 1L8.5 8.5l.94-2.06 2.06-.94-2.06-.94L8.5 2.5l-.94 2.06-2.06.94zm10 10l.94 2.06.94-2.06 2.06-.94-2.06-.94-.94-2.06-.94 2.06-2.06.94z\"/><path d=\"M17.41 7.96l-1.37-1.37c-.4-.4-.92-.59-1.43-.59-.52 0-1.04.2-1.43.59L10.3 9.45l-7.72 7.72c-.78.78-.78 2.05 0 2.83L4 21.41c.39.39.9.59 1.41.59.51 0 1.02-.2 1.41-.59l7.78-7.78 2.81-2.81c.8-.78.8-2.07 0-2.86zM5.41 20L4 18.59l7.72-7.72 1.47 1.35L5.41 20z\"/>\n",
              "  </svg>\n",
              "      </button>\n",
              "      \n",
              "  <style>\n",
              "    .colab-df-container {\n",
              "      display:flex;\n",
              "      flex-wrap:wrap;\n",
              "      gap: 12px;\n",
              "    }\n",
              "\n",
              "    .colab-df-convert {\n",
              "      background-color: #E8F0FE;\n",
              "      border: none;\n",
              "      border-radius: 50%;\n",
              "      cursor: pointer;\n",
              "      display: none;\n",
              "      fill: #1967D2;\n",
              "      height: 32px;\n",
              "      padding: 0 0 0 0;\n",
              "      width: 32px;\n",
              "    }\n",
              "\n",
              "    .colab-df-convert:hover {\n",
              "      background-color: #E2EBFA;\n",
              "      box-shadow: 0px 1px 2px rgba(60, 64, 67, 0.3), 0px 1px 3px 1px rgba(60, 64, 67, 0.15);\n",
              "      fill: #174EA6;\n",
              "    }\n",
              "\n",
              "    [theme=dark] .colab-df-convert {\n",
              "      background-color: #3B4455;\n",
              "      fill: #D2E3FC;\n",
              "    }\n",
              "\n",
              "    [theme=dark] .colab-df-convert:hover {\n",
              "      background-color: #434B5C;\n",
              "      box-shadow: 0px 1px 3px 1px rgba(0, 0, 0, 0.15);\n",
              "      filter: drop-shadow(0px 1px 2px rgba(0, 0, 0, 0.3));\n",
              "      fill: #FFFFFF;\n",
              "    }\n",
              "  </style>\n",
              "\n",
              "      <script>\n",
              "        const buttonEl =\n",
              "          document.querySelector('#df-5eb777a6-8cbf-4485-a128-f68bf4f84028 button.colab-df-convert');\n",
              "        buttonEl.style.display =\n",
              "          google.colab.kernel.accessAllowed ? 'block' : 'none';\n",
              "\n",
              "        async function convertToInteractive(key) {\n",
              "          const element = document.querySelector('#df-5eb777a6-8cbf-4485-a128-f68bf4f84028');\n",
              "          const dataTable =\n",
              "            await google.colab.kernel.invokeFunction('convertToInteractive',\n",
              "                                                     [key], {});\n",
              "          if (!dataTable) return;\n",
              "\n",
              "          const docLinkHtml = 'Like what you see? Visit the ' +\n",
              "            '<a target=\"_blank\" href=https://colab.research.google.com/notebooks/data_table.ipynb>data table notebook</a>'\n",
              "            + ' to learn more about interactive tables.';\n",
              "          element.innerHTML = '';\n",
              "          dataTable['output_type'] = 'display_data';\n",
              "          await google.colab.output.renderOutput(dataTable, element);\n",
              "          const docLink = document.createElement('div');\n",
              "          docLink.innerHTML = docLinkHtml;\n",
              "          element.appendChild(docLink);\n",
              "        }\n",
              "      </script>\n",
              "    </div>\n",
              "  </div>\n",
              "  "
            ],
            "text/plain": [
              "            IPG2211A2N\n",
              "DATE                  \n",
              "1985-01-01     72.5052\n",
              "1985-02-01     70.6720\n",
              "1985-03-01     62.4502\n",
              "1985-04-01     57.4714\n",
              "1985-05-01     55.3151"
            ]
          },
          "execution_count": 11,
          "metadata": {},
          "output_type": "execute_result"
        }
      ],
      "source": [
        "df = pd.read_csv('/content/drive/MyDrive/data/2/Electric_Production.csv')\n",
        "df['DATE'] = pd.to_datetime(df['DATE'],infer_datetime_format=True)\n",
        "df = df.set_index(['DATE'])\n",
        "df.head(5)"
      ]
    },
    {
      "cell_type": "code",
      "execution_count": 12,
      "metadata": {
        "id": "Vdz4gZPU78yV"
      },
      "outputs": [],
      "source": [
        "class MovingAverage:\n",
        "    def __init__(self, rolling_window : int = 12):\n",
        "        self.window = rolling_window\n",
        "\n",
        "    def load_timeseries(self, timeseries: pd.DataFrame):\n",
        "        self.df = timeseries\n",
        "\n",
        "    def moving_averages(self):\n",
        "        self.ma = self.df[self.df.columns[0]].rolling(window = self.window).mean().shift(1).dropna()\n",
        "        return self.ma\n",
        "\n",
        "    def plot_moving_average(self):\n",
        "        plt.figure(figsize=(10,4))\n",
        "        self.df.plot()\n",
        "        self.ma.plot()\n",
        "        plt.legend()\n",
        "\n",
        "    def _get_mape(self, actual, predicted):\n",
        "        y_true, y_pred = np.array(actual), np.array(predicted)\n",
        "        return np.round(np.mean(np.abs((actual-predicted)/actual))*100, )\n",
        "\n",
        "    def build_model(self, order = 1, show_summary = True):\n",
        "        arima = ARIMA(self.df, order = (0,0,order))\n",
        "        ma_model = arima.fit()\n",
        "        if show_summary:\n",
        "            ma_model.summary()\n",
        "        self.model = ma_model\n",
        "\n",
        "    def mape(self, actual, predicted):\n",
        "        print(self._get_mape(actual, predicted))\n",
        "\n",
        "    def get_forecasts(self, num_periods):\n",
        "        return self.model.forecast(num_periods)\n"
      ]
    },
    {
      "cell_type": "code",
      "execution_count": 13,
      "metadata": {
        "colab": {
          "base_uri": "https://localhost:8080/"
        },
        "id": "4i7lbcxrETq7",
        "outputId": "264d807a-9547-4d28-8495-7d32a29331af"
      },
      "outputs": [
        {
          "data": {
            "text/plain": [
              "DATE\n",
              "1986-01-01     62.165667\n",
              "1986-02-01     62.232375\n",
              "1986-03-01     62.008617\n",
              "1986-04-01     61.989608\n",
              "1986-05-01     61.953067\n",
              "                 ...    \n",
              "2017-09-01    101.580142\n",
              "2017-10-01    101.234450\n",
              "2017-11-01    101.411700\n",
              "2017-12-01    101.782192\n",
              "2018-01-01    101.944842\n",
              "Name: IPG2211A2N, Length: 385, dtype: float64"
            ]
          },
          "execution_count": 13,
          "metadata": {},
          "output_type": "execute_result"
        }
      ],
      "source": [
        "m = MovingAverage()\n",
        "m.load_timeseries(df)\n",
        "m.moving_averages()"
      ]
    },
    {
      "cell_type": "code",
      "execution_count": 14,
      "metadata": {
        "colab": {
          "base_uri": "https://localhost:8080/"
        },
        "id": "M9N2hFlrEgWh",
        "outputId": "8c651c41-1793-407e-a619-04e70b4e0b42"
      },
      "outputs": [
        {
          "name": "stderr",
          "output_type": "stream",
          "text": [
            "/usr/local/lib/python3.10/dist-packages/statsmodels/tsa/base/tsa_model.py:471: ValueWarning: No frequency information was provided, so inferred frequency MS will be used.\n",
            "  self._init_dates(dates, freq)\n",
            "/usr/local/lib/python3.10/dist-packages/statsmodels/tsa/base/tsa_model.py:471: ValueWarning: No frequency information was provided, so inferred frequency MS will be used.\n",
            "  self._init_dates(dates, freq)\n",
            "/usr/local/lib/python3.10/dist-packages/statsmodels/tsa/base/tsa_model.py:471: ValueWarning: No frequency information was provided, so inferred frequency MS will be used.\n",
            "  self._init_dates(dates, freq)\n",
            "/usr/local/lib/python3.10/dist-packages/statsmodels/tsa/statespace/sarimax.py:978: UserWarning: Non-invertible starting MA parameters found. Using zeros as starting parameters.\n",
            "  warn('Non-invertible starting MA parameters found.'\n"
          ]
        }
      ],
      "source": [
        "m.build_model()"
      ]
    },
    {
      "cell_type": "code",
      "execution_count": 15,
      "metadata": {
        "colab": {
          "base_uri": "https://localhost:8080/"
        },
        "id": "or5kTDVbFMbr",
        "outputId": "0c2e9537-e9c1-460e-aa13-44d24dcef09b"
      },
      "outputs": [
        {
          "data": {
            "text/plain": [
              "2018-02-01    110.467332\n",
              "2018-03-01     88.880053\n",
              "2018-04-01     88.880053\n",
              "2018-05-01     88.880053\n",
              "2018-06-01     88.880053\n",
              "2018-07-01     88.880053\n",
              "2018-08-01     88.880053\n",
              "2018-09-01     88.880053\n",
              "2018-10-01     88.880053\n",
              "2018-11-01     88.880053\n",
              "Freq: MS, Name: predicted_mean, dtype: float64"
            ]
          },
          "execution_count": 15,
          "metadata": {},
          "output_type": "execute_result"
        }
      ],
      "source": [
        "m.get_forecasts(10)"
      ]
    },
    {
      "attachments": {},
      "cell_type": "markdown",
      "metadata": {
        "id": "7HjLPsnlI4uY"
      },
      "source": [
        "# ARIMA"
      ]
    },
    {
      "cell_type": "code",
      "execution_count": 16,
      "metadata": {
        "id": "oMtyI4yDRpyP"
      },
      "outputs": [],
      "source": [
        "!pip install pmdarima --quiet"
      ]
    },
    {
      "cell_type": "code",
      "execution_count": 17,
      "metadata": {
        "id": "2KX_6QI2Rxww"
      },
      "outputs": [],
      "source": [
        "from statsmodels.tsa.arima.model import ARIMA\n",
        "from pmdarima.arima import auto_arima\n"
      ]
    },
    {
      "cell_type": "code",
      "execution_count": 18,
      "metadata": {
        "id": "rekLEAwjvneD"
      },
      "outputs": [],
      "source": [
        "class ModelARIMA:\n",
        "    def __init__(self):\n",
        "        self.df = None\n",
        "        return\n",
        "\n",
        "    def load_timeseries(self, series: pd.DataFrame):\n",
        "        self.df = series\n",
        "\n",
        "    def build_model(self, order = None, show_summary = True):\n",
        "        if order is None:\n",
        "            self.auto = True\n",
        "            model = auto_arima(self.df, start_p=1, start_q=1,\n",
        "                      test='adf',\n",
        "                      max_p=5, max_q=5,\n",
        "                      m=1,\n",
        "                      d=None,\n",
        "                      seasonal=False,\n",
        "                      start_P=0,\n",
        "                      D=0,\n",
        "                      trace=True,\n",
        "                      error_action='ignore',\n",
        "                      suppress_warnings=True,\n",
        "                      stepwise=True)\n",
        "            self.model_fit = model\n",
        "            if show_summary:\n",
        "                print(model.summary())\n",
        "        else:\n",
        "            self.auto = False\n",
        "            model = ARIMA(self.df, order=order)\n",
        "            model_fit = model.fit()\n",
        "            if show_summary:\n",
        "                print(model_fit.summary())\n",
        "            self.model_fit = model_fit\n",
        "            print('Model built successfully.')\n",
        "\n",
        "    def plot_forecast(self, periods):\n",
        "        if not self.auto:\n",
        "            fig = plt.figure()\n",
        "            self.df.plot(label = 'Series')\n",
        "            fc = self.model_fit.forecast(periods)\n",
        "            fc.plot(label = 'Forecast')\n",
        "        else:\n",
        "            fig = plt.figure()\n",
        "            self.df.plot(label = 'Series')\n",
        "            fc = self.model_fit.predict(periods)\n",
        "            fc.plot(label = 'Forecast')\n",
        "\n",
        "    def get_forecasts(self, periods):\n",
        "        if not self.auto:\n",
        "            return self.model_fit.forecast(periods)\n",
        "        else:\n",
        "            return self.model_fit.predict(periods)\n",
        "\n",
        "    def error_metrics(self, test_series):\n",
        "        actual = test_series[test_series.columns[0]].to_numpy()\n",
        "        forecast = self.get_forecasts(len(actual)).values\n",
        "        mape = np.mean(np.abs(forecast - actual)/np.abs(actual))\n",
        "        me = np.mean(forecast - actual)\n",
        "        mae = np.mean(np.abs(forecast - actual))\n",
        "        mpe = np.mean((forecast - actual)/actual)\n",
        "        rmse = np.mean((forecast - actual)**2)**.5\n",
        "        corr = np.corrcoef(forecast, actual)[0,1]\n",
        "        mins = np.amin(np.hstack([forecast[:,None], actual[:,None]]), axis=1)\n",
        "        maxs = np.amax(np.hstack([forecast[:,None], actual[:,None]]), axis=1)\n",
        "        minmax = 1 - np.mean(mins/maxs)\n",
        "        return (pd.Series({'mape':mape, 'me':me, 'mae': mae,\n",
        "                'mpe': mpe, 'rmse':rmse, 'minmax':minmax}))\n",
        "\n",
        "    def plot_test_forecast(self, test_series):\n",
        "        if not self.auto:\n",
        "            ax = self.df.plot()\n",
        "            test_series.plot(ax = ax, color = 'g')\n",
        "            fc = self.model_fit.forecast(len(test_series))\n",
        "            fc.plot(ax = ax, color = 'r')\n",
        "            plt.show()\n",
        "        else:\n",
        "            ax = self.df.plot(label = 'Series')\n",
        "            test_series.plot(ax = ax, color = 'g')\n",
        "            fc = self.model_fit.predict(len(test_series))\n",
        "            fc.plot(ax = ax, color = 'r')\n",
        "            plt.show()"
      ]
    },
    {
      "cell_type": "code",
      "execution_count": 67,
      "metadata": {
        "colab": {
          "base_uri": "https://localhost:8080/",
          "height": 238
        },
        "id": "5TAI62Bau3KN",
        "outputId": "0674620a-abbb-41f1-f3aa-9cf21e383a7d"
      },
      "outputs": [
        {
          "data": {
            "text/html": [
              "\n",
              "  <div id=\"df-aa7e234f-8531-4e1e-b31d-835a882a0ac3\">\n",
              "    <div class=\"colab-df-container\">\n",
              "      <div>\n",
              "<style scoped>\n",
              "    .dataframe tbody tr th:only-of-type {\n",
              "        vertical-align: middle;\n",
              "    }\n",
              "\n",
              "    .dataframe tbody tr th {\n",
              "        vertical-align: top;\n",
              "    }\n",
              "\n",
              "    .dataframe thead th {\n",
              "        text-align: right;\n",
              "    }\n",
              "</style>\n",
              "<table border=\"1\" class=\"dataframe\">\n",
              "  <thead>\n",
              "    <tr style=\"text-align: right;\">\n",
              "      <th></th>\n",
              "      <th>number_sold</th>\n",
              "    </tr>\n",
              "    <tr>\n",
              "      <th>Date</th>\n",
              "      <th></th>\n",
              "    </tr>\n",
              "  </thead>\n",
              "  <tbody>\n",
              "    <tr>\n",
              "      <th>2019-01-01</th>\n",
              "      <td>677</td>\n",
              "    </tr>\n",
              "    <tr>\n",
              "      <th>2019-01-02</th>\n",
              "      <td>672</td>\n",
              "    </tr>\n",
              "    <tr>\n",
              "      <th>2019-01-03</th>\n",
              "      <td>701</td>\n",
              "    </tr>\n",
              "    <tr>\n",
              "      <th>2019-01-04</th>\n",
              "      <td>695</td>\n",
              "    </tr>\n",
              "    <tr>\n",
              "      <th>2019-01-05</th>\n",
              "      <td>732</td>\n",
              "    </tr>\n",
              "  </tbody>\n",
              "</table>\n",
              "</div>\n",
              "      <button class=\"colab-df-convert\" onclick=\"convertToInteractive('df-aa7e234f-8531-4e1e-b31d-835a882a0ac3')\"\n",
              "              title=\"Convert this dataframe to an interactive table.\"\n",
              "              style=\"display:none;\">\n",
              "        \n",
              "  <svg xmlns=\"http://www.w3.org/2000/svg\" height=\"24px\"viewBox=\"0 0 24 24\"\n",
              "       width=\"24px\">\n",
              "    <path d=\"M0 0h24v24H0V0z\" fill=\"none\"/>\n",
              "    <path d=\"M18.56 5.44l.94 2.06.94-2.06 2.06-.94-2.06-.94-.94-2.06-.94 2.06-2.06.94zm-11 1L8.5 8.5l.94-2.06 2.06-.94-2.06-.94L8.5 2.5l-.94 2.06-2.06.94zm10 10l.94 2.06.94-2.06 2.06-.94-2.06-.94-.94-2.06-.94 2.06-2.06.94z\"/><path d=\"M17.41 7.96l-1.37-1.37c-.4-.4-.92-.59-1.43-.59-.52 0-1.04.2-1.43.59L10.3 9.45l-7.72 7.72c-.78.78-.78 2.05 0 2.83L4 21.41c.39.39.9.59 1.41.59.51 0 1.02-.2 1.41-.59l7.78-7.78 2.81-2.81c.8-.78.8-2.07 0-2.86zM5.41 20L4 18.59l7.72-7.72 1.47 1.35L5.41 20z\"/>\n",
              "  </svg>\n",
              "      </button>\n",
              "      \n",
              "  <style>\n",
              "    .colab-df-container {\n",
              "      display:flex;\n",
              "      flex-wrap:wrap;\n",
              "      gap: 12px;\n",
              "    }\n",
              "\n",
              "    .colab-df-convert {\n",
              "      background-color: #E8F0FE;\n",
              "      border: none;\n",
              "      border-radius: 50%;\n",
              "      cursor: pointer;\n",
              "      display: none;\n",
              "      fill: #1967D2;\n",
              "      height: 32px;\n",
              "      padding: 0 0 0 0;\n",
              "      width: 32px;\n",
              "    }\n",
              "\n",
              "    .colab-df-convert:hover {\n",
              "      background-color: #E2EBFA;\n",
              "      box-shadow: 0px 1px 2px rgba(60, 64, 67, 0.3), 0px 1px 3px 1px rgba(60, 64, 67, 0.15);\n",
              "      fill: #174EA6;\n",
              "    }\n",
              "\n",
              "    [theme=dark] .colab-df-convert {\n",
              "      background-color: #3B4455;\n",
              "      fill: #D2E3FC;\n",
              "    }\n",
              "\n",
              "    [theme=dark] .colab-df-convert:hover {\n",
              "      background-color: #434B5C;\n",
              "      box-shadow: 0px 1px 3px 1px rgba(0, 0, 0, 0.15);\n",
              "      filter: drop-shadow(0px 1px 2px rgba(0, 0, 0, 0.3));\n",
              "      fill: #FFFFFF;\n",
              "    }\n",
              "  </style>\n",
              "\n",
              "      <script>\n",
              "        const buttonEl =\n",
              "          document.querySelector('#df-aa7e234f-8531-4e1e-b31d-835a882a0ac3 button.colab-df-convert');\n",
              "        buttonEl.style.display =\n",
              "          google.colab.kernel.accessAllowed ? 'block' : 'none';\n",
              "\n",
              "        async function convertToInteractive(key) {\n",
              "          const element = document.querySelector('#df-aa7e234f-8531-4e1e-b31d-835a882a0ac3');\n",
              "          const dataTable =\n",
              "            await google.colab.kernel.invokeFunction('convertToInteractive',\n",
              "                                                     [key], {});\n",
              "          if (!dataTable) return;\n",
              "\n",
              "          const docLinkHtml = 'Like what you see? Visit the ' +\n",
              "            '<a target=\"_blank\" href=https://colab.research.google.com/notebooks/data_table.ipynb>data table notebook</a>'\n",
              "            + ' to learn more about interactive tables.';\n",
              "          element.innerHTML = '';\n",
              "          dataTable['output_type'] = 'display_data';\n",
              "          await google.colab.output.renderOutput(dataTable, element);\n",
              "          const docLink = document.createElement('div');\n",
              "          docLink.innerHTML = docLinkHtml;\n",
              "          element.appendChild(docLink);\n",
              "        }\n",
              "      </script>\n",
              "    </div>\n",
              "  </div>\n",
              "  "
            ],
            "text/plain": [
              "            number_sold\n",
              "Date                   \n",
              "2019-01-01          677\n",
              "2019-01-02          672\n",
              "2019-01-03          701\n",
              "2019-01-04          695\n",
              "2019-01-05          732"
            ]
          },
          "execution_count": 67,
          "metadata": {},
          "output_type": "execute_result"
        }
      ],
      "source": [
        "df = pd.read_csv('/content/drive/MyDrive/data/1/test.csv')\n",
        "df = pd.DataFrame(df[df['product'] == 6])\n",
        "df = pd.DataFrame(df[df['store'] == 1])\n",
        "df = pd.DataFrame(df[['Date', 'number_sold']])\n",
        "df['Date'] = pd.to_datetime(df['Date'],infer_datetime_format=True)\n",
        "df = df.set_index(['Date'])\n",
        "df.head(5)"
      ]
    },
    {
      "cell_type": "code",
      "execution_count": 68,
      "metadata": {
        "colab": {
          "base_uri": "https://localhost:8080/"
        },
        "id": "pR7o08o6xd4i",
        "outputId": "c7f5d979-6504-4e91-9a59-71f4d05c5e81"
      },
      "outputs": [
        {
          "data": {
            "text/plain": [
              "(            number_sold\n",
              " Date                   \n",
              " 2019-01-01          677\n",
              " 2019-01-02          672\n",
              " 2019-01-03          701\n",
              " 2019-01-04          695\n",
              " 2019-01-05          732\n",
              " ...                 ...\n",
              " 2019-10-15          719\n",
              " 2019-10-16          714\n",
              " 2019-10-17          754\n",
              " 2019-10-18          744\n",
              " 2019-10-19          786\n",
              " \n",
              " [292 rows x 1 columns],\n",
              "             number_sold\n",
              " Date                   \n",
              " 2019-10-20          762\n",
              " 2019-10-21          734\n",
              " 2019-10-22          724\n",
              " 2019-10-23          730\n",
              " 2019-10-24          731\n",
              " ...                 ...\n",
              " 2019-12-27          762\n",
              " 2019-12-28          778\n",
              " 2019-12-29          779\n",
              " 2019-12-30          781\n",
              " 2019-12-31          752\n",
              " \n",
              " [73 rows x 1 columns])"
            ]
          },
          "execution_count": 68,
          "metadata": {},
          "output_type": "execute_result"
        }
      ],
      "source": [
        "x = int(0.80 * len(df))\n",
        "train = df[:x]\n",
        "test = df[x:]\n",
        "train, test"
      ]
    },
    {
      "cell_type": "code",
      "execution_count": 69,
      "metadata": {
        "id": "sDD0N_XdTLVu"
      },
      "outputs": [],
      "source": [
        "a = ModelARIMA()"
      ]
    },
    {
      "cell_type": "code",
      "execution_count": 70,
      "metadata": {
        "colab": {
          "base_uri": "https://localhost:8080/",
          "height": 483
        },
        "id": "gMz_2bAJjD2Y",
        "outputId": "07bef2b4-c287-4338-f7da-a5b08326878b"
      },
      "outputs": [
        {
          "data": {
            "text/plain": [
              "<Axes: xlabel='Date'>"
            ]
          },
          "execution_count": 70,
          "metadata": {},
          "output_type": "execute_result"
        },
        {
          "data": {
            "image/png": "[encoded data removed]",
            "text/plain": [
              "<Figure size 640x480 with 1 Axes>"
            ]
          },
          "metadata": {},
          "output_type": "display_data"
        }
      ],
      "source": [
        "fig, ax= plt.subplots()\n",
        "train.plot(ax = ax)\n",
        "test.plot(ax = ax)"
      ]
    },
    {
      "cell_type": "code",
      "execution_count": 71,
      "metadata": {
        "id": "tqF9ovM6TPNA"
      },
      "outputs": [],
      "source": [
        "a.load_timeseries(pd.DataFrame(train))"
      ]
    },
    {
      "cell_type": "code",
      "execution_count": 72,
      "metadata": {
        "colab": {
          "base_uri": "https://localhost:8080/"
        },
        "id": "k9o7pTGLdTSi",
        "outputId": "5308d1fb-9e1a-4e9c-8945-01280c550849"
      },
      "outputs": [
        {
          "name": "stdout",
          "output_type": "stream",
          "text": [
            "Performing stepwise search to minimize aic\n",
            " ARIMA(1,0,1)(0,0,0)[0]             : AIC=2576.541, Time=0.11 sec\n",
            " ARIMA(0,0,0)(0,0,0)[0]             : AIC=4675.260, Time=0.04 sec\n",
            " ARIMA(1,0,0)(0,0,0)[0]             : AIC=inf, Time=0.13 sec\n",
            " ARIMA(0,0,1)(0,0,0)[0]             : AIC=inf, Time=0.12 sec\n",
            " ARIMA(2,0,1)(0,0,0)[0]             : AIC=inf, Time=0.34 sec\n",
            " ARIMA(1,0,2)(0,0,0)[0]             : AIC=2575.766, Time=0.31 sec\n",
            " ARIMA(0,0,2)(0,0,0)[0]             : AIC=inf, Time=0.31 sec\n",
            " ARIMA(2,0,2)(0,0,0)[0]             : AIC=2572.534, Time=0.58 sec\n",
            " ARIMA(3,0,2)(0,0,0)[0]             : AIC=2307.684, Time=0.63 sec\n",
            " ARIMA(3,0,1)(0,0,0)[0]             : AIC=2582.143, Time=0.20 sec\n",
            " ARIMA(4,0,2)(0,0,0)[0]             : AIC=2264.765, Time=0.27 sec\n",
            " ARIMA(4,0,1)(0,0,0)[0]             : AIC=2378.342, Time=0.55 sec\n",
            " ARIMA(5,0,2)(0,0,0)[0]             : AIC=inf, Time=0.59 sec\n",
            " ARIMA(4,0,3)(0,0,0)[0]             : AIC=inf, Time=1.04 sec\n",
            " ARIMA(3,0,3)(0,0,0)[0]             : AIC=2572.741, Time=0.86 sec\n",
            " ARIMA(5,0,1)(0,0,0)[0]             : AIC=2302.953, Time=0.96 sec\n",
            " ARIMA(5,0,3)(0,0,0)[0]             : AIC=inf, Time=1.00 sec\n",
            " ARIMA(4,0,2)(0,0,0)[0] intercept   : AIC=2308.913, Time=0.60 sec\n",
            "\n",
            "Best model:  ARIMA(4,0,2)(0,0,0)[0]          \n",
            "Total fit time: 8.727 seconds\n",
            "                               SARIMAX Results                                \n",
            "==============================================================================\n",
            "Dep. Variable:                      y   No. Observations:                  292\n",
            "Model:               SARIMAX(4, 0, 2)   Log Likelihood               -1125.382\n",
            "Date:                Fri, 16 Jun 2023   AIC                           2264.765\n",
            "Time:                        11:04:04   BIC                           2290.502\n",
            "Sample:                    01-01-2019   HQIC                          2275.074\n",
            "                         - 10-19-2019                                         \n",
            "Covariance Type:                  opg                                         \n",
            "==============================================================================\n",
            "                 coef    std err          z      P>|z|      [0.025      0.975]\n",
            "------------------------------------------------------------------------------\n",
            "ar.L1          1.7314      0.074     23.516      0.000       1.587       1.876\n",
            "ar.L2         -1.0885      0.154     -7.081      0.000      -1.390      -0.787\n",
            "ar.L3         -0.0995      0.149     -0.669      0.503      -0.391       0.192\n",
            "ar.L4          0.4567      0.069      6.660      0.000       0.322       0.591\n",
            "ma.L1         -1.3278      0.074    -17.957      0.000      -1.473      -1.183\n",
            "ma.L2          0.5366      0.071      7.607      0.000       0.398       0.675\n",
            "sigma2       124.2925     11.270     11.029      0.000     102.204     146.381\n",
            "===================================================================================\n",
            "Ljung-Box (L1) (Q):                   1.43   Jarque-Bera (JB):                 2.89\n",
            "Prob(Q):                              0.23   Prob(JB):                         0.24\n",
            "Heteroskedasticity (H):               1.06   Skew:                            -0.22\n",
            "Prob(H) (two-sided):                  0.77   Kurtosis:                         2.78\n",
            "===================================================================================\n",
            "\n",
            "Warnings:\n",
            "[1] Covariance matrix calculated using the outer product of gradients (complex-step).\n"
          ]
        }
      ],
      "source": [
        "a.build_model()"
      ]
    },
    {
      "cell_type": "code",
      "execution_count": 73,
      "metadata": {
        "colab": {
          "base_uri": "https://localhost:8080/",
          "height": 466
        },
        "id": "2GmZYP70dZ2x",
        "outputId": "aa52e9b0-1323-47bf-8bc0-3e3e199ae714"
      },
      "outputs": [
        {
          "data": {
            "image/png": "[encoded data removed]",
            "text/plain": [
              "<Figure size 640x480 with 1 Axes>"
            ]
          },
          "metadata": {},
          "output_type": "display_data"
        }
      ],
      "source": [
        "a.plot_test_forecast(test)"
      ]
    },
    {
      "cell_type": "code",
      "execution_count": 52,
      "metadata": {
        "id": "7JE7delmdr1H"
      },
      "outputs": [],
      "source": []
    }
  ],
  "metadata": {
    "colab": {
      "provenance": []
    },
    "kernelspec": {
      "display_name": "Python 3",
      "name": "python3"
    },
    "language_info": {
      "name": "python",
      "version": "3.10.9"
    }
  },
  "nbformat": 4,
  "nbformat_minor": 0
}
