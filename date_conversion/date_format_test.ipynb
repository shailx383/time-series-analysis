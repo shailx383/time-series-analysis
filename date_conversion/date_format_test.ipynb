{
 "cells": [
  {
   "attachments": {},
   "cell_type": "markdown",
   "metadata": {},
   "source": [
    "# Date Converter"
   ]
  },
  {
   "cell_type": "code",
   "execution_count": 1,
   "metadata": {},
   "outputs": [],
   "source": [
    "from dateconverter import DateConverter"
   ]
  },
  {
   "cell_type": "code",
   "execution_count": 2,
   "metadata": {},
   "outputs": [],
   "source": [
    "converter = DateConverter()"
   ]
  },
  {
   "cell_type": "code",
   "execution_count": 3,
   "metadata": {},
   "outputs": [
    {
     "data": {
      "text/plain": [
       "'2003-07-23'"
      ]
     },
     "execution_count": 3,
     "metadata": {},
     "output_type": "execute_result"
    }
   ],
   "source": [
    "converter.convert_date('2003-07-23')"
   ]
  },
  {
   "cell_type": "code",
   "execution_count": 4,
   "metadata": {},
   "outputs": [
    {
     "data": {
      "text/plain": [
       "'2003-12-02'"
      ]
     },
     "execution_count": 4,
     "metadata": {},
     "output_type": "execute_result"
    }
   ],
   "source": [
    "converter.convert_date('12-02-2003')\n"
   ]
  },
  {
   "cell_type": "code",
   "execution_count": 5,
   "metadata": {},
   "outputs": [
    {
     "data": {
      "text/plain": [
       "'1975-08-03'"
      ]
     },
     "execution_count": 5,
     "metadata": {},
     "output_type": "execute_result"
    }
   ],
   "source": [
    "converter.convert_date('1975/08/03')\n"
   ]
  },
  {
   "cell_type": "code",
   "execution_count": 6,
   "metadata": {},
   "outputs": [
    {
     "data": {
      "text/plain": [
       "'1968-07-22'"
      ]
     },
     "execution_count": 6,
     "metadata": {},
     "output_type": "execute_result"
    }
   ],
   "source": [
    "converter.convert_date('22/07/1968')"
   ]
  },
  {
   "attachments": {},
   "cell_type": "markdown",
   "metadata": {},
   "source": [
    "## Adding formats"
   ]
  },
  {
   "cell_type": "code",
   "execution_count": 7,
   "metadata": {},
   "outputs": [],
   "source": [
    "converter.add_format('%d-%b')"
   ]
  },
  {
   "cell_type": "code",
   "execution_count": 8,
   "metadata": {},
   "outputs": [
    {
     "data": {
      "text/plain": [
       "'1900-09-01'"
      ]
     },
     "execution_count": 8,
     "metadata": {},
     "output_type": "execute_result"
    }
   ],
   "source": [
    "converter.convert_date('01-Sep')"
   ]
  },
  {
   "cell_type": "code",
   "execution_count": 9,
   "metadata": {},
   "outputs": [],
   "source": [
    "converter.add_format(\"%d/%m/%y\")"
   ]
  },
  {
   "cell_type": "code",
   "execution_count": 10,
   "metadata": {},
   "outputs": [
    {
     "data": {
      "text/plain": [
       "'2023-06-21'"
      ]
     },
     "execution_count": 10,
     "metadata": {},
     "output_type": "execute_result"
    }
   ],
   "source": [
    "converter.convert_date(\"21/06/23\")"
   ]
  },
  {
   "cell_type": "code",
   "execution_count": 11,
   "metadata": {},
   "outputs": [
    {
     "data": {
      "text/html": [
       "<div>\n",
       "<style scoped>\n",
       "    .dataframe tbody tr th:only-of-type {\n",
       "        vertical-align: middle;\n",
       "    }\n",
       "\n",
       "    .dataframe tbody tr th {\n",
       "        vertical-align: top;\n",
       "    }\n",
       "\n",
       "    .dataframe thead th {\n",
       "        text-align: right;\n",
       "    }\n",
       "</style>\n",
       "<table border=\"1\" class=\"dataframe\">\n",
       "  <thead>\n",
       "    <tr style=\"text-align: right;\">\n",
       "      <th></th>\n",
       "      <th>Code</th>\n",
       "      <th>Example</th>\n",
       "      <th>Description</th>\n",
       "    </tr>\n",
       "  </thead>\n",
       "  <tbody>\n",
       "    <tr>\n",
       "      <th>0</th>\n",
       "      <td>%a</td>\n",
       "      <td>Sun</td>\n",
       "      <td>Weekday as locale's abbreviated name.</td>\n",
       "    </tr>\n",
       "    <tr>\n",
       "      <th>1</th>\n",
       "      <td>%A</td>\n",
       "      <td>Sunday</td>\n",
       "      <td>Weekday as locale's full name.</td>\n",
       "    </tr>\n",
       "    <tr>\n",
       "      <th>2</th>\n",
       "      <td>%w</td>\n",
       "      <td>0</td>\n",
       "      <td>Weekday as a decimal number, where 0 is Sunday...</td>\n",
       "    </tr>\n",
       "    <tr>\n",
       "      <th>3</th>\n",
       "      <td>%d</td>\n",
       "      <td>08</td>\n",
       "      <td>Day of the month as a zero-padded decimal number.</td>\n",
       "    </tr>\n",
       "    <tr>\n",
       "      <th>4</th>\n",
       "      <td>%-d</td>\n",
       "      <td>8</td>\n",
       "      <td>Day of the month as a decimal number. (Platfor...</td>\n",
       "    </tr>\n",
       "    <tr>\n",
       "      <th>5</th>\n",
       "      <td>%b</td>\n",
       "      <td>Sep</td>\n",
       "      <td>Month as locale's abbreviated name.</td>\n",
       "    </tr>\n",
       "    <tr>\n",
       "      <th>6</th>\n",
       "      <td>%B</td>\n",
       "      <td>September</td>\n",
       "      <td>Month as locale's full name.</td>\n",
       "    </tr>\n",
       "    <tr>\n",
       "      <th>7</th>\n",
       "      <td>%m</td>\n",
       "      <td>09</td>\n",
       "      <td>Month as a zero-padded decimal number.</td>\n",
       "    </tr>\n",
       "    <tr>\n",
       "      <th>8</th>\n",
       "      <td>%-m</td>\n",
       "      <td>9</td>\n",
       "      <td>Month as a decimal number. (Platform speciﬁc)</td>\n",
       "    </tr>\n",
       "    <tr>\n",
       "      <th>9</th>\n",
       "      <td>%y</td>\n",
       "      <td>13</td>\n",
       "      <td>Year without century as a zero-padded decimal ...</td>\n",
       "    </tr>\n",
       "    <tr>\n",
       "      <th>10</th>\n",
       "      <td>%Y</td>\n",
       "      <td>2013</td>\n",
       "      <td>Year with century as a decimal number.</td>\n",
       "    </tr>\n",
       "    <tr>\n",
       "      <th>11</th>\n",
       "      <td>%H</td>\n",
       "      <td>07</td>\n",
       "      <td>Hour (24-hour clock) as a zero-padded decimal ...</td>\n",
       "    </tr>\n",
       "    <tr>\n",
       "      <th>12</th>\n",
       "      <td>%-H</td>\n",
       "      <td>7</td>\n",
       "      <td>Hour (24-hour clock) as a decimal number. (Pla...</td>\n",
       "    </tr>\n",
       "    <tr>\n",
       "      <th>13</th>\n",
       "      <td>%I</td>\n",
       "      <td>07</td>\n",
       "      <td>Hour (12-hour clock) as a zero-padded decimal ...</td>\n",
       "    </tr>\n",
       "    <tr>\n",
       "      <th>14</th>\n",
       "      <td>%-I</td>\n",
       "      <td>7</td>\n",
       "      <td>Hour (12-hour clock) as a decimal number. (Pla...</td>\n",
       "    </tr>\n",
       "    <tr>\n",
       "      <th>15</th>\n",
       "      <td>%p</td>\n",
       "      <td>AM</td>\n",
       "      <td>Locale's equivalent of either AM or PM.</td>\n",
       "    </tr>\n",
       "    <tr>\n",
       "      <th>16</th>\n",
       "      <td>%M</td>\n",
       "      <td>06</td>\n",
       "      <td>Minute as a zero-padded decimal number.</td>\n",
       "    </tr>\n",
       "    <tr>\n",
       "      <th>17</th>\n",
       "      <td>%-M</td>\n",
       "      <td>6</td>\n",
       "      <td>Minute as a decimal number. (Platform speciﬁc)</td>\n",
       "    </tr>\n",
       "    <tr>\n",
       "      <th>18</th>\n",
       "      <td>%S</td>\n",
       "      <td>05</td>\n",
       "      <td>Second as a zero-padded decimal number.</td>\n",
       "    </tr>\n",
       "    <tr>\n",
       "      <th>19</th>\n",
       "      <td>%-S</td>\n",
       "      <td>5</td>\n",
       "      <td>Second as a decimal number. (Platform speciﬁc)</td>\n",
       "    </tr>\n",
       "    <tr>\n",
       "      <th>20</th>\n",
       "      <td>%f</td>\n",
       "      <td>000000</td>\n",
       "      <td>Microsecond as a decimal number, zero-padded t...</td>\n",
       "    </tr>\n",
       "    <tr>\n",
       "      <th>21</th>\n",
       "      <td>%z</td>\n",
       "      <td>+0000</td>\n",
       "      <td>UTC oﬀset in the form ±HHMM[SS[.ﬀﬀﬀ]] (empty s...</td>\n",
       "    </tr>\n",
       "    <tr>\n",
       "      <th>22</th>\n",
       "      <td>%Z</td>\n",
       "      <td>UTC</td>\n",
       "      <td>Time zone name (empty string if the object is ...</td>\n",
       "    </tr>\n",
       "  </tbody>\n",
       "</table>\n",
       "</div>"
      ],
      "text/plain": [
       "   Code    Example                                        Description\n",
       "0    %a        Sun              Weekday as locale's abbreviated name.\n",
       "1    %A     Sunday                     Weekday as locale's full name.\n",
       "2    %w          0  Weekday as a decimal number, where 0 is Sunday...\n",
       "3    %d         08  Day of the month as a zero-padded decimal number.\n",
       "4   %-d          8  Day of the month as a decimal number. (Platfor...\n",
       "5    %b        Sep                Month as locale's abbreviated name.\n",
       "6    %B  September                       Month as locale's full name.\n",
       "7    %m         09             Month as a zero-padded decimal number.\n",
       "8   %-m          9      Month as a decimal number. (Platform speciﬁc)\n",
       "9    %y         13  Year without century as a zero-padded decimal ...\n",
       "10   %Y       2013             Year with century as a decimal number.\n",
       "11   %H         07  Hour (24-hour clock) as a zero-padded decimal ...\n",
       "12  %-H          7  Hour (24-hour clock) as a decimal number. (Pla...\n",
       "13   %I         07  Hour (12-hour clock) as a zero-padded decimal ...\n",
       "14  %-I          7  Hour (12-hour clock) as a decimal number. (Pla...\n",
       "15   %p         AM            Locale's equivalent of either AM or PM.\n",
       "16   %M         06            Minute as a zero-padded decimal number.\n",
       "17  %-M          6     Minute as a decimal number. (Platform speciﬁc)\n",
       "18   %S         05            Second as a zero-padded decimal number.\n",
       "19  %-S          5     Second as a decimal number. (Platform speciﬁc)\n",
       "20   %f     000000  Microsecond as a decimal number, zero-padded t...\n",
       "21   %z      +0000  UTC oﬀset in the form ±HHMM[SS[.ﬀﬀﬀ]] (empty s...\n",
       "22   %Z        UTC  Time zone name (empty string if the object is ..."
      ]
     },
     "execution_count": 11,
     "metadata": {},
     "output_type": "execute_result"
    }
   ],
   "source": [
    "converter.directive_df()"
   ]
  }
 ],
 "metadata": {
  "kernelspec": {
   "display_name": "base",
   "language": "python",
   "name": "python3"
  },
  "language_info": {
   "codemirror_mode": {
    "name": "ipython",
    "version": 3
   },
   "file_extension": ".py",
   "mimetype": "text/x-python",
   "name": "python",
   "nbconvert_exporter": "python",
   "pygments_lexer": "ipython3",
   "version": "3.10.9"
  },
  "orig_nbformat": 4
 },
 "nbformat": 4,
 "nbformat_minor": 2
}
