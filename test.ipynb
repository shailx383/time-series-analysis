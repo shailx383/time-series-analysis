{
 "cells": [
  {
   "cell_type": "code",
   "execution_count": 133,
   "metadata": {},
   "outputs": [],
   "source": [
    "from datetime import datetime, timedelta\n",
    "import pandas as pd\n",
    "import numpy as np"
   ]
  },
  {
   "cell_type": "code",
   "execution_count": 134,
   "metadata": {},
   "outputs": [],
   "source": [
    "x = datetime(2022, 1, 9)"
   ]
  },
  {
   "cell_type": "code",
   "execution_count": 135,
   "metadata": {},
   "outputs": [
    {
     "data": {
      "text/plain": [
       "1641666600.0"
      ]
     },
     "execution_count": 135,
     "metadata": {},
     "output_type": "execute_result"
    }
   ],
   "source": [
    "x.timestamp()"
   ]
  },
  {
   "cell_type": "code",
   "execution_count": 136,
   "metadata": {},
   "outputs": [],
   "source": [
    "y = timedelta(0,600)"
   ]
  },
  {
   "cell_type": "code",
   "execution_count": 137,
   "metadata": {},
   "outputs": [
    {
     "data": {
      "text/plain": [
       "1641667200.0"
      ]
     },
     "execution_count": 137,
     "metadata": {},
     "output_type": "execute_result"
    }
   ],
   "source": [
    "x.timestamp() + y.seconds\n"
   ]
  },
  {
   "cell_type": "code",
   "execution_count": 138,
   "metadata": {},
   "outputs": [],
   "source": [
    "def round_dt(dt, delta):\n",
    "    return datetime.min + round((dt - datetime.min) / delta) * delta"
   ]
  },
  {
   "cell_type": "code",
   "execution_count": 139,
   "metadata": {},
   "outputs": [],
   "source": [
    "def impute_time_axis(time_axis: pd.Series, freq: timedelta = timedelta(days = 1)):\n",
    "    if time_axis.isna().sum() == 0:\n",
    "        return pd.to_datetime(time_axis)\n",
    "    series = pd.to_datetime(time_axis)\n",
    "    print(series[0].minute)\n",
    "    time_list = series.to_list()\n",
    "    null_intervals = []\n",
    "    idx = 0\n",
    "    while idx < len(time_list):\n",
    "        if pd.isnull(time_list[idx]):\n",
    "            start = time_list[idx-1]\n",
    "            nulls = 0\n",
    "            while pd.isnull(time_list[idx + nulls]):\n",
    "                nulls += 1\n",
    "            idx += nulls\n",
    "            end = time_list[idx]\n",
    "            null_intervals.append({\n",
    "                \"start\": start,\n",
    "                \"end\": end,\n",
    "                \"nulls\": nulls + 2\n",
    "            })\n",
    "        else:\n",
    "            idx += 1\n",
    "    seconds_intervals =  [np.linspace(interval[\"start\"].timestamp(), interval[\"end\"].timestamp(), interval[\"nulls\"]) for interval in null_intervals]\n",
    "    x = []\n",
    "    for i in seconds_intervals:\n",
    "        for j in i[1:-1]:\n",
    "            x.append(j)\n",
    "    final_fill_values = [pd.to_datetime(round_dt(datetime.utcfromtimestamp(i), freq)) for i in x]\n",
    "    column = []\n",
    "    idx = 0\n",
    "    for i in time_axis.to_list():\n",
    "        if pd.isnull(i):\n",
    "            column.append(final_fill_values[idx])\n",
    "            idx += 1\n",
    "        else:\n",
    "            column.append(i)\n",
    "    ser = pd.Series(pd.to_datetime(column))\n",
    "    return ser\n",
    "    "
   ]
  },
  {
   "cell_type": "code",
   "execution_count": 140,
   "metadata": {},
   "outputs": [
    {
     "data": {
      "text/html": [
       "<div>\n",
       "<style scoped>\n",
       "    .dataframe tbody tr th:only-of-type {\n",
       "        vertical-align: middle;\n",
       "    }\n",
       "\n",
       "    .dataframe tbody tr th {\n",
       "        vertical-align: top;\n",
       "    }\n",
       "\n",
       "    .dataframe thead th {\n",
       "        text-align: right;\n",
       "    }\n",
       "</style>\n",
       "<table border=\"1\" class=\"dataframe\">\n",
       "  <thead>\n",
       "    <tr style=\"text-align: right;\">\n",
       "      <th></th>\n",
       "      <th>value</th>\n",
       "      <th>city</th>\n",
       "      <th>date</th>\n",
       "    </tr>\n",
       "  </thead>\n",
       "  <tbody>\n",
       "    <tr>\n",
       "      <th>0</th>\n",
       "      <td>10</td>\n",
       "      <td>Mumbai</td>\n",
       "      <td>2015-12-02 05:10:00</td>\n",
       "    </tr>\n",
       "    <tr>\n",
       "      <th>1</th>\n",
       "      <td>1</td>\n",
       "      <td>Bangalore</td>\n",
       "      <td>2015-12-02 05:20:00</td>\n",
       "    </tr>\n",
       "    <tr>\n",
       "      <th>2</th>\n",
       "      <td>12</td>\n",
       "      <td>Pune</td>\n",
       "      <td>2015-12-02 05:40:00</td>\n",
       "    </tr>\n",
       "    <tr>\n",
       "      <th>3</th>\n",
       "      <td>4</td>\n",
       "      <td>Mumbai</td>\n",
       "      <td>NaN</td>\n",
       "    </tr>\n",
       "    <tr>\n",
       "      <th>4</th>\n",
       "      <td>15</td>\n",
       "      <td>Delhi</td>\n",
       "      <td>2015-12-02 06:00:00</td>\n",
       "    </tr>\n",
       "    <tr>\n",
       "      <th>5</th>\n",
       "      <td>6</td>\n",
       "      <td>Mumbai</td>\n",
       "      <td>NaN</td>\n",
       "    </tr>\n",
       "    <tr>\n",
       "      <th>6</th>\n",
       "      <td>14</td>\n",
       "      <td>Bangalore</td>\n",
       "      <td>NaN</td>\n",
       "    </tr>\n",
       "    <tr>\n",
       "      <th>7</th>\n",
       "      <td>5</td>\n",
       "      <td>Pune</td>\n",
       "      <td>2015-12-02 06:40:00</td>\n",
       "    </tr>\n",
       "    <tr>\n",
       "      <th>8</th>\n",
       "      <td>8</td>\n",
       "      <td>Mumbai</td>\n",
       "      <td>2015-12-02 07:10:00</td>\n",
       "    </tr>\n",
       "  </tbody>\n",
       "</table>\n",
       "</div>"
      ],
      "text/plain": [
       "   value       city                 date\n",
       "0     10     Mumbai  2015-12-02 05:10:00\n",
       "1      1  Bangalore  2015-12-02 05:20:00\n",
       "2     12       Pune  2015-12-02 05:40:00\n",
       "3      4     Mumbai                  NaN\n",
       "4     15      Delhi  2015-12-02 06:00:00\n",
       "5      6     Mumbai                  NaN\n",
       "6     14  Bangalore                  NaN\n",
       "7      5       Pune  2015-12-02 06:40:00\n",
       "8      8     Mumbai  2015-12-02 07:10:00"
      ]
     },
     "execution_count": 140,
     "metadata": {},
     "output_type": "execute_result"
    }
   ],
   "source": [
    "\n",
    "df = pd.DataFrame([[10  ,      \"Mumbai\"   ,  '2015-12-02 05:10:00'  ]   ,               \n",
    "   [1 ,       \"Bangalore\" , '2015-12-02 05:20:00'],\n",
    "   [12    ,    \"Pune\"    ,   '2015-12-02 05:40:00'],\n",
    "   [4    ,    \"Mumbai\"  ,    np.nan],\n",
    "   [15   ,     \"Delhi\" ,     '2015-12-02 06:00:00'],\n",
    "   [6   ,     \"Mumbai\"   ,    np.nan],\n",
    "   [14    ,    \"Bangalore\" ,   np.nan],\n",
    "  [ 5   ,     \"Pune\"    ,   '2015-12-02 06:40:00'],\n",
    "   [8   ,     \"Mumbai\"  ,   '2015-12-02 07:10:00']], columns = ['value', 'city', 'date'])\n",
    "df"
   ]
  },
  {
   "cell_type": "code",
   "execution_count": 141,
   "metadata": {},
   "outputs": [
    {
     "name": "stdout",
     "output_type": "stream",
     "text": [
      "10\n"
     ]
    }
   ],
   "source": [
    "\n",
    "df['date'] = impute_time_axis(df['date'], freq = timedelta(minutes=10))"
   ]
  },
  {
   "cell_type": "code",
   "execution_count": 142,
   "metadata": {},
   "outputs": [
    {
     "data": {
      "text/html": [
       "<div>\n",
       "<style scoped>\n",
       "    .dataframe tbody tr th:only-of-type {\n",
       "        vertical-align: middle;\n",
       "    }\n",
       "\n",
       "    .dataframe tbody tr th {\n",
       "        vertical-align: top;\n",
       "    }\n",
       "\n",
       "    .dataframe thead th {\n",
       "        text-align: right;\n",
       "    }\n",
       "</style>\n",
       "<table border=\"1\" class=\"dataframe\">\n",
       "  <thead>\n",
       "    <tr style=\"text-align: right;\">\n",
       "      <th></th>\n",
       "      <th>value</th>\n",
       "      <th>city</th>\n",
       "      <th>date</th>\n",
       "    </tr>\n",
       "  </thead>\n",
       "  <tbody>\n",
       "    <tr>\n",
       "      <th>0</th>\n",
       "      <td>10</td>\n",
       "      <td>Mumbai</td>\n",
       "      <td>2015-12-02 05:10:00</td>\n",
       "    </tr>\n",
       "    <tr>\n",
       "      <th>1</th>\n",
       "      <td>1</td>\n",
       "      <td>Bangalore</td>\n",
       "      <td>2015-12-02 05:20:00</td>\n",
       "    </tr>\n",
       "    <tr>\n",
       "      <th>2</th>\n",
       "      <td>12</td>\n",
       "      <td>Pune</td>\n",
       "      <td>2015-12-02 05:40:00</td>\n",
       "    </tr>\n",
       "    <tr>\n",
       "      <th>3</th>\n",
       "      <td>4</td>\n",
       "      <td>Mumbai</td>\n",
       "      <td>2015-12-02 05:50:00</td>\n",
       "    </tr>\n",
       "    <tr>\n",
       "      <th>4</th>\n",
       "      <td>15</td>\n",
       "      <td>Delhi</td>\n",
       "      <td>2015-12-02 06:00:00</td>\n",
       "    </tr>\n",
       "    <tr>\n",
       "      <th>5</th>\n",
       "      <td>6</td>\n",
       "      <td>Mumbai</td>\n",
       "      <td>2015-12-02 06:10:00</td>\n",
       "    </tr>\n",
       "    <tr>\n",
       "      <th>6</th>\n",
       "      <td>14</td>\n",
       "      <td>Bangalore</td>\n",
       "      <td>2015-12-02 06:30:00</td>\n",
       "    </tr>\n",
       "    <tr>\n",
       "      <th>7</th>\n",
       "      <td>5</td>\n",
       "      <td>Pune</td>\n",
       "      <td>2015-12-02 06:40:00</td>\n",
       "    </tr>\n",
       "    <tr>\n",
       "      <th>8</th>\n",
       "      <td>8</td>\n",
       "      <td>Mumbai</td>\n",
       "      <td>2015-12-02 07:10:00</td>\n",
       "    </tr>\n",
       "  </tbody>\n",
       "</table>\n",
       "</div>"
      ],
      "text/plain": [
       "   value       city                date\n",
       "0     10     Mumbai 2015-12-02 05:10:00\n",
       "1      1  Bangalore 2015-12-02 05:20:00\n",
       "2     12       Pune 2015-12-02 05:40:00\n",
       "3      4     Mumbai 2015-12-02 05:50:00\n",
       "4     15      Delhi 2015-12-02 06:00:00\n",
       "5      6     Mumbai 2015-12-02 06:10:00\n",
       "6     14  Bangalore 2015-12-02 06:30:00\n",
       "7      5       Pune 2015-12-02 06:40:00\n",
       "8      8     Mumbai 2015-12-02 07:10:00"
      ]
     },
     "execution_count": 142,
     "metadata": {},
     "output_type": "execute_result"
    }
   ],
   "source": [
    "df"
   ]
  },
  {
   "cell_type": "code",
   "execution_count": 143,
   "metadata": {},
   "outputs": [],
   "source": [
    "from tsa.interpolation import interpolate_dates as interpolate"
   ]
  },
  {
   "cell_type": "code",
   "execution_count": 144,
   "metadata": {},
   "outputs": [
    {
     "data": {
      "text/html": [
       "<div>\n",
       "<style scoped>\n",
       "    .dataframe tbody tr th:only-of-type {\n",
       "        vertical-align: middle;\n",
       "    }\n",
       "\n",
       "    .dataframe tbody tr th {\n",
       "        vertical-align: top;\n",
       "    }\n",
       "\n",
       "    .dataframe thead th {\n",
       "        text-align: right;\n",
       "    }\n",
       "</style>\n",
       "<table border=\"1\" class=\"dataframe\">\n",
       "  <thead>\n",
       "    <tr style=\"text-align: right;\">\n",
       "      <th></th>\n",
       "      <th>value</th>\n",
       "      <th>date</th>\n",
       "    </tr>\n",
       "  </thead>\n",
       "  <tbody>\n",
       "    <tr>\n",
       "      <th>0</th>\n",
       "      <td>10.0</td>\n",
       "      <td>2015-12-02 05:10:00</td>\n",
       "    </tr>\n",
       "    <tr>\n",
       "      <th>1</th>\n",
       "      <td>1.0</td>\n",
       "      <td>2015-12-02 05:20:00</td>\n",
       "    </tr>\n",
       "    <tr>\n",
       "      <th>2</th>\n",
       "      <td>6.5</td>\n",
       "      <td>2015-12-02 05:30:00</td>\n",
       "    </tr>\n",
       "    <tr>\n",
       "      <th>3</th>\n",
       "      <td>12.0</td>\n",
       "      <td>2015-12-02 05:40:00</td>\n",
       "    </tr>\n",
       "    <tr>\n",
       "      <th>4</th>\n",
       "      <td>4.0</td>\n",
       "      <td>2015-12-02 05:50:00</td>\n",
       "    </tr>\n",
       "    <tr>\n",
       "      <th>5</th>\n",
       "      <td>15.0</td>\n",
       "      <td>2015-12-02 06:00:00</td>\n",
       "    </tr>\n",
       "    <tr>\n",
       "      <th>6</th>\n",
       "      <td>6.0</td>\n",
       "      <td>2015-12-02 06:10:00</td>\n",
       "    </tr>\n",
       "    <tr>\n",
       "      <th>7</th>\n",
       "      <td>10.0</td>\n",
       "      <td>2015-12-02 06:20:00</td>\n",
       "    </tr>\n",
       "    <tr>\n",
       "      <th>8</th>\n",
       "      <td>14.0</td>\n",
       "      <td>2015-12-02 06:30:00</td>\n",
       "    </tr>\n",
       "    <tr>\n",
       "      <th>9</th>\n",
       "      <td>5.0</td>\n",
       "      <td>2015-12-02 06:40:00</td>\n",
       "    </tr>\n",
       "    <tr>\n",
       "      <th>10</th>\n",
       "      <td>6.0</td>\n",
       "      <td>2015-12-02 06:50:00</td>\n",
       "    </tr>\n",
       "    <tr>\n",
       "      <th>11</th>\n",
       "      <td>7.0</td>\n",
       "      <td>2015-12-02 07:00:00</td>\n",
       "    </tr>\n",
       "    <tr>\n",
       "      <th>12</th>\n",
       "      <td>8.0</td>\n",
       "      <td>2015-12-02 07:10:00</td>\n",
       "    </tr>\n",
       "  </tbody>\n",
       "</table>\n",
       "</div>"
      ],
      "text/plain": [
       "    value                date\n",
       "0    10.0 2015-12-02 05:10:00\n",
       "1     1.0 2015-12-02 05:20:00\n",
       "2     6.5 2015-12-02 05:30:00\n",
       "3    12.0 2015-12-02 05:40:00\n",
       "4     4.0 2015-12-02 05:50:00\n",
       "5    15.0 2015-12-02 06:00:00\n",
       "6     6.0 2015-12-02 06:10:00\n",
       "7    10.0 2015-12-02 06:20:00\n",
       "8    14.0 2015-12-02 06:30:00\n",
       "9     5.0 2015-12-02 06:40:00\n",
       "10    6.0 2015-12-02 06:50:00\n",
       "11    7.0 2015-12-02 07:00:00\n",
       "12    8.0 2015-12-02 07:10:00"
      ]
     },
     "execution_count": 144,
     "metadata": {},
     "output_type": "execute_result"
    }
   ],
   "source": [
    "df = interpolate(df, 'date', ['value'], timedelta(minutes=10))\n",
    "df"
   ]
  },
  {
   "cell_type": "code",
   "execution_count": 145,
   "metadata": {},
   "outputs": [],
   "source": [
    "from tsa.properties import Stationarity\n",
    "\n",
    "s = Stationarity(df, 'date', 'value')"
   ]
  },
  {
   "cell_type": "code",
   "execution_count": 146,
   "metadata": {},
   "outputs": [
    {
     "name": "stdout",
     "output_type": "stream",
     "text": [
      "1. ADF :  -4.654173074863313\n",
      "2. P-Value :  0.00010251499296778517\n",
      "3. Num Of Lags :  0\n",
      "4. Num Of Observations Used For ADF Regression and Critical Values Calculation : 12\n",
      "5. Critical Values :\n",
      "\t 1% :  -4.137829282407408\n",
      "\t 5% :  -3.1549724074074077\n",
      "\t 10% :  -2.7144769444444443\n",
      "\n",
      "\n",
      "As p-value is inside the confidence interval of 95%, series is stationary.\n"
     ]
    }
   ],
   "source": [
    "s.test_stationarity()"
   ]
  },
  {
   "cell_type": "code",
   "execution_count": 148,
   "metadata": {},
   "outputs": [
    {
     "data": {
      "text/plain": [
       "{'t': 'waterfall',\n",
       " 'x': ['2015-12-02 05:10:00',\n",
       "  '2015-12-02 05:20:00',\n",
       "  '2015-12-02 05:30:00',\n",
       "  '2015-12-02 05:40:00',\n",
       "  '2015-12-02 05:50:00',\n",
       "  '2015-12-02 06:00:00',\n",
       "  '2015-12-02 06:10:00',\n",
       "  '2015-12-02 06:20:00',\n",
       "  '2015-12-02 06:30:00',\n",
       "  '2015-12-02 06:40:00',\n",
       "  '2015-12-02 06:50:00',\n",
       "  '2015-12-02 07:00:00',\n",
       "  '2015-12-02 07:10:00'],\n",
       " 'y': [0, 1.0, 1.0, 6.5, 4.0, 4.0, 6.0, 6.0, 10.0, 5.0, 5.0, 6.0, 7.0],\n",
       " 'i': [10.0, '-', 5.5, 5.5, '-', 11.0, '-', 4.0, 4.0, '-', 1.0, 1.0, 1.0],\n",
       " 'd': ['-', 9.0, '-', '-', 8.0, '-', 9.0, '-', '-', 9.0, '-', '-', '-']}"
      ]
     },
     "execution_count": 148,
     "metadata": {},
     "output_type": "execute_result"
    }
   ],
   "source": [
    "from tsa.visualization import waterfall_plot\n",
    "waterfall_plot(df, 'date','value', 'waterfall')"
   ]
  },
  {
   "cell_type": "code",
   "execution_count": null,
   "metadata": {},
   "outputs": [],
   "source": []
  }
 ],
 "metadata": {
  "kernelspec": {
   "display_name": "env",
   "language": "python",
   "name": "python3"
  },
  "language_info": {
   "name": "python",
   "version": "3.10.6"
  },
  "orig_nbformat": 4
 },
 "nbformat": 4,
 "nbformat_minor": 2
}
