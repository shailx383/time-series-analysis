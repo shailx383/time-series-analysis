{
  "cells": [
    {
      "cell_type": "code",
      "execution_count": 1,
      "metadata": {
        "_cell_guid": "b1076dfc-b9ad-4769-8c92-a6c4dae69d19",
        "_uuid": "8f2839f25d086af736a60e9eeb907d3b93b6e0e5",
        "execution": {
          "iopub.execute_input": "2023-06-15T10:20:05.403233Z",
          "iopub.status.busy": "2023-06-15T10:20:05.402154Z",
          "iopub.status.idle": "2023-06-15T10:20:05.409374Z",
          "shell.execute_reply": "2023-06-15T10:20:05.408110Z",
          "shell.execute_reply.started": "2023-06-15T10:20:05.403178Z"
        },
        "trusted": true,
        "id": "06di3ZLLk81H"
      },
      "outputs": [],
      "source": [
        "import numpy as np\n",
        "import pandas as pd\n",
        "from statsmodels.tsa.seasonal import seasonal_decompose\n",
        "from statsmodels.regression.linear_model import OLS"
      ]
    },
    {
      "cell_type": "markdown",
      "metadata": {
        "id": "aGkkrC50k81J"
      },
      "source": [
        "# Trend"
      ]
    },
    {
      "cell_type": "code",
      "execution_count": 2,
      "metadata": {
        "execution": {
          "iopub.execute_input": "2023-06-15T10:20:05.428227Z",
          "iopub.status.busy": "2023-06-15T10:20:05.427715Z",
          "iopub.status.idle": "2023-06-15T10:20:05.444624Z",
          "shell.execute_reply": "2023-06-15T10:20:05.443406Z",
          "shell.execute_reply.started": "2023-06-15T10:20:05.428195Z"
        },
        "trusted": true,
        "id": "5UxC7CEEk81K"
      },
      "outputs": [],
      "source": [
        "class Trend:\n",
        "    def __init__(self, df, y: str, x: str):\n",
        "        self.df = df\n",
        "        self.x = x\n",
        "        self.y = y\n",
        "\n",
        "    def _index_df(self):\n",
        "        idf = pd.DataFrame(self.df[[self.x, self.y]])\n",
        "        idf[self.x] = pd.to_datetime(idf[self.x], infer_datetime_format = True)\n",
        "        idf = idf.set_index([self.x])\n",
        "        self.idf = idf\n",
        "\n",
        "    def trend(self):\n",
        "        self._index_df()\n",
        "        t = seasonal_decompose(self.idf, model = \"multiplicative\").trend\n",
        "        return t\n",
        "\n",
        "    def plot(self, show_plot = False):\n",
        "        t = self.trend()\n",
        "        vals = t.array.dropna().tolist()\n",
        "        if not show_plot:\n",
        "            return {\n",
        "                \"title\": \"Trend of \" + self.idf.columns[0] + \":\",\n",
        "                \"data\": vals,\n",
        "                \"x\": [str(i.date()) for i in self.idf.index.to_list()]\n",
        "            }\n",
        "        else:\n",
        "            t.plot()\n",
        "\n",
        "    def detrend(self):\n",
        "        least_squares = OLS(self.df[self.y].values, list(range(self.df.shape[0])))\n",
        "        result = least_squares.fit()\n",
        "        fit = pd.Series(result.predict(list(range(df.shape[0]))), index = self.df.index)\n",
        "        detrended = self.df[self.y].values - fit.values\n",
        "\n",
        "        detrend_df = pd.DataFrame()\n",
        "        detrend_df['Original'] = self.df[self.y]\n",
        "        detrend_df['Detrend'] = pd.Series(detrended)\n",
        "        detrend_df[self.x] = self.df[self.x]\n",
        "        detrend_df = detrend_df.set_index([self.x])\n",
        "        return detrend_df\n",
        "\n",
        "\n",
        "    def plot_detrend(self, show_plot = False):\n",
        "        d = self.detrend()\n",
        "        if not show_plot:\n",
        "            return {\n",
        "                \"title\": \"Original vs Detrend of \" + self.idf.columns[0] + \":\",\n",
        "                \"data\": d['Original'].values.tolist(),\n",
        "                \"data_detrend\": d['Detrend'].values.tolist(),\n",
        "                \"x\": [str(i.date()) for i in self.idf.index.to_list()]\n",
        "            }\n",
        "        else:\n",
        "            d.plot()\n",
        "\n",
        "\n"
      ]
    },
    {
      "cell_type": "code",
      "execution_count": 3,
      "metadata": {
        "execution": {
          "iopub.execute_input": "2023-06-15T10:20:05.446091Z",
          "iopub.status.busy": "2023-06-15T10:20:05.445776Z",
          "iopub.status.idle": "2023-06-15T10:20:05.465881Z",
          "shell.execute_reply": "2023-06-15T10:20:05.465059Z",
          "shell.execute_reply.started": "2023-06-15T10:20:05.446064Z"
        },
        "trusted": true,
        "id": "YuSuQs1sk81L"
      },
      "outputs": [],
      "source": [
        "df = pd.read_csv('/content/drive/MyDrive/data/2/Electric_Production.csv')"
      ]
    },
    {
      "cell_type": "code",
      "source": [
        "from google.colab import drive\n",
        "drive.mount('/content/drive')"
      ],
      "metadata": {
        "colab": {
          "base_uri": "https://localhost:8080/"
        },
        "id": "v6zEs-QNr97e",
        "outputId": "15d4fbfb-3aa1-40e2-8988-770139963cb2"
      },
      "execution_count": 4,
      "outputs": [
        {
          "output_type": "stream",
          "name": "stdout",
          "text": [
            "Drive already mounted at /content/drive; to attempt to forcibly remount, call drive.mount(\"/content/drive\", force_remount=True).\n"
          ]
        }
      ]
    },
    {
      "cell_type": "code",
      "execution_count": 5,
      "metadata": {
        "execution": {
          "iopub.execute_input": "2023-06-15T10:20:05.468162Z",
          "iopub.status.busy": "2023-06-15T10:20:05.467539Z",
          "iopub.status.idle": "2023-06-15T10:20:05.473454Z",
          "shell.execute_reply": "2023-06-15T10:20:05.472260Z",
          "shell.execute_reply.started": "2023-06-15T10:20:05.468133Z"
        },
        "trusted": true,
        "id": "p_I4iONak81M"
      },
      "outputs": [],
      "source": [
        "y = 'IPG2211A2N'"
      ]
    },
    {
      "cell_type": "code",
      "execution_count": 6,
      "metadata": {
        "execution": {
          "iopub.execute_input": "2023-06-15T10:20:05.540569Z",
          "iopub.status.busy": "2023-06-15T10:20:05.540139Z",
          "iopub.status.idle": "2023-06-15T10:20:05.545652Z",
          "shell.execute_reply": "2023-06-15T10:20:05.544566Z",
          "shell.execute_reply.started": "2023-06-15T10:20:05.540517Z"
        },
        "trusted": true,
        "id": "T7ozD5bqk81M"
      },
      "outputs": [],
      "source": [
        "x = 'DATE'"
      ]
    },
    {
      "cell_type": "code",
      "execution_count": 7,
      "metadata": {
        "execution": {
          "iopub.execute_input": "2023-06-15T10:20:05.548701Z",
          "iopub.status.busy": "2023-06-15T10:20:05.547700Z",
          "iopub.status.idle": "2023-06-15T10:20:05.558665Z",
          "shell.execute_reply": "2023-06-15T10:20:05.557550Z",
          "shell.execute_reply.started": "2023-06-15T10:20:05.548671Z"
        },
        "trusted": true,
        "id": "14C4_H6Ak81N"
      },
      "outputs": [],
      "source": [
        "t = Trend(df, y, x)"
      ]
    },
    {
      "cell_type": "code",
      "execution_count": 8,
      "metadata": {
        "execution": {
          "iopub.execute_input": "2023-06-15T10:20:05.560680Z",
          "iopub.status.busy": "2023-06-15T10:20:05.560351Z",
          "iopub.status.idle": "2023-06-15T10:20:06.115734Z",
          "shell.execute_reply": "2023-06-15T10:20:06.114495Z",
          "shell.execute_reply.started": "2023-06-15T10:20:05.560651Z"
        },
        "trusted": true,
        "colab": {
          "base_uri": "https://localhost:8080/",
          "height": 449
        },
        "id": "OzK81nxnk81N",
        "outputId": "936a1ac1-e1a8-42cb-f047-7eca2390b691"
      },
      "outputs": [
        {
          "output_type": "display_data",
          "data": {
            "text/plain": [
              "<Figure size 640x480 with 1 Axes>"
            ],
            "image/png": "[encoded data removed]"
          },
          "metadata": {}
        }
      ],
      "source": [
        "t.plot(show_plot = True)"
      ]
    },
    {
      "cell_type": "code",
      "execution_count": 9,
      "metadata": {
        "execution": {
          "iopub.execute_input": "2023-06-15T10:20:06.118004Z",
          "iopub.status.busy": "2023-06-15T10:20:06.117235Z",
          "iopub.status.idle": "2023-06-15T10:20:06.129072Z",
          "shell.execute_reply": "2023-06-15T10:20:06.127890Z",
          "shell.execute_reply.started": "2023-06-15T10:20:06.117972Z"
        },
        "trusted": true,
        "id": "mDyj6wJxk81O"
      },
      "outputs": [],
      "source": [
        "o = t.plot_detrend()"
      ]
    },
    {
      "cell_type": "code",
      "execution_count": 10,
      "metadata": {
        "execution": {
          "iopub.execute_input": "2023-06-15T10:20:06.133175Z",
          "iopub.status.busy": "2023-06-15T10:20:06.132829Z",
          "iopub.status.idle": "2023-06-15T10:20:06.142845Z",
          "shell.execute_reply": "2023-06-15T10:20:06.141715Z",
          "shell.execute_reply.started": "2023-06-15T10:20:06.133146Z"
        },
        "trusted": true,
        "id": "AuKiajYEk81O"
      },
      "outputs": [],
      "source": [
        "import sys\n",
        "def out_to_file(data):\n",
        "    old_stdout = sys.stdout\n",
        "    sys.stdout = open('/output.txt', 'w')\n",
        "\n",
        "    print(data)\n",
        "\n",
        "    sys.stdout = old_stdout"
      ]
    },
    {
      "cell_type": "code",
      "execution_count": 11,
      "metadata": {
        "execution": {
          "iopub.execute_input": "2023-06-15T10:20:06.144703Z",
          "iopub.status.busy": "2023-06-15T10:20:06.144388Z",
          "iopub.status.idle": "2023-06-15T10:20:06.157552Z",
          "shell.execute_reply": "2023-06-15T10:20:06.156523Z",
          "shell.execute_reply.started": "2023-06-15T10:20:06.144676Z"
        },
        "trusted": true,
        "id": "_v3MfZxpk81P"
      },
      "outputs": [],
      "source": [
        "out_to_file(o['data_detrend'])"
      ]
    },
    {
      "cell_type": "code",
      "execution_count": 12,
      "metadata": {
        "execution": {
          "iopub.execute_input": "2023-06-15T10:20:06.159804Z",
          "iopub.status.busy": "2023-06-15T10:20:06.158829Z",
          "iopub.status.idle": "2023-06-15T10:20:06.510923Z",
          "shell.execute_reply": "2023-06-15T10:20:06.509756Z",
          "shell.execute_reply.started": "2023-06-15T10:20:06.159770Z"
        },
        "trusted": true,
        "colab": {
          "base_uri": "https://localhost:8080/",
          "height": 449
        },
        "id": "Dp7p-CmDk81P",
        "outputId": "51c044fc-e540-4f55-b846-15a79b343553"
      },
      "outputs": [
        {
          "output_type": "display_data",
          "data": {
            "text/plain": [
              "<Figure size 640x480 with 1 Axes>"
            ],
            "image/png": "[encoded data removed]"
          },
          "metadata": {}
        }
      ],
      "source": [
        "t.plot_detrend(show_plot = True)"
      ]
    },
    {
      "cell_type": "markdown",
      "metadata": {
        "id": "42uwMaGBk81P"
      },
      "source": [
        "# Seasonality"
      ]
    },
    {
      "cell_type": "code",
      "execution_count": 13,
      "metadata": {
        "execution": {
          "iopub.execute_input": "2023-06-15T10:20:06.512824Z",
          "iopub.status.busy": "2023-06-15T10:20:06.512502Z",
          "iopub.status.idle": "2023-06-15T10:20:06.530010Z",
          "shell.execute_reply": "2023-06-15T10:20:06.528780Z",
          "shell.execute_reply.started": "2023-06-15T10:20:06.512797Z"
        },
        "trusted": true,
        "id": "q0hkDC54k81P"
      },
      "outputs": [],
      "source": [
        "class Seasonality:\n",
        "    def __init__(self, df, y: str, x: str):\n",
        "        self.df = df\n",
        "        self.x = x\n",
        "        self.y = y\n",
        "\n",
        "    def _index_df(self):\n",
        "        idf = pd.DataFrame(self.df[[self.x, self.y]])\n",
        "        idf[self.x] = pd.to_datetime(idf[self.x], infer_datetime_format = True)\n",
        "        idf = idf.set_index([self.x])\n",
        "        self.idf = idf\n",
        "\n",
        "    def seasonal(self):\n",
        "        self._index_df()\n",
        "        t = seasonal_decompose(self.idf, model = \"multiplicative\").seasonal\n",
        "        return t\n",
        "\n",
        "    def plot(self, show_plot = False):\n",
        "        t = self.seasonal()\n",
        "        vals = t.array.dropna().tolist()\n",
        "        if not show_plot:\n",
        "            return {\n",
        "                \"title\": \"Seasonality of \" + self.idf.columns[0] + \":\",\n",
        "                \"data\": vals,\n",
        "                \"x\": [str(i.date()) for i in self.idf.index.to_list()]\n",
        "            }\n",
        "        else:\n",
        "            t.plot()\n",
        "\n",
        "    def deseasonalize(self):\n",
        "        de = self.df[self.y].values / self.seasonal()\n",
        "        deseasonalize_df = pd.DataFrame()\n",
        "        deseasonalize_df['Original'] = self.df[self.y]\n",
        "        deseasonalize_df['Deseasonalized'] = pd.Series(de.values)\n",
        "        deseasonalize_df[self.x] = self.df[self.x]\n",
        "        deseasonalize_df = deseasonalize_df.set_index([self.x])\n",
        "        return deseasonalize_df\n",
        "\n",
        "    def plot_deseasonalize(self, show_plot = False):\n",
        "        d = self.deseasonalize()\n",
        "        if not show_plot:\n",
        "            return {\n",
        "                \"title\": \"Original vs Deseasonalized of \" + self.idf.columns[0] + \":\",\n",
        "                \"data\": d['Original'].values.tolist(),\n",
        "                \"data_des\": d['Deseasonalized'].values.tolist(),\n",
        "                \"x\": [str(i.date()) for i in self.idf.index.to_list()]\n",
        "            }\n",
        "        else:\n",
        "            d.plot()\n"
      ]
    },
    {
      "cell_type": "code",
      "execution_count": 14,
      "metadata": {
        "execution": {
          "iopub.execute_input": "2023-06-15T10:20:06.532220Z",
          "iopub.status.busy": "2023-06-15T10:20:06.531818Z",
          "iopub.status.idle": "2023-06-15T10:20:06.548030Z",
          "shell.execute_reply": "2023-06-15T10:20:06.546726Z",
          "shell.execute_reply.started": "2023-06-15T10:20:06.532190Z"
        },
        "trusted": true,
        "id": "wTE0i-0yk81Q"
      },
      "outputs": [],
      "source": [
        "s = Seasonality(df,y, x )"
      ]
    },
    {
      "cell_type": "code",
      "execution_count": 15,
      "metadata": {
        "execution": {
          "iopub.execute_input": "2023-06-15T10:20:06.549604Z",
          "iopub.status.busy": "2023-06-15T10:20:06.549206Z",
          "iopub.status.idle": "2023-06-15T10:20:06.574149Z",
          "shell.execute_reply": "2023-06-15T10:20:06.572976Z",
          "shell.execute_reply.started": "2023-06-15T10:20:06.549577Z"
        },
        "trusted": true,
        "id": "ubqltOvDk81Q"
      },
      "outputs": [],
      "source": [
        "r = s.plot()"
      ]
    },
    {
      "cell_type": "code",
      "execution_count": 16,
      "metadata": {
        "execution": {
          "iopub.execute_input": "2023-06-15T10:20:06.576250Z",
          "iopub.status.busy": "2023-06-15T10:20:06.575870Z",
          "iopub.status.idle": "2023-06-15T10:20:06.591985Z",
          "shell.execute_reply": "2023-06-15T10:20:06.590990Z",
          "shell.execute_reply.started": "2023-06-15T10:20:06.576220Z"
        },
        "trusted": true,
        "id": "uRFppC5Ik81Q"
      },
      "outputs": [],
      "source": [
        "out_to_file(r['data'])"
      ]
    },
    {
      "cell_type": "code",
      "execution_count": 17,
      "metadata": {
        "execution": {
          "iopub.execute_input": "2023-06-15T10:20:06.593614Z",
          "iopub.status.busy": "2023-06-15T10:20:06.593219Z",
          "iopub.status.idle": "2023-06-15T10:20:06.966163Z",
          "shell.execute_reply": "2023-06-15T10:20:06.964985Z",
          "shell.execute_reply.started": "2023-06-15T10:20:06.593586Z"
        },
        "trusted": true,
        "colab": {
          "base_uri": "https://localhost:8080/",
          "height": 449
        },
        "id": "aSlfWri1k81R",
        "outputId": "630f09a6-8950-42b2-e048-9f4b38fe3ecf"
      },
      "outputs": [
        {
          "output_type": "display_data",
          "data": {
            "text/plain": [
              "<Figure size 640x480 with 1 Axes>"
            ],
            "image/png": "[encoded data removed]"
          },
          "metadata": {}
        }
      ],
      "source": [
        "r = s.plot_deseasonalize(show_plot = True)"
      ]
    },
    {
      "cell_type": "code",
      "execution_count": 18,
      "metadata": {
        "execution": {
          "iopub.execute_input": "2023-06-15T10:20:06.967843Z",
          "iopub.status.busy": "2023-06-15T10:20:06.967529Z",
          "iopub.status.idle": "2023-06-15T10:20:06.987008Z",
          "shell.execute_reply": "2023-06-15T10:20:06.985690Z",
          "shell.execute_reply.started": "2023-06-15T10:20:06.967815Z"
        },
        "trusted": true,
        "id": "b7Gl1tXnk81R"
      },
      "outputs": [],
      "source": [
        "r = s.plot_deseasonalize()"
      ]
    },
    {
      "cell_type": "code",
      "execution_count": 19,
      "metadata": {
        "execution": {
          "iopub.execute_input": "2023-06-15T10:20:06.992986Z",
          "iopub.status.busy": "2023-06-15T10:20:06.992575Z",
          "iopub.status.idle": "2023-06-15T10:20:07.000262Z",
          "shell.execute_reply": "2023-06-15T10:20:06.999043Z",
          "shell.execute_reply.started": "2023-06-15T10:20:06.992953Z"
        },
        "trusted": true,
        "id": "OwCuFPrXk81R"
      },
      "outputs": [],
      "source": [
        "out_to_file(r['data_des'])"
      ]
    },
    {
      "cell_type": "code",
      "execution_count": 20,
      "metadata": {
        "execution": {
          "iopub.execute_input": "2023-06-15T10:20:07.002171Z",
          "iopub.status.busy": "2023-06-15T10:20:07.001700Z",
          "iopub.status.idle": "2023-06-15T10:20:07.017190Z",
          "shell.execute_reply": "2023-06-15T10:20:07.015981Z",
          "shell.execute_reply.started": "2023-06-15T10:20:07.002125Z"
        },
        "trusted": true,
        "colab": {
          "base_uri": "https://localhost:8080/",
          "height": 35
        },
        "id": "HrUUFLuPk81R",
        "outputId": "0ec75425-ffac-4825-8def-2e5a452e36f7"
      },
      "outputs": [
        {
          "output_type": "execute_result",
          "data": {
            "text/plain": [
              "'Original vs Deseasonalized of IPG2211A2N:'"
            ],
            "application/vnd.google.colaboratory.intrinsic+json": {
              "type": "string"
            }
          },
          "metadata": {},
          "execution_count": 20
        }
      ],
      "source": [
        "r['title']"
      ]
    },
    {
      "cell_type": "code",
      "execution_count": 21,
      "metadata": {
        "execution": {
          "iopub.execute_input": "2023-06-15T10:20:07.019284Z",
          "iopub.status.busy": "2023-06-15T10:20:07.018836Z",
          "iopub.status.idle": "2023-06-15T10:20:07.040878Z",
          "shell.execute_reply": "2023-06-15T10:20:07.039691Z",
          "shell.execute_reply.started": "2023-06-15T10:20:07.019246Z"
        },
        "trusted": true,
        "id": "pbUmbWyLk81S"
      },
      "outputs": [],
      "source": [
        "out_to_file(s.plot())"
      ]
    },
    {
      "cell_type": "markdown",
      "metadata": {
        "id": "vH80OZUrk81S"
      },
      "source": [
        "# Stationarity"
      ]
    },
    {
      "cell_type": "code",
      "execution_count": 22,
      "metadata": {
        "execution": {
          "iopub.execute_input": "2023-06-15T10:20:07.042688Z",
          "iopub.status.busy": "2023-06-15T10:20:07.042350Z",
          "iopub.status.idle": "2023-06-15T10:20:07.052630Z",
          "shell.execute_reply": "2023-06-15T10:20:07.051472Z",
          "shell.execute_reply.started": "2023-06-15T10:20:07.042660Z"
        },
        "trusted": true,
        "id": "T3Q6_W0Zk81S"
      },
      "outputs": [],
      "source": [
        "from statsmodels.tsa.stattools import adfuller\n",
        "import matplotlib.pyplot as plt"
      ]
    },
    {
      "cell_type": "code",
      "execution_count": 23,
      "metadata": {
        "execution": {
          "iopub.execute_input": "2023-06-15T10:20:07.054506Z",
          "iopub.status.busy": "2023-06-15T10:20:07.054162Z",
          "iopub.status.idle": "2023-06-15T10:20:07.074832Z",
          "shell.execute_reply": "2023-06-15T10:20:07.073704Z",
          "shell.execute_reply.started": "2023-06-15T10:20:07.054477Z"
        },
        "trusted": true,
        "id": "GNAB446ok81T"
      },
      "outputs": [],
      "source": [
        " class Stationarity:\n",
        "    def __init__(self, df, x, y):\n",
        "        self.df = df\n",
        "        self.x = x\n",
        "        self.y = y\n",
        "\n",
        "    def test_stationarity(self, test = 'adf', show_results = True):\n",
        "        dftest = adfuller(self.df[self.y], autolag = 'AIC')\n",
        "        print(\"1. ADF : \",dftest[0])\n",
        "        print(\"2. P-Value : \", dftest[1])\n",
        "        print(\"3. Num Of Lags : \", dftest[2])\n",
        "        print(\"4. Num Of Observations Used For ADF Regression and Critical Values Calculation :\", dftest[3])\n",
        "        print(\"5. Critical Values :\")\n",
        "        for key, val in dftest[4].items():\n",
        "            print(\"\\t\",key, \": \", val)\n",
        "        if dftest[1] > 0.05:\n",
        "            print(\"\\n\\nAs p-value is outside the confidence interval of 95%, series is non-stationary.\")\n",
        "        else:\n",
        "            print(\"\\n\\nAs p-value is inside the confidence interval of 95%, series is stationary.\")\n",
        "\n",
        "    def make_stationary(self, method = None, rolling = True, window = 12, test = True ):\n",
        "        timeseries = self.df[self.y]\n",
        "        if not method: # only using rolling mean\n",
        "            rolling_mean = timeseries.rolling(window = window).mean()\n",
        "            rolling_mean_diff = rolling_mean - rolling_mean.shift()\n",
        "            transformed = rolling_mean_diff\n",
        "        else:\n",
        "            if method == 'log':\n",
        "                log = pd.Series(np.log(timeseries.values))\n",
        "                if not rolling: # only log transform\n",
        "                    log_diff = log - log.shift()\n",
        "                    transformed = log_diff\n",
        "                if rolling: # log transform and rolling\n",
        "                    rolling_log = log.rolling(window = window).mean()\n",
        "                    diff = rolling_log - rolling_log.shift()\n",
        "                    transformed = diff\n",
        "            elif method == 'power':\n",
        "                power = pd.Series(np.sqrt(timeseries.values))\n",
        "                if not rolling: # only power transform\n",
        "                    power_diff = power - power.shift()\n",
        "                    transformed = power_diff\n",
        "                if rolling: # power transform and rolling\n",
        "                    rolling_power = power.rolling(window = window).mean()\n",
        "                    diff = rolling_power - rolling_power.shift()\n",
        "                    transformed = diff\n",
        "            else:\n",
        "                print(\"Invalid Method\")\n",
        "                return\n",
        "\n",
        "        if test:\n",
        "            p_val = adfuller(transformed.dropna())[1]\n",
        "            if p_val < 0.05:\n",
        "                print(\"p-value: \", p_val, '\\nAs p-value is lesser than 0.05, transformed series is stationary.')\n",
        "            else:\n",
        "                print(\"p-value: \", p_val, '\\nAs p-value is greater than 0.05, transformed series is non-stationary.')\n",
        "        self.transformed = transformed\n",
        "        return transformed.dropna()\n",
        "\n",
        "    def get_transform_plot_params(self):\n",
        "        return {\n",
        "            'title': 'Transformed series',\n",
        "            'data': self.transformed.dropna().values.tolist(),\n",
        "            'x': self.df[self.x].values.tolist()\n",
        "        }\n"
      ]
    },
    {
      "cell_type": "code",
      "execution_count": 24,
      "metadata": {
        "execution": {
          "iopub.execute_input": "2023-06-15T10:20:07.076777Z",
          "iopub.status.busy": "2023-06-15T10:20:07.076394Z",
          "iopub.status.idle": "2023-06-15T10:20:07.092721Z",
          "shell.execute_reply": "2023-06-15T10:20:07.091711Z",
          "shell.execute_reply.started": "2023-06-15T10:20:07.076748Z"
        },
        "trusted": true,
        "id": "9abJ2hyhk81T"
      },
      "outputs": [],
      "source": [
        "s = Stationarity(df, x, y)"
      ]
    },
    {
      "cell_type": "code",
      "execution_count": 25,
      "metadata": {
        "_kg_hide-output": false,
        "execution": {
          "iopub.execute_input": "2023-06-15T10:20:07.095424Z",
          "iopub.status.busy": "2023-06-15T10:20:07.094386Z",
          "iopub.status.idle": "2023-06-15T10:20:07.124239Z",
          "shell.execute_reply": "2023-06-15T10:20:07.122968Z",
          "shell.execute_reply.started": "2023-06-15T10:20:07.095382Z"
        },
        "trusted": true,
        "colab": {
          "base_uri": "https://localhost:8080/"
        },
        "id": "xvQtHAZVk81T",
        "outputId": "693d96cc-3042-4513-f4e1-3a1cf8cd40ca"
      },
      "outputs": [
        {
          "output_type": "stream",
          "name": "stdout",
          "text": [
            "1. ADF :  -2.256990350047235\n",
            "2. P-Value :  0.1862146911658712\n",
            "3. Num Of Lags :  15\n",
            "4. Num Of Observations Used For ADF Regression and Critical Values Calculation : 381\n",
            "5. Critical Values :\n",
            "\t 1% :  -3.4476305904172904\n",
            "\t 5% :  -2.869155980820355\n",
            "\t 10% :  -2.570827146203181\n",
            "\n",
            "\n",
            "As p-value is outside the confidence interval of 95%, series is non-stationary.\n"
          ]
        }
      ],
      "source": [
        "s.test_stationarity()"
      ]
    },
    {
      "cell_type": "code",
      "execution_count": 26,
      "metadata": {
        "_kg_hide-output": false,
        "execution": {
          "iopub.execute_input": "2023-06-15T10:20:07.126716Z",
          "iopub.status.busy": "2023-06-15T10:20:07.125757Z",
          "iopub.status.idle": "2023-06-15T10:20:07.149122Z",
          "shell.execute_reply": "2023-06-15T10:20:07.148022Z",
          "shell.execute_reply.started": "2023-06-15T10:20:07.126673Z"
        },
        "trusted": true,
        "colab": {
          "base_uri": "https://localhost:8080/"
        },
        "id": "pYYZ9zJxk81T",
        "outputId": "072c6ddf-c37a-4c8e-bffe-fe0a69985197"
      },
      "outputs": [
        {
          "output_type": "stream",
          "name": "stdout",
          "text": [
            "p-value:  2.99516149811584e-09 \n",
            "As p-value is lesser than 0.05, transformed series is stationary.\n"
          ]
        }
      ],
      "source": [
        "transformed = s.make_stationary(method = 'log', rolling = False)"
      ]
    },
    {
      "cell_type": "code",
      "execution_count": 27,
      "metadata": {
        "execution": {
          "iopub.execute_input": "2023-06-15T10:20:07.150571Z",
          "iopub.status.busy": "2023-06-15T10:20:07.150277Z",
          "iopub.status.idle": "2023-06-15T10:20:07.157009Z",
          "shell.execute_reply": "2023-06-15T10:20:07.155850Z",
          "shell.execute_reply.started": "2023-06-15T10:20:07.150547Z"
        },
        "trusted": true,
        "id": "QZ6b1fJAk81T"
      },
      "outputs": [],
      "source": [
        "out_to_file(s.get_transform_plot_params())"
      ]
    },
    {
      "cell_type": "code",
      "execution_count": 28,
      "metadata": {
        "execution": {
          "iopub.execute_input": "2023-06-15T10:20:07.158809Z",
          "iopub.status.busy": "2023-06-15T10:20:07.158406Z",
          "iopub.status.idle": "2023-06-15T10:20:07.174817Z",
          "shell.execute_reply": "2023-06-15T10:20:07.173687Z",
          "shell.execute_reply.started": "2023-06-15T10:20:07.158773Z"
        },
        "trusted": true,
        "colab": {
          "base_uri": "https://localhost:8080/"
        },
        "id": "6q5DF2W_k81U",
        "outputId": "260836bd-160e-4b14-e33b-8b6d92e08d12"
      },
      "outputs": [
        {
          "output_type": "execute_result",
          "data": {
            "text/plain": [
              "1     -0.025609\n",
              "2     -0.123680\n",
              "3     -0.083082\n",
              "4     -0.038242\n",
              "5      0.048954\n",
              "         ...   \n",
              "392   -0.099489\n",
              "393   -0.052051\n",
              "394    0.038991\n",
              "395    0.164337\n",
              "396    0.120441\n",
              "Length: 396, dtype: float64"
            ]
          },
          "metadata": {},
          "execution_count": 28
        }
      ],
      "source": [
        "transformed"
      ]
    },
    {
      "cell_type": "markdown",
      "metadata": {
        "id": "FlChtO06k81U"
      },
      "source": [
        "# Autocorrelation/Partial Autocorrelation"
      ]
    },
    {
      "cell_type": "code",
      "execution_count": 29,
      "metadata": {
        "execution": {
          "iopub.execute_input": "2023-06-15T10:20:07.176738Z",
          "iopub.status.busy": "2023-06-15T10:20:07.176307Z",
          "iopub.status.idle": "2023-06-15T10:20:07.188709Z",
          "shell.execute_reply": "2023-06-15T10:20:07.187738Z",
          "shell.execute_reply.started": "2023-06-15T10:20:07.176689Z"
        },
        "trusted": true,
        "id": "T7Y12lzCk81U"
      },
      "outputs": [],
      "source": [
        "from statsmodels.tsa.stattools import acf, pacf\n"
      ]
    },
    {
      "cell_type": "code",
      "execution_count": 30,
      "metadata": {
        "execution": {
          "iopub.execute_input": "2023-06-15T10:20:07.191277Z",
          "iopub.status.busy": "2023-06-15T10:20:07.190189Z",
          "iopub.status.idle": "2023-06-15T10:20:07.202442Z",
          "shell.execute_reply": "2023-06-15T10:20:07.201305Z",
          "shell.execute_reply.started": "2023-06-15T10:20:07.191243Z"
        },
        "trusted": true,
        "id": "SBl0M3y9k81U"
      },
      "outputs": [],
      "source": [
        "class Autocorrelation:\n",
        "    def __init__(self):\n",
        "        self.acf = None\n",
        "\n",
        "    def autocorrelation(self, timeseries, differencing = 1,  n_lags = 20):\n",
        "        diff = timeseries - timeseries.shift()\n",
        "        for i in range(differencing-1):\n",
        "            diff = diff - diff.shift()\n",
        "        self.diff = diff\n",
        "        lag_acf = acf(diff.dropna(), nlags = n_lags)\n",
        "        self.acf = lag_acf\n",
        "\n",
        "        return {\n",
        "            'title': 'Autocorrelation plot: differencing = ' + str(differencing),\n",
        "            'acf_line': lag_acf.tolist(),\n",
        "            'lower': [-1.96/np.sqrt(len(diff))]*len(lag_acf),\n",
        "            'upper': [1.96/np.sqrt(len(diff))]*len(lag_acf),\n",
        "            'zero': [0] * len(lag_acf),\n",
        "            'x':list(range(len(lag_acf)))\n",
        "        }\n",
        "\n",
        "    def estimate_q(self):\n",
        "        if self.acf is not None:\n",
        "            u_conf = 1.96/np.sqrt(len(self.diff))\n",
        "            for i in range(len(self.acf)):\n",
        "                if self.acf[i] > u_conf:\n",
        "                    return i, i+1\n",
        "        else:\n",
        "            print('Run Autocorrelation.autocorrelation() first')\n",
        "\n"
      ]
    },
    {
      "cell_type": "code",
      "execution_count": 31,
      "metadata": {
        "execution": {
          "iopub.execute_input": "2023-06-15T10:20:07.204947Z",
          "iopub.status.busy": "2023-06-15T10:20:07.203719Z",
          "iopub.status.idle": "2023-06-15T10:20:07.219368Z",
          "shell.execute_reply": "2023-06-15T10:20:07.218324Z",
          "shell.execute_reply.started": "2023-06-15T10:20:07.204913Z"
        },
        "trusted": true,
        "id": "T3HlsbUlk81U"
      },
      "outputs": [],
      "source": [
        "a = Autocorrelation()"
      ]
    },
    {
      "cell_type": "code",
      "execution_count": 32,
      "metadata": {
        "execution": {
          "iopub.execute_input": "2023-06-15T10:20:07.221830Z",
          "iopub.status.busy": "2023-06-15T10:20:07.220644Z",
          "iopub.status.idle": "2023-06-15T10:20:07.233801Z",
          "shell.execute_reply": "2023-06-15T10:20:07.232784Z",
          "shell.execute_reply.started": "2023-06-15T10:20:07.221796Z"
        },
        "trusted": true,
        "id": "P0xJyjWUk81U"
      },
      "outputs": [],
      "source": [
        "r = a.autocorrelation(df[y], 2)\n"
      ]
    },
    {
      "cell_type": "code",
      "execution_count": 33,
      "metadata": {
        "execution": {
          "iopub.execute_input": "2023-06-15T10:20:07.235550Z",
          "iopub.status.busy": "2023-06-15T10:20:07.235146Z",
          "iopub.status.idle": "2023-06-15T10:20:07.249810Z",
          "shell.execute_reply": "2023-06-15T10:20:07.248805Z",
          "shell.execute_reply.started": "2023-06-15T10:20:07.235513Z"
        },
        "trusted": true,
        "colab": {
          "base_uri": "https://localhost:8080/"
        },
        "id": "5cYQbvUXk81V",
        "outputId": "cf9677fc-0881-4d75-9399-9ac2cf7f244c"
      },
      "outputs": [
        {
          "output_type": "execute_result",
          "data": {
            "text/plain": [
              "{'title': 'Autocorrelation plot: differencing = 2',\n",
              " 'acf_line': [1.0,\n",
              "  0.1411622037566242,\n",
              "  -0.3506912623537691,\n",
              "  -0.5939346803335253,\n",
              "  -0.32236555140150003,\n",
              "  0.3326666777597377,\n",
              "  0.5861318761195126,\n",
              "  0.3425377256943222,\n",
              "  -0.3213046646719482,\n",
              "  -0.6144148297209099,\n",
              "  -0.3344811434591564,\n",
              "  0.2521866696384259,\n",
              "  0.7976299911758308,\n",
              "  0.19545545495716998,\n",
              "  -0.2967767289690035,\n",
              "  -0.62888939868161,\n",
              "  -0.2991096459816227,\n",
              "  0.34205398442384244,\n",
              "  0.5538361874687246,\n",
              "  0.3299649471441864,\n",
              "  -0.2959812974124281],\n",
              " 'lower': [-0.09836958019278513,\n",
              "  -0.09836958019278513,\n",
              "  -0.09836958019278513,\n",
              "  -0.09836958019278513,\n",
              "  -0.09836958019278513,\n",
              "  -0.09836958019278513,\n",
              "  -0.09836958019278513,\n",
              "  -0.09836958019278513,\n",
              "  -0.09836958019278513,\n",
              "  -0.09836958019278513,\n",
              "  -0.09836958019278513,\n",
              "  -0.09836958019278513,\n",
              "  -0.09836958019278513,\n",
              "  -0.09836958019278513,\n",
              "  -0.09836958019278513,\n",
              "  -0.09836958019278513,\n",
              "  -0.09836958019278513,\n",
              "  -0.09836958019278513,\n",
              "  -0.09836958019278513,\n",
              "  -0.09836958019278513,\n",
              "  -0.09836958019278513],\n",
              " 'upper': [0.09836958019278513,\n",
              "  0.09836958019278513,\n",
              "  0.09836958019278513,\n",
              "  0.09836958019278513,\n",
              "  0.09836958019278513,\n",
              "  0.09836958019278513,\n",
              "  0.09836958019278513,\n",
              "  0.09836958019278513,\n",
              "  0.09836958019278513,\n",
              "  0.09836958019278513,\n",
              "  0.09836958019278513,\n",
              "  0.09836958019278513,\n",
              "  0.09836958019278513,\n",
              "  0.09836958019278513,\n",
              "  0.09836958019278513,\n",
              "  0.09836958019278513,\n",
              "  0.09836958019278513,\n",
              "  0.09836958019278513,\n",
              "  0.09836958019278513,\n",
              "  0.09836958019278513,\n",
              "  0.09836958019278513],\n",
              " 'zero': [0, 0, 0, 0, 0, 0, 0, 0, 0, 0, 0, 0, 0, 0, 0, 0, 0, 0, 0, 0, 0],\n",
              " 'x': [0,\n",
              "  1,\n",
              "  2,\n",
              "  3,\n",
              "  4,\n",
              "  5,\n",
              "  6,\n",
              "  7,\n",
              "  8,\n",
              "  9,\n",
              "  10,\n",
              "  11,\n",
              "  12,\n",
              "  13,\n",
              "  14,\n",
              "  15,\n",
              "  16,\n",
              "  17,\n",
              "  18,\n",
              "  19,\n",
              "  20]}"
            ]
          },
          "metadata": {},
          "execution_count": 33
        }
      ],
      "source": [
        "r"
      ]
    },
    {
      "cell_type": "code",
      "execution_count": 34,
      "metadata": {
        "execution": {
          "iopub.execute_input": "2023-06-15T10:20:07.251938Z",
          "iopub.status.busy": "2023-06-15T10:20:07.251520Z",
          "iopub.status.idle": "2023-06-15T10:20:07.267693Z",
          "shell.execute_reply": "2023-06-15T10:20:07.266959Z",
          "shell.execute_reply.started": "2023-06-15T10:20:07.251885Z"
        },
        "trusted": true,
        "colab": {
          "base_uri": "https://localhost:8080/"
        },
        "id": "2V7gv7sik81V",
        "outputId": "af88bd13-be58-4246-b3f3-d115e8c0de1a"
      },
      "outputs": [
        {
          "output_type": "execute_result",
          "data": {
            "text/plain": [
              "(0, 1)"
            ]
          },
          "metadata": {},
          "execution_count": 34
        }
      ],
      "source": [
        "a.estimate_q()"
      ]
    },
    {
      "cell_type": "code",
      "execution_count": 35,
      "metadata": {
        "execution": {
          "iopub.execute_input": "2023-06-15T10:20:07.269862Z",
          "iopub.status.busy": "2023-06-15T10:20:07.268724Z",
          "iopub.status.idle": "2023-06-15T10:20:07.285021Z",
          "shell.execute_reply": "2023-06-15T10:20:07.283939Z",
          "shell.execute_reply.started": "2023-06-15T10:20:07.269824Z"
        },
        "trusted": true,
        "id": "wo7ZUaUMk81V"
      },
      "outputs": [],
      "source": [
        "class PartialAutocorrelation:\n",
        "    def __init__(self):\n",
        "        self.pacf = None\n",
        "\n",
        "    def partial_autocorrelation(self, timeseries, differencing = 1,  n_lags = 20):\n",
        "        diff = timeseries - timeseries.shift()\n",
        "        for i in range(differencing-1):\n",
        "            diff = diff - diff.shift()\n",
        "        self.diff = diff\n",
        "        lag_pacf = pacf(diff.dropna(), nlags = n_lags)\n",
        "        self.pacf = lag_pacf\n",
        "\n",
        "        return {\n",
        "            'title': 'Partial autocorrelation plot: differencing = ' + str(differencing),\n",
        "            'pacf_line': lag_pacf.tolist(),\n",
        "            'lower': [-1.96/np.sqrt(len(diff))]*len(lag_pacf),\n",
        "            'upper': [1.96/np.sqrt(len(diff))]*len(lag_pacf),\n",
        "            'zero': [0] * len(lag_pacf),\n",
        "            'x':list(range(len(lag_pacf)))\n",
        "        }\n",
        "\n",
        "    def estimate_p(self):\n",
        "        if self.pacf is not None:\n",
        "            u_conf = 1.96/np.sqrt(len(self.diff))\n",
        "            for i in range(len(self.pacf)):\n",
        "                if self.pacf[i] > u_conf:\n",
        "                    return i,i+1\n",
        "        else:\n",
        "            print('Run PartialAutocorrelation.partial_autocorrelation() first.')\n",
        "\n"
      ]
    },
    {
      "cell_type": "code",
      "execution_count": 36,
      "metadata": {
        "execution": {
          "iopub.execute_input": "2023-06-15T10:20:07.287292Z",
          "iopub.status.busy": "2023-06-15T10:20:07.286186Z",
          "iopub.status.idle": "2023-06-15T10:20:07.303155Z",
          "shell.execute_reply": "2023-06-15T10:20:07.301972Z",
          "shell.execute_reply.started": "2023-06-15T10:20:07.287255Z"
        },
        "trusted": true,
        "id": "PDSTlU3Sk81W"
      },
      "outputs": [],
      "source": [
        "p = PartialAutocorrelation()"
      ]
    },
    {
      "cell_type": "code",
      "execution_count": 37,
      "metadata": {
        "execution": {
          "iopub.execute_input": "2023-06-15T10:20:07.305574Z",
          "iopub.status.busy": "2023-06-15T10:20:07.304862Z",
          "iopub.status.idle": "2023-06-15T10:20:07.328012Z",
          "shell.execute_reply": "2023-06-15T10:20:07.326191Z",
          "shell.execute_reply.started": "2023-06-15T10:20:07.305544Z"
        },
        "trusted": true,
        "id": "D2AGH4phk81W"
      },
      "outputs": [],
      "source": [
        "r = p.partial_autocorrelation(df[y], 2)\n"
      ]
    },
    {
      "cell_type": "code",
      "execution_count": 38,
      "metadata": {
        "execution": {
          "iopub.execute_input": "2023-06-15T10:20:07.331004Z",
          "iopub.status.busy": "2023-06-15T10:20:07.330013Z",
          "iopub.status.idle": "2023-06-15T10:20:07.348726Z",
          "shell.execute_reply": "2023-06-15T10:20:07.347407Z",
          "shell.execute_reply.started": "2023-06-15T10:20:07.330951Z"
        },
        "trusted": true,
        "colab": {
          "base_uri": "https://localhost:8080/"
        },
        "id": "C5mmA5sOk81X",
        "outputId": "77e0685c-08f3-4263-b7d4-2b1f6987249e"
      },
      "outputs": [
        {
          "output_type": "execute_result",
          "data": {
            "text/plain": [
              "{'title': 'Partial autocorrelation plot: differencing = 2',\n",
              " 'pacf_line': [1.0,\n",
              "  0.14152048346159024,\n",
              "  -0.38011699916674113,\n",
              "  -0.5675752833543098,\n",
              "  -0.6202262497325182,\n",
              "  -0.46386406066299607,\n",
              "  -0.34387125826082926,\n",
              "  0.03713478948095655,\n",
              "  0.12295898612299648,\n",
              "  0.05908510134569242,\n",
              "  -0.23842870560964463,\n",
              "  -0.6152343514011195,\n",
              "  -0.010118084199097419,\n",
              "  0.023070755569447307,\n",
              "  0.3058291393802428,\n",
              "  0.13118928660405232,\n",
              "  0.011172899035687443,\n",
              "  0.013949247278306206,\n",
              "  -0.06854513640998189,\n",
              "  -0.073647210698203,\n",
              "  0.04709648914552571],\n",
              " 'lower': [-0.09836958019278513,\n",
              "  -0.09836958019278513,\n",
              "  -0.09836958019278513,\n",
              "  -0.09836958019278513,\n",
              "  -0.09836958019278513,\n",
              "  -0.09836958019278513,\n",
              "  -0.09836958019278513,\n",
              "  -0.09836958019278513,\n",
              "  -0.09836958019278513,\n",
              "  -0.09836958019278513,\n",
              "  -0.09836958019278513,\n",
              "  -0.09836958019278513,\n",
              "  -0.09836958019278513,\n",
              "  -0.09836958019278513,\n",
              "  -0.09836958019278513,\n",
              "  -0.09836958019278513,\n",
              "  -0.09836958019278513,\n",
              "  -0.09836958019278513,\n",
              "  -0.09836958019278513,\n",
              "  -0.09836958019278513,\n",
              "  -0.09836958019278513],\n",
              " 'upper': [0.09836958019278513,\n",
              "  0.09836958019278513,\n",
              "  0.09836958019278513,\n",
              "  0.09836958019278513,\n",
              "  0.09836958019278513,\n",
              "  0.09836958019278513,\n",
              "  0.09836958019278513,\n",
              "  0.09836958019278513,\n",
              "  0.09836958019278513,\n",
              "  0.09836958019278513,\n",
              "  0.09836958019278513,\n",
              "  0.09836958019278513,\n",
              "  0.09836958019278513,\n",
              "  0.09836958019278513,\n",
              "  0.09836958019278513,\n",
              "  0.09836958019278513,\n",
              "  0.09836958019278513,\n",
              "  0.09836958019278513,\n",
              "  0.09836958019278513,\n",
              "  0.09836958019278513,\n",
              "  0.09836958019278513],\n",
              " 'zero': [0, 0, 0, 0, 0, 0, 0, 0, 0, 0, 0, 0, 0, 0, 0, 0, 0, 0, 0, 0, 0],\n",
              " 'x': [0,\n",
              "  1,\n",
              "  2,\n",
              "  3,\n",
              "  4,\n",
              "  5,\n",
              "  6,\n",
              "  7,\n",
              "  8,\n",
              "  9,\n",
              "  10,\n",
              "  11,\n",
              "  12,\n",
              "  13,\n",
              "  14,\n",
              "  15,\n",
              "  16,\n",
              "  17,\n",
              "  18,\n",
              "  19,\n",
              "  20]}"
            ]
          },
          "metadata": {},
          "execution_count": 38
        }
      ],
      "source": [
        "r"
      ]
    },
    {
      "cell_type": "markdown",
      "metadata": {
        "id": "yG4KfB1ak81X"
      },
      "source": [
        "### Plots are in echarts plots folder"
      ]
    },
    {
      "cell_type": "code",
      "execution_count": 39,
      "metadata": {
        "execution": {
          "iopub.execute_input": "2023-06-15T10:20:07.352056Z",
          "iopub.status.busy": "2023-06-15T10:20:07.350581Z",
          "iopub.status.idle": "2023-06-15T10:20:07.366193Z",
          "shell.execute_reply": "2023-06-15T10:20:07.364546Z",
          "shell.execute_reply.started": "2023-06-15T10:20:07.352001Z"
        },
        "trusted": true,
        "colab": {
          "base_uri": "https://localhost:8080/"
        },
        "id": "dGH-vnnik81X",
        "outputId": "f240535e-1647-4319-a127-d92559130762"
      },
      "outputs": [
        {
          "output_type": "execute_result",
          "data": {
            "text/plain": [
              "(0, 1)"
            ]
          },
          "metadata": {},
          "execution_count": 39
        }
      ],
      "source": [
        "p.estimate_p()"
      ]
    },
    {
      "cell_type": "markdown",
      "metadata": {
        "id": "KNGgipeHk81X"
      },
      "source": [
        "# Cross Correlation"
      ]
    },
    {
      "cell_type": "code",
      "execution_count": 40,
      "metadata": {
        "execution": {
          "iopub.execute_input": "2023-06-15T10:20:07.372348Z",
          "iopub.status.busy": "2023-06-15T10:20:07.370502Z",
          "iopub.status.idle": "2023-06-15T10:20:07.382375Z",
          "shell.execute_reply": "2023-06-15T10:20:07.380959Z",
          "shell.execute_reply.started": "2023-06-15T10:20:07.372292Z"
        },
        "trusted": true,
        "id": "-wNvv1hbk81X"
      },
      "outputs": [],
      "source": [
        "from statsmodels.tsa.stattools import ccf"
      ]
    },
    {
      "cell_type": "code",
      "execution_count": 41,
      "metadata": {
        "execution": {
          "iopub.execute_input": "2023-06-15T10:20:07.386139Z",
          "iopub.status.busy": "2023-06-15T10:20:07.384927Z",
          "iopub.status.idle": "2023-06-15T10:20:07.402506Z",
          "shell.execute_reply": "2023-06-15T10:20:07.400663Z",
          "shell.execute_reply.started": "2023-06-15T10:20:07.386080Z"
        },
        "trusted": true,
        "id": "pJLXzL-Gk81Y"
      },
      "outputs": [],
      "source": [
        "class CrossCorrelation:\n",
        "    def __init__(self, series1, series2, x):\n",
        "        self.series1 = series1\n",
        "        self.series2 = series2\n",
        "        self.time = x\n",
        "\n",
        "    def cross_correlation(self, lag):\n",
        "        corr = ccf(self.series1.values.tolist(), self.series2.values.tolist(), adjusted = False)\n",
        "        self.ccf = corr\n",
        "        return corr[lag]\n",
        "\n",
        "    def plot(self):\n",
        "        return {\n",
        "            'legend': [self.series1.name,self.series2.name],\n",
        "            1: self.series1.values.tolist(),\n",
        "            2: self.series2.values.tolist(),\n",
        "            'x': self.time.values.tolist()\n",
        "        }\n",
        "\n",
        "    def summary(self):\n",
        "#         pd.Series(self.ccf).plot()\n",
        "        print(\"Max positive correlation is\", max(self.ccf) ,\"at lag = \", np.argmax(self.ccf), \"\\nMax negative correlation is\",min(self.ccf) ,\" at lag = \", np.argmin(self.ccf))\n"
      ]
    },
    {
      "cell_type": "code",
      "execution_count": 42,
      "metadata": {
        "execution": {
          "iopub.execute_input": "2023-06-15T10:20:07.404761Z",
          "iopub.status.busy": "2023-06-15T10:20:07.404215Z",
          "iopub.status.idle": "2023-06-15T10:20:07.450965Z",
          "shell.execute_reply": "2023-06-15T10:20:07.449888Z",
          "shell.execute_reply.started": "2023-06-15T10:20:07.404711Z"
        },
        "trusted": true,
        "colab": {
          "base_uri": "https://localhost:8080/",
          "height": 206
        },
        "id": "JDNXJYP_k81Y",
        "outputId": "cb9775fa-bd32-42c1-b2b2-2a811aaa1d0a"
      },
      "outputs": [
        {
          "output_type": "execute_result",
          "data": {
            "text/plain": [
              "         date   meantemp   humidity  wind_speed  meanpressure\n",
              "0  2013-01-01  10.000000  84.500000    0.000000   1015.666667\n",
              "1  2013-01-02   7.400000  92.000000    2.980000   1017.800000\n",
              "2  2013-01-03   7.166667  87.000000    4.633333   1018.666667\n",
              "3  2013-01-04   8.666667  71.333333    1.233333   1017.166667\n",
              "4  2013-01-05   6.000000  86.833333    3.700000   1016.500000"
            ],
            "text/html": [
              "\n",
              "  <div id=\"df-77460b01-24a4-4820-b210-4cc1c6c03926\">\n",
              "    <div class=\"colab-df-container\">\n",
              "      <div>\n",
              "<style scoped>\n",
              "    .dataframe tbody tr th:only-of-type {\n",
              "        vertical-align: middle;\n",
              "    }\n",
              "\n",
              "    .dataframe tbody tr th {\n",
              "        vertical-align: top;\n",
              "    }\n",
              "\n",
              "    .dataframe thead th {\n",
              "        text-align: right;\n",
              "    }\n",
              "</style>\n",
              "<table border=\"1\" class=\"dataframe\">\n",
              "  <thead>\n",
              "    <tr style=\"text-align: right;\">\n",
              "      <th></th>\n",
              "      <th>date</th>\n",
              "      <th>meantemp</th>\n",
              "      <th>humidity</th>\n",
              "      <th>wind_speed</th>\n",
              "      <th>meanpressure</th>\n",
              "    </tr>\n",
              "  </thead>\n",
              "  <tbody>\n",
              "    <tr>\n",
              "      <th>0</th>\n",
              "      <td>2013-01-01</td>\n",
              "      <td>10.000000</td>\n",
              "      <td>84.500000</td>\n",
              "      <td>0.000000</td>\n",
              "      <td>1015.666667</td>\n",
              "    </tr>\n",
              "    <tr>\n",
              "      <th>1</th>\n",
              "      <td>2013-01-02</td>\n",
              "      <td>7.400000</td>\n",
              "      <td>92.000000</td>\n",
              "      <td>2.980000</td>\n",
              "      <td>1017.800000</td>\n",
              "    </tr>\n",
              "    <tr>\n",
              "      <th>2</th>\n",
              "      <td>2013-01-03</td>\n",
              "      <td>7.166667</td>\n",
              "      <td>87.000000</td>\n",
              "      <td>4.633333</td>\n",
              "      <td>1018.666667</td>\n",
              "    </tr>\n",
              "    <tr>\n",
              "      <th>3</th>\n",
              "      <td>2013-01-04</td>\n",
              "      <td>8.666667</td>\n",
              "      <td>71.333333</td>\n",
              "      <td>1.233333</td>\n",
              "      <td>1017.166667</td>\n",
              "    </tr>\n",
              "    <tr>\n",
              "      <th>4</th>\n",
              "      <td>2013-01-05</td>\n",
              "      <td>6.000000</td>\n",
              "      <td>86.833333</td>\n",
              "      <td>3.700000</td>\n",
              "      <td>1016.500000</td>\n",
              "    </tr>\n",
              "  </tbody>\n",
              "</table>\n",
              "</div>\n",
              "      <button class=\"colab-df-convert\" onclick=\"convertToInteractive('df-77460b01-24a4-4820-b210-4cc1c6c03926')\"\n",
              "              title=\"Convert this dataframe to an interactive table.\"\n",
              "              style=\"display:none;\">\n",
              "        \n",
              "  <svg xmlns=\"http://www.w3.org/2000/svg\" height=\"24px\"viewBox=\"0 0 24 24\"\n",
              "       width=\"24px\">\n",
              "    <path d=\"M0 0h24v24H0V0z\" fill=\"none\"/>\n",
              "    <path d=\"M18.56 5.44l.94 2.06.94-2.06 2.06-.94-2.06-.94-.94-2.06-.94 2.06-2.06.94zm-11 1L8.5 8.5l.94-2.06 2.06-.94-2.06-.94L8.5 2.5l-.94 2.06-2.06.94zm10 10l.94 2.06.94-2.06 2.06-.94-2.06-.94-.94-2.06-.94 2.06-2.06.94z\"/><path d=\"M17.41 7.96l-1.37-1.37c-.4-.4-.92-.59-1.43-.59-.52 0-1.04.2-1.43.59L10.3 9.45l-7.72 7.72c-.78.78-.78 2.05 0 2.83L4 21.41c.39.39.9.59 1.41.59.51 0 1.02-.2 1.41-.59l7.78-7.78 2.81-2.81c.8-.78.8-2.07 0-2.86zM5.41 20L4 18.59l7.72-7.72 1.47 1.35L5.41 20z\"/>\n",
              "  </svg>\n",
              "      </button>\n",
              "      \n",
              "  <style>\n",
              "    .colab-df-container {\n",
              "      display:flex;\n",
              "      flex-wrap:wrap;\n",
              "      gap: 12px;\n",
              "    }\n",
              "\n",
              "    .colab-df-convert {\n",
              "      background-color: #E8F0FE;\n",
              "      border: none;\n",
              "      border-radius: 50%;\n",
              "      cursor: pointer;\n",
              "      display: none;\n",
              "      fill: #1967D2;\n",
              "      height: 32px;\n",
              "      padding: 0 0 0 0;\n",
              "      width: 32px;\n",
              "    }\n",
              "\n",
              "    .colab-df-convert:hover {\n",
              "      background-color: #E2EBFA;\n",
              "      box-shadow: 0px 1px 2px rgba(60, 64, 67, 0.3), 0px 1px 3px 1px rgba(60, 64, 67, 0.15);\n",
              "      fill: #174EA6;\n",
              "    }\n",
              "\n",
              "    [theme=dark] .colab-df-convert {\n",
              "      background-color: #3B4455;\n",
              "      fill: #D2E3FC;\n",
              "    }\n",
              "\n",
              "    [theme=dark] .colab-df-convert:hover {\n",
              "      background-color: #434B5C;\n",
              "      box-shadow: 0px 1px 3px 1px rgba(0, 0, 0, 0.15);\n",
              "      filter: drop-shadow(0px 1px 2px rgba(0, 0, 0, 0.3));\n",
              "      fill: #FFFFFF;\n",
              "    }\n",
              "  </style>\n",
              "\n",
              "      <script>\n",
              "        const buttonEl =\n",
              "          document.querySelector('#df-77460b01-24a4-4820-b210-4cc1c6c03926 button.colab-df-convert');\n",
              "        buttonEl.style.display =\n",
              "          google.colab.kernel.accessAllowed ? 'block' : 'none';\n",
              "\n",
              "        async function convertToInteractive(key) {\n",
              "          const element = document.querySelector('#df-77460b01-24a4-4820-b210-4cc1c6c03926');\n",
              "          const dataTable =\n",
              "            await google.colab.kernel.invokeFunction('convertToInteractive',\n",
              "                                                     [key], {});\n",
              "          if (!dataTable) return;\n",
              "\n",
              "          const docLinkHtml = 'Like what you see? Visit the ' +\n",
              "            '<a target=\"_blank\" href=https://colab.research.google.com/notebooks/data_table.ipynb>data table notebook</a>'\n",
              "            + ' to learn more about interactive tables.';\n",
              "          element.innerHTML = '';\n",
              "          dataTable['output_type'] = 'display_data';\n",
              "          await google.colab.output.renderOutput(dataTable, element);\n",
              "          const docLink = document.createElement('div');\n",
              "          docLink.innerHTML = docLinkHtml;\n",
              "          element.appendChild(docLink);\n",
              "        }\n",
              "      </script>\n",
              "    </div>\n",
              "  </div>\n",
              "  "
            ]
          },
          "metadata": {},
          "execution_count": 42
        }
      ],
      "source": [
        "df1 = pd.read_csv('/content/drive/MyDrive/data/3/DailyDelhiClimateTrain.csv')\n",
        "df1.head()"
      ]
    },
    {
      "cell_type": "code",
      "execution_count": 43,
      "metadata": {
        "execution": {
          "iopub.execute_input": "2023-06-15T10:20:07.453453Z",
          "iopub.status.busy": "2023-06-15T10:20:07.452452Z",
          "iopub.status.idle": "2023-06-15T10:20:07.458507Z",
          "shell.execute_reply": "2023-06-15T10:20:07.457466Z",
          "shell.execute_reply.started": "2023-06-15T10:20:07.453419Z"
        },
        "trusted": true,
        "id": "7fpZGrmHk81Y"
      },
      "outputs": [],
      "source": [
        "c = CrossCorrelation(df1['meantemp'], df1['wind_speed'], df1['date'])"
      ]
    },
    {
      "cell_type": "code",
      "execution_count": 44,
      "metadata": {
        "execution": {
          "iopub.execute_input": "2023-06-15T10:20:07.460876Z",
          "iopub.status.busy": "2023-06-15T10:20:07.460202Z",
          "iopub.status.idle": "2023-06-15T10:20:07.476026Z",
          "shell.execute_reply": "2023-06-15T10:20:07.474920Z",
          "shell.execute_reply.started": "2023-06-15T10:20:07.460838Z"
        },
        "trusted": true,
        "colab": {
          "base_uri": "https://localhost:8080/"
        },
        "id": "_a0uOxgkk81Y",
        "outputId": "cb06bcea-8900-49a3-e40e-9acbc9de4771"
      },
      "outputs": [
        {
          "output_type": "execute_result",
          "data": {
            "text/plain": [
              "0.286651637297374"
            ]
          },
          "metadata": {},
          "execution_count": 44
        }
      ],
      "source": [
        "c.cross_correlation(2)"
      ]
    },
    {
      "cell_type": "code",
      "execution_count": 45,
      "metadata": {
        "execution": {
          "iopub.execute_input": "2023-06-15T10:20:07.478677Z",
          "iopub.status.busy": "2023-06-15T10:20:07.477952Z",
          "iopub.status.idle": "2023-06-15T10:20:07.489670Z",
          "shell.execute_reply": "2023-06-15T10:20:07.488286Z",
          "shell.execute_reply.started": "2023-06-15T10:20:07.478637Z"
        },
        "trusted": true,
        "colab": {
          "base_uri": "https://localhost:8080/"
        },
        "id": "I9MSvS6gk81Y",
        "outputId": "fbe9ac99-3c4e-4c4d-8828-cd53e1272559"
      },
      "outputs": [
        {
          "output_type": "execute_result",
          "data": {
            "text/plain": [
              "array([0.30646771, 0.28575463, 0.28665164, ..., 0.00308486, 0.00265996,\n",
              "       0.00215235])"
            ]
          },
          "metadata": {},
          "execution_count": 45
        }
      ],
      "source": [
        "c.ccf"
      ]
    },
    {
      "cell_type": "code",
      "execution_count": 46,
      "metadata": {
        "execution": {
          "iopub.execute_input": "2023-06-15T10:20:07.498610Z",
          "iopub.status.busy": "2023-06-15T10:20:07.497574Z",
          "iopub.status.idle": "2023-06-15T10:20:07.504495Z",
          "shell.execute_reply": "2023-06-15T10:20:07.503338Z",
          "shell.execute_reply.started": "2023-06-15T10:20:07.498576Z"
        },
        "trusted": true,
        "colab": {
          "base_uri": "https://localhost:8080/"
        },
        "id": "MJ52Rip-k81Z",
        "outputId": "55468a5d-9125-4b83-fce4-05dbd73b93f5"
      },
      "outputs": [
        {
          "output_type": "stream",
          "name": "stdout",
          "text": [
            "Max positive correlation is 0.3604581818502781 at lag =  43 \n",
            "Max negative correlation is -0.3137025644131462  at lag =  216\n"
          ]
        }
      ],
      "source": [
        "c.summary()"
      ]
    },
    {
      "cell_type": "code",
      "execution_count": 47,
      "metadata": {
        "execution": {
          "iopub.execute_input": "2023-06-15T10:20:07.506582Z",
          "iopub.status.busy": "2023-06-15T10:20:07.505857Z",
          "iopub.status.idle": "2023-06-15T10:20:07.520882Z",
          "shell.execute_reply": "2023-06-15T10:20:07.519805Z",
          "shell.execute_reply.started": "2023-06-15T10:20:07.506543Z"
        },
        "trusted": true,
        "id": "ZQtH-UXYk81Z"
      },
      "outputs": [],
      "source": [
        "out_to_file(c.plot()[2])"
      ]
    },
    {
      "cell_type": "code",
      "execution_count": 48,
      "metadata": {
        "colab": {
          "base_uri": "https://localhost:8080/"
        },
        "id": "qqBkp2fxk81Z",
        "outputId": "1757e3b1-b652-4a3c-da8f-d38c3aeca896"
      },
      "outputs": [
        {
          "output_type": "execute_result",
          "data": {
            "text/plain": [
              "['meantemp', 'wind_speed']"
            ]
          },
          "metadata": {},
          "execution_count": 48
        }
      ],
      "source": [
        "c.plot()['legend']"
      ]
    },
    {
      "cell_type": "markdown",
      "source": [
        "# Granger Causality Test"
      ],
      "metadata": {
        "id": "V9sasE3PozYM"
      }
    },
    {
      "cell_type": "code",
      "source": [
        "from statsmodels.tsa.stattools import grangercausalitytests"
      ],
      "metadata": {
        "id": "tOcBJkYSo8j2"
      },
      "execution_count": 49,
      "outputs": []
    },
    {
      "cell_type": "code",
      "source": [
        "def granger_causality_matrix(data, variables, maxlag = 12, test='ssr_chi2test', verbose=False, summary = False):\n",
        "    df = pd.DataFrame(np.zeros((len(variables), len(variables))), columns=variables, index=variables)\n",
        "    for c in df.columns:\n",
        "        for r in df.index:\n",
        "            test_result = grangercausalitytests(data[[r, c]], maxlag=maxlag, verbose=False)\n",
        "            p_values = [round(test_result[i+1][0][test][1],4) for i in range(maxlag)]\n",
        "            if verbose: print(f'Y = {r}, X = {c}, P Values = {p_values}')\n",
        "            min_p_value = np.min(p_values)\n",
        "            df.loc[r, c] = min_p_value\n",
        "    df.columns = [var + '_x' for var in variables]\n",
        "    df.index = [var + '_y' for var in variables]\n",
        "    if summary:\n",
        "      array = df.values\n",
        "      for i in range(len(array)):\n",
        "        for j in range(len(array[i])):\n",
        "          if array[i][j] < 0.05:\n",
        "            print(df.columns[j][:-2], \" \\\"granger causes\\\" \", df.index[i][:-2], \" with p-value of \", array[i][j], \".\\n\", sep = \"\")\n",
        "    return df"
      ],
      "metadata": {
        "id": "zhqYcg9No2BA"
      },
      "execution_count": 50,
      "outputs": []
    },
    {
      "cell_type": "code",
      "source": [
        "granger_causality_matrix(df1, ['meantemp', 'meanpressure', 'wind_speed', 'humidity'], summary = True)"
      ],
      "metadata": {
        "colab": {
          "base_uri": "https://localhost:8080/",
          "height": 436
        },
        "id": "SpkRgXXxpH1u",
        "outputId": "77d42dd0-c873-44ca-fb7d-7d7d1441b9c3"
      },
      "execution_count": 51,
      "outputs": [
        {
          "output_type": "stream",
          "name": "stdout",
          "text": [
            "wind_speed \"granger causes\" meantemp with p-value of 0.0005.\n",
            "\n",
            "humidity \"granger causes\" meantemp with p-value of 0.0038.\n",
            "\n",
            "meantemp \"granger causes\" meanpressure with p-value of 0.0063.\n",
            "\n",
            "wind_speed \"granger causes\" meanpressure with p-value of 0.0425.\n",
            "\n",
            "meantemp \"granger causes\" wind_speed with p-value of 0.0.\n",
            "\n",
            "humidity \"granger causes\" wind_speed with p-value of 0.0.\n",
            "\n",
            "meantemp \"granger causes\" humidity with p-value of 0.0.\n",
            "\n"
          ]
        },
        {
          "output_type": "execute_result",
          "data": {
            "text/plain": [
              "                meantemp_x  meanpressure_x  wind_speed_x  humidity_x\n",
              "meantemp_y          1.0000          0.2201        0.0005      0.0038\n",
              "meanpressure_y      0.0063          1.0000        0.0425      0.4364\n",
              "wind_speed_y        0.0000          0.5229        1.0000      0.0000\n",
              "humidity_y          0.0000          0.1505        0.1332      1.0000"
            ],
            "text/html": [
              "\n",
              "  <div id=\"df-3f439141-f05c-4422-9716-e9cae4d7dcf8\">\n",
              "    <div class=\"colab-df-container\">\n",
              "      <div>\n",
              "<style scoped>\n",
              "    .dataframe tbody tr th:only-of-type {\n",
              "        vertical-align: middle;\n",
              "    }\n",
              "\n",
              "    .dataframe tbody tr th {\n",
              "        vertical-align: top;\n",
              "    }\n",
              "\n",
              "    .dataframe thead th {\n",
              "        text-align: right;\n",
              "    }\n",
              "</style>\n",
              "<table border=\"1\" class=\"dataframe\">\n",
              "  <thead>\n",
              "    <tr style=\"text-align: right;\">\n",
              "      <th></th>\n",
              "      <th>meantemp_x</th>\n",
              "      <th>meanpressure_x</th>\n",
              "      <th>wind_speed_x</th>\n",
              "      <th>humidity_x</th>\n",
              "    </tr>\n",
              "  </thead>\n",
              "  <tbody>\n",
              "    <tr>\n",
              "      <th>meantemp_y</th>\n",
              "      <td>1.0000</td>\n",
              "      <td>0.2201</td>\n",
              "      <td>0.0005</td>\n",
              "      <td>0.0038</td>\n",
              "    </tr>\n",
              "    <tr>\n",
              "      <th>meanpressure_y</th>\n",
              "      <td>0.0063</td>\n",
              "      <td>1.0000</td>\n",
              "      <td>0.0425</td>\n",
              "      <td>0.4364</td>\n",
              "    </tr>\n",
              "    <tr>\n",
              "      <th>wind_speed_y</th>\n",
              "      <td>0.0000</td>\n",
              "      <td>0.5229</td>\n",
              "      <td>1.0000</td>\n",
              "      <td>0.0000</td>\n",
              "    </tr>\n",
              "    <tr>\n",
              "      <th>humidity_y</th>\n",
              "      <td>0.0000</td>\n",
              "      <td>0.1505</td>\n",
              "      <td>0.1332</td>\n",
              "      <td>1.0000</td>\n",
              "    </tr>\n",
              "  </tbody>\n",
              "</table>\n",
              "</div>\n",
              "      <button class=\"colab-df-convert\" onclick=\"convertToInteractive('df-3f439141-f05c-4422-9716-e9cae4d7dcf8')\"\n",
              "              title=\"Convert this dataframe to an interactive table.\"\n",
              "              style=\"display:none;\">\n",
              "        \n",
              "  <svg xmlns=\"http://www.w3.org/2000/svg\" height=\"24px\"viewBox=\"0 0 24 24\"\n",
              "       width=\"24px\">\n",
              "    <path d=\"M0 0h24v24H0V0z\" fill=\"none\"/>\n",
              "    <path d=\"M18.56 5.44l.94 2.06.94-2.06 2.06-.94-2.06-.94-.94-2.06-.94 2.06-2.06.94zm-11 1L8.5 8.5l.94-2.06 2.06-.94-2.06-.94L8.5 2.5l-.94 2.06-2.06.94zm10 10l.94 2.06.94-2.06 2.06-.94-2.06-.94-.94-2.06-.94 2.06-2.06.94z\"/><path d=\"M17.41 7.96l-1.37-1.37c-.4-.4-.92-.59-1.43-.59-.52 0-1.04.2-1.43.59L10.3 9.45l-7.72 7.72c-.78.78-.78 2.05 0 2.83L4 21.41c.39.39.9.59 1.41.59.51 0 1.02-.2 1.41-.59l7.78-7.78 2.81-2.81c.8-.78.8-2.07 0-2.86zM5.41 20L4 18.59l7.72-7.72 1.47 1.35L5.41 20z\"/>\n",
              "  </svg>\n",
              "      </button>\n",
              "      \n",
              "  <style>\n",
              "    .colab-df-container {\n",
              "      display:flex;\n",
              "      flex-wrap:wrap;\n",
              "      gap: 12px;\n",
              "    }\n",
              "\n",
              "    .colab-df-convert {\n",
              "      background-color: #E8F0FE;\n",
              "      border: none;\n",
              "      border-radius: 50%;\n",
              "      cursor: pointer;\n",
              "      display: none;\n",
              "      fill: #1967D2;\n",
              "      height: 32px;\n",
              "      padding: 0 0 0 0;\n",
              "      width: 32px;\n",
              "    }\n",
              "\n",
              "    .colab-df-convert:hover {\n",
              "      background-color: #E2EBFA;\n",
              "      box-shadow: 0px 1px 2px rgba(60, 64, 67, 0.3), 0px 1px 3px 1px rgba(60, 64, 67, 0.15);\n",
              "      fill: #174EA6;\n",
              "    }\n",
              "\n",
              "    [theme=dark] .colab-df-convert {\n",
              "      background-color: #3B4455;\n",
              "      fill: #D2E3FC;\n",
              "    }\n",
              "\n",
              "    [theme=dark] .colab-df-convert:hover {\n",
              "      background-color: #434B5C;\n",
              "      box-shadow: 0px 1px 3px 1px rgba(0, 0, 0, 0.15);\n",
              "      filter: drop-shadow(0px 1px 2px rgba(0, 0, 0, 0.3));\n",
              "      fill: #FFFFFF;\n",
              "    }\n",
              "  </style>\n",
              "\n",
              "      <script>\n",
              "        const buttonEl =\n",
              "          document.querySelector('#df-3f439141-f05c-4422-9716-e9cae4d7dcf8 button.colab-df-convert');\n",
              "        buttonEl.style.display =\n",
              "          google.colab.kernel.accessAllowed ? 'block' : 'none';\n",
              "\n",
              "        async function convertToInteractive(key) {\n",
              "          const element = document.querySelector('#df-3f439141-f05c-4422-9716-e9cae4d7dcf8');\n",
              "          const dataTable =\n",
              "            await google.colab.kernel.invokeFunction('convertToInteractive',\n",
              "                                                     [key], {});\n",
              "          if (!dataTable) return;\n",
              "\n",
              "          const docLinkHtml = 'Like what you see? Visit the ' +\n",
              "            '<a target=\"_blank\" href=https://colab.research.google.com/notebooks/data_table.ipynb>data table notebook</a>'\n",
              "            + ' to learn more about interactive tables.';\n",
              "          element.innerHTML = '';\n",
              "          dataTable['output_type'] = 'display_data';\n",
              "          await google.colab.output.renderOutput(dataTable, element);\n",
              "          const docLink = document.createElement('div');\n",
              "          docLink.innerHTML = docLinkHtml;\n",
              "          element.appendChild(docLink);\n",
              "        }\n",
              "      </script>\n",
              "    </div>\n",
              "  </div>\n",
              "  "
            ]
          },
          "metadata": {},
          "execution_count": 51
        }
      ]
    },
    {
      "cell_type": "markdown",
      "source": [
        "# Differencing"
      ],
      "metadata": {
        "id": "EsL3-wkT-c1T"
      }
    },
    {
      "cell_type": "code",
      "source": [
        "df = pd.read_csv('/content/drive/MyDrive/data/2/monthly-beer-production-in-austr.csv')\n",
        "df.head()"
      ],
      "metadata": {
        "colab": {
          "base_uri": "https://localhost:8080/",
          "height": 206
        },
        "id": "3-AYK6qrtZOL",
        "outputId": "4bec21da-d47e-41e1-cc83-44bc036b7b82"
      },
      "execution_count": 52,
      "outputs": [
        {
          "output_type": "execute_result",
          "data": {
            "text/plain": [
              "     Month  Monthly beer production\n",
              "0  1956-01                     93.2\n",
              "1  1956-02                     96.0\n",
              "2  1956-03                     95.2\n",
              "3  1956-04                     77.1\n",
              "4  1956-05                     70.9"
            ],
            "text/html": [
              "\n",
              "  <div id=\"df-1d94281a-f74d-46bb-a179-9a246effead7\">\n",
              "    <div class=\"colab-df-container\">\n",
              "      <div>\n",
              "<style scoped>\n",
              "    .dataframe tbody tr th:only-of-type {\n",
              "        vertical-align: middle;\n",
              "    }\n",
              "\n",
              "    .dataframe tbody tr th {\n",
              "        vertical-align: top;\n",
              "    }\n",
              "\n",
              "    .dataframe thead th {\n",
              "        text-align: right;\n",
              "    }\n",
              "</style>\n",
              "<table border=\"1\" class=\"dataframe\">\n",
              "  <thead>\n",
              "    <tr style=\"text-align: right;\">\n",
              "      <th></th>\n",
              "      <th>Month</th>\n",
              "      <th>Monthly beer production</th>\n",
              "    </tr>\n",
              "  </thead>\n",
              "  <tbody>\n",
              "    <tr>\n",
              "      <th>0</th>\n",
              "      <td>1956-01</td>\n",
              "      <td>93.2</td>\n",
              "    </tr>\n",
              "    <tr>\n",
              "      <th>1</th>\n",
              "      <td>1956-02</td>\n",
              "      <td>96.0</td>\n",
              "    </tr>\n",
              "    <tr>\n",
              "      <th>2</th>\n",
              "      <td>1956-03</td>\n",
              "      <td>95.2</td>\n",
              "    </tr>\n",
              "    <tr>\n",
              "      <th>3</th>\n",
              "      <td>1956-04</td>\n",
              "      <td>77.1</td>\n",
              "    </tr>\n",
              "    <tr>\n",
              "      <th>4</th>\n",
              "      <td>1956-05</td>\n",
              "      <td>70.9</td>\n",
              "    </tr>\n",
              "  </tbody>\n",
              "</table>\n",
              "</div>\n",
              "      <button class=\"colab-df-convert\" onclick=\"convertToInteractive('df-1d94281a-f74d-46bb-a179-9a246effead7')\"\n",
              "              title=\"Convert this dataframe to an interactive table.\"\n",
              "              style=\"display:none;\">\n",
              "        \n",
              "  <svg xmlns=\"http://www.w3.org/2000/svg\" height=\"24px\"viewBox=\"0 0 24 24\"\n",
              "       width=\"24px\">\n",
              "    <path d=\"M0 0h24v24H0V0z\" fill=\"none\"/>\n",
              "    <path d=\"M18.56 5.44l.94 2.06.94-2.06 2.06-.94-2.06-.94-.94-2.06-.94 2.06-2.06.94zm-11 1L8.5 8.5l.94-2.06 2.06-.94-2.06-.94L8.5 2.5l-.94 2.06-2.06.94zm10 10l.94 2.06.94-2.06 2.06-.94-2.06-.94-.94-2.06-.94 2.06-2.06.94z\"/><path d=\"M17.41 7.96l-1.37-1.37c-.4-.4-.92-.59-1.43-.59-.52 0-1.04.2-1.43.59L10.3 9.45l-7.72 7.72c-.78.78-.78 2.05 0 2.83L4 21.41c.39.39.9.59 1.41.59.51 0 1.02-.2 1.41-.59l7.78-7.78 2.81-2.81c.8-.78.8-2.07 0-2.86zM5.41 20L4 18.59l7.72-7.72 1.47 1.35L5.41 20z\"/>\n",
              "  </svg>\n",
              "      </button>\n",
              "      \n",
              "  <style>\n",
              "    .colab-df-container {\n",
              "      display:flex;\n",
              "      flex-wrap:wrap;\n",
              "      gap: 12px;\n",
              "    }\n",
              "\n",
              "    .colab-df-convert {\n",
              "      background-color: #E8F0FE;\n",
              "      border: none;\n",
              "      border-radius: 50%;\n",
              "      cursor: pointer;\n",
              "      display: none;\n",
              "      fill: #1967D2;\n",
              "      height: 32px;\n",
              "      padding: 0 0 0 0;\n",
              "      width: 32px;\n",
              "    }\n",
              "\n",
              "    .colab-df-convert:hover {\n",
              "      background-color: #E2EBFA;\n",
              "      box-shadow: 0px 1px 2px rgba(60, 64, 67, 0.3), 0px 1px 3px 1px rgba(60, 64, 67, 0.15);\n",
              "      fill: #174EA6;\n",
              "    }\n",
              "\n",
              "    [theme=dark] .colab-df-convert {\n",
              "      background-color: #3B4455;\n",
              "      fill: #D2E3FC;\n",
              "    }\n",
              "\n",
              "    [theme=dark] .colab-df-convert:hover {\n",
              "      background-color: #434B5C;\n",
              "      box-shadow: 0px 1px 3px 1px rgba(0, 0, 0, 0.15);\n",
              "      filter: drop-shadow(0px 1px 2px rgba(0, 0, 0, 0.3));\n",
              "      fill: #FFFFFF;\n",
              "    }\n",
              "  </style>\n",
              "\n",
              "      <script>\n",
              "        const buttonEl =\n",
              "          document.querySelector('#df-1d94281a-f74d-46bb-a179-9a246effead7 button.colab-df-convert');\n",
              "        buttonEl.style.display =\n",
              "          google.colab.kernel.accessAllowed ? 'block' : 'none';\n",
              "\n",
              "        async function convertToInteractive(key) {\n",
              "          const element = document.querySelector('#df-1d94281a-f74d-46bb-a179-9a246effead7');\n",
              "          const dataTable =\n",
              "            await google.colab.kernel.invokeFunction('convertToInteractive',\n",
              "                                                     [key], {});\n",
              "          if (!dataTable) return;\n",
              "\n",
              "          const docLinkHtml = 'Like what you see? Visit the ' +\n",
              "            '<a target=\"_blank\" href=https://colab.research.google.com/notebooks/data_table.ipynb>data table notebook</a>'\n",
              "            + ' to learn more about interactive tables.';\n",
              "          element.innerHTML = '';\n",
              "          dataTable['output_type'] = 'display_data';\n",
              "          await google.colab.output.renderOutput(dataTable, element);\n",
              "          const docLink = document.createElement('div');\n",
              "          docLink.innerHTML = docLinkHtml;\n",
              "          element.appendChild(docLink);\n",
              "        }\n",
              "      </script>\n",
              "    </div>\n",
              "  </div>\n",
              "  "
            ]
          },
          "metadata": {},
          "execution_count": 52
        }
      ]
    },
    {
      "cell_type": "code",
      "source": [
        "class Differencing:\n",
        "  def __init__(self, df, y, x, order = 1):\n",
        "    self.df = df\n",
        "    self.y = y\n",
        "    self.x = x\n",
        "    self.order = order\n",
        "    self.diff = self._get_diff().dropna()\n",
        "\n",
        "  def _diff(self, order):\n",
        "    return self.df[self.y].diff(order)\n",
        "\n",
        "  def _get_diff(self):\n",
        "    return self.df[self.y].diff(self.order)\n",
        "\n",
        "  def plot_diff(self):\n",
        "    return {\n",
        "        \"data\" : self.diff.values.tolist(),\n",
        "        \"x\": self.df[self.x].values.tolist()\n",
        "    }\n",
        "\n",
        "  def adf_test(self):\n",
        "     p_val = adfuller(self.diff)[1]\n",
        "     if p_val < 0.05:\n",
        "         print(\"p-value: \", p_val, '\\nAs p-value is lesser than 0.05, transformed series is stationary.')\n",
        "     else:\n",
        "        print(\"p-value: \", p_val, '\\nAs p-value is greater than 0.05, transformed series is non-stationary.')\n",
        "\n",
        "  def estimate_d(self, max_d = 3):\n",
        "    for i in range(1, max_d+1):\n",
        "      p = adfuller(self._diff(i).dropna())[1]\n",
        "      if p < 0.05:\n",
        "        return i\n",
        "    return\n",
        ""
      ],
      "metadata": {
        "id": "EJXVTvqX-j62"
      },
      "execution_count": 53,
      "outputs": []
    },
    {
      "cell_type": "code",
      "source": [
        "d = Differencing(df, 'Monthly beer production', 'Month')"
      ],
      "metadata": {
        "id": "HcZuA9c4_GIa"
      },
      "execution_count": 54,
      "outputs": []
    },
    {
      "cell_type": "code",
      "source": [
        "# d.plot_diff()"
      ],
      "metadata": {
        "id": "J16KYyjZ_M_x"
      },
      "execution_count": 55,
      "outputs": []
    },
    {
      "cell_type": "code",
      "source": [
        "d.adf_test()"
      ],
      "metadata": {
        "colab": {
          "base_uri": "https://localhost:8080/"
        },
        "id": "kyDX1XMX_QJH",
        "outputId": "84366004-2148-4953-8ef0-28444fcb227e"
      },
      "execution_count": 56,
      "outputs": [
        {
          "output_type": "stream",
          "name": "stdout",
          "text": [
            "p-value:  2.4234117859977578e-05 \n",
            "As p-value is lesser than 0.05, transformed series is stationary.\n"
          ]
        }
      ]
    },
    {
      "cell_type": "code",
      "source": [
        "d.estimate_d(max_d = 6)"
      ],
      "metadata": {
        "colab": {
          "base_uri": "https://localhost:8080/"
        },
        "id": "5U6SPXRKA3jZ",
        "outputId": "2ccfdd7f-7a0a-4b2e-b430-7b6977eebaa7"
      },
      "execution_count": 57,
      "outputs": [
        {
          "output_type": "execute_result",
          "data": {
            "text/plain": [
              "1"
            ]
          },
          "metadata": {},
          "execution_count": 57
        }
      ]
    },
    {
      "cell_type": "code",
      "source": [],
      "metadata": {
        "id": "36WrVYy_CScr"
      },
      "execution_count": 57,
      "outputs": []
    }
  ],
  "metadata": {
    "kernelspec": {
      "display_name": "Python 3",
      "language": "python",
      "name": "python3"
    },
    "language_info": {
      "codemirror_mode": {
        "name": "ipython",
        "version": 3
      },
      "file_extension": ".py",
      "mimetype": "text/x-python",
      "name": "python",
      "nbconvert_exporter": "python",
      "pygments_lexer": "ipython3",
      "version": "3.10.9"
    },
    "colab": {
      "provenance": []
    }
  },
  "nbformat": 4,
  "nbformat_minor": 0
}